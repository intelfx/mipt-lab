{
 "cells": [
  {
   "cell_type": "code",
   "execution_count": 1,
   "metadata": {
    "collapsed": false
   },
   "outputs": [],
   "source": [
    "import pandas as pd\n",
    "import math as m\n",
    "from IPython.display import display as disp\n",
    "import lablib as ll\n",
    "%matplotlib inline"
   ]
  },
  {
   "cell_type": "markdown",
   "metadata": {},
   "source": [
    "Загружаем данные, приводим к СИ. Время будем рассматривать в мкс, а напряжения в мВ, чтобы не терять точность."
   ]
  },
  {
   "cell_type": "code",
   "execution_count": 2,
   "metadata": {
    "collapsed": false
   },
   "outputs": [
    {
     "data": {
      "text/html": [
       "<div>\n",
       "<table border=\"1\" class=\"dataframe\">\n",
       "  <thead>\n",
       "    <tr style=\"text-align: right;\">\n",
       "      <th></th>\n",
       "      <th>Value</th>\n",
       "      <th>Error</th>\n",
       "      <th>ErrorRel</th>\n",
       "    </tr>\n",
       "  </thead>\n",
       "  <tbody>\n",
       "    <tr>\n",
       "      <th>t_0</th>\n",
       "      <td>6.956400</td>\n",
       "      <td>0.000100</td>\n",
       "      <td>0.00%</td>\n",
       "    </tr>\n",
       "    <tr>\n",
       "      <th>_dT_dU</th>\n",
       "      <td>24.000000</td>\n",
       "      <td>0.500000</td>\n",
       "      <td>2.08%</td>\n",
       "    </tr>\n",
       "  </tbody>\n",
       "</table>\n",
       "</div>"
      ],
      "text/plain": [
       "           Value    Error  ErrorRel\n",
       "t_0     6.956400 0.000100  0.000014\n",
       "_dT_dU 24.000000 0.500000  0.020833"
      ]
     },
     "metadata": {},
     "output_type": "display_data"
    },
    {
     "data": {
      "text/html": [
       "<div>\n",
       "<table border=\"1\" class=\"dataframe\">\n",
       "  <thead>\n",
       "    <tr style=\"text-align: right;\">\n",
       "      <th></th>\n",
       "      <th>T</th>\n",
       "      <th>Error_T</th>\n",
       "      <th>ErrorRel_T</th>\n",
       "      <th>U</th>\n",
       "      <th>Error_U</th>\n",
       "      <th>ErrorRel_U</th>\n",
       "      <th>t</th>\n",
       "      <th>Error_t</th>\n",
       "      <th>ErrorRel_t</th>\n",
       "    </tr>\n",
       "  </thead>\n",
       "  <tbody>\n",
       "    <tr>\n",
       "      <th>0</th>\n",
       "      <td>290.770000</td>\n",
       "      <td>0.010000</td>\n",
       "      <td>0.00%</td>\n",
       "      <td>-0.002000</td>\n",
       "      <td>0.001200</td>\n",
       "      <td>-60.00%</td>\n",
       "      <td>7.828600</td>\n",
       "      <td>0.000100</td>\n",
       "      <td>0.00%</td>\n",
       "    </tr>\n",
       "    <tr>\n",
       "      <th>1</th>\n",
       "      <td>291.030000</td>\n",
       "      <td>0.010000</td>\n",
       "      <td>0.00%</td>\n",
       "      <td>-0.004000</td>\n",
       "      <td>0.001200</td>\n",
       "      <td>-30.00%</td>\n",
       "      <td>7.811500</td>\n",
       "      <td>0.000100</td>\n",
       "      <td>0.00%</td>\n",
       "    </tr>\n",
       "    <tr>\n",
       "      <th>2</th>\n",
       "      <td>293.060000</td>\n",
       "      <td>0.010000</td>\n",
       "      <td>0.00%</td>\n",
       "      <td>-0.017000</td>\n",
       "      <td>0.001200</td>\n",
       "      <td>-7.06%</td>\n",
       "      <td>7.650000</td>\n",
       "      <td>0.000100</td>\n",
       "      <td>0.00%</td>\n",
       "    </tr>\n",
       "    <tr>\n",
       "      <th>3</th>\n",
       "      <td>295.080000</td>\n",
       "      <td>0.010000</td>\n",
       "      <td>0.00%</td>\n",
       "      <td>-0.017000</td>\n",
       "      <td>0.001200</td>\n",
       "      <td>-7.06%</td>\n",
       "      <td>7.440000</td>\n",
       "      <td>0.000100</td>\n",
       "      <td>0.00%</td>\n",
       "    </tr>\n",
       "    <tr>\n",
       "      <th>4</th>\n",
       "      <td>298.080000</td>\n",
       "      <td>0.010000</td>\n",
       "      <td>0.00%</td>\n",
       "      <td>-0.015000</td>\n",
       "      <td>0.001200</td>\n",
       "      <td>-8.00%</td>\n",
       "      <td>7.212000</td>\n",
       "      <td>0.000100</td>\n",
       "      <td>0.00%</td>\n",
       "    </tr>\n",
       "    <tr>\n",
       "      <th>5</th>\n",
       "      <td>303.080000</td>\n",
       "      <td>0.010000</td>\n",
       "      <td>0.00%</td>\n",
       "      <td>-0.013000</td>\n",
       "      <td>0.001200</td>\n",
       "      <td>-9.23%</td>\n",
       "      <td>7.108500</td>\n",
       "      <td>0.000100</td>\n",
       "      <td>0.00%</td>\n",
       "    </tr>\n",
       "    <tr>\n",
       "      <th>6</th>\n",
       "      <td>308.060000</td>\n",
       "      <td>0.010000</td>\n",
       "      <td>0.00%</td>\n",
       "      <td>-0.015000</td>\n",
       "      <td>0.001200</td>\n",
       "      <td>-8.00%</td>\n",
       "      <td>7.072000</td>\n",
       "      <td>0.000100</td>\n",
       "      <td>0.00%</td>\n",
       "    </tr>\n",
       "    <tr>\n",
       "      <th>7</th>\n",
       "      <td>313.050000</td>\n",
       "      <td>0.010000</td>\n",
       "      <td>0.00%</td>\n",
       "      <td>-0.012000</td>\n",
       "      <td>0.001200</td>\n",
       "      <td>-10.00%</td>\n",
       "      <td>7.053500</td>\n",
       "      <td>0.000100</td>\n",
       "      <td>0.00%</td>\n",
       "    </tr>\n",
       "  </tbody>\n",
       "</table>\n",
       "</div>"
      ],
      "text/plain": [
       "           T  Error_T  ErrorRel_T         U  Error_U  ErrorRel_U        t  \\\n",
       "0 290.770000 0.010000    0.000034 -0.002000 0.001200   -0.600000 7.828600   \n",
       "1 291.030000 0.010000    0.000034 -0.004000 0.001200   -0.300000 7.811500   \n",
       "2 293.060000 0.010000    0.000034 -0.017000 0.001200   -0.070588 7.650000   \n",
       "3 295.080000 0.010000    0.000034 -0.017000 0.001200   -0.070588 7.440000   \n",
       "4 298.080000 0.010000    0.000034 -0.015000 0.001200   -0.080000 7.212000   \n",
       "5 303.080000 0.010000    0.000033 -0.013000 0.001200   -0.092308 7.108500   \n",
       "6 308.060000 0.010000    0.000032 -0.015000 0.001200   -0.080000 7.072000   \n",
       "7 313.050000 0.010000    0.000032 -0.012000 0.001200   -0.100000 7.053500   \n",
       "\n",
       "   Error_t  ErrorRel_t  \n",
       "0 0.000100    0.000013  \n",
       "1 0.000100    0.000013  \n",
       "2 0.000100    0.000013  \n",
       "3 0.000100    0.000013  \n",
       "4 0.000100    0.000014  \n",
       "5 0.000100    0.000014  \n",
       "6 0.000100    0.000014  \n",
       "7 0.000100    0.000014  "
      ]
     },
     "metadata": {},
     "output_type": "display_data"
    }
   ],
   "source": [
    "data, columns, experiments = ll.read_standard_layout()\n",
    "\n",
    "e = \"main\"\n",
    "\n",
    "ll.compute(name = \"T\",\n",
    "           expr = lambda T: T + 273,\n",
    "           data = data[e],\n",
    "           columns = columns[e])\n",
    "\n",
    "disp(data[e], columns[e])"
   ]
  },
  {
   "cell_type": "markdown",
   "metadata": {
    "collapsed": true
   },
   "source": [
    "Корректируем температуру согласно показаниям с термопары:\n",
    "\n",
    "$T_{образца} = T_{воды} + \\Delta U * \\frac{dT}{dU}_{термопары}$\n"
   ]
  },
  {
   "cell_type": "code",
   "execution_count": 3,
   "metadata": {
    "collapsed": false
   },
   "outputs": [
    {
     "data": {
      "text/html": [
       "<div>\n",
       "<table border=\"1\" class=\"dataframe\">\n",
       "  <thead>\n",
       "    <tr style=\"text-align: right;\">\n",
       "      <th></th>\n",
       "      <th>Value</th>\n",
       "      <th>Error</th>\n",
       "      <th>ErrorRel</th>\n",
       "    </tr>\n",
       "  </thead>\n",
       "  <tbody>\n",
       "    <tr>\n",
       "      <th>t_0</th>\n",
       "      <td>6.956400</td>\n",
       "      <td>0.000100</td>\n",
       "      <td>0.00%</td>\n",
       "    </tr>\n",
       "    <tr>\n",
       "      <th>_dT_dU</th>\n",
       "      <td>24.000000</td>\n",
       "      <td>0.500000</td>\n",
       "      <td>2.08%</td>\n",
       "    </tr>\n",
       "  </tbody>\n",
       "</table>\n",
       "</div>"
      ],
      "text/plain": [
       "           Value    Error  ErrorRel\n",
       "t_0     6.956400 0.000100  0.000014\n",
       "_dT_dU 24.000000 0.500000  0.020833"
      ]
     },
     "metadata": {},
     "output_type": "display_data"
    },
    {
     "data": {
      "text/html": [
       "<div>\n",
       "<table border=\"1\" class=\"dataframe\">\n",
       "  <thead>\n",
       "    <tr style=\"text-align: right;\">\n",
       "      <th></th>\n",
       "      <th>T</th>\n",
       "      <th>Error_T</th>\n",
       "      <th>ErrorRel_T</th>\n",
       "      <th>U</th>\n",
       "      <th>Error_U</th>\n",
       "      <th>ErrorRel_U</th>\n",
       "      <th>t</th>\n",
       "      <th>Error_t</th>\n",
       "      <th>ErrorRel_t</th>\n",
       "    </tr>\n",
       "  </thead>\n",
       "  <tbody>\n",
       "    <tr>\n",
       "      <th>0</th>\n",
       "      <td>290.722000</td>\n",
       "      <td>0.030503</td>\n",
       "      <td>0.01%</td>\n",
       "      <td>-0.002000</td>\n",
       "      <td>0.001200</td>\n",
       "      <td>-60.00%</td>\n",
       "      <td>7.828600</td>\n",
       "      <td>0.000100</td>\n",
       "      <td>0.00%</td>\n",
       "    </tr>\n",
       "    <tr>\n",
       "      <th>1</th>\n",
       "      <td>290.934000</td>\n",
       "      <td>0.030552</td>\n",
       "      <td>0.01%</td>\n",
       "      <td>-0.004000</td>\n",
       "      <td>0.001200</td>\n",
       "      <td>-30.00%</td>\n",
       "      <td>7.811500</td>\n",
       "      <td>0.000100</td>\n",
       "      <td>0.00%</td>\n",
       "    </tr>\n",
       "    <tr>\n",
       "      <th>2</th>\n",
       "      <td>292.652000</td>\n",
       "      <td>0.031649</td>\n",
       "      <td>0.01%</td>\n",
       "      <td>-0.017000</td>\n",
       "      <td>0.001200</td>\n",
       "      <td>-7.06%</td>\n",
       "      <td>7.650000</td>\n",
       "      <td>0.000100</td>\n",
       "      <td>0.00%</td>\n",
       "    </tr>\n",
       "    <tr>\n",
       "      <th>3</th>\n",
       "      <td>294.672000</td>\n",
       "      <td>0.031649</td>\n",
       "      <td>0.01%</td>\n",
       "      <td>-0.017000</td>\n",
       "      <td>0.001200</td>\n",
       "      <td>-7.06%</td>\n",
       "      <td>7.440000</td>\n",
       "      <td>0.000100</td>\n",
       "      <td>0.00%</td>\n",
       "    </tr>\n",
       "    <tr>\n",
       "      <th>4</th>\n",
       "      <td>297.720000</td>\n",
       "      <td>0.031396</td>\n",
       "      <td>0.01%</td>\n",
       "      <td>-0.015000</td>\n",
       "      <td>0.001200</td>\n",
       "      <td>-8.00%</td>\n",
       "      <td>7.212000</td>\n",
       "      <td>0.000100</td>\n",
       "      <td>0.00%</td>\n",
       "    </tr>\n",
       "    <tr>\n",
       "      <th>5</th>\n",
       "      <td>302.768000</td>\n",
       "      <td>0.031172</td>\n",
       "      <td>0.01%</td>\n",
       "      <td>-0.013000</td>\n",
       "      <td>0.001200</td>\n",
       "      <td>-9.23%</td>\n",
       "      <td>7.108500</td>\n",
       "      <td>0.000100</td>\n",
       "      <td>0.00%</td>\n",
       "    </tr>\n",
       "    <tr>\n",
       "      <th>6</th>\n",
       "      <td>307.700000</td>\n",
       "      <td>0.031396</td>\n",
       "      <td>0.01%</td>\n",
       "      <td>-0.015000</td>\n",
       "      <td>0.001200</td>\n",
       "      <td>-8.00%</td>\n",
       "      <td>7.072000</td>\n",
       "      <td>0.000100</td>\n",
       "      <td>0.00%</td>\n",
       "    </tr>\n",
       "    <tr>\n",
       "      <th>7</th>\n",
       "      <td>312.762000</td>\n",
       "      <td>0.031072</td>\n",
       "      <td>0.01%</td>\n",
       "      <td>-0.012000</td>\n",
       "      <td>0.001200</td>\n",
       "      <td>-10.00%</td>\n",
       "      <td>7.053500</td>\n",
       "      <td>0.000100</td>\n",
       "      <td>0.00%</td>\n",
       "    </tr>\n",
       "  </tbody>\n",
       "</table>\n",
       "</div>"
      ],
      "text/plain": [
       "           T  Error_T  ErrorRel_T         U  Error_U  ErrorRel_U        t  \\\n",
       "0 290.722000 0.030503    0.000105 -0.002000 0.001200   -0.600000 7.828600   \n",
       "1 290.934000 0.030552    0.000105 -0.004000 0.001200   -0.300000 7.811500   \n",
       "2 292.652000 0.031649    0.000108 -0.017000 0.001200   -0.070588 7.650000   \n",
       "3 294.672000 0.031649    0.000107 -0.017000 0.001200   -0.070588 7.440000   \n",
       "4 297.720000 0.031396    0.000105 -0.015000 0.001200   -0.080000 7.212000   \n",
       "5 302.768000 0.031172    0.000103 -0.013000 0.001200   -0.092308 7.108500   \n",
       "6 307.700000 0.031396    0.000102 -0.015000 0.001200   -0.080000 7.072000   \n",
       "7 312.762000 0.031072    0.000099 -0.012000 0.001200   -0.100000 7.053500   \n",
       "\n",
       "   Error_t  ErrorRel_t  \n",
       "0 0.000100    0.000013  \n",
       "1 0.000100    0.000013  \n",
       "2 0.000100    0.000013  \n",
       "3 0.000100    0.000013  \n",
       "4 0.000100    0.000014  \n",
       "5 0.000100    0.000014  \n",
       "6 0.000100    0.000014  \n",
       "7 0.000100    0.000014  "
      ]
     },
     "metadata": {},
     "output_type": "display_data"
    }
   ],
   "source": [
    "ll.compute(name = \"T\",\n",
    "           expr = lambda T, U, _dT_dU: T + U * _dT_dU,\n",
    "           data = data[e],\n",
    "           columns = columns[e])\n",
    "    \n",
    "disp(data[e], columns[e])"
   ]
  },
  {
   "cell_type": "markdown",
   "metadata": {},
   "source": [
    "Вычислим промежуточные данные $(\\tau^2 - \\tau_0^2) \\propto \\chi \\propto \\frac{1}{T - \\Theta_p}$ и построим график $(\\tau^2 - \\tau_0^2) = f(T)$.\n",
    "\n",
    "Заодно приблизим теоретической кривой $f(T) \\propto \\frac{1}{T - \\Theta_p}$, получая для неё результат в $\\Theta_p = 290 \\pm 0.9 °K$."
   ]
  },
  {
   "cell_type": "code",
   "execution_count": 4,
   "metadata": {
    "collapsed": false
   },
   "outputs": [
    {
     "name": "stdout",
     "output_type": "stream",
     "text": [
      "Initial guesses for tsq_minus_t0sq = f(T):\n",
      "               Value    Error  ErrorRel\n",
      "k_1        46.515054 0.015536  0.000334\n",
      "theta_p_1 287.266039 0.001348  0.000005\n",
      "\n",
      "Final guesses for tsq_minus_t0sq = f(T):\n"
     ]
    },
    {
     "data": {
      "text/html": [
       "<div>\n",
       "<table border=\"1\" class=\"dataframe\">\n",
       "  <thead>\n",
       "    <tr style=\"text-align: right;\">\n",
       "      <th></th>\n",
       "      <th>Value</th>\n",
       "      <th>Error</th>\n",
       "      <th>ErrorRel</th>\n",
       "    </tr>\n",
       "  </thead>\n",
       "  <tbody>\n",
       "    <tr>\n",
       "      <th>k_1</th>\n",
       "      <td>30.999762</td>\n",
       "      <td>1.339314</td>\n",
       "      <td>4.32%</td>\n",
       "    </tr>\n",
       "    <tr>\n",
       "      <th>theta_p_1</th>\n",
       "      <td>289.031661</td>\n",
       "      <td>0.452663</td>\n",
       "      <td>0.16%</td>\n",
       "    </tr>\n",
       "  </tbody>\n",
       "</table>\n",
       "</div>"
      ],
      "text/plain": [
       "               Value    Error  ErrorRel\n",
       "k_1        30.999762 1.339314  0.043204\n",
       "theta_p_1 289.031661 0.452663  0.001566"
      ]
     },
     "metadata": {},
     "output_type": "display_data"
    },
    {
     "data": {
      "image/png": "[encoded data removed]",
      "text/plain": [
       "<matplotlib.figure.Figure at 0x7fccc208e5f8>"
      ]
     },
     "metadata": {},
     "output_type": "display_data"
    }
   ],
   "source": [
    "ll.compute(name = \"tsq_minus_t0sq\",\n",
    "           expr = lambda t, t_0: t**2 - t_0**2,\n",
    "           data = data[e],\n",
    "           columns = columns[e])\n",
    "\n",
    "ll.plotfit(title = \"Magnetic susceptibility of the sample $\\\\chi$ by its temperature\",\n",
    "           xlabel = \"T, °K\",\n",
    "           ylabel = \"($\\\\tau^2 - \\\\tau_0^2), s^2$\",\n",
    "           model = lambda T, k_1, theta_p_1: k_1 / (T - theta_p_1),\n",
    "           x = \"T\", y = \"tsq_minus_t0sq\",\n",
    "           columns = columns[e],\n",
    "           data = data[e])\n",
    "None"
   ]
  },
  {
   "cell_type": "markdown",
   "metadata": {},
   "source": [
    "Таким же способом построим график $\\frac{1}{\\tau^2 - \\tau_0^2} = f(T)$ и приблизим его прямой $f(T) \\propto T - \\Theta_p$.\n",
    "\n",
    "Для этого метода получен результат в $\\Theta_p = 289 \\pm 0.5 °K$."
   ]
  },
  {
   "cell_type": "code",
   "execution_count": 5,
   "metadata": {
    "collapsed": false
   },
   "outputs": [
    {
     "name": "stdout",
     "output_type": "stream",
     "text": [
      "Initial guesses for _1_tsq_minus_t0sq = f(T):\n",
      "               Value    Error  ErrorRel\n",
      "k_2         0.017504 0.000008  0.000436\n",
      "theta_p_2 286.442010 0.002165  0.000008\n",
      "\n",
      "Final guesses for _1_tsq_minus_t0sq = f(T):\n"
     ]
    },
    {
     "data": {
      "text/html": [
       "<div>\n",
       "<table border=\"1\" class=\"dataframe\">\n",
       "  <thead>\n",
       "    <tr style=\"text-align: right;\">\n",
       "      <th></th>\n",
       "      <th>Value</th>\n",
       "      <th>Error</th>\n",
       "      <th>ErrorRel</th>\n",
       "    </tr>\n",
       "  </thead>\n",
       "  <tbody>\n",
       "    <tr>\n",
       "      <th>k_2</th>\n",
       "      <td>0.032230</td>\n",
       "      <td>0.001385</td>\n",
       "      <td>4.30%</td>\n",
       "    </tr>\n",
       "    <tr>\n",
       "      <th>theta_p_2</th>\n",
       "      <td>289.027715</td>\n",
       "      <td>0.452521</td>\n",
       "      <td>0.16%</td>\n",
       "    </tr>\n",
       "  </tbody>\n",
       "</table>\n",
       "</div>"
      ],
      "text/plain": [
       "               Value    Error  ErrorRel\n",
       "k_2         0.032230 0.001385  0.042974\n",
       "theta_p_2 289.027715 0.452521  0.001566"
      ]
     },
     "metadata": {},
     "output_type": "display_data"
    },
    {
     "data": {
      "image/png": "[encoded data removed]",
      "text/plain": [
       "<matplotlib.figure.Figure at 0x7fccb72932e8>"
      ]
     },
     "metadata": {},
     "output_type": "display_data"
    }
   ],
   "source": [
    "ll.compute(name = \"_1_tsq_minus_t0sq\",\n",
    "           expr = lambda t, t_0: 1 / (t**2 - t_0**2),\n",
    "           data = data[e],\n",
    "           columns = columns[e])\n",
    "\n",
    "ll.plotfit(title = \"Inverse magnetic susceptibility of the sample $\\\\chi^{-1}$ by its temperature\",\n",
    "           xlabel = \"T, °K\", ylabel = \"$(\\\\tau^2 - \\\\tau_0^2)^{-1}, s^{-2}$\",\n",
    "           model = lambda T, k_2, theta_p_2: k_2 * (T - theta_p_2),\n",
    "           x = \"T\",\n",
    "           y = \"_1_tsq_minus_t0sq\",\n",
    "           columns = columns[e],\n",
    "           data = data[e],\n",
    "           axis = [None, None, 0, None])\n",
    "None"
   ]
  }
 ],
 "metadata": {
  "kernelspec": {
   "display_name": "Python 3",
   "language": "python",
   "name": "python3"
  },
  "language_info": {
   "codemirror_mode": {
    "name": "ipython",
    "version": 3
   },
   "file_extension": ".py",
   "mimetype": "text/x-python",
   "name": "python",
   "nbconvert_exporter": "python",
   "pygments_lexer": "ipython3",
   "version": "3.5.2"
  }
 },
 "nbformat": 4,
 "nbformat_minor": 0
}
