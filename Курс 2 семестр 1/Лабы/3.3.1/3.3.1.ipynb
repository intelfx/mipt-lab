{
 "cells": [
  {
   "cell_type": "code",
   "execution_count": 1,
   "metadata": {
    "collapsed": true
   },
   "outputs": [],
   "source": [
    "import pandas as pd\n",
    "import numpy as np\n",
    "import scipy as sp\n",
    "import matplotlib as mp\n",
    "import matplotlib.pyplot as plt\n",
    "import math as m\n",
    "import sympy as smp\n",
    "from IPython.display import display as disp\n",
    "import lablib as ll\n",
    "%matplotlib inline\n",
    "mp.rc(\"savefig\", dpi=96)"
   ]
  },
  {
   "cell_type": "markdown",
   "metadata": {},
   "source": [
    "Считываем данные."
   ]
  },
  {
   "cell_type": "code",
   "execution_count": 2,
   "metadata": {
    "collapsed": false
   },
   "outputs": [],
   "source": [
    "data, columns, experiments = ll.read_standard_layout()\n"
   ]
  },
  {
   "cell_type": "markdown",
   "metadata": {},
   "source": [
    "Сначала обработаем калибровочный эксперимент. Вычислим напряжённость магнитного поля для каждого значения тока через соленоид (измерено милливеберметром): $B = \\frac{\\Phi - \\Phi_0}{SN}$."
   ]
  },
  {
   "cell_type": "code",
   "execution_count": 3,
   "metadata": {
    "collapsed": false
   },
   "outputs": [
    {
     "data": {
      "text/html": [
       "<div>\n",
       "<table border=\"1\" class=\"dataframe\">\n",
       "  <thead>\n",
       "    <tr style=\"text-align: right;\">\n",
       "      <th></th>\n",
       "      <th>Value</th>\n",
       "      <th>Error</th>\n",
       "      <th>ErrorRel</th>\n",
       "    </tr>\n",
       "  </thead>\n",
       "  <tbody>\n",
       "    <tr>\n",
       "      <th>SN</th>\n",
       "      <td>0.300000</td>\n",
       "      <td>0.000500</td>\n",
       "      <td>0.17%</td>\n",
       "    </tr>\n",
       "  </tbody>\n",
       "</table>\n",
       "</div>"
      ],
      "text/plain": [
       "      Value    Error  ErrorRel\n",
       "SN 0.300000 0.000500  0.001667"
      ]
     },
     "metadata": {},
     "output_type": "display_data"
    },
    {
     "data": {
      "text/html": [
       "<div>\n",
       "<table border=\"1\" class=\"dataframe\">\n",
       "  <thead>\n",
       "    <tr style=\"text-align: right;\">\n",
       "      <th></th>\n",
       "      <th>I</th>\n",
       "      <th>Error_I</th>\n",
       "      <th>ErrorRel_I</th>\n",
       "      <th>Phi_1</th>\n",
       "      <th>Error_Phi_1</th>\n",
       "      <th>ErrorRel_Phi_1</th>\n",
       "      <th>Phi_0</th>\n",
       "      <th>Error_Phi_0</th>\n",
       "      <th>ErrorRel_Phi_0</th>\n",
       "      <th>B</th>\n",
       "      <th>Error_B</th>\n",
       "      <th>ErrorRel_B</th>\n",
       "    </tr>\n",
       "  </thead>\n",
       "  <tbody>\n",
       "    <tr>\n",
       "      <th>0</th>\n",
       "      <td>-3.480000</td>\n",
       "      <td>0.005000</td>\n",
       "      <td>-0.14%</td>\n",
       "      <td>0.000000</td>\n",
       "      <td>0.000050</td>\n",
       "      <td>inf%</td>\n",
       "      <td>0.004700</td>\n",
       "      <td>0.000050</td>\n",
       "      <td>1.06%</td>\n",
       "      <td>-0.015667</td>\n",
       "      <td>0.000237</td>\n",
       "      <td>-1.51%</td>\n",
       "    </tr>\n",
       "    <tr>\n",
       "      <th>1</th>\n",
       "      <td>-2.770000</td>\n",
       "      <td>0.005000</td>\n",
       "      <td>-0.18%</td>\n",
       "      <td>0.001000</td>\n",
       "      <td>0.000050</td>\n",
       "      <td>5.00%</td>\n",
       "      <td>0.004800</td>\n",
       "      <td>0.000050</td>\n",
       "      <td>1.04%</td>\n",
       "      <td>-0.012667</td>\n",
       "      <td>0.000237</td>\n",
       "      <td>-1.87%</td>\n",
       "    </tr>\n",
       "    <tr>\n",
       "      <th>2</th>\n",
       "      <td>-2.030000</td>\n",
       "      <td>0.005000</td>\n",
       "      <td>-0.25%</td>\n",
       "      <td>0.002000</td>\n",
       "      <td>0.000050</td>\n",
       "      <td>2.50%</td>\n",
       "      <td>0.004800</td>\n",
       "      <td>0.000050</td>\n",
       "      <td>1.04%</td>\n",
       "      <td>-0.009333</td>\n",
       "      <td>0.000236</td>\n",
       "      <td>-2.53%</td>\n",
       "    </tr>\n",
       "    <tr>\n",
       "      <th>3</th>\n",
       "      <td>-1.320000</td>\n",
       "      <td>0.005000</td>\n",
       "      <td>-0.38%</td>\n",
       "      <td>0.003000</td>\n",
       "      <td>0.000050</td>\n",
       "      <td>1.67%</td>\n",
       "      <td>0.004800</td>\n",
       "      <td>0.000050</td>\n",
       "      <td>1.04%</td>\n",
       "      <td>-0.006000</td>\n",
       "      <td>0.000236</td>\n",
       "      <td>-3.93%</td>\n",
       "    </tr>\n",
       "    <tr>\n",
       "      <th>4</th>\n",
       "      <td>-0.670000</td>\n",
       "      <td>0.005000</td>\n",
       "      <td>-0.75%</td>\n",
       "      <td>0.004000</td>\n",
       "      <td>0.000050</td>\n",
       "      <td>1.25%</td>\n",
       "      <td>0.004900</td>\n",
       "      <td>0.000050</td>\n",
       "      <td>1.02%</td>\n",
       "      <td>-0.003000</td>\n",
       "      <td>0.000236</td>\n",
       "      <td>-7.86%</td>\n",
       "    </tr>\n",
       "    <tr>\n",
       "      <th>5</th>\n",
       "      <td>0.660000</td>\n",
       "      <td>0.005000</td>\n",
       "      <td>0.76%</td>\n",
       "      <td>0.001000</td>\n",
       "      <td>0.000050</td>\n",
       "      <td>5.00%</td>\n",
       "      <td>0.000100</td>\n",
       "      <td>0.000050</td>\n",
       "      <td>50.00%</td>\n",
       "      <td>0.003000</td>\n",
       "      <td>0.000236</td>\n",
       "      <td>7.86%</td>\n",
       "    </tr>\n",
       "    <tr>\n",
       "      <th>6</th>\n",
       "      <td>1.390000</td>\n",
       "      <td>0.005000</td>\n",
       "      <td>0.36%</td>\n",
       "      <td>0.002000</td>\n",
       "      <td>0.000050</td>\n",
       "      <td>2.50%</td>\n",
       "      <td>0.000100</td>\n",
       "      <td>0.000050</td>\n",
       "      <td>50.00%</td>\n",
       "      <td>0.006333</td>\n",
       "      <td>0.000236</td>\n",
       "      <td>3.73%</td>\n",
       "    </tr>\n",
       "    <tr>\n",
       "      <th>7</th>\n",
       "      <td>2.130000</td>\n",
       "      <td>0.005000</td>\n",
       "      <td>0.23%</td>\n",
       "      <td>0.003000</td>\n",
       "      <td>0.000050</td>\n",
       "      <td>1.67%</td>\n",
       "      <td>0.000100</td>\n",
       "      <td>0.000050</td>\n",
       "      <td>50.00%</td>\n",
       "      <td>0.009667</td>\n",
       "      <td>0.000236</td>\n",
       "      <td>2.44%</td>\n",
       "    </tr>\n",
       "    <tr>\n",
       "      <th>8</th>\n",
       "      <td>2.870000</td>\n",
       "      <td>0.005000</td>\n",
       "      <td>0.17%</td>\n",
       "      <td>0.004500</td>\n",
       "      <td>0.000050</td>\n",
       "      <td>1.11%</td>\n",
       "      <td>0.000600</td>\n",
       "      <td>0.000050</td>\n",
       "      <td>8.33%</td>\n",
       "      <td>0.013000</td>\n",
       "      <td>0.000237</td>\n",
       "      <td>1.82%</td>\n",
       "    </tr>\n",
       "    <tr>\n",
       "      <th>9</th>\n",
       "      <td>3.710000</td>\n",
       "      <td>0.005000</td>\n",
       "      <td>0.13%</td>\n",
       "      <td>0.005700</td>\n",
       "      <td>0.000050</td>\n",
       "      <td>0.88%</td>\n",
       "      <td>0.000700</td>\n",
       "      <td>0.000050</td>\n",
       "      <td>7.14%</td>\n",
       "      <td>0.016667</td>\n",
       "      <td>0.000237</td>\n",
       "      <td>1.42%</td>\n",
       "    </tr>\n",
       "  </tbody>\n",
       "</table>\n",
       "</div>"
      ],
      "text/plain": [
       "          I  Error_I  ErrorRel_I    Phi_1  Error_Phi_1  ErrorRel_Phi_1  \\\n",
       "0 -3.480000 0.005000   -0.001437 0.000000     0.000050             inf   \n",
       "1 -2.770000 0.005000   -0.001805 0.001000     0.000050        0.050000   \n",
       "2 -2.030000 0.005000   -0.002463 0.002000     0.000050        0.025000   \n",
       "3 -1.320000 0.005000   -0.003788 0.003000     0.000050        0.016667   \n",
       "4 -0.670000 0.005000   -0.007463 0.004000     0.000050        0.012500   \n",
       "5  0.660000 0.005000    0.007576 0.001000     0.000050        0.050000   \n",
       "6  1.390000 0.005000    0.003597 0.002000     0.000050        0.025000   \n",
       "7  2.130000 0.005000    0.002347 0.003000     0.000050        0.016667   \n",
       "8  2.870000 0.005000    0.001742 0.004500     0.000050        0.011111   \n",
       "9  3.710000 0.005000    0.001348 0.005700     0.000050        0.008772   \n",
       "\n",
       "     Phi_0  Error_Phi_0  ErrorRel_Phi_0         B  Error_B  ErrorRel_B  \n",
       "0 0.004700     0.000050        0.010638 -0.015667 0.000237   -0.015137  \n",
       "1 0.004800     0.000050        0.010417 -0.012667 0.000237   -0.018683  \n",
       "2 0.004800     0.000050        0.010417 -0.009333 0.000236   -0.025309  \n",
       "3 0.004800     0.000050        0.010417 -0.006000 0.000236   -0.039319  \n",
       "4 0.004900     0.000050        0.010204 -0.003000 0.000236   -0.078585  \n",
       "5 0.000100     0.000050        0.500000  0.003000 0.000236    0.078585  \n",
       "6 0.000100     0.000050        0.500000  0.006333 0.000236    0.037253  \n",
       "7 0.000100     0.000050        0.500000  0.009667 0.000236    0.024440  \n",
       "8 0.000600     0.000050        0.083333  0.013000 0.000237    0.018207  \n",
       "9 0.000700     0.000050        0.071429  0.016667 0.000237    0.014240  "
      ]
     },
     "metadata": {},
     "output_type": "display_data"
    }
   ],
   "source": [
    "e = \"e1_calib\"\n",
    "\n",
    "ll.compute(name = \"B\",\n",
    "           expr = lambda Phi_1, Phi_0, SN: (Phi_1 - Phi_0) / SN,\n",
    "           data = data[e],\n",
    "           columns = columns[e])\n",
    "\n",
    "disp(data[e], columns[e])"
   ]
  },
  {
   "cell_type": "markdown",
   "metadata": {},
   "source": [
    "Теперь построим график $B = f(I)$ и приблизим его прямой, получая модель $B(I)$ (т. е. $\\frac{dB}{dI}$ и значение $B(0)$)."
   ]
  },
  {
   "cell_type": "code",
   "execution_count": 4,
   "metadata": {
    "collapsed": false
   },
   "outputs": [
    {
     "name": "stdout",
     "output_type": "stream",
     "text": [
      "Initial guesses for B:\n",
      "            Value    Error  ErrorRel\n",
      "_dB_dI  0.004527 0.000032  0.007054\n",
      "_B_0   -0.000022 0.000075 -3.436114\n"
     ]
    },
    {
     "data": {
      "text/plain": [
       "'Final guesses for B:'"
      ]
     },
     "metadata": {},
     "output_type": "display_data"
    },
    {
     "data": {
      "text/html": [
       "<div>\n",
       "<table border=\"1\" class=\"dataframe\">\n",
       "  <thead>\n",
       "    <tr style=\"text-align: right;\">\n",
       "      <th></th>\n",
       "      <th>Value</th>\n",
       "      <th>Error</th>\n",
       "      <th>ErrorRel</th>\n",
       "    </tr>\n",
       "  </thead>\n",
       "  <tbody>\n",
       "    <tr>\n",
       "      <th>_dB_dI</th>\n",
       "      <td>0.004527</td>\n",
       "      <td>0.000012</td>\n",
       "      <td>0.26%</td>\n",
       "    </tr>\n",
       "    <tr>\n",
       "      <th>_B_0</th>\n",
       "      <td>-0.000022</td>\n",
       "      <td>0.000027</td>\n",
       "      <td>-125.95%</td>\n",
       "    </tr>\n",
       "  </tbody>\n",
       "</table>\n",
       "</div>"
      ],
      "text/plain": [
       "           Value    Error  ErrorRel\n",
       "_dB_dI  0.004527 0.000012  0.002586\n",
       "_B_0   -0.000022 0.000027 -1.259546"
      ]
     },
     "metadata": {},
     "output_type": "display_data"
    },
    {
     "data": {
      "image/png": "[encoded data removed]",
      "text/plain": [
       "<matplotlib.figure.Figure at 0x7f995f0dde48>"
      ]
     },
     "metadata": {},
     "output_type": "display_data"
    }
   ],
   "source": [
    "model = ll.fit2(name = \"B\",\n",
    "                model = lambda I, _dB_dI, _B_0: I * _dB_dI + _B_0,\n",
    "                x = columns[e][\"I\"],\n",
    "                xerr = columns[e][\"Error_I\"],\n",
    "                y = columns[e][\"B\"],\n",
    "                yerr = columns[e][\"Error_B\"],\n",
    "                data = data[e])\n",
    "\n",
    "linspace = ll.linspace(columns[e][\"I\"])\n",
    "\n",
    "plt.title(\"Magnetic flux $B$ by solenoid current $I$\\n(calibrating the solenoid output)\")\n",
    "plt.xlabel(\"$I, A$\")\n",
    "plt.ylabel(\"$B, Tl$\")\n",
    "\n",
    "plt.errorbar(x = columns[e][\"I\"],\n",
    "             xerr = columns[e][\"Error_I\"],\n",
    "             y = columns[e][\"B\"],\n",
    "             yerr = columns[e][\"Error_B\"],\n",
    "             linestyle = \"none\")\n",
    "plt.errorbar(x = linspace, y = model(linspace))\n",
    "None"
   ]
  },
  {
   "cell_type": "markdown",
   "metadata": {},
   "source": [
    "Теперь основной эксперимент. Пользуясь найденной ранее моделью $B(I)$, вычислим значения напряжённости магнитного поля в соленоиде $B_f$ для каждого значения тока, при котором наблюдалась фокусировка электронов."
   ]
  },
  {
   "cell_type": "code",
   "execution_count": 5,
   "metadata": {
    "collapsed": false
   },
   "outputs": [
    {
     "data": {
      "text/html": [
       "<div>\n",
       "<table border=\"1\" class=\"dataframe\">\n",
       "  <thead>\n",
       "    <tr style=\"text-align: right;\">\n",
       "      <th></th>\n",
       "      <th>Value</th>\n",
       "      <th>Error</th>\n",
       "      <th>ErrorRel</th>\n",
       "    </tr>\n",
       "  </thead>\n",
       "  <tbody>\n",
       "    <tr>\n",
       "      <th>L</th>\n",
       "      <td>0.265000</td>\n",
       "      <td>0.000500</td>\n",
       "      <td>0.19%</td>\n",
       "    </tr>\n",
       "    <tr>\n",
       "      <th>V</th>\n",
       "      <td>850.000000</td>\n",
       "      <td>100.000000</td>\n",
       "      <td>11.76%</td>\n",
       "    </tr>\n",
       "    <tr>\n",
       "      <th>_B_0</th>\n",
       "      <td>-0.000022</td>\n",
       "      <td>0.000027</td>\n",
       "      <td>-125.95%</td>\n",
       "    </tr>\n",
       "    <tr>\n",
       "      <th>_dB_dI</th>\n",
       "      <td>0.004527</td>\n",
       "      <td>0.000012</td>\n",
       "      <td>0.26%</td>\n",
       "    </tr>\n",
       "  </tbody>\n",
       "</table>\n",
       "</div>"
      ],
      "text/plain": [
       "            Value      Error  ErrorRel\n",
       "L        0.265000   0.000500  0.001887\n",
       "V      850.000000 100.000000  0.117647\n",
       "_B_0    -0.000022   0.000027 -1.259546\n",
       "_dB_dI   0.004527   0.000012  0.002586"
      ]
     },
     "metadata": {},
     "output_type": "display_data"
    },
    {
     "data": {
      "text/html": [
       "<div>\n",
       "<table border=\"1\" class=\"dataframe\">\n",
       "  <thead>\n",
       "    <tr style=\"text-align: right;\">\n",
       "      <th></th>\n",
       "      <th>I</th>\n",
       "      <th>Error_I</th>\n",
       "      <th>ErrorRel_I</th>\n",
       "      <th>n</th>\n",
       "      <th>Error_n</th>\n",
       "      <th>ErrorRel_n</th>\n",
       "      <th>B</th>\n",
       "      <th>Error_B</th>\n",
       "      <th>ErrorRel_B</th>\n",
       "    </tr>\n",
       "  </thead>\n",
       "  <tbody>\n",
       "    <tr>\n",
       "      <th>0</th>\n",
       "      <td>-2.760000</td>\n",
       "      <td>0.005000</td>\n",
       "      <td>-0.18%</td>\n",
       "      <td>-5</td>\n",
       "      <td>0</td>\n",
       "      <td>-0.00%</td>\n",
       "      <td>-0.012518</td>\n",
       "      <td>0.000048</td>\n",
       "      <td>-0.38%</td>\n",
       "    </tr>\n",
       "    <tr>\n",
       "      <th>1</th>\n",
       "      <td>-2.230000</td>\n",
       "      <td>0.005000</td>\n",
       "      <td>-0.22%</td>\n",
       "      <td>-4</td>\n",
       "      <td>0</td>\n",
       "      <td>-0.00%</td>\n",
       "      <td>-0.010118</td>\n",
       "      <td>0.000044</td>\n",
       "      <td>-0.44%</td>\n",
       "    </tr>\n",
       "    <tr>\n",
       "      <th>2</th>\n",
       "      <td>-1.680000</td>\n",
       "      <td>0.005000</td>\n",
       "      <td>-0.30%</td>\n",
       "      <td>-3</td>\n",
       "      <td>0</td>\n",
       "      <td>-0.00%</td>\n",
       "      <td>-0.007628</td>\n",
       "      <td>0.000041</td>\n",
       "      <td>-0.53%</td>\n",
       "    </tr>\n",
       "    <tr>\n",
       "      <th>3</th>\n",
       "      <td>-1.090000</td>\n",
       "      <td>0.005000</td>\n",
       "      <td>-0.46%</td>\n",
       "      <td>-2</td>\n",
       "      <td>0</td>\n",
       "      <td>-0.00%</td>\n",
       "      <td>-0.004957</td>\n",
       "      <td>0.000038</td>\n",
       "      <td>-0.76%</td>\n",
       "    </tr>\n",
       "    <tr>\n",
       "      <th>4</th>\n",
       "      <td>-0.540000</td>\n",
       "      <td>0.005000</td>\n",
       "      <td>-0.93%</td>\n",
       "      <td>-1</td>\n",
       "      <td>0</td>\n",
       "      <td>-0.00%</td>\n",
       "      <td>-0.002467</td>\n",
       "      <td>0.000036</td>\n",
       "      <td>-1.46%</td>\n",
       "    </tr>\n",
       "    <tr>\n",
       "      <th>5</th>\n",
       "      <td>0.350000</td>\n",
       "      <td>0.005000</td>\n",
       "      <td>1.43%</td>\n",
       "      <td>1</td>\n",
       "      <td>0</td>\n",
       "      <td>0.00%</td>\n",
       "      <td>0.001563</td>\n",
       "      <td>0.000036</td>\n",
       "      <td>2.29%</td>\n",
       "    </tr>\n",
       "    <tr>\n",
       "      <th>6</th>\n",
       "      <td>1.110000</td>\n",
       "      <td>0.005000</td>\n",
       "      <td>0.45%</td>\n",
       "      <td>2</td>\n",
       "      <td>0</td>\n",
       "      <td>0.00%</td>\n",
       "      <td>0.005004</td>\n",
       "      <td>0.000038</td>\n",
       "      <td>0.76%</td>\n",
       "    </tr>\n",
       "    <tr>\n",
       "      <th>7</th>\n",
       "      <td>1.670000</td>\n",
       "      <td>0.005000</td>\n",
       "      <td>0.30%</td>\n",
       "      <td>3</td>\n",
       "      <td>0</td>\n",
       "      <td>0.00%</td>\n",
       "      <td>0.007539</td>\n",
       "      <td>0.000041</td>\n",
       "      <td>0.54%</td>\n",
       "    </tr>\n",
       "    <tr>\n",
       "      <th>8</th>\n",
       "      <td>2.200000</td>\n",
       "      <td>0.005000</td>\n",
       "      <td>0.23%</td>\n",
       "      <td>4</td>\n",
       "      <td>0</td>\n",
       "      <td>0.00%</td>\n",
       "      <td>0.009939</td>\n",
       "      <td>0.000044</td>\n",
       "      <td>0.44%</td>\n",
       "    </tr>\n",
       "    <tr>\n",
       "      <th>9</th>\n",
       "      <td>2.710000</td>\n",
       "      <td>0.005000</td>\n",
       "      <td>0.18%</td>\n",
       "      <td>5</td>\n",
       "      <td>0</td>\n",
       "      <td>0.00%</td>\n",
       "      <td>0.012248</td>\n",
       "      <td>0.000048</td>\n",
       "      <td>0.39%</td>\n",
       "    </tr>\n",
       "  </tbody>\n",
       "</table>\n",
       "</div>"
      ],
      "text/plain": [
       "          I  Error_I  ErrorRel_I  n  Error_n  ErrorRel_n         B  Error_B  \\\n",
       "0 -2.760000 0.005000   -0.001812 -5        0   -0.000000 -0.012518 0.000048   \n",
       "1 -2.230000 0.005000   -0.002242 -4        0   -0.000000 -0.010118 0.000044   \n",
       "2 -1.680000 0.005000   -0.002976 -3        0   -0.000000 -0.007628 0.000041   \n",
       "3 -1.090000 0.005000   -0.004587 -2        0   -0.000000 -0.004957 0.000038   \n",
       "4 -0.540000 0.005000   -0.009259 -1        0   -0.000000 -0.002467 0.000036   \n",
       "5  0.350000 0.005000    0.014286  1        0    0.000000  0.001563 0.000036   \n",
       "6  1.110000 0.005000    0.004505  2        0    0.000000  0.005004 0.000038   \n",
       "7  1.670000 0.005000    0.002994  3        0    0.000000  0.007539 0.000041   \n",
       "8  2.200000 0.005000    0.002273  4        0    0.000000  0.009939 0.000044   \n",
       "9  2.710000 0.005000    0.001845  5        0    0.000000  0.012248 0.000048   \n",
       "\n",
       "   ErrorRel_B  \n",
       "0   -0.003837  \n",
       "1   -0.004359  \n",
       "2   -0.005326  \n",
       "3   -0.007619  \n",
       "4   -0.014637  \n",
       "5    0.022894  \n",
       "6    0.007564  \n",
       "7    0.005381  \n",
       "8    0.004417  \n",
       "9    0.003890  "
      ]
     },
     "metadata": {},
     "output_type": "display_data"
    }
   ],
   "source": [
    "e = \"e1_run\"\n",
    "\n",
    "ll.add(data[e], data[\"e1_calib\"].loc[[\"_B_0\", \"_dB_dI\"]])\n",
    "\n",
    "ll.compute(name = \"B\",\n",
    "           expr = lambda I, _dB_dI, _B_0: I * _dB_dI + _B_0,\n",
    "           data = data[e],\n",
    "           columns = columns[e])\n",
    "\n",
    "disp(data[e], columns[e])"
   ]
  },
  {
   "cell_type": "markdown",
   "metadata": {},
   "source": [
    "Наконец, построим график зависимости напряжённости $B_f$ от номера точки фокуса и получим коэффициент $\\frac{dB}{dn}$."
   ]
  },
  {
   "cell_type": "code",
   "execution_count": 6,
   "metadata": {
    "collapsed": false
   },
   "outputs": [
    {
     "name": "stdout",
     "output_type": "stream",
     "text": [
      "Initial guesses for B:\n",
      "           Value    Error  ErrorRel\n",
      "_dB_dn 0.002484 0.000004  0.001695\n"
     ]
    },
    {
     "data": {
      "text/plain": [
       "'Final guesses for B:'"
      ]
     },
     "metadata": {},
     "output_type": "display_data"
    },
    {
     "data": {
      "text/html": [
       "<div>\n",
       "<table border=\"1\" class=\"dataframe\">\n",
       "  <thead>\n",
       "    <tr style=\"text-align: right;\">\n",
       "      <th></th>\n",
       "      <th>Value</th>\n",
       "      <th>Error</th>\n",
       "      <th>ErrorRel</th>\n",
       "    </tr>\n",
       "  </thead>\n",
       "  <tbody>\n",
       "    <tr>\n",
       "      <th>_dB_dn</th>\n",
       "      <td>0.002490</td>\n",
       "      <td>0.000031</td>\n",
       "      <td>1.25%</td>\n",
       "    </tr>\n",
       "  </tbody>\n",
       "</table>\n",
       "</div>"
      ],
      "text/plain": [
       "          Value    Error  ErrorRel\n",
       "_dB_dn 0.002490 0.000031  0.012528"
      ]
     },
     "metadata": {},
     "output_type": "display_data"
    },
    {
     "data": {
      "image/png": "[encoded data removed]",
      "text/plain": [
       "<matplotlib.figure.Figure at 0x7f995b78bba8>"
      ]
     },
     "metadata": {},
     "output_type": "display_data"
    }
   ],
   "source": [
    "model = ll.fit2(name = \"B\",\n",
    "                model = lambda n, _dB_dn: n * _dB_dn,\n",
    "                x = columns[e][\"n\"],\n",
    "                xerr = None,\n",
    "                y = columns[e][\"B\"],\n",
    "                yerr = columns[e][\"Error_B\"],\n",
    "                data = data[e])\n",
    "\n",
    "linspace = ll.linspace(columns[e][\"n\"])\n",
    "\n",
    "plt.title(\"Magnetic flux $B$ by focus number $n$\")\n",
    "plt.xlabel(\"$n$\")\n",
    "plt.ylabel(\"$B, Tl$\")\n",
    "\n",
    "plt.errorbar(x = columns[e][\"n\"],\n",
    "             y = columns[e][\"B\"],\n",
    "             yerr = columns[e][\"Error_B\"],\n",
    "             linestyle = \"none\")\n",
    "plt.errorbar(x = linspace, y = model(linspace))\n",
    "None"
   ]
  },
  {
   "cell_type": "markdown",
   "metadata": {},
   "source": [
    "Наконец, рассчитаем удельный заряд электрона: $\\frac{e}{m} = \\frac{8 \\pi^2 V}{L^2} (\\frac{dn}{dB})^2$.\n",
    "\n",
    "Он равен $\\frac{e}{m} = (1.54 \\pm 0.19) * 10^{11} \\frac{Кл}{кг}$. Погрешность результата — $12\\%$."
   ]
  },
  {
   "cell_type": "code",
   "execution_count": 7,
   "metadata": {
    "collapsed": false
   },
   "outputs": [
    {
     "data": {
      "text/html": [
       "<div>\n",
       "<table border=\"1\" class=\"dataframe\">\n",
       "  <thead>\n",
       "    <tr style=\"text-align: right;\">\n",
       "      <th></th>\n",
       "      <th>Value</th>\n",
       "      <th>Error</th>\n",
       "      <th>ErrorRel</th>\n",
       "    </tr>\n",
       "  </thead>\n",
       "  <tbody>\n",
       "    <tr>\n",
       "      <th>_e_m</th>\n",
       "      <td>154150968618.674072</td>\n",
       "      <td>18551252176.385872</td>\n",
       "      <td>0.120345</td>\n",
       "    </tr>\n",
       "  </tbody>\n",
       "</table>\n",
       "</div>"
      ],
      "text/plain": [
       "                   Value              Error  ErrorRel\n",
       "_e_m 154150968618.674072 18551252176.385872  0.120345"
      ]
     },
     "metadata": {},
     "output_type": "display_data"
    }
   ],
   "source": [
    "ll.compute(name = \"_e_m\",\n",
    "           expr = lambda V, L, _dB_dn: 8 * (V * m.pi**2 / L**2) * (1/_dB_dn)**2,\n",
    "           data = data[e],\n",
    "           columns = columns[e])\n",
    "\n",
    "disp(data[e].loc[[\"_e_m\"]])"
   ]
  },
  {
   "cell_type": "code",
   "execution_count": null,
   "metadata": {
    "collapsed": true
   },
   "outputs": [],
   "source": []
  }
 ],
 "metadata": {
  "kernelspec": {
   "display_name": "Python 3",
   "language": "python",
   "name": "python3"
  },
  "language_info": {
   "codemirror_mode": {
    "name": "ipython",
    "version": 3
   },
   "file_extension": ".py",
   "mimetype": "text/x-python",
   "name": "python",
   "nbconvert_exporter": "python",
   "pygments_lexer": "ipython3",
   "version": "3.5.2"
  }
 },
 "nbformat": 4,
 "nbformat_minor": 0
}
