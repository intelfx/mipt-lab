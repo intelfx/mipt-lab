{
 "cells": [
  {
   "cell_type": "code",
   "execution_count": 1,
   "metadata": {
    "collapsed": false
   },
   "outputs": [],
   "source": [
    "import pandas as pd\n",
    "import math as m\n",
    "from IPython.display import display as disp\n",
    "import lablib as ll\n",
    "%matplotlib inline"
   ]
  },
  {
   "cell_type": "code",
   "execution_count": 2,
   "metadata": {
    "collapsed": true
   },
   "outputs": [],
   "source": [
    "data, columns, experiments = ll.read_standard_layout()"
   ]
  },
  {
   "cell_type": "code",
   "execution_count": 3,
   "metadata": {
    "collapsed": false
   },
   "outputs": [
    {
     "data": {
      "text/html": [
       "<div>\n",
       "<table border=\"1\" class=\"dataframe\">\n",
       "  <thead>\n",
       "    <tr style=\"text-align: right;\">\n",
       "      <th></th>\n",
       "      <th>Value</th>\n",
       "      <th>Error</th>\n",
       "      <th>ErrorRel</th>\n",
       "    </tr>\n",
       "  </thead>\n",
       "  <tbody>\n",
       "    <tr>\n",
       "      <th>R</th>\n",
       "      <td>0.200000</td>\n",
       "      <td>0.005000</td>\n",
       "      <td>2.50%</td>\n",
       "    </tr>\n",
       "    <tr>\n",
       "      <th>N</th>\n",
       "      <td>44.000000</td>\n",
       "      <td>0.000000</td>\n",
       "      <td>0.00%</td>\n",
       "    </tr>\n",
       "    <tr>\n",
       "      <th>L</th>\n",
       "      <td>1.080000</td>\n",
       "      <td>0.010000</td>\n",
       "      <td>0.93%</td>\n",
       "    </tr>\n",
       "    <tr>\n",
       "      <th>m_st</th>\n",
       "      <td>0.005880</td>\n",
       "      <td>0.000000</td>\n",
       "      <td>0.01%</td>\n",
       "    </tr>\n",
       "    <tr>\n",
       "      <th>d_st</th>\n",
       "      <td>0.004500</td>\n",
       "      <td>0.000500</td>\n",
       "      <td>11.11%</td>\n",
       "    </tr>\n",
       "    <tr>\n",
       "      <th>L_st</th>\n",
       "      <td>0.040000</td>\n",
       "      <td>0.000500</td>\n",
       "      <td>1.25%</td>\n",
       "    </tr>\n",
       "    <tr>\n",
       "      <th>T_n</th>\n",
       "      <td>70.000000</td>\n",
       "      <td>0.500000</td>\n",
       "      <td>0.71%</td>\n",
       "    </tr>\n",
       "    <tr>\n",
       "      <th>n</th>\n",
       "      <td>10.000000</td>\n",
       "      <td>0.000000</td>\n",
       "      <td>0.00%</td>\n",
       "    </tr>\n",
       "    <tr>\n",
       "      <th>x_minus</th>\n",
       "      <td>-0.095000</td>\n",
       "      <td>0.005000</td>\n",
       "      <td>-5.26%</td>\n",
       "    </tr>\n",
       "    <tr>\n",
       "      <th>x_plus</th>\n",
       "      <td>0.220000</td>\n",
       "      <td>0.005000</td>\n",
       "      <td>2.27%</td>\n",
       "    </tr>\n",
       "  </tbody>\n",
       "</table>\n",
       "</div>"
      ],
      "text/plain": [
       "            Value    Error  ErrorRel\n",
       "R        0.200000 0.005000  0.025000\n",
       "N       44.000000 0.000000  0.000000\n",
       "L        1.080000 0.010000  0.009259\n",
       "m_st     0.005880 0.000000  0.000085\n",
       "d_st     0.004500 0.000500  0.111111\n",
       "L_st     0.040000 0.000500  0.012500\n",
       "T_n     70.000000 0.500000  0.007143\n",
       "n       10.000000 0.000000  0.000000\n",
       "x_minus -0.095000 0.005000 -0.052632\n",
       "x_plus   0.220000 0.005000  0.022727"
      ]
     },
     "metadata": {},
     "output_type": "display_data"
    }
   ],
   "source": [
    "e = \"field\"\n",
    "\n",
    "disp(data[e])"
   ]
  },
  {
   "cell_type": "code",
   "execution_count": 4,
   "metadata": {
    "collapsed": false
   },
   "outputs": [
    {
     "data": {
      "text/html": [
       "<div>\n",
       "<table border=\"1\" class=\"dataframe\">\n",
       "  <thead>\n",
       "    <tr style=\"text-align: right;\">\n",
       "      <th></th>\n",
       "      <th>Value</th>\n",
       "      <th>Error</th>\n",
       "      <th>ErrorRel</th>\n",
       "    </tr>\n",
       "  </thead>\n",
       "  <tbody>\n",
       "    <tr>\n",
       "      <th>x_1</th>\n",
       "      <td>0.157500</td>\n",
       "      <td>0.003536</td>\n",
       "      <td>0.022448</td>\n",
       "    </tr>\n",
       "    <tr>\n",
       "      <th>J_st</th>\n",
       "      <td>0.000001</td>\n",
       "      <td>0.000000</td>\n",
       "      <td>0.024853</td>\n",
       "    </tr>\n",
       "    <tr>\n",
       "      <th>B_0</th>\n",
       "      <td>0.000010</td>\n",
       "      <td>0.000000</td>\n",
       "      <td>0.041942</td>\n",
       "    </tr>\n",
       "  </tbody>\n",
       "</table>\n",
       "</div>"
      ],
      "text/plain": [
       "        Value    Error  ErrorRel\n",
       "x_1  0.157500 0.003536  0.022448\n",
       "J_st 0.000001 0.000000  0.024853\n",
       "B_0  0.000010 0.000000  0.041942"
      ]
     },
     "metadata": {},
     "output_type": "display_data"
    }
   ],
   "source": [
    "ll.compute(name = \"x_1\",\n",
    "           expr = lambda x_minus, x_plus: (x_plus - x_minus) / 2,\n",
    "           data = data[e],\n",
    "           columns = columns[e])\n",
    "\n",
    "ll.compute(name = \"J_st\",\n",
    "           expr = lambda m_st, L_st, d_st: m_st * (L_st**2 / 12 + (d_st/2)**2 / 4),\n",
    "           data = data[e],\n",
    "           columns = columns[e])\n",
    "\n",
    "ll.compute(name = \"B_0\",\n",
    "           expr = lambda T_n, n, R, J_st, L, x_1: (2*m.pi)/((T_n/n)*R) * ((ll.mu_0*J_st*L) / (2*m.pi*R*x_1))**(1/2),\n",
    "           data = data[e],\n",
    "           columns = columns[e])\n",
    "\n",
    "disp(data[e].loc[[\"x_1\",\"J_st\",\"B_0\"]])\n",
    "ll.add_multi([data[e] for e in data], data[e].loc[[\"B_0\"]])"
   ]
  },
  {
   "cell_type": "code",
   "execution_count": 5,
   "metadata": {
    "collapsed": false
   },
   "outputs": [
    {
     "data": {
      "text/html": [
       "<div>\n",
       "<table border=\"1\" class=\"dataframe\">\n",
       "  <thead>\n",
       "    <tr style=\"text-align: right;\">\n",
       "      <th></th>\n",
       "      <th>Value</th>\n",
       "      <th>Error</th>\n",
       "      <th>ErrorRel</th>\n",
       "    </tr>\n",
       "  </thead>\n",
       "  <tbody>\n",
       "    <tr>\n",
       "      <th>R</th>\n",
       "      <td>0.200000</td>\n",
       "      <td>0.005000</td>\n",
       "      <td>2.50%</td>\n",
       "    </tr>\n",
       "    <tr>\n",
       "      <th>N</th>\n",
       "      <td>44.000000</td>\n",
       "      <td>0.000000</td>\n",
       "      <td>0.00%</td>\n",
       "    </tr>\n",
       "    <tr>\n",
       "      <th>L</th>\n",
       "      <td>1.080000</td>\n",
       "      <td>0.010000</td>\n",
       "      <td>0.93%</td>\n",
       "    </tr>\n",
       "    <tr>\n",
       "      <th>x_minus</th>\n",
       "      <td>-0.095000</td>\n",
       "      <td>0.005000</td>\n",
       "      <td>-5.26%</td>\n",
       "    </tr>\n",
       "    <tr>\n",
       "      <th>x_plus</th>\n",
       "      <td>0.245000</td>\n",
       "      <td>0.005000</td>\n",
       "      <td>2.04%</td>\n",
       "    </tr>\n",
       "    <tr>\n",
       "      <th>freq</th>\n",
       "      <td>50.000000</td>\n",
       "      <td>0.000000</td>\n",
       "      <td>0.00%</td>\n",
       "    </tr>\n",
       "    <tr>\n",
       "      <th>U</th>\n",
       "      <td>0.300000</td>\n",
       "      <td>0.003333</td>\n",
       "      <td>1.11%</td>\n",
       "    </tr>\n",
       "    <tr>\n",
       "      <th>C</th>\n",
       "      <td>900000.000000</td>\n",
       "      <td>18000.000000</td>\n",
       "      <td>2.00%</td>\n",
       "    </tr>\n",
       "    <tr>\n",
       "      <th>B_0</th>\n",
       "      <td>0.000010</td>\n",
       "      <td>0.000000</td>\n",
       "      <td>4.19%</td>\n",
       "    </tr>\n",
       "  </tbody>\n",
       "</table>\n",
       "</div>"
      ],
      "text/plain": [
       "                Value        Error  ErrorRel\n",
       "R            0.200000     0.005000  0.025000\n",
       "N           44.000000     0.000000  0.000000\n",
       "L            1.080000     0.010000  0.009259\n",
       "x_minus     -0.095000     0.005000 -0.052632\n",
       "x_plus       0.245000     0.005000  0.020408\n",
       "freq        50.000000     0.000000  0.000000\n",
       "U            0.300000     0.003333  0.011111\n",
       "C       900000.000000 18000.000000  0.020000\n",
       "B_0          0.000010     0.000000  0.041942"
      ]
     },
     "metadata": {},
     "output_type": "display_data"
    }
   ],
   "source": [
    "e = \"const\"\n",
    "\n",
    "disp(data[e])"
   ]
  },
  {
   "cell_type": "code",
   "execution_count": 6,
   "metadata": {
    "collapsed": false
   },
   "outputs": [
    {
     "data": {
      "text/html": [
       "<div>\n",
       "<table border=\"1\" class=\"dataframe\">\n",
       "  <thead>\n",
       "    <tr style=\"text-align: right;\">\n",
       "      <th></th>\n",
       "      <th>Value</th>\n",
       "      <th>Error</th>\n",
       "      <th>ErrorRel</th>\n",
       "    </tr>\n",
       "  </thead>\n",
       "  <tbody>\n",
       "    <tr>\n",
       "      <th>x_1</th>\n",
       "      <td>0.170000</td>\n",
       "      <td>0.003536</td>\n",
       "      <td>0.020797</td>\n",
       "    </tr>\n",
       "    <tr>\n",
       "      <th>I_si</th>\n",
       "      <td>0.005953</td>\n",
       "      <td>0.000321</td>\n",
       "      <td>0.053874</td>\n",
       "    </tr>\n",
       "    <tr>\n",
       "      <th>I_abs</th>\n",
       "      <td>13500000.000000</td>\n",
       "      <td>308868.904230</td>\n",
       "      <td>0.022879</td>\n",
       "    </tr>\n",
       "    <tr>\n",
       "      <th>c</th>\n",
       "      <td>22678180291.341423</td>\n",
       "      <td>1327364483.673486</td>\n",
       "      <td>0.058530</td>\n",
       "    </tr>\n",
       "  </tbody>\n",
       "</table>\n",
       "</div>"
      ],
      "text/plain": [
       "                   Value             Error  ErrorRel\n",
       "x_1             0.170000          0.003536  0.020797\n",
       "I_si            0.005953          0.000321  0.053874\n",
       "I_abs    13500000.000000     308868.904230  0.022879\n",
       "c     22678180291.341423 1327364483.673486  0.058530"
      ]
     },
     "metadata": {},
     "output_type": "display_data"
    }
   ],
   "source": [
    "ll.compute(name = \"x_1\",\n",
    "           expr = lambda x_minus, x_plus: (x_plus - x_minus) / 2,\n",
    "           data = data[e],\n",
    "           columns = columns[e])\n",
    "\n",
    "ll.compute(name = \"I_si\",\n",
    "           expr = lambda B_0, R, N, x_1, L: (2*B_0*R)/(ll.mu_0*N) * (x_1/(2*L)),\n",
    "           data = data[e],\n",
    "           columns = columns[e])\n",
    "\n",
    "ll.compute(name = \"I_abs\",\n",
    "           expr = lambda C, U, freq: C*U*freq,\n",
    "           data = data[e],\n",
    "           columns = columns[e])\n",
    "\n",
    "ll.compute(name = \"c\",\n",
    "           expr = lambda I_abs, I_si: 10*I_abs/I_si,\n",
    "           data = data[e],\n",
    "           columns = columns[e])\n",
    "           \n",
    "disp(data[e].loc[[\"x_1\",\"I_si\",\"I_abs\",\"c\"]])"
   ]
  }
 ],
 "metadata": {
  "kernelspec": {
   "display_name": "Python 3",
   "language": "python",
   "name": "python3"
  },
  "language_info": {
   "codemirror_mode": {
    "name": "ipython",
    "version": 3
   },
   "file_extension": ".py",
   "mimetype": "text/x-python",
   "name": "python",
   "nbconvert_exporter": "python",
   "pygments_lexer": "ipython3",
   "version": "3.5.2"
  }
 },
 "nbformat": 4,
 "nbformat_minor": 1
}
