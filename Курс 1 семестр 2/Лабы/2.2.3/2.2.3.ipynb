{
 "cells": [
  {
   "cell_type": "code",
   "execution_count": 1,
   "metadata": {
    "collapsed": true
   },
   "outputs": [],
   "source": [
    "import pandas as pd\n",
    "import numpy as np\n",
    "import scipy as sp\n",
    "import matplotlib as mp\n",
    "import matplotlib.pyplot as plt\n",
    "import math as m\n",
    "import sympy as smp\n",
    "from IPython.display import display as disp\n",
    "import lablib as ll\n",
    "%matplotlib inline"
   ]
  },
  {
   "cell_type": "code",
   "execution_count": 2,
   "metadata": {
    "collapsed": true
   },
   "outputs": [],
   "source": [
    "data = {}\n",
    "columns = {}\n",
    "experiments = []\n",
    "            \n",
    "data, columns, experiments = ll.read_standard_layout()"
   ]
  },
  {
   "cell_type": "code",
   "execution_count": 3,
   "metadata": {
    "collapsed": false
   },
   "outputs": [
    {
     "data": {
      "text/plain": [
       "'Experiment T=26'"
      ]
     },
     "metadata": {},
     "output_type": "display_data"
    },
    {
     "name": "stdout",
     "output_type": "stream",
     "text": [
      "Computing row of Q\n",
      "Error influence estimations:\n"
     ]
    },
    {
     "data": {
      "text/html": [
       "<div>\n",
       "<table border=\"1\" class=\"dataframe\">\n",
       "  <thead>\n",
       "    <tr style=\"text-align: right;\">\n",
       "      <th></th>\n",
       "      <th>Error</th>\n",
       "      <th>Derivative</th>\n",
       "      <th>(E*D)^2</th>\n",
       "    </tr>\n",
       "  </thead>\n",
       "  <tbody>\n",
       "    <tr>\n",
       "      <th>R_s</th>\n",
       "      <td>0.010000</td>\n",
       "      <td>-0.01*U_s*U_t</td>\n",
       "      <td>1.0e-8*U_s**2*U_t**2</td>\n",
       "    </tr>\n",
       "    <tr>\n",
       "      <th>U_s</th>\n",
       "      <td>None</td>\n",
       "      <td>0.1*U_t</td>\n",
       "      <td>0.01*Error_U_s**2*U_t**2</td>\n",
       "    </tr>\n",
       "    <tr>\n",
       "      <th>U_t</th>\n",
       "      <td>None</td>\n",
       "      <td>0.1*U_s</td>\n",
       "      <td>0.01*Error_U_t**2*U_s**2</td>\n",
       "    </tr>\n",
       "  </tbody>\n",
       "</table>\n",
       "</div>"
      ],
      "text/plain": [
       "       Error     Derivative                   (E*D)^2\n",
       "R_s 0.010000  -0.01*U_s*U_t      1.0e-8*U_s**2*U_t**2\n",
       "U_s     None        0.1*U_t  0.01*Error_U_s**2*U_t**2\n",
       "U_t     None        0.1*U_s  0.01*Error_U_t**2*U_s**2"
      ]
     },
     "metadata": {},
     "output_type": "display_data"
    },
    {
     "name": "stdout",
     "output_type": "stream",
     "text": [
      "(Not displaying column 'Q' of N=6 rows)\n",
      "Computing row of R_t\n",
      "Error influence estimations:\n"
     ]
    },
    {
     "data": {
      "text/html": [
       "<div>\n",
       "<table border=\"1\" class=\"dataframe\">\n",
       "  <thead>\n",
       "    <tr style=\"text-align: right;\">\n",
       "      <th></th>\n",
       "      <th>Error</th>\n",
       "      <th>Derivative</th>\n",
       "      <th>(E*D)^2</th>\n",
       "    </tr>\n",
       "  </thead>\n",
       "  <tbody>\n",
       "    <tr>\n",
       "      <th>R_s</th>\n",
       "      <td>0.010000</td>\n",
       "      <td>U_t/U_s</td>\n",
       "      <td>0.0001*U_t**2/U_s**2</td>\n",
       "    </tr>\n",
       "    <tr>\n",
       "      <th>U_s</th>\n",
       "      <td>None</td>\n",
       "      <td>-10.0*U_t/U_s**2</td>\n",
       "      <td>100.0*Error_U_s**2*U_t**2/U_s**4</td>\n",
       "    </tr>\n",
       "    <tr>\n",
       "      <th>U_t</th>\n",
       "      <td>None</td>\n",
       "      <td>10.0/U_s</td>\n",
       "      <td>100.0*Error_U_t**2/U_s**2</td>\n",
       "    </tr>\n",
       "  </tbody>\n",
       "</table>\n",
       "</div>"
      ],
      "text/plain": [
       "       Error        Derivative                           (E*D)^2\n",
       "R_s 0.010000           U_t/U_s              0.0001*U_t**2/U_s**2\n",
       "U_s     None  -10.0*U_t/U_s**2  100.0*Error_U_s**2*U_t**2/U_s**4\n",
       "U_t     None          10.0/U_s         100.0*Error_U_t**2/U_s**2"
      ]
     },
     "metadata": {},
     "output_type": "display_data"
    },
    {
     "name": "stdout",
     "output_type": "stream",
     "text": [
      "(Not displaying column 'R_t' of N=6 rows)\n"
     ]
    },
    {
     "data": {
      "text/plain": [
       "'Experiment T=30'"
      ]
     },
     "metadata": {},
     "output_type": "display_data"
    },
    {
     "name": "stdout",
     "output_type": "stream",
     "text": [
      "Computing row of Q\n",
      "Error influence estimations:\n"
     ]
    },
    {
     "data": {
      "text/html": [
       "<div>\n",
       "<table border=\"1\" class=\"dataframe\">\n",
       "  <thead>\n",
       "    <tr style=\"text-align: right;\">\n",
       "      <th></th>\n",
       "      <th>Error</th>\n",
       "      <th>Derivative</th>\n",
       "      <th>(E*D)^2</th>\n",
       "    </tr>\n",
       "  </thead>\n",
       "  <tbody>\n",
       "    <tr>\n",
       "      <th>R_s</th>\n",
       "      <td>0.010000</td>\n",
       "      <td>-0.01*U_s*U_t</td>\n",
       "      <td>1.0e-8*U_s**2*U_t**2</td>\n",
       "    </tr>\n",
       "    <tr>\n",
       "      <th>U_s</th>\n",
       "      <td>None</td>\n",
       "      <td>0.1*U_t</td>\n",
       "      <td>0.01*Error_U_s**2*U_t**2</td>\n",
       "    </tr>\n",
       "    <tr>\n",
       "      <th>U_t</th>\n",
       "      <td>None</td>\n",
       "      <td>0.1*U_s</td>\n",
       "      <td>0.01*Error_U_t**2*U_s**2</td>\n",
       "    </tr>\n",
       "  </tbody>\n",
       "</table>\n",
       "</div>"
      ],
      "text/plain": [
       "       Error     Derivative                   (E*D)^2\n",
       "R_s 0.010000  -0.01*U_s*U_t      1.0e-8*U_s**2*U_t**2\n",
       "U_s     None        0.1*U_t  0.01*Error_U_s**2*U_t**2\n",
       "U_t     None        0.1*U_s  0.01*Error_U_t**2*U_s**2"
      ]
     },
     "metadata": {},
     "output_type": "display_data"
    },
    {
     "name": "stdout",
     "output_type": "stream",
     "text": [
      "(Not displaying column 'Q' of N=6 rows)\n",
      "Computing row of R_t\n",
      "Error influence estimations:\n"
     ]
    },
    {
     "data": {
      "text/html": [
       "<div>\n",
       "<table border=\"1\" class=\"dataframe\">\n",
       "  <thead>\n",
       "    <tr style=\"text-align: right;\">\n",
       "      <th></th>\n",
       "      <th>Error</th>\n",
       "      <th>Derivative</th>\n",
       "      <th>(E*D)^2</th>\n",
       "    </tr>\n",
       "  </thead>\n",
       "  <tbody>\n",
       "    <tr>\n",
       "      <th>R_s</th>\n",
       "      <td>0.010000</td>\n",
       "      <td>U_t/U_s</td>\n",
       "      <td>0.0001*U_t**2/U_s**2</td>\n",
       "    </tr>\n",
       "    <tr>\n",
       "      <th>U_s</th>\n",
       "      <td>None</td>\n",
       "      <td>-10.0*U_t/U_s**2</td>\n",
       "      <td>100.0*Error_U_s**2*U_t**2/U_s**4</td>\n",
       "    </tr>\n",
       "    <tr>\n",
       "      <th>U_t</th>\n",
       "      <td>None</td>\n",
       "      <td>10.0/U_s</td>\n",
       "      <td>100.0*Error_U_t**2/U_s**2</td>\n",
       "    </tr>\n",
       "  </tbody>\n",
       "</table>\n",
       "</div>"
      ],
      "text/plain": [
       "       Error        Derivative                           (E*D)^2\n",
       "R_s 0.010000           U_t/U_s              0.0001*U_t**2/U_s**2\n",
       "U_s     None  -10.0*U_t/U_s**2  100.0*Error_U_s**2*U_t**2/U_s**4\n",
       "U_t     None          10.0/U_s         100.0*Error_U_t**2/U_s**2"
      ]
     },
     "metadata": {},
     "output_type": "display_data"
    },
    {
     "name": "stdout",
     "output_type": "stream",
     "text": [
      "(Not displaying column 'R_t' of N=6 rows)\n"
     ]
    },
    {
     "data": {
      "text/plain": [
       "'Experiment T=40'"
      ]
     },
     "metadata": {},
     "output_type": "display_data"
    },
    {
     "name": "stdout",
     "output_type": "stream",
     "text": [
      "Computing row of Q\n",
      "Error influence estimations:\n"
     ]
    },
    {
     "data": {
      "text/html": [
       "<div>\n",
       "<table border=\"1\" class=\"dataframe\">\n",
       "  <thead>\n",
       "    <tr style=\"text-align: right;\">\n",
       "      <th></th>\n",
       "      <th>Error</th>\n",
       "      <th>Derivative</th>\n",
       "      <th>(E*D)^2</th>\n",
       "    </tr>\n",
       "  </thead>\n",
       "  <tbody>\n",
       "    <tr>\n",
       "      <th>R_s</th>\n",
       "      <td>0.010000</td>\n",
       "      <td>-0.01*U_s*U_t</td>\n",
       "      <td>1.0e-8*U_s**2*U_t**2</td>\n",
       "    </tr>\n",
       "    <tr>\n",
       "      <th>U_s</th>\n",
       "      <td>None</td>\n",
       "      <td>0.1*U_t</td>\n",
       "      <td>0.01*Error_U_s**2*U_t**2</td>\n",
       "    </tr>\n",
       "    <tr>\n",
       "      <th>U_t</th>\n",
       "      <td>None</td>\n",
       "      <td>0.1*U_s</td>\n",
       "      <td>0.01*Error_U_t**2*U_s**2</td>\n",
       "    </tr>\n",
       "  </tbody>\n",
       "</table>\n",
       "</div>"
      ],
      "text/plain": [
       "       Error     Derivative                   (E*D)^2\n",
       "R_s 0.010000  -0.01*U_s*U_t      1.0e-8*U_s**2*U_t**2\n",
       "U_s     None        0.1*U_t  0.01*Error_U_s**2*U_t**2\n",
       "U_t     None        0.1*U_s  0.01*Error_U_t**2*U_s**2"
      ]
     },
     "metadata": {},
     "output_type": "display_data"
    },
    {
     "name": "stdout",
     "output_type": "stream",
     "text": [
      "(Not displaying column 'Q' of N=6 rows)\n",
      "Computing row of R_t\n",
      "Error influence estimations:\n"
     ]
    },
    {
     "data": {
      "text/html": [
       "<div>\n",
       "<table border=\"1\" class=\"dataframe\">\n",
       "  <thead>\n",
       "    <tr style=\"text-align: right;\">\n",
       "      <th></th>\n",
       "      <th>Error</th>\n",
       "      <th>Derivative</th>\n",
       "      <th>(E*D)^2</th>\n",
       "    </tr>\n",
       "  </thead>\n",
       "  <tbody>\n",
       "    <tr>\n",
       "      <th>R_s</th>\n",
       "      <td>0.010000</td>\n",
       "      <td>U_t/U_s</td>\n",
       "      <td>0.0001*U_t**2/U_s**2</td>\n",
       "    </tr>\n",
       "    <tr>\n",
       "      <th>U_s</th>\n",
       "      <td>None</td>\n",
       "      <td>-10.0*U_t/U_s**2</td>\n",
       "      <td>100.0*Error_U_s**2*U_t**2/U_s**4</td>\n",
       "    </tr>\n",
       "    <tr>\n",
       "      <th>U_t</th>\n",
       "      <td>None</td>\n",
       "      <td>10.0/U_s</td>\n",
       "      <td>100.0*Error_U_t**2/U_s**2</td>\n",
       "    </tr>\n",
       "  </tbody>\n",
       "</table>\n",
       "</div>"
      ],
      "text/plain": [
       "       Error        Derivative                           (E*D)^2\n",
       "R_s 0.010000           U_t/U_s              0.0001*U_t**2/U_s**2\n",
       "U_s     None  -10.0*U_t/U_s**2  100.0*Error_U_s**2*U_t**2/U_s**4\n",
       "U_t     None          10.0/U_s         100.0*Error_U_t**2/U_s**2"
      ]
     },
     "metadata": {},
     "output_type": "display_data"
    },
    {
     "name": "stdout",
     "output_type": "stream",
     "text": [
      "(Not displaying column 'R_t' of N=6 rows)\n"
     ]
    },
    {
     "data": {
      "text/plain": [
       "'Experiment T=50'"
      ]
     },
     "metadata": {},
     "output_type": "display_data"
    },
    {
     "name": "stdout",
     "output_type": "stream",
     "text": [
      "Computing row of Q\n",
      "Error influence estimations:\n"
     ]
    },
    {
     "data": {
      "text/html": [
       "<div>\n",
       "<table border=\"1\" class=\"dataframe\">\n",
       "  <thead>\n",
       "    <tr style=\"text-align: right;\">\n",
       "      <th></th>\n",
       "      <th>Error</th>\n",
       "      <th>Derivative</th>\n",
       "      <th>(E*D)^2</th>\n",
       "    </tr>\n",
       "  </thead>\n",
       "  <tbody>\n",
       "    <tr>\n",
       "      <th>R_s</th>\n",
       "      <td>0.010000</td>\n",
       "      <td>-0.01*U_s*U_t</td>\n",
       "      <td>1.0e-8*U_s**2*U_t**2</td>\n",
       "    </tr>\n",
       "    <tr>\n",
       "      <th>U_s</th>\n",
       "      <td>None</td>\n",
       "      <td>0.1*U_t</td>\n",
       "      <td>0.01*Error_U_s**2*U_t**2</td>\n",
       "    </tr>\n",
       "    <tr>\n",
       "      <th>U_t</th>\n",
       "      <td>None</td>\n",
       "      <td>0.1*U_s</td>\n",
       "      <td>0.01*Error_U_t**2*U_s**2</td>\n",
       "    </tr>\n",
       "  </tbody>\n",
       "</table>\n",
       "</div>"
      ],
      "text/plain": [
       "       Error     Derivative                   (E*D)^2\n",
       "R_s 0.010000  -0.01*U_s*U_t      1.0e-8*U_s**2*U_t**2\n",
       "U_s     None        0.1*U_t  0.01*Error_U_s**2*U_t**2\n",
       "U_t     None        0.1*U_s  0.01*Error_U_t**2*U_s**2"
      ]
     },
     "metadata": {},
     "output_type": "display_data"
    },
    {
     "name": "stdout",
     "output_type": "stream",
     "text": [
      "(Not displaying column 'Q' of N=6 rows)\n",
      "Computing row of R_t\n",
      "Error influence estimations:\n"
     ]
    },
    {
     "data": {
      "text/html": [
       "<div>\n",
       "<table border=\"1\" class=\"dataframe\">\n",
       "  <thead>\n",
       "    <tr style=\"text-align: right;\">\n",
       "      <th></th>\n",
       "      <th>Error</th>\n",
       "      <th>Derivative</th>\n",
       "      <th>(E*D)^2</th>\n",
       "    </tr>\n",
       "  </thead>\n",
       "  <tbody>\n",
       "    <tr>\n",
       "      <th>R_s</th>\n",
       "      <td>0.010000</td>\n",
       "      <td>U_t/U_s</td>\n",
       "      <td>0.0001*U_t**2/U_s**2</td>\n",
       "    </tr>\n",
       "    <tr>\n",
       "      <th>U_s</th>\n",
       "      <td>None</td>\n",
       "      <td>-10.0*U_t/U_s**2</td>\n",
       "      <td>100.0*Error_U_s**2*U_t**2/U_s**4</td>\n",
       "    </tr>\n",
       "    <tr>\n",
       "      <th>U_t</th>\n",
       "      <td>None</td>\n",
       "      <td>10.0/U_s</td>\n",
       "      <td>100.0*Error_U_t**2/U_s**2</td>\n",
       "    </tr>\n",
       "  </tbody>\n",
       "</table>\n",
       "</div>"
      ],
      "text/plain": [
       "       Error        Derivative                           (E*D)^2\n",
       "R_s 0.010000           U_t/U_s              0.0001*U_t**2/U_s**2\n",
       "U_s     None  -10.0*U_t/U_s**2  100.0*Error_U_s**2*U_t**2/U_s**4\n",
       "U_t     None          10.0/U_s         100.0*Error_U_t**2/U_s**2"
      ]
     },
     "metadata": {},
     "output_type": "display_data"
    },
    {
     "name": "stdout",
     "output_type": "stream",
     "text": [
      "(Not displaying column 'R_t' of N=6 rows)\n"
     ]
    },
    {
     "data": {
      "text/plain": [
       "'Experiment T=60'"
      ]
     },
     "metadata": {},
     "output_type": "display_data"
    },
    {
     "name": "stdout",
     "output_type": "stream",
     "text": [
      "Computing row of Q\n",
      "Error influence estimations:\n"
     ]
    },
    {
     "data": {
      "text/html": [
       "<div>\n",
       "<table border=\"1\" class=\"dataframe\">\n",
       "  <thead>\n",
       "    <tr style=\"text-align: right;\">\n",
       "      <th></th>\n",
       "      <th>Error</th>\n",
       "      <th>Derivative</th>\n",
       "      <th>(E*D)^2</th>\n",
       "    </tr>\n",
       "  </thead>\n",
       "  <tbody>\n",
       "    <tr>\n",
       "      <th>R_s</th>\n",
       "      <td>0.010000</td>\n",
       "      <td>-0.01*U_s*U_t</td>\n",
       "      <td>1.0e-8*U_s**2*U_t**2</td>\n",
       "    </tr>\n",
       "    <tr>\n",
       "      <th>U_s</th>\n",
       "      <td>None</td>\n",
       "      <td>0.1*U_t</td>\n",
       "      <td>0.01*Error_U_s**2*U_t**2</td>\n",
       "    </tr>\n",
       "    <tr>\n",
       "      <th>U_t</th>\n",
       "      <td>None</td>\n",
       "      <td>0.1*U_s</td>\n",
       "      <td>0.01*Error_U_t**2*U_s**2</td>\n",
       "    </tr>\n",
       "  </tbody>\n",
       "</table>\n",
       "</div>"
      ],
      "text/plain": [
       "       Error     Derivative                   (E*D)^2\n",
       "R_s 0.010000  -0.01*U_s*U_t      1.0e-8*U_s**2*U_t**2\n",
       "U_s     None        0.1*U_t  0.01*Error_U_s**2*U_t**2\n",
       "U_t     None        0.1*U_s  0.01*Error_U_t**2*U_s**2"
      ]
     },
     "metadata": {},
     "output_type": "display_data"
    },
    {
     "name": "stdout",
     "output_type": "stream",
     "text": [
      "(Not displaying column 'Q' of N=6 rows)\n",
      "Computing row of R_t\n",
      "Error influence estimations:\n"
     ]
    },
    {
     "data": {
      "text/html": [
       "<div>\n",
       "<table border=\"1\" class=\"dataframe\">\n",
       "  <thead>\n",
       "    <tr style=\"text-align: right;\">\n",
       "      <th></th>\n",
       "      <th>Error</th>\n",
       "      <th>Derivative</th>\n",
       "      <th>(E*D)^2</th>\n",
       "    </tr>\n",
       "  </thead>\n",
       "  <tbody>\n",
       "    <tr>\n",
       "      <th>R_s</th>\n",
       "      <td>0.010000</td>\n",
       "      <td>U_t/U_s</td>\n",
       "      <td>0.0001*U_t**2/U_s**2</td>\n",
       "    </tr>\n",
       "    <tr>\n",
       "      <th>U_s</th>\n",
       "      <td>None</td>\n",
       "      <td>-10.0*U_t/U_s**2</td>\n",
       "      <td>100.0*Error_U_s**2*U_t**2/U_s**4</td>\n",
       "    </tr>\n",
       "    <tr>\n",
       "      <th>U_t</th>\n",
       "      <td>None</td>\n",
       "      <td>10.0/U_s</td>\n",
       "      <td>100.0*Error_U_t**2/U_s**2</td>\n",
       "    </tr>\n",
       "  </tbody>\n",
       "</table>\n",
       "</div>"
      ],
      "text/plain": [
       "       Error        Derivative                           (E*D)^2\n",
       "R_s 0.010000           U_t/U_s              0.0001*U_t**2/U_s**2\n",
       "U_s     None  -10.0*U_t/U_s**2  100.0*Error_U_s**2*U_t**2/U_s**4\n",
       "U_t     None          10.0/U_s         100.0*Error_U_t**2/U_s**2"
      ]
     },
     "metadata": {},
     "output_type": "display_data"
    },
    {
     "name": "stdout",
     "output_type": "stream",
     "text": [
      "(Not displaying column 'R_t' of N=6 rows)\n"
     ]
    }
   ],
   "source": [
    "for e in experiments:\n",
    "    disp(\"Experiment %s\" % e)\n",
    "    \n",
    "    ll.compute(name = \"Q\",\n",
    "               expr = lambda R_s, U_s, U_t: U_s * U_t / R_s,\n",
    "               data = data[e],\n",
    "               columns = columns[e],\n",
    "               debug = True)\n",
    "    \n",
    "    ll.compute(name = \"R_t\",\n",
    "               expr = lambda R_s, U_t, U_s: R_s * U_t / U_s,\n",
    "               data = data[e],\n",
    "               columns = columns[e],\n",
    "               debug = True)"
   ]
  },
  {
   "cell_type": "code",
   "execution_count": 4,
   "metadata": {
    "collapsed": false
   },
   "outputs": [
    {
     "data": {
      "text/plain": [
       "'Experiment T=26'"
      ]
     },
     "metadata": {},
     "output_type": "display_data"
    },
    {
     "data": {
      "text/plain": [
       "'Constants:'"
      ]
     },
     "metadata": {},
     "output_type": "display_data"
    },
    {
     "data": {
      "text/html": [
       "<div>\n",
       "<table border=\"1\" class=\"dataframe\">\n",
       "  <thead>\n",
       "    <tr style=\"text-align: right;\">\n",
       "      <th></th>\n",
       "      <th>Value</th>\n",
       "      <th>Error</th>\n",
       "      <th>ErrorRel</th>\n",
       "    </tr>\n",
       "  </thead>\n",
       "  <tbody>\n",
       "    <tr>\n",
       "      <th>R_s</th>\n",
       "      <td>10.000000</td>\n",
       "      <td>0.010000</td>\n",
       "      <td>0.10%</td>\n",
       "    </tr>\n",
       "    <tr>\n",
       "      <th>L</th>\n",
       "      <td>0.365000</td>\n",
       "      <td>0.000500</td>\n",
       "      <td>0.14%</td>\n",
       "    </tr>\n",
       "    <tr>\n",
       "      <th>d_1</th>\n",
       "      <td>0.000055</td>\n",
       "      <td>0.000000</td>\n",
       "      <td>0.91%</td>\n",
       "    </tr>\n",
       "    <tr>\n",
       "      <th>d_2</th>\n",
       "      <td>0.010000</td>\n",
       "      <td>0.000500</td>\n",
       "      <td>5.00%</td>\n",
       "    </tr>\n",
       "    <tr>\n",
       "      <th>T</th>\n",
       "      <td>299.150000</td>\n",
       "      <td>0.050000</td>\n",
       "      <td>0.02%</td>\n",
       "    </tr>\n",
       "  </tbody>\n",
       "</table>\n",
       "</div>"
      ],
      "text/plain": [
       "         Value    Error  ErrorRel\n",
       "R_s  10.000000 0.010000  0.001000\n",
       "L     0.365000 0.000500  0.001370\n",
       "d_1   0.000055 0.000000  0.009091\n",
       "d_2   0.010000 0.000500  0.050000\n",
       "T   299.150000 0.050000  0.000167"
      ]
     },
     "metadata": {},
     "output_type": "display_data"
    },
    {
     "data": {
      "text/plain": [
       "'Measurements:'"
      ]
     },
     "metadata": {},
     "output_type": "display_data"
    },
    {
     "data": {
      "text/html": [
       "<div>\n",
       "<table border=\"1\" class=\"dataframe\">\n",
       "  <thead>\n",
       "    <tr style=\"text-align: right;\">\n",
       "      <th></th>\n",
       "      <th>U_s</th>\n",
       "      <th>Error_U_s</th>\n",
       "      <th>ErrorRel_U_s</th>\n",
       "      <th>U_t</th>\n",
       "      <th>Error_U_t</th>\n",
       "      <th>ErrorRel_U_t</th>\n",
       "      <th>Q</th>\n",
       "      <th>Error_Q</th>\n",
       "      <th>ErrorRel_Q</th>\n",
       "      <th>R_t</th>\n",
       "      <th>Error_R_t</th>\n",
       "      <th>ErrorRel_R_t</th>\n",
       "    </tr>\n",
       "  </thead>\n",
       "  <tbody>\n",
       "    <tr>\n",
       "      <th>0</th>\n",
       "      <td>0.200000</td>\n",
       "      <td>0.000100</td>\n",
       "      <td>0.05%</td>\n",
       "      <td>0.228200</td>\n",
       "      <td>0.000100</td>\n",
       "      <td>0.04%</td>\n",
       "      <td>0.004564</td>\n",
       "      <td>0.000005</td>\n",
       "      <td>0.12%</td>\n",
       "      <td>11.410000</td>\n",
       "      <td>0.013702</td>\n",
       "      <td>0.12%</td>\n",
       "    </tr>\n",
       "    <tr>\n",
       "      <th>1</th>\n",
       "      <td>0.500000</td>\n",
       "      <td>0.000100</td>\n",
       "      <td>0.02%</td>\n",
       "      <td>0.573200</td>\n",
       "      <td>0.000100</td>\n",
       "      <td>0.02%</td>\n",
       "      <td>0.028660</td>\n",
       "      <td>0.000030</td>\n",
       "      <td>0.10%</td>\n",
       "      <td>11.464000</td>\n",
       "      <td>0.011861</td>\n",
       "      <td>0.10%</td>\n",
       "    </tr>\n",
       "    <tr>\n",
       "      <th>2</th>\n",
       "      <td>0.750000</td>\n",
       "      <td>0.000100</td>\n",
       "      <td>0.01%</td>\n",
       "      <td>0.867000</td>\n",
       "      <td>0.000100</td>\n",
       "      <td>0.01%</td>\n",
       "      <td>0.065025</td>\n",
       "      <td>0.000066</td>\n",
       "      <td>0.10%</td>\n",
       "      <td>11.560000</td>\n",
       "      <td>0.011738</td>\n",
       "      <td>0.10%</td>\n",
       "    </tr>\n",
       "    <tr>\n",
       "      <th>3</th>\n",
       "      <td>1.000000</td>\n",
       "      <td>0.000100</td>\n",
       "      <td>0.01%</td>\n",
       "      <td>1.171500</td>\n",
       "      <td>0.000100</td>\n",
       "      <td>0.01%</td>\n",
       "      <td>0.117150</td>\n",
       "      <td>0.000118</td>\n",
       "      <td>0.10%</td>\n",
       "      <td>11.715000</td>\n",
       "      <td>0.011816</td>\n",
       "      <td>0.10%</td>\n",
       "    </tr>\n",
       "    <tr>\n",
       "      <th>4</th>\n",
       "      <td>1.249900</td>\n",
       "      <td>0.000100</td>\n",
       "      <td>0.01%</td>\n",
       "      <td>1.485100</td>\n",
       "      <td>0.000100</td>\n",
       "      <td>0.01%</td>\n",
       "      <td>0.185623</td>\n",
       "      <td>0.000187</td>\n",
       "      <td>0.10%</td>\n",
       "      <td>11.881751</td>\n",
       "      <td>0.011947</td>\n",
       "      <td>0.10%</td>\n",
       "    </tr>\n",
       "    <tr>\n",
       "      <th>5</th>\n",
       "      <td>1.501500</td>\n",
       "      <td>0.000100</td>\n",
       "      <td>0.01%</td>\n",
       "      <td>1.817500</td>\n",
       "      <td>0.000100</td>\n",
       "      <td>0.01%</td>\n",
       "      <td>0.272898</td>\n",
       "      <td>0.000274</td>\n",
       "      <td>0.10%</td>\n",
       "      <td>12.104562</td>\n",
       "      <td>0.012150</td>\n",
       "      <td>0.10%</td>\n",
       "    </tr>\n",
       "  </tbody>\n",
       "</table>\n",
       "</div>"
      ],
      "text/plain": [
       "       U_s  Error_U_s  ErrorRel_U_s      U_t  Error_U_t  ErrorRel_U_t  \\\n",
       "0 0.200000   0.000100      0.000500 0.228200   0.000100      0.000438   \n",
       "1 0.500000   0.000100      0.000200 0.573200   0.000100      0.000174   \n",
       "2 0.750000   0.000100      0.000133 0.867000   0.000100      0.000115   \n",
       "3 1.000000   0.000100      0.000100 1.171500   0.000100      0.000085   \n",
       "4 1.249900   0.000100      0.000080 1.485100   0.000100      0.000067   \n",
       "5 1.501500   0.000100      0.000067 1.817500   0.000100      0.000055   \n",
       "\n",
       "         Q  Error_Q  ErrorRel_Q       R_t  Error_R_t  ErrorRel_R_t  \n",
       "0 0.004564 0.000005    0.001201 11.410000   0.013702      0.001201  \n",
       "1 0.028660 0.000030    0.001035 11.464000   0.011861      0.001035  \n",
       "2 0.065025 0.000066    0.001015 11.560000   0.011738      0.001015  \n",
       "3 0.117150 0.000118    0.001009 11.715000   0.011816      0.001009  \n",
       "4 0.185623 0.000187    0.001005 11.881751   0.011947      0.001005  \n",
       "5 0.272898 0.000274    0.001004 12.104562   0.012150      0.001004  "
      ]
     },
     "metadata": {},
     "output_type": "display_data"
    },
    {
     "data": {
      "text/plain": [
       "'Experiment T=30'"
      ]
     },
     "metadata": {},
     "output_type": "display_data"
    },
    {
     "data": {
      "text/plain": [
       "'Constants:'"
      ]
     },
     "metadata": {},
     "output_type": "display_data"
    },
    {
     "data": {
      "text/html": [
       "<div>\n",
       "<table border=\"1\" class=\"dataframe\">\n",
       "  <thead>\n",
       "    <tr style=\"text-align: right;\">\n",
       "      <th></th>\n",
       "      <th>Value</th>\n",
       "      <th>Error</th>\n",
       "      <th>ErrorRel</th>\n",
       "    </tr>\n",
       "  </thead>\n",
       "  <tbody>\n",
       "    <tr>\n",
       "      <th>R_s</th>\n",
       "      <td>10.000000</td>\n",
       "      <td>0.010000</td>\n",
       "      <td>0.10%</td>\n",
       "    </tr>\n",
       "    <tr>\n",
       "      <th>L</th>\n",
       "      <td>0.365000</td>\n",
       "      <td>0.000500</td>\n",
       "      <td>0.14%</td>\n",
       "    </tr>\n",
       "    <tr>\n",
       "      <th>d_1</th>\n",
       "      <td>0.000055</td>\n",
       "      <td>0.000000</td>\n",
       "      <td>0.91%</td>\n",
       "    </tr>\n",
       "    <tr>\n",
       "      <th>d_2</th>\n",
       "      <td>0.010000</td>\n",
       "      <td>0.000500</td>\n",
       "      <td>5.00%</td>\n",
       "    </tr>\n",
       "    <tr>\n",
       "      <th>T</th>\n",
       "      <td>303.450000</td>\n",
       "      <td>0.050000</td>\n",
       "      <td>0.02%</td>\n",
       "    </tr>\n",
       "  </tbody>\n",
       "</table>\n",
       "</div>"
      ],
      "text/plain": [
       "         Value    Error  ErrorRel\n",
       "R_s  10.000000 0.010000  0.001000\n",
       "L     0.365000 0.000500  0.001370\n",
       "d_1   0.000055 0.000000  0.009091\n",
       "d_2   0.010000 0.000500  0.050000\n",
       "T   303.450000 0.050000  0.000165"
      ]
     },
     "metadata": {},
     "output_type": "display_data"
    },
    {
     "data": {
      "text/plain": [
       "'Measurements:'"
      ]
     },
     "metadata": {},
     "output_type": "display_data"
    },
    {
     "data": {
      "text/html": [
       "<div>\n",
       "<table border=\"1\" class=\"dataframe\">\n",
       "  <thead>\n",
       "    <tr style=\"text-align: right;\">\n",
       "      <th></th>\n",
       "      <th>U_s</th>\n",
       "      <th>Error_U_s</th>\n",
       "      <th>ErrorRel_U_s</th>\n",
       "      <th>U_t</th>\n",
       "      <th>Error_U_t</th>\n",
       "      <th>ErrorRel_U_t</th>\n",
       "      <th>Q</th>\n",
       "      <th>Error_Q</th>\n",
       "      <th>ErrorRel_Q</th>\n",
       "      <th>R_t</th>\n",
       "      <th>Error_R_t</th>\n",
       "      <th>ErrorRel_R_t</th>\n",
       "    </tr>\n",
       "  </thead>\n",
       "  <tbody>\n",
       "    <tr>\n",
       "      <th>0</th>\n",
       "      <td>0.200000</td>\n",
       "      <td>0.000100</td>\n",
       "      <td>0.05%</td>\n",
       "      <td>0.231000</td>\n",
       "      <td>0.000100</td>\n",
       "      <td>0.04%</td>\n",
       "      <td>0.004620</td>\n",
       "      <td>0.000006</td>\n",
       "      <td>0.12%</td>\n",
       "      <td>11.550000</td>\n",
       "      <td>0.013847</td>\n",
       "      <td>0.12%</td>\n",
       "    </tr>\n",
       "    <tr>\n",
       "      <th>1</th>\n",
       "      <td>0.500000</td>\n",
       "      <td>0.000100</td>\n",
       "      <td>0.02%</td>\n",
       "      <td>0.580000</td>\n",
       "      <td>0.000100</td>\n",
       "      <td>0.02%</td>\n",
       "      <td>0.029000</td>\n",
       "      <td>0.000030</td>\n",
       "      <td>0.10%</td>\n",
       "      <td>11.600000</td>\n",
       "      <td>0.011998</td>\n",
       "      <td>0.10%</td>\n",
       "    </tr>\n",
       "    <tr>\n",
       "      <th>2</th>\n",
       "      <td>0.749500</td>\n",
       "      <td>0.000100</td>\n",
       "      <td>0.01%</td>\n",
       "      <td>0.876900</td>\n",
       "      <td>0.000100</td>\n",
       "      <td>0.01%</td>\n",
       "      <td>0.065724</td>\n",
       "      <td>0.000067</td>\n",
       "      <td>0.10%</td>\n",
       "      <td>11.699800</td>\n",
       "      <td>0.011879</td>\n",
       "      <td>0.10%</td>\n",
       "    </tr>\n",
       "    <tr>\n",
       "      <th>3</th>\n",
       "      <td>1.001000</td>\n",
       "      <td>0.000100</td>\n",
       "      <td>0.01%</td>\n",
       "      <td>1.184200</td>\n",
       "      <td>0.000100</td>\n",
       "      <td>0.01%</td>\n",
       "      <td>0.118538</td>\n",
       "      <td>0.000120</td>\n",
       "      <td>0.10%</td>\n",
       "      <td>11.830170</td>\n",
       "      <td>0.011931</td>\n",
       "      <td>0.10%</td>\n",
       "    </tr>\n",
       "    <tr>\n",
       "      <th>4</th>\n",
       "      <td>1.248500</td>\n",
       "      <td>0.000100</td>\n",
       "      <td>0.01%</td>\n",
       "      <td>1.500200</td>\n",
       "      <td>0.000100</td>\n",
       "      <td>0.01%</td>\n",
       "      <td>0.187300</td>\n",
       "      <td>0.000188</td>\n",
       "      <td>0.10%</td>\n",
       "      <td>12.016019</td>\n",
       "      <td>0.012081</td>\n",
       "      <td>0.10%</td>\n",
       "    </tr>\n",
       "    <tr>\n",
       "      <th>5</th>\n",
       "      <td>1.504200</td>\n",
       "      <td>0.000100</td>\n",
       "      <td>0.01%</td>\n",
       "      <td>1.843000</td>\n",
       "      <td>0.000100</td>\n",
       "      <td>0.01%</td>\n",
       "      <td>0.277224</td>\n",
       "      <td>0.000278</td>\n",
       "      <td>0.10%</td>\n",
       "      <td>12.252360</td>\n",
       "      <td>0.012297</td>\n",
       "      <td>0.10%</td>\n",
       "    </tr>\n",
       "  </tbody>\n",
       "</table>\n",
       "</div>"
      ],
      "text/plain": [
       "       U_s  Error_U_s  ErrorRel_U_s      U_t  Error_U_t  ErrorRel_U_t  \\\n",
       "0 0.200000   0.000100      0.000500 0.231000   0.000100      0.000433   \n",
       "1 0.500000   0.000100      0.000200 0.580000   0.000100      0.000172   \n",
       "2 0.749500   0.000100      0.000133 0.876900   0.000100      0.000114   \n",
       "3 1.001000   0.000100      0.000100 1.184200   0.000100      0.000084   \n",
       "4 1.248500   0.000100      0.000080 1.500200   0.000100      0.000067   \n",
       "5 1.504200   0.000100      0.000066 1.843000   0.000100      0.000054   \n",
       "\n",
       "         Q  Error_Q  ErrorRel_Q       R_t  Error_R_t  ErrorRel_R_t  \n",
       "0 0.004620 0.000006    0.001199 11.550000   0.013847      0.001199  \n",
       "1 0.029000 0.000030    0.001034 11.600000   0.011998      0.001034  \n",
       "2 0.065724 0.000067    0.001015 11.699800   0.011879      0.001015  \n",
       "3 0.118538 0.000120    0.001009 11.830170   0.011931      0.001009  \n",
       "4 0.187300 0.000188    0.001005 12.016019   0.012081      0.001005  \n",
       "5 0.277224 0.000278    0.001004 12.252360   0.012297      0.001004  "
      ]
     },
     "metadata": {},
     "output_type": "display_data"
    },
    {
     "data": {
      "text/plain": [
       "'Experiment T=40'"
      ]
     },
     "metadata": {},
     "output_type": "display_data"
    },
    {
     "data": {
      "text/plain": [
       "'Constants:'"
      ]
     },
     "metadata": {},
     "output_type": "display_data"
    },
    {
     "data": {
      "text/html": [
       "<div>\n",
       "<table border=\"1\" class=\"dataframe\">\n",
       "  <thead>\n",
       "    <tr style=\"text-align: right;\">\n",
       "      <th></th>\n",
       "      <th>Value</th>\n",
       "      <th>Error</th>\n",
       "      <th>ErrorRel</th>\n",
       "    </tr>\n",
       "  </thead>\n",
       "  <tbody>\n",
       "    <tr>\n",
       "      <th>R_s</th>\n",
       "      <td>10.000000</td>\n",
       "      <td>0.010000</td>\n",
       "      <td>0.10%</td>\n",
       "    </tr>\n",
       "    <tr>\n",
       "      <th>L</th>\n",
       "      <td>0.365000</td>\n",
       "      <td>0.000500</td>\n",
       "      <td>0.14%</td>\n",
       "    </tr>\n",
       "    <tr>\n",
       "      <th>d_1</th>\n",
       "      <td>0.000055</td>\n",
       "      <td>0.000000</td>\n",
       "      <td>0.91%</td>\n",
       "    </tr>\n",
       "    <tr>\n",
       "      <th>d_2</th>\n",
       "      <td>0.010000</td>\n",
       "      <td>0.000500</td>\n",
       "      <td>5.00%</td>\n",
       "    </tr>\n",
       "    <tr>\n",
       "      <th>T</th>\n",
       "      <td>314.050000</td>\n",
       "      <td>0.050000</td>\n",
       "      <td>0.02%</td>\n",
       "    </tr>\n",
       "  </tbody>\n",
       "</table>\n",
       "</div>"
      ],
      "text/plain": [
       "         Value    Error  ErrorRel\n",
       "R_s  10.000000 0.010000  0.001000\n",
       "L     0.365000 0.000500  0.001370\n",
       "d_1   0.000055 0.000000  0.009091\n",
       "d_2   0.010000 0.000500  0.050000\n",
       "T   314.050000 0.050000  0.000159"
      ]
     },
     "metadata": {},
     "output_type": "display_data"
    },
    {
     "data": {
      "text/plain": [
       "'Measurements:'"
      ]
     },
     "metadata": {},
     "output_type": "display_data"
    },
    {
     "data": {
      "text/html": [
       "<div>\n",
       "<table border=\"1\" class=\"dataframe\">\n",
       "  <thead>\n",
       "    <tr style=\"text-align: right;\">\n",
       "      <th></th>\n",
       "      <th>U_s</th>\n",
       "      <th>Error_U_s</th>\n",
       "      <th>ErrorRel_U_s</th>\n",
       "      <th>U_t</th>\n",
       "      <th>Error_U_t</th>\n",
       "      <th>ErrorRel_U_t</th>\n",
       "      <th>Q</th>\n",
       "      <th>Error_Q</th>\n",
       "      <th>ErrorRel_Q</th>\n",
       "      <th>R_t</th>\n",
       "      <th>Error_R_t</th>\n",
       "      <th>ErrorRel_R_t</th>\n",
       "    </tr>\n",
       "  </thead>\n",
       "  <tbody>\n",
       "    <tr>\n",
       "      <th>0</th>\n",
       "      <td>0.200000</td>\n",
       "      <td>0.000100</td>\n",
       "      <td>0.05%</td>\n",
       "      <td>0.238200</td>\n",
       "      <td>0.000100</td>\n",
       "      <td>0.04%</td>\n",
       "      <td>0.004764</td>\n",
       "      <td>0.000006</td>\n",
       "      <td>0.12%</td>\n",
       "      <td>11.910000</td>\n",
       "      <td>0.014224</td>\n",
       "      <td>0.12%</td>\n",
       "    </tr>\n",
       "    <tr>\n",
       "      <th>1</th>\n",
       "      <td>0.500000</td>\n",
       "      <td>0.000100</td>\n",
       "      <td>0.02%</td>\n",
       "      <td>0.598500</td>\n",
       "      <td>0.000100</td>\n",
       "      <td>0.02%</td>\n",
       "      <td>0.029925</td>\n",
       "      <td>0.000031</td>\n",
       "      <td>0.10%</td>\n",
       "      <td>11.970000</td>\n",
       "      <td>0.012370</td>\n",
       "      <td>0.10%</td>\n",
       "    </tr>\n",
       "    <tr>\n",
       "      <th>2</th>\n",
       "      <td>0.750000</td>\n",
       "      <td>0.000100</td>\n",
       "      <td>0.01%</td>\n",
       "      <td>0.904700</td>\n",
       "      <td>0.000100</td>\n",
       "      <td>0.01%</td>\n",
       "      <td>0.067853</td>\n",
       "      <td>0.000069</td>\n",
       "      <td>0.10%</td>\n",
       "      <td>12.062667</td>\n",
       "      <td>0.012242</td>\n",
       "      <td>0.10%</td>\n",
       "    </tr>\n",
       "    <tr>\n",
       "      <th>3</th>\n",
       "      <td>1.000900</td>\n",
       "      <td>0.000100</td>\n",
       "      <td>0.01%</td>\n",
       "      <td>1.221500</td>\n",
       "      <td>0.000100</td>\n",
       "      <td>0.01%</td>\n",
       "      <td>0.122260</td>\n",
       "      <td>0.000123</td>\n",
       "      <td>0.10%</td>\n",
       "      <td>12.204016</td>\n",
       "      <td>0.012305</td>\n",
       "      <td>0.10%</td>\n",
       "    </tr>\n",
       "    <tr>\n",
       "      <th>4</th>\n",
       "      <td>1.249500</td>\n",
       "      <td>0.000100</td>\n",
       "      <td>0.01%</td>\n",
       "      <td>1.547700</td>\n",
       "      <td>0.000100</td>\n",
       "      <td>0.01%</td>\n",
       "      <td>0.193385</td>\n",
       "      <td>0.000194</td>\n",
       "      <td>0.10%</td>\n",
       "      <td>12.386555</td>\n",
       "      <td>0.012452</td>\n",
       "      <td>0.10%</td>\n",
       "    </tr>\n",
       "    <tr>\n",
       "      <th>5</th>\n",
       "      <td>1.500700</td>\n",
       "      <td>0.000100</td>\n",
       "      <td>0.01%</td>\n",
       "      <td>1.893400</td>\n",
       "      <td>0.000100</td>\n",
       "      <td>0.01%</td>\n",
       "      <td>0.284143</td>\n",
       "      <td>0.000285</td>\n",
       "      <td>0.10%</td>\n",
       "      <td>12.616779</td>\n",
       "      <td>0.012662</td>\n",
       "      <td>0.10%</td>\n",
       "    </tr>\n",
       "  </tbody>\n",
       "</table>\n",
       "</div>"
      ],
      "text/plain": [
       "       U_s  Error_U_s  ErrorRel_U_s      U_t  Error_U_t  ErrorRel_U_t  \\\n",
       "0 0.200000   0.000100      0.000500 0.238200   0.000100      0.000420   \n",
       "1 0.500000   0.000100      0.000200 0.598500   0.000100      0.000167   \n",
       "2 0.750000   0.000100      0.000133 0.904700   0.000100      0.000111   \n",
       "3 1.000900   0.000100      0.000100 1.221500   0.000100      0.000082   \n",
       "4 1.249500   0.000100      0.000080 1.547700   0.000100      0.000065   \n",
       "5 1.500700   0.000100      0.000067 1.893400   0.000100      0.000053   \n",
       "\n",
       "         Q  Error_Q  ErrorRel_Q       R_t  Error_R_t  ErrorRel_R_t  \n",
       "0 0.004764 0.000006    0.001194 11.910000   0.014224      0.001194  \n",
       "1 0.029925 0.000031    0.001033 11.970000   0.012370      0.001033  \n",
       "2 0.067853 0.000069    0.001015 12.062667   0.012242      0.001015  \n",
       "3 0.122260 0.000123    0.001008 12.204016   0.012305      0.001008  \n",
       "4 0.193385 0.000194    0.001005 12.386555   0.012452      0.001005  \n",
       "5 0.284143 0.000285    0.001004 12.616779   0.012662      0.001004  "
      ]
     },
     "metadata": {},
     "output_type": "display_data"
    },
    {
     "data": {
      "text/plain": [
       "'Experiment T=50'"
      ]
     },
     "metadata": {},
     "output_type": "display_data"
    },
    {
     "data": {
      "text/plain": [
       "'Constants:'"
      ]
     },
     "metadata": {},
     "output_type": "display_data"
    },
    {
     "data": {
      "text/html": [
       "<div>\n",
       "<table border=\"1\" class=\"dataframe\">\n",
       "  <thead>\n",
       "    <tr style=\"text-align: right;\">\n",
       "      <th></th>\n",
       "      <th>Value</th>\n",
       "      <th>Error</th>\n",
       "      <th>ErrorRel</th>\n",
       "    </tr>\n",
       "  </thead>\n",
       "  <tbody>\n",
       "    <tr>\n",
       "      <th>R_s</th>\n",
       "      <td>10.000000</td>\n",
       "      <td>0.010000</td>\n",
       "      <td>0.10%</td>\n",
       "    </tr>\n",
       "    <tr>\n",
       "      <th>L</th>\n",
       "      <td>0.365000</td>\n",
       "      <td>0.000500</td>\n",
       "      <td>0.14%</td>\n",
       "    </tr>\n",
       "    <tr>\n",
       "      <th>d_1</th>\n",
       "      <td>0.000055</td>\n",
       "      <td>0.000000</td>\n",
       "      <td>0.91%</td>\n",
       "    </tr>\n",
       "    <tr>\n",
       "      <th>d_2</th>\n",
       "      <td>0.010000</td>\n",
       "      <td>0.000500</td>\n",
       "      <td>5.00%</td>\n",
       "    </tr>\n",
       "    <tr>\n",
       "      <th>T</th>\n",
       "      <td>323.150000</td>\n",
       "      <td>0.050000</td>\n",
       "      <td>0.02%</td>\n",
       "    </tr>\n",
       "  </tbody>\n",
       "</table>\n",
       "</div>"
      ],
      "text/plain": [
       "         Value    Error  ErrorRel\n",
       "R_s  10.000000 0.010000  0.001000\n",
       "L     0.365000 0.000500  0.001370\n",
       "d_1   0.000055 0.000000  0.009091\n",
       "d_2   0.010000 0.000500  0.050000\n",
       "T   323.150000 0.050000  0.000155"
      ]
     },
     "metadata": {},
     "output_type": "display_data"
    },
    {
     "data": {
      "text/plain": [
       "'Measurements:'"
      ]
     },
     "metadata": {},
     "output_type": "display_data"
    },
    {
     "data": {
      "text/html": [
       "<div>\n",
       "<table border=\"1\" class=\"dataframe\">\n",
       "  <thead>\n",
       "    <tr style=\"text-align: right;\">\n",
       "      <th></th>\n",
       "      <th>U_s</th>\n",
       "      <th>Error_U_s</th>\n",
       "      <th>ErrorRel_U_s</th>\n",
       "      <th>U_t</th>\n",
       "      <th>Error_U_t</th>\n",
       "      <th>ErrorRel_U_t</th>\n",
       "      <th>Q</th>\n",
       "      <th>Error_Q</th>\n",
       "      <th>ErrorRel_Q</th>\n",
       "      <th>R_t</th>\n",
       "      <th>Error_R_t</th>\n",
       "      <th>ErrorRel_R_t</th>\n",
       "    </tr>\n",
       "  </thead>\n",
       "  <tbody>\n",
       "    <tr>\n",
       "      <th>0</th>\n",
       "      <td>0.200000</td>\n",
       "      <td>0.000100</td>\n",
       "      <td>0.05%</td>\n",
       "      <td>0.244400</td>\n",
       "      <td>0.000100</td>\n",
       "      <td>0.04%</td>\n",
       "      <td>0.004888</td>\n",
       "      <td>0.000006</td>\n",
       "      <td>0.12%</td>\n",
       "      <td>12.220000</td>\n",
       "      <td>0.014549</td>\n",
       "      <td>0.12%</td>\n",
       "    </tr>\n",
       "    <tr>\n",
       "      <th>1</th>\n",
       "      <td>0.500000</td>\n",
       "      <td>0.000100</td>\n",
       "      <td>0.02%</td>\n",
       "      <td>0.614000</td>\n",
       "      <td>0.000100</td>\n",
       "      <td>0.02%</td>\n",
       "      <td>0.030700</td>\n",
       "      <td>0.000032</td>\n",
       "      <td>0.10%</td>\n",
       "      <td>12.280000</td>\n",
       "      <td>0.012682</td>\n",
       "      <td>0.10%</td>\n",
       "    </tr>\n",
       "    <tr>\n",
       "      <th>2</th>\n",
       "      <td>0.749900</td>\n",
       "      <td>0.000100</td>\n",
       "      <td>0.01%</td>\n",
       "      <td>0.928000</td>\n",
       "      <td>0.000100</td>\n",
       "      <td>0.01%</td>\n",
       "      <td>0.069591</td>\n",
       "      <td>0.000071</td>\n",
       "      <td>0.10%</td>\n",
       "      <td>12.374983</td>\n",
       "      <td>0.012556</td>\n",
       "      <td>0.10%</td>\n",
       "    </tr>\n",
       "    <tr>\n",
       "      <th>3</th>\n",
       "      <td>1.000800</td>\n",
       "      <td>0.000100</td>\n",
       "      <td>0.01%</td>\n",
       "      <td>1.252800</td>\n",
       "      <td>0.000100</td>\n",
       "      <td>0.01%</td>\n",
       "      <td>0.125380</td>\n",
       "      <td>0.000126</td>\n",
       "      <td>0.10%</td>\n",
       "      <td>12.517986</td>\n",
       "      <td>0.012620</td>\n",
       "      <td>0.10%</td>\n",
       "    </tr>\n",
       "    <tr>\n",
       "      <th>4</th>\n",
       "      <td>1.248900</td>\n",
       "      <td>0.000100</td>\n",
       "      <td>0.01%</td>\n",
       "      <td>1.586500</td>\n",
       "      <td>0.000100</td>\n",
       "      <td>0.01%</td>\n",
       "      <td>0.198138</td>\n",
       "      <td>0.000199</td>\n",
       "      <td>0.10%</td>\n",
       "      <td>12.703179</td>\n",
       "      <td>0.012769</td>\n",
       "      <td>0.10%</td>\n",
       "    </tr>\n",
       "    <tr>\n",
       "      <th>5</th>\n",
       "      <td>1.499700</td>\n",
       "      <td>0.000100</td>\n",
       "      <td>0.01%</td>\n",
       "      <td>1.939500</td>\n",
       "      <td>0.000100</td>\n",
       "      <td>0.01%</td>\n",
       "      <td>0.290867</td>\n",
       "      <td>0.000292</td>\n",
       "      <td>0.10%</td>\n",
       "      <td>12.932587</td>\n",
       "      <td>0.012978</td>\n",
       "      <td>0.10%</td>\n",
       "    </tr>\n",
       "  </tbody>\n",
       "</table>\n",
       "</div>"
      ],
      "text/plain": [
       "       U_s  Error_U_s  ErrorRel_U_s      U_t  Error_U_t  ErrorRel_U_t  \\\n",
       "0 0.200000   0.000100      0.000500 0.244400   0.000100      0.000409   \n",
       "1 0.500000   0.000100      0.000200 0.614000   0.000100      0.000163   \n",
       "2 0.749900   0.000100      0.000133 0.928000   0.000100      0.000108   \n",
       "3 1.000800   0.000100      0.000100 1.252800   0.000100      0.000080   \n",
       "4 1.248900   0.000100      0.000080 1.586500   0.000100      0.000063   \n",
       "5 1.499700   0.000100      0.000067 1.939500   0.000100      0.000052   \n",
       "\n",
       "         Q  Error_Q  ErrorRel_Q       R_t  Error_R_t  ErrorRel_R_t  \n",
       "0 0.004888 0.000006    0.001191 12.220000   0.014549      0.001191  \n",
       "1 0.030700 0.000032    0.001033 12.280000   0.012682      0.001033  \n",
       "2 0.069591 0.000071    0.001015 12.374983   0.012556      0.001015  \n",
       "3 0.125380 0.000126    0.001008 12.517986   0.012620      0.001008  \n",
       "4 0.198138 0.000199    0.001005 12.703179   0.012769      0.001005  \n",
       "5 0.290867 0.000292    0.001004 12.932587   0.012978      0.001004  "
      ]
     },
     "metadata": {},
     "output_type": "display_data"
    },
    {
     "data": {
      "text/plain": [
       "'Experiment T=60'"
      ]
     },
     "metadata": {},
     "output_type": "display_data"
    },
    {
     "data": {
      "text/plain": [
       "'Constants:'"
      ]
     },
     "metadata": {},
     "output_type": "display_data"
    },
    {
     "data": {
      "text/html": [
       "<div>\n",
       "<table border=\"1\" class=\"dataframe\">\n",
       "  <thead>\n",
       "    <tr style=\"text-align: right;\">\n",
       "      <th></th>\n",
       "      <th>Value</th>\n",
       "      <th>Error</th>\n",
       "      <th>ErrorRel</th>\n",
       "    </tr>\n",
       "  </thead>\n",
       "  <tbody>\n",
       "    <tr>\n",
       "      <th>R_s</th>\n",
       "      <td>10.000000</td>\n",
       "      <td>0.010000</td>\n",
       "      <td>0.10%</td>\n",
       "    </tr>\n",
       "    <tr>\n",
       "      <th>L</th>\n",
       "      <td>0.365000</td>\n",
       "      <td>0.000500</td>\n",
       "      <td>0.14%</td>\n",
       "    </tr>\n",
       "    <tr>\n",
       "      <th>d_1</th>\n",
       "      <td>0.000055</td>\n",
       "      <td>0.000000</td>\n",
       "      <td>0.91%</td>\n",
       "    </tr>\n",
       "    <tr>\n",
       "      <th>d_2</th>\n",
       "      <td>0.010000</td>\n",
       "      <td>0.000500</td>\n",
       "      <td>5.00%</td>\n",
       "    </tr>\n",
       "    <tr>\n",
       "      <th>T</th>\n",
       "      <td>333.150000</td>\n",
       "      <td>0.050000</td>\n",
       "      <td>0.02%</td>\n",
       "    </tr>\n",
       "  </tbody>\n",
       "</table>\n",
       "</div>"
      ],
      "text/plain": [
       "         Value    Error  ErrorRel\n",
       "R_s  10.000000 0.010000  0.001000\n",
       "L     0.365000 0.000500  0.001370\n",
       "d_1   0.000055 0.000000  0.009091\n",
       "d_2   0.010000 0.000500  0.050000\n",
       "T   333.150000 0.050000  0.000150"
      ]
     },
     "metadata": {},
     "output_type": "display_data"
    },
    {
     "data": {
      "text/plain": [
       "'Measurements:'"
      ]
     },
     "metadata": {},
     "output_type": "display_data"
    },
    {
     "data": {
      "text/html": [
       "<div>\n",
       "<table border=\"1\" class=\"dataframe\">\n",
       "  <thead>\n",
       "    <tr style=\"text-align: right;\">\n",
       "      <th></th>\n",
       "      <th>U_s</th>\n",
       "      <th>Error_U_s</th>\n",
       "      <th>ErrorRel_U_s</th>\n",
       "      <th>U_t</th>\n",
       "      <th>Error_U_t</th>\n",
       "      <th>ErrorRel_U_t</th>\n",
       "      <th>Q</th>\n",
       "      <th>Error_Q</th>\n",
       "      <th>ErrorRel_Q</th>\n",
       "      <th>R_t</th>\n",
       "      <th>Error_R_t</th>\n",
       "      <th>ErrorRel_R_t</th>\n",
       "    </tr>\n",
       "  </thead>\n",
       "  <tbody>\n",
       "    <tr>\n",
       "      <th>0</th>\n",
       "      <td>0.200000</td>\n",
       "      <td>0.000100</td>\n",
       "      <td>0.05%</td>\n",
       "      <td>0.251700</td>\n",
       "      <td>0.000100</td>\n",
       "      <td>0.04%</td>\n",
       "      <td>0.005034</td>\n",
       "      <td>0.000006</td>\n",
       "      <td>0.12%</td>\n",
       "      <td>12.585000</td>\n",
       "      <td>0.014932</td>\n",
       "      <td>0.12%</td>\n",
       "    </tr>\n",
       "    <tr>\n",
       "      <th>1</th>\n",
       "      <td>0.500300</td>\n",
       "      <td>0.000100</td>\n",
       "      <td>0.02%</td>\n",
       "      <td>0.632300</td>\n",
       "      <td>0.000100</td>\n",
       "      <td>0.02%</td>\n",
       "      <td>0.031634</td>\n",
       "      <td>0.000033</td>\n",
       "      <td>0.10%</td>\n",
       "      <td>12.638417</td>\n",
       "      <td>0.013042</td>\n",
       "      <td>0.10%</td>\n",
       "    </tr>\n",
       "    <tr>\n",
       "      <th>2</th>\n",
       "      <td>0.750200</td>\n",
       "      <td>0.000100</td>\n",
       "      <td>0.01%</td>\n",
       "      <td>0.955800</td>\n",
       "      <td>0.000100</td>\n",
       "      <td>0.01%</td>\n",
       "      <td>0.071704</td>\n",
       "      <td>0.000073</td>\n",
       "      <td>0.10%</td>\n",
       "      <td>12.740603</td>\n",
       "      <td>0.012922</td>\n",
       "      <td>0.10%</td>\n",
       "    </tr>\n",
       "    <tr>\n",
       "      <th>3</th>\n",
       "      <td>0.999000</td>\n",
       "      <td>0.000100</td>\n",
       "      <td>0.01%</td>\n",
       "      <td>1.287000</td>\n",
       "      <td>0.000100</td>\n",
       "      <td>0.01%</td>\n",
       "      <td>0.128571</td>\n",
       "      <td>0.000130</td>\n",
       "      <td>0.10%</td>\n",
       "      <td>12.882883</td>\n",
       "      <td>0.012986</td>\n",
       "      <td>0.10%</td>\n",
       "    </tr>\n",
       "    <tr>\n",
       "      <th>4</th>\n",
       "      <td>1.250000</td>\n",
       "      <td>0.000100</td>\n",
       "      <td>0.01%</td>\n",
       "      <td>1.633900</td>\n",
       "      <td>0.000100</td>\n",
       "      <td>0.01%</td>\n",
       "      <td>0.204237</td>\n",
       "      <td>0.000205</td>\n",
       "      <td>0.10%</td>\n",
       "      <td>13.071200</td>\n",
       "      <td>0.013137</td>\n",
       "      <td>0.10%</td>\n",
       "    </tr>\n",
       "    <tr>\n",
       "      <th>5</th>\n",
       "      <td>1.500900</td>\n",
       "      <td>0.000100</td>\n",
       "      <td>0.01%</td>\n",
       "      <td>1.997200</td>\n",
       "      <td>0.000100</td>\n",
       "      <td>0.01%</td>\n",
       "      <td>0.299760</td>\n",
       "      <td>0.000301</td>\n",
       "      <td>0.10%</td>\n",
       "      <td>13.306683</td>\n",
       "      <td>0.013353</td>\n",
       "      <td>0.10%</td>\n",
       "    </tr>\n",
       "  </tbody>\n",
       "</table>\n",
       "</div>"
      ],
      "text/plain": [
       "       U_s  Error_U_s  ErrorRel_U_s      U_t  Error_U_t  ErrorRel_U_t  \\\n",
       "0 0.200000   0.000100      0.000500 0.251700   0.000100      0.000397   \n",
       "1 0.500300   0.000100      0.000200 0.632300   0.000100      0.000158   \n",
       "2 0.750200   0.000100      0.000133 0.955800   0.000100      0.000105   \n",
       "3 0.999000   0.000100      0.000100 1.287000   0.000100      0.000078   \n",
       "4 1.250000   0.000100      0.000080 1.633900   0.000100      0.000061   \n",
       "5 1.500900   0.000100      0.000067 1.997200   0.000100      0.000050   \n",
       "\n",
       "         Q  Error_Q  ErrorRel_Q       R_t  Error_R_t  ErrorRel_R_t  \n",
       "0 0.005034 0.000006    0.001187 12.585000   0.014932      0.001187  \n",
       "1 0.031634 0.000033    0.001032 12.638417   0.013042      0.001032  \n",
       "2 0.071704 0.000073    0.001014 12.740603   0.012922      0.001014  \n",
       "3 0.128571 0.000130    0.001008 12.882883   0.012986      0.001008  \n",
       "4 0.204237 0.000205    0.001005 13.071200   0.013137      0.001005  \n",
       "5 0.299760 0.000301    0.001003 13.306683   0.013353      0.001003  "
      ]
     },
     "metadata": {},
     "output_type": "display_data"
    }
   ],
   "source": [
    "for e in experiments:\n",
    "    disp(\"Experiment %s\" % e)\n",
    "    disp(\"Constants:\", data[e])\n",
    "    disp(\"Measurements:\", columns[e])"
   ]
  },
  {
   "cell_type": "code",
   "execution_count": 5,
   "metadata": {
    "collapsed": false
   },
   "outputs": [
    {
     "name": "stdout",
     "output_type": "stream",
     "text": [
      "Initial guesses for R_t:\n",
      "            Value    Error  ErrorRel\n",
      "dRt_dQ  2.615578 0.054236  0.020736\n",
      "R_0    11.395356 0.007985  0.000701\n"
     ]
    },
    {
     "data": {
      "text/plain": [
       "'Final guesses for R_t:'"
      ]
     },
     "metadata": {},
     "output_type": "display_data"
    },
    {
     "data": {
      "text/html": [
       "<div>\n",
       "<table border=\"1\" class=\"dataframe\">\n",
       "  <thead>\n",
       "    <tr style=\"text-align: right;\">\n",
       "      <th></th>\n",
       "      <th>Value</th>\n",
       "      <th>Error</th>\n",
       "      <th>ErrorRel</th>\n",
       "    </tr>\n",
       "  </thead>\n",
       "  <tbody>\n",
       "    <tr>\n",
       "      <th>dRt_dQ</th>\n",
       "      <td>2.615625</td>\n",
       "      <td>0.037776</td>\n",
       "      <td>1.44%</td>\n",
       "    </tr>\n",
       "    <tr>\n",
       "      <th>R_0</th>\n",
       "      <td>11.395352</td>\n",
       "      <td>0.005558</td>\n",
       "      <td>0.05%</td>\n",
       "    </tr>\n",
       "  </tbody>\n",
       "</table>\n",
       "</div>"
      ],
      "text/plain": [
       "           Value    Error  ErrorRel\n",
       "dRt_dQ  2.615625 0.037776  0.014442\n",
       "R_0    11.395352 0.005558  0.000488"
      ]
     },
     "metadata": {},
     "output_type": "display_data"
    },
    {
     "name": "stdout",
     "output_type": "stream",
     "text": [
      "Initial guesses for R_t:\n",
      "            Value    Error  ErrorRel\n",
      "dRt_dQ  2.600358 0.054079  0.020797\n",
      "R_0    11.528547 0.008065  0.000700\n"
     ]
    },
    {
     "data": {
      "text/plain": [
       "'Final guesses for R_t:'"
      ]
     },
     "metadata": {},
     "output_type": "display_data"
    },
    {
     "data": {
      "text/html": [
       "<div>\n",
       "<table border=\"1\" class=\"dataframe\">\n",
       "  <thead>\n",
       "    <tr style=\"text-align: right;\">\n",
       "      <th></th>\n",
       "      <th>Value</th>\n",
       "      <th>Error</th>\n",
       "      <th>ErrorRel</th>\n",
       "    </tr>\n",
       "  </thead>\n",
       "  <tbody>\n",
       "    <tr>\n",
       "      <th>dRt_dQ</th>\n",
       "      <td>2.600326</td>\n",
       "      <td>0.026238</td>\n",
       "      <td>1.01%</td>\n",
       "    </tr>\n",
       "    <tr>\n",
       "      <th>R_0</th>\n",
       "      <td>11.528550</td>\n",
       "      <td>0.003910</td>\n",
       "      <td>0.03%</td>\n",
       "    </tr>\n",
       "  </tbody>\n",
       "</table>\n",
       "</div>"
      ],
      "text/plain": [
       "           Value    Error  ErrorRel\n",
       "dRt_dQ  2.600326 0.026238  0.010090\n",
       "R_0    11.528550 0.003910  0.000339"
      ]
     },
     "metadata": {},
     "output_type": "display_data"
    },
    {
     "name": "stdout",
     "output_type": "stream",
     "text": [
      "Initial guesses for R_t:\n",
      "            Value    Error  ErrorRel\n",
      "dRt_dQ  2.542295 0.054263  0.021344\n",
      "R_0    11.893899 0.008320  0.000699\n"
     ]
    },
    {
     "data": {
      "text/plain": [
       "'Final guesses for R_t:'"
      ]
     },
     "metadata": {},
     "output_type": "display_data"
    },
    {
     "data": {
      "text/html": [
       "<div>\n",
       "<table border=\"1\" class=\"dataframe\">\n",
       "  <thead>\n",
       "    <tr style=\"text-align: right;\">\n",
       "      <th></th>\n",
       "      <th>Value</th>\n",
       "      <th>Error</th>\n",
       "      <th>ErrorRel</th>\n",
       "    </tr>\n",
       "  </thead>\n",
       "  <tbody>\n",
       "    <tr>\n",
       "      <th>dRt_dQ</th>\n",
       "      <td>2.542287</td>\n",
       "      <td>0.011621</td>\n",
       "      <td>0.46%</td>\n",
       "    </tr>\n",
       "    <tr>\n",
       "      <th>R_0</th>\n",
       "      <td>11.893900</td>\n",
       "      <td>0.001780</td>\n",
       "      <td>0.01%</td>\n",
       "    </tr>\n",
       "  </tbody>\n",
       "</table>\n",
       "</div>"
      ],
      "text/plain": [
       "           Value    Error  ErrorRel\n",
       "dRt_dQ  2.542287 0.011621  0.004571\n",
       "R_0    11.893900 0.001780  0.000150"
      ]
     },
     "metadata": {},
     "output_type": "display_data"
    },
    {
     "name": "stdout",
     "output_type": "stream",
     "text": [
      "Initial guesses for R_t:\n",
      "            Value    Error  ErrorRel\n",
      "dRt_dQ  2.507445 0.054318  0.021663\n",
      "R_0    12.203912 0.008528  0.000699\n"
     ]
    },
    {
     "data": {
      "text/plain": [
       "'Final guesses for R_t:'"
      ]
     },
     "metadata": {},
     "output_type": "display_data"
    },
    {
     "data": {
      "text/html": [
       "<div>\n",
       "<table border=\"1\" class=\"dataframe\">\n",
       "  <thead>\n",
       "    <tr style=\"text-align: right;\">\n",
       "      <th></th>\n",
       "      <th>Value</th>\n",
       "      <th>Error</th>\n",
       "      <th>ErrorRel</th>\n",
       "    </tr>\n",
       "  </thead>\n",
       "  <tbody>\n",
       "    <tr>\n",
       "      <th>dRt_dQ</th>\n",
       "      <td>2.507445</td>\n",
       "      <td>0.011800</td>\n",
       "      <td>0.47%</td>\n",
       "    </tr>\n",
       "    <tr>\n",
       "      <th>R_0</th>\n",
       "      <td>12.203912</td>\n",
       "      <td>0.001851</td>\n",
       "      <td>0.02%</td>\n",
       "    </tr>\n",
       "  </tbody>\n",
       "</table>\n",
       "</div>"
      ],
      "text/plain": [
       "           Value    Error  ErrorRel\n",
       "dRt_dQ  2.507445 0.011800  0.004706\n",
       "R_0    12.203912 0.001851  0.000152"
      ]
     },
     "metadata": {},
     "output_type": "display_data"
    },
    {
     "name": "stdout",
     "output_type": "stream",
     "text": [
      "Initial guesses for R_t:\n",
      "            Value    Error  ErrorRel\n",
      "dRt_dQ  2.473017 0.054196  0.021915\n",
      "R_0    12.565099 0.008762  0.000697\n"
     ]
    },
    {
     "data": {
      "text/plain": [
       "'Final guesses for R_t:'"
      ]
     },
     "metadata": {},
     "output_type": "display_data"
    },
    {
     "data": {
      "text/html": [
       "<div>\n",
       "<table border=\"1\" class=\"dataframe\">\n",
       "  <thead>\n",
       "    <tr style=\"text-align: right;\">\n",
       "      <th></th>\n",
       "      <th>Value</th>\n",
       "      <th>Error</th>\n",
       "      <th>ErrorRel</th>\n",
       "    </tr>\n",
       "  </thead>\n",
       "  <tbody>\n",
       "    <tr>\n",
       "      <th>dRt_dQ</th>\n",
       "      <td>2.473012</td>\n",
       "      <td>0.017522</td>\n",
       "      <td>0.71%</td>\n",
       "    </tr>\n",
       "    <tr>\n",
       "      <th>R_0</th>\n",
       "      <td>12.565100</td>\n",
       "      <td>0.002831</td>\n",
       "      <td>0.02%</td>\n",
       "    </tr>\n",
       "  </tbody>\n",
       "</table>\n",
       "</div>"
      ],
      "text/plain": [
       "           Value    Error  ErrorRel\n",
       "dRt_dQ  2.473012 0.017522  0.007085\n",
       "R_0    12.565100 0.002831  0.000225"
      ]
     },
     "metadata": {},
     "output_type": "display_data"
    },
    {
     "data": {
      "text/plain": [
       "<matplotlib.legend.Legend at 0x7fcb5aa2dac8>"
      ]
     },
     "execution_count": 5,
     "metadata": {},
     "output_type": "execute_result"
    },
    {
     "data": {
      "image/png": "[encoded data removed]",
      "text/plain": [
       "<matplotlib.figure.Figure at 0x7fcb5ab16860>"
      ]
     },
     "metadata": {},
     "output_type": "display_data"
    }
   ],
   "source": [
    "plt.title(\"Heating power + fit\")\n",
    "plt.ylabel(\"$R_t$, $\\Omega$\")\n",
    "plt.xlabel(\"$Q$, J\")\n",
    "\n",
    "for e in experiments:\n",
    "    plt.errorbar(y = columns[e].R_t,\n",
    "                 x = columns[e].Q,\n",
    "                 yerr = columns[e].Error_R_t,\n",
    "                 xerr = columns[e].Error_Q,\n",
    "                 label = \"%s\" % (e),\n",
    "                 linestyle = \"none\")\n",
    "\n",
    "plt.gca().set_prop_cycle(None)\n",
    "Q_linspace = ll.linspace([Q for Q in columns[e].Q for e in experiments])\n",
    "\n",
    "for e in experiments:\n",
    "    model = ll.fit2(name = \"R_t\",\n",
    "                    model = lambda Q, dRt_dQ, R_0: Q * dRt_dQ + R_0,\n",
    "                    x = columns[e].Q,\n",
    "                    y = columns[e].R_t,\n",
    "                    xerr = columns[e].Error_Q,\n",
    "                    yerr = columns[e].Error_R_t,\n",
    "                    data = data[e])\n",
    "    \n",
    "    plt.errorbar(y = model(Q_linspace),\n",
    "                 x = Q_linspace)\n",
    "    \n",
    "plt.legend(loc = \"best\")"
   ]
  },
  {
   "cell_type": "code",
   "execution_count": 6,
   "metadata": {
    "collapsed": false
   },
   "outputs": [
    {
     "name": "stdout",
     "output_type": "stream",
     "text": [
      "Initial guesses for R_0:\n",
      "           Value    Error  ErrorRel\n",
      "dR0_dT 0.034603 0.000123  0.003551\n",
      "R_0_0  1.027503 0.039175  0.038127\n"
     ]
    },
    {
     "data": {
      "text/plain": [
       "'Final guesses for R_0:'"
      ]
     },
     "metadata": {},
     "output_type": "display_data"
    },
    {
     "data": {
      "text/html": [
       "<div>\n",
       "<table border=\"1\" class=\"dataframe\">\n",
       "  <thead>\n",
       "    <tr style=\"text-align: right;\">\n",
       "      <th></th>\n",
       "      <th>Value</th>\n",
       "      <th>Error</th>\n",
       "      <th>ErrorRel</th>\n",
       "    </tr>\n",
       "  </thead>\n",
       "  <tbody>\n",
       "    <tr>\n",
       "      <th>dR0_dT</th>\n",
       "      <td>0.034593</td>\n",
       "      <td>0.000374</td>\n",
       "      <td>1.08%</td>\n",
       "    </tr>\n",
       "    <tr>\n",
       "      <th>R_0_0</th>\n",
       "      <td>1.031598</td>\n",
       "      <td>0.119186</td>\n",
       "      <td>11.55%</td>\n",
       "    </tr>\n",
       "  </tbody>\n",
       "</table>\n",
       "</div>"
      ],
      "text/plain": [
       "          Value    Error  ErrorRel\n",
       "dR0_dT 0.034593 0.000374  0.010817\n",
       "R_0_0  1.031598 0.119186  0.115535"
      ]
     },
     "metadata": {},
     "output_type": "display_data"
    },
    {
     "data": {
      "text/plain": [
       "<Container object of 3 artists>"
      ]
     },
     "execution_count": 6,
     "metadata": {},
     "output_type": "execute_result"
    },
    {
     "data": {
      "image/png": "[encoded data removed]",
      "text/plain": [
       "<matplotlib.figure.Figure at 0x7fcb5aa28358>"
      ]
     },
     "metadata": {},
     "output_type": "display_data"
    }
   ],
   "source": [
    "plt.title(\"Temperature resistance drift\")\n",
    "plt.ylabel(\"$R_0$, $\\Omega$\")\n",
    "plt.xlabel(\"$T$, °C\")\n",
    "\n",
    "plt.errorbar(y = [data[e].Value[\"R_0\"] for e in experiments],\n",
    "             x = [data[e].Value[\"T\"] for e in experiments],\n",
    "             yerr = [data[e].Error[\"R_0\"] for e in experiments],\n",
    "             xerr = [data[e].Error[\"T\"] for e in experiments],\n",
    "             linestyle = \"none\")\n",
    "\n",
    "plt.gca().set_prop_cycle(None)\n",
    "T_linspace = ll.linspace([data[e].Value[\"T\"] for e in experiments])\n",
    "\n",
    "# TODO: implement passing iterables to `data` of ll.fit2()\n",
    "tmp = ll.varlist()\n",
    "model = ll.fit2(name = \"R_0\",\n",
    "                model = lambda T, dR0_dT, R_0_0: T * dR0_dT + R_0_0,\n",
    "                y = [data[e].Value[\"R_0\"] for e in experiments],\n",
    "                x = [data[e].Value[\"T\"] for e in experiments],\n",
    "                yerr = [data[e].Error[\"R_0\"] for e in experiments],\n",
    "                xerr = [data[e].Error[\"T\"] for e in experiments],\n",
    "                data = tmp)\n",
    "for e in experiments:\n",
    "    ll.add(data[e], tmp)\n",
    "\n",
    "plt.errorbar(x = T_linspace,\n",
    "             y = model(T_linspace))"
   ]
  },
  {
   "cell_type": "code",
   "execution_count": 7,
   "metadata": {
    "collapsed": false
   },
   "outputs": [
    {
     "name": "stdout",
     "output_type": "stream",
     "text": [
      "Computing variable chi\n",
      "Error influence estimations:\n"
     ]
    },
    {
     "data": {
      "text/html": [
       "<div>\n",
       "<table border=\"1\" class=\"dataframe\">\n",
       "  <thead>\n",
       "    <tr style=\"text-align: right;\">\n",
       "      <th></th>\n",
       "      <th>Error</th>\n",
       "      <th>Derivative</th>\n",
       "      <th>(E*D)^2</th>\n",
       "    </tr>\n",
       "  </thead>\n",
       "  <tbody>\n",
       "    <tr>\n",
       "      <th>dRt_dQ</th>\n",
       "      <td>0.037776</td>\n",
       "      <td>-0.0114714150567993</td>\n",
       "      <td>1.87786920029550e-7</td>\n",
       "    </tr>\n",
       "    <tr>\n",
       "      <th>dR0_dT</th>\n",
       "      <td>0.000374</td>\n",
       "      <td>0.867373720859728</td>\n",
       "      <td>1.05341969081991e-7</td>\n",
       "    </tr>\n",
       "    <tr>\n",
       "      <th>d_2</th>\n",
       "      <td>0.000500</td>\n",
       "      <td>0.576684130951569</td>\n",
       "      <td>8.31411467228415e-8</td>\n",
       "    </tr>\n",
       "    <tr>\n",
       "      <th>d_1</th>\n",
       "      <td>0.000000</td>\n",
       "      <td>-104.851660173013</td>\n",
       "      <td>2.74846766025922e-9</td>\n",
       "    </tr>\n",
       "    <tr>\n",
       "      <th>L</th>\n",
       "      <td>0.000500</td>\n",
       "      <td>-0.0822052514471798</td>\n",
       "      <td>1.68942584137352e-9</td>\n",
       "    </tr>\n",
       "  </tbody>\n",
       "</table>\n",
       "</div>"
      ],
      "text/plain": [
       "          Error           Derivative              (E*D)^2\n",
       "dRt_dQ 0.037776  -0.0114714150567993  1.87786920029550e-7\n",
       "dR0_dT 0.000374    0.867373720859728  1.05341969081991e-7\n",
       "d_2    0.000500    0.576684130951569  8.31411467228415e-8\n",
       "d_1    0.000000    -104.851660173013  2.74846766025922e-9\n",
       "L      0.000500  -0.0822052514471798  1.68942584137352e-9"
      ]
     },
     "metadata": {},
     "output_type": "display_data"
    },
    {
     "name": "stdout",
     "output_type": "stream",
     "text": [
      "Result:\n"
     ]
    },
    {
     "data": {
      "text/html": [
       "<div>\n",
       "<table border=\"1\" class=\"dataframe\">\n",
       "  <thead>\n",
       "    <tr style=\"text-align: right;\">\n",
       "      <th></th>\n",
       "      <th>Value</th>\n",
       "      <th>Error</th>\n",
       "      <th>ErrorRel</th>\n",
       "    </tr>\n",
       "  </thead>\n",
       "  <tbody>\n",
       "    <tr>\n",
       "      <th>chi</th>\n",
       "      <td>0.030005</td>\n",
       "      <td>0.000617</td>\n",
       "      <td>2.06%</td>\n",
       "    </tr>\n",
       "  </tbody>\n",
       "</table>\n",
       "</div>"
      ],
      "text/plain": [
       "       Value    Error  ErrorRel\n",
       "chi 0.030005 0.000617  0.020564"
      ]
     },
     "metadata": {},
     "output_type": "display_data"
    },
    {
     "name": "stdout",
     "output_type": "stream",
     "text": [
      "Computing variable chi\n",
      "Error influence estimations:\n"
     ]
    },
    {
     "data": {
      "text/html": [
       "<div>\n",
       "<table border=\"1\" class=\"dataframe\">\n",
       "  <thead>\n",
       "    <tr style=\"text-align: right;\">\n",
       "      <th></th>\n",
       "      <th>Error</th>\n",
       "      <th>Derivative</th>\n",
       "      <th>(E*D)^2</th>\n",
       "    </tr>\n",
       "  </thead>\n",
       "  <tbody>\n",
       "    <tr>\n",
       "      <th>dR0_dT</th>\n",
       "      <td>0.000374</td>\n",
       "      <td>0.872476970894235</td>\n",
       "      <td>1.06585188369792e-7</td>\n",
       "    </tr>\n",
       "    <tr>\n",
       "      <th>dRt_dQ</th>\n",
       "      <td>0.026238</td>\n",
       "      <td>-0.0116067977972329</td>\n",
       "      <td>9.27416327139833e-8</td>\n",
       "    </tr>\n",
       "    <tr>\n",
       "      <th>d_2</th>\n",
       "      <td>0.000500</td>\n",
       "      <td>0.580077089765518</td>\n",
       "      <td>8.41223575177081e-8</td>\n",
       "    </tr>\n",
       "    <tr>\n",
       "      <th>d_1</th>\n",
       "      <td>0.000000</td>\n",
       "      <td>-105.468561775549</td>\n",
       "      <td>2.78090438075068e-9</td>\n",
       "    </tr>\n",
       "    <tr>\n",
       "      <th>L</th>\n",
       "      <td>0.000500</td>\n",
       "      <td>-0.0826889114223388</td>\n",
       "      <td>1.70936401805285e-9</td>\n",
       "    </tr>\n",
       "  </tbody>\n",
       "</table>\n",
       "</div>"
      ],
      "text/plain": [
       "          Error           Derivative              (E*D)^2\n",
       "dR0_dT 0.000374    0.872476970894235  1.06585188369792e-7\n",
       "dRt_dQ 0.026238  -0.0116067977972329  9.27416327139833e-8\n",
       "d_2    0.000500    0.580077089765518  8.41223575177081e-8\n",
       "d_1    0.000000    -105.468561775549  2.78090438075068e-9\n",
       "L      0.000500  -0.0826889114223388  1.70936401805285e-9"
      ]
     },
     "metadata": {},
     "output_type": "display_data"
    },
    {
     "name": "stdout",
     "output_type": "stream",
     "text": [
      "Result:\n"
     ]
    },
    {
     "data": {
      "text/html": [
       "<div>\n",
       "<table border=\"1\" class=\"dataframe\">\n",
       "  <thead>\n",
       "    <tr style=\"text-align: right;\">\n",
       "      <th></th>\n",
       "      <th>Value</th>\n",
       "      <th>Error</th>\n",
       "      <th>ErrorRel</th>\n",
       "    </tr>\n",
       "  </thead>\n",
       "  <tbody>\n",
       "    <tr>\n",
       "      <th>chi</th>\n",
       "      <td>0.030181</td>\n",
       "      <td>0.000537</td>\n",
       "      <td>1.78%</td>\n",
       "    </tr>\n",
       "  </tbody>\n",
       "</table>\n",
       "</div>"
      ],
      "text/plain": [
       "       Value    Error  ErrorRel\n",
       "chi 0.030181 0.000537  0.017779"
      ]
     },
     "metadata": {},
     "output_type": "display_data"
    },
    {
     "name": "stdout",
     "output_type": "stream",
     "text": [
      "Computing variable chi\n",
      "Error influence estimations:\n"
     ]
    },
    {
     "data": {
      "text/html": [
       "<div>\n",
       "<table border=\"1\" class=\"dataframe\">\n",
       "  <thead>\n",
       "    <tr style=\"text-align: right;\">\n",
       "      <th></th>\n",
       "      <th>Error</th>\n",
       "      <th>Derivative</th>\n",
       "      <th>(E*D)^2</th>\n",
       "    </tr>\n",
       "  </thead>\n",
       "  <tbody>\n",
       "    <tr>\n",
       "      <th>dR0_dT</th>\n",
       "      <td>0.000374</td>\n",
       "      <td>0.892394837224397</td>\n",
       "      <td>1.11507225564541e-7</td>\n",
       "    </tr>\n",
       "    <tr>\n",
       "      <th>d_2</th>\n",
       "      <td>0.000500</td>\n",
       "      <td>0.593319729193922</td>\n",
       "      <td>8.80070752626872e-8</td>\n",
       "    </tr>\n",
       "    <tr>\n",
       "      <th>dRt_dQ</th>\n",
       "      <td>0.011621</td>\n",
       "      <td>-0.0121427924447414</td>\n",
       "      <td>1.99123505013175e-8</td>\n",
       "    </tr>\n",
       "    <tr>\n",
       "      <th>d_1</th>\n",
       "      <td>0.000000</td>\n",
       "      <td>-107.876314398895</td>\n",
       "      <td>2.90932480207230e-9</td>\n",
       "    </tr>\n",
       "    <tr>\n",
       "      <th>L</th>\n",
       "      <td>0.000500</td>\n",
       "      <td>-0.0845766250693920</td>\n",
       "      <td>1.78830137703213e-9</td>\n",
       "    </tr>\n",
       "  </tbody>\n",
       "</table>\n",
       "</div>"
      ],
      "text/plain": [
       "          Error           Derivative              (E*D)^2\n",
       "dR0_dT 0.000374    0.892394837224397  1.11507225564541e-7\n",
       "d_2    0.000500    0.593319729193922  8.80070752626872e-8\n",
       "dRt_dQ 0.011621  -0.0121427924447414  1.99123505013175e-8\n",
       "d_1    0.000000    -107.876314398895  2.90932480207230e-9\n",
       "L      0.000500  -0.0845766250693920  1.78830137703213e-9"
      ]
     },
     "metadata": {},
     "output_type": "display_data"
    },
    {
     "name": "stdout",
     "output_type": "stream",
     "text": [
      "Result:\n"
     ]
    },
    {
     "data": {
      "text/html": [
       "<div>\n",
       "<table border=\"1\" class=\"dataframe\">\n",
       "  <thead>\n",
       "    <tr style=\"text-align: right;\">\n",
       "      <th></th>\n",
       "      <th>Value</th>\n",
       "      <th>Error</th>\n",
       "      <th>ErrorRel</th>\n",
       "    </tr>\n",
       "  </thead>\n",
       "  <tbody>\n",
       "    <tr>\n",
       "      <th>chi</th>\n",
       "      <td>0.030870</td>\n",
       "      <td>0.000473</td>\n",
       "      <td>1.53%</td>\n",
       "    </tr>\n",
       "  </tbody>\n",
       "</table>\n",
       "</div>"
      ],
      "text/plain": [
       "       Value    Error  ErrorRel\n",
       "chi 0.030870 0.000473  0.015336"
      ]
     },
     "metadata": {},
     "output_type": "display_data"
    },
    {
     "name": "stdout",
     "output_type": "stream",
     "text": [
      "Computing variable chi\n",
      "Error influence estimations:\n"
     ]
    },
    {
     "data": {
      "text/html": [
       "<div>\n",
       "<table border=\"1\" class=\"dataframe\">\n",
       "  <thead>\n",
       "    <tr style=\"text-align: right;\">\n",
       "      <th></th>\n",
       "      <th>Error</th>\n",
       "      <th>Derivative</th>\n",
       "      <th>(E*D)^2</th>\n",
       "    </tr>\n",
       "  </thead>\n",
       "  <tbody>\n",
       "    <tr>\n",
       "      <th>dR0_dT</th>\n",
       "      <td>0.000374</td>\n",
       "      <td>0.904795055147111</td>\n",
       "      <td>1.14627639415239e-7</td>\n",
       "    </tr>\n",
       "    <tr>\n",
       "      <th>d_2</th>\n",
       "      <td>0.000500</td>\n",
       "      <td>0.601564167230714</td>\n",
       "      <td>9.04698618239958e-8</td>\n",
       "    </tr>\n",
       "    <tr>\n",
       "      <th>dRt_dQ</th>\n",
       "      <td>0.011800</td>\n",
       "      <td>-0.0124825958748680</td>\n",
       "      <td>2.16970963999655e-8</td>\n",
       "    </tr>\n",
       "    <tr>\n",
       "      <th>d_1</th>\n",
       "      <td>0.000000</td>\n",
       "      <td>-109.375303132857</td>\n",
       "      <td>2.99073923385110e-9</td>\n",
       "    </tr>\n",
       "    <tr>\n",
       "      <th>L</th>\n",
       "      <td>0.000500</td>\n",
       "      <td>-0.0857518543942165</td>\n",
       "      <td>1.83834513301173e-9</td>\n",
       "    </tr>\n",
       "  </tbody>\n",
       "</table>\n",
       "</div>"
      ],
      "text/plain": [
       "          Error           Derivative              (E*D)^2\n",
       "dR0_dT 0.000374    0.904795055147111  1.14627639415239e-7\n",
       "d_2    0.000500    0.601564167230714  9.04698618239958e-8\n",
       "dRt_dQ 0.011800  -0.0124825958748680  2.16970963999655e-8\n",
       "d_1    0.000000    -109.375303132857  2.99073923385110e-9\n",
       "L      0.000500  -0.0857518543942165  1.83834513301173e-9"
      ]
     },
     "metadata": {},
     "output_type": "display_data"
    },
    {
     "name": "stdout",
     "output_type": "stream",
     "text": [
      "Result:\n"
     ]
    },
    {
     "data": {
      "text/html": [
       "<div>\n",
       "<table border=\"1\" class=\"dataframe\">\n",
       "  <thead>\n",
       "    <tr style=\"text-align: right;\">\n",
       "      <th></th>\n",
       "      <th>Value</th>\n",
       "      <th>Error</th>\n",
       "      <th>ErrorRel</th>\n",
       "    </tr>\n",
       "  </thead>\n",
       "  <tbody>\n",
       "    <tr>\n",
       "      <th>chi</th>\n",
       "      <td>0.031299</td>\n",
       "      <td>0.000481</td>\n",
       "      <td>1.54%</td>\n",
       "    </tr>\n",
       "  </tbody>\n",
       "</table>\n",
       "</div>"
      ],
      "text/plain": [
       "       Value    Error  ErrorRel\n",
       "chi 0.031299 0.000481  0.015376"
      ]
     },
     "metadata": {},
     "output_type": "display_data"
    },
    {
     "name": "stdout",
     "output_type": "stream",
     "text": [
      "Computing variable chi\n",
      "Error influence estimations:\n"
     ]
    },
    {
     "data": {
      "text/html": [
       "<div>\n",
       "<table border=\"1\" class=\"dataframe\">\n",
       "  <thead>\n",
       "    <tr style=\"text-align: right;\">\n",
       "      <th></th>\n",
       "      <th>Error</th>\n",
       "      <th>Derivative</th>\n",
       "      <th>(E*D)^2</th>\n",
       "    </tr>\n",
       "  </thead>\n",
       "  <tbody>\n",
       "    <tr>\n",
       "      <th>dR0_dT</th>\n",
       "      <td>0.000374</td>\n",
       "      <td>0.917392973440184</td>\n",
       "      <td>1.17841898561461e-7</td>\n",
       "    </tr>\n",
       "    <tr>\n",
       "      <th>d_2</th>\n",
       "      <td>0.000500</td>\n",
       "      <td>0.609940048800471</td>\n",
       "      <td>9.30067157826802e-8</td>\n",
       "    </tr>\n",
       "    <tr>\n",
       "      <th>dRt_dQ</th>\n",
       "      <td>0.017522</td>\n",
       "      <td>-0.0128326187678113</td>\n",
       "      <td>5.05615327684689e-8</td>\n",
       "    </tr>\n",
       "    <tr>\n",
       "      <th>d_1</th>\n",
       "      <td>0.000000</td>\n",
       "      <td>-110.898190690995</td>\n",
       "      <td>3.07460217463405e-9</td>\n",
       "    </tr>\n",
       "    <tr>\n",
       "      <th>L</th>\n",
       "      <td>0.000500</td>\n",
       "      <td>-0.0869458207504564</td>\n",
       "      <td>1.88989393649262e-9</td>\n",
       "    </tr>\n",
       "  </tbody>\n",
       "</table>\n",
       "</div>"
      ],
      "text/plain": [
       "          Error           Derivative              (E*D)^2\n",
       "dR0_dT 0.000374    0.917392973440184  1.17841898561461e-7\n",
       "d_2    0.000500    0.609940048800471  9.30067157826802e-8\n",
       "dRt_dQ 0.017522  -0.0128326187678113  5.05615327684689e-8\n",
       "d_1    0.000000    -110.898190690995  3.07460217463405e-9\n",
       "L      0.000500  -0.0869458207504564  1.88989393649262e-9"
      ]
     },
     "metadata": {},
     "output_type": "display_data"
    },
    {
     "name": "stdout",
     "output_type": "stream",
     "text": [
      "Result:\n"
     ]
    },
    {
     "data": {
      "text/html": [
       "<div>\n",
       "<table border=\"1\" class=\"dataframe\">\n",
       "  <thead>\n",
       "    <tr style=\"text-align: right;\">\n",
       "      <th></th>\n",
       "      <th>Value</th>\n",
       "      <th>Error</th>\n",
       "      <th>ErrorRel</th>\n",
       "    </tr>\n",
       "  </thead>\n",
       "  <tbody>\n",
       "    <tr>\n",
       "      <th>chi</th>\n",
       "      <td>0.031735</td>\n",
       "      <td>0.000516</td>\n",
       "      <td>1.63%</td>\n",
       "    </tr>\n",
       "  </tbody>\n",
       "</table>\n",
       "</div>"
      ],
      "text/plain": [
       "       Value    Error  ErrorRel\n",
       "chi 0.031735 0.000516  0.016263"
      ]
     },
     "metadata": {},
     "output_type": "display_data"
    },
    {
     "name": "stdout",
     "output_type": "stream",
     "text": [
      "Initial guesses for chi:\n",
      "          Value    Error  ErrorRel\n",
      "chi_A 0.001439 0.001650  1.147041\n",
      "chi_B 0.532868 0.199262  0.373943\n"
     ]
    },
    {
     "data": {
      "text/plain": [
       "'Final guesses for chi:'"
      ]
     },
     "metadata": {},
     "output_type": "display_data"
    },
    {
     "data": {
      "text/html": [
       "<div>\n",
       "<table border=\"1\" class=\"dataframe\">\n",
       "  <thead>\n",
       "    <tr style=\"text-align: right;\">\n",
       "      <th></th>\n",
       "      <th>Value</th>\n",
       "      <th>Error</th>\n",
       "      <th>ErrorRel</th>\n",
       "    </tr>\n",
       "  </thead>\n",
       "  <tbody>\n",
       "    <tr>\n",
       "      <th>chi_A</th>\n",
       "      <td>0.001439</td>\n",
       "      <td>0.000207</td>\n",
       "      <td>14.37%</td>\n",
       "    </tr>\n",
       "    <tr>\n",
       "      <th>chi_B</th>\n",
       "      <td>0.532868</td>\n",
       "      <td>0.024964</td>\n",
       "      <td>4.68%</td>\n",
       "    </tr>\n",
       "  </tbody>\n",
       "</table>\n",
       "</div>"
      ],
      "text/plain": [
       "         Value    Error  ErrorRel\n",
       "chi_A 0.001439 0.000207  0.143703\n",
       "chi_B 0.532868 0.024964  0.046848"
      ]
     },
     "metadata": {},
     "output_type": "display_data"
    },
    {
     "data": {
      "text/plain": [
       "<Container object of 3 artists>"
      ]
     },
     "execution_count": 7,
     "metadata": {},
     "output_type": "execute_result"
    },
    {
     "data": {
      "image/png": "[encoded data removed]",
      "text/plain": [
       "<matplotlib.figure.Figure at 0x7fcb5aae8b00>"
      ]
     },
     "metadata": {},
     "output_type": "display_data"
    }
   ],
   "source": [
    "for e in experiments:\n",
    "    ll.compute(name = \"chi\",\n",
    "               expr = lambda dRt_dQ, dR0_dT, L, d_1, d_2: dR0_dT / dRt_dQ / (2 * m.pi * L) * ll.log(d_2 / d_1),\n",
    "               data = data[e],\n",
    "               debug = True)\n",
    "\n",
    "plt.title(\"Thermal conductivity\")\n",
    "plt.ylabel(\"$\\chi$\")\n",
    "plt.xlabel(\"$T$, °C\")\n",
    "\n",
    "plt.errorbar(y = [data[e].Value[\"chi\"] for e in experiments],\n",
    "             x = [data[e].Value[\"T\"] for e in experiments],\n",
    "             yerr = [data[e].Error[\"chi\"] for e in experiments],\n",
    "             xerr = [data[e].Error[\"T\"] for e in experiments],\n",
    "             linestyle = \"none\")\n",
    "\n",
    "model = ll.fit2(name = \"chi\",\n",
    "                model = lambda T, chi_A, chi_B: chi_A * T**chi_B,\n",
    "                y = [data[e].Value[\"chi\"] for e in experiments],\n",
    "                x = [data[e].Value[\"T\"] for e in experiments],\n",
    "                yerr = [data[e].Error[\"chi\"] for e in experiments],\n",
    "                xerr = [data[e].Error[\"T\"] for e in experiments],\n",
    "                data = data[\"global\"])\n",
    "T_linspace = ll.linspace([data[e].Value[\"T\"] for e in experiments])\n",
    "plt.gca().set_prop_cycle(None)\n",
    "plt.errorbar(x = T_linspace,\n",
    "             y = model(T_linspace))"
   ]
  }
 ],
 "metadata": {
  "kernelspec": {
   "display_name": "Python 3",
   "language": "python",
   "name": "python3"
  },
  "language_info": {
   "codemirror_mode": {
    "name": "ipython",
    "version": 3
   },
   "file_extension": ".py",
   "mimetype": "text/x-python",
   "name": "python",
   "nbconvert_exporter": "python",
   "pygments_lexer": "ipython3",
   "version": "3.5.2"
  }
 },
 "nbformat": 4,
 "nbformat_minor": 0
}
