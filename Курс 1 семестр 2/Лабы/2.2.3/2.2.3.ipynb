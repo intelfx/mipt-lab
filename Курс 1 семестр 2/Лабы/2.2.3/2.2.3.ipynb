{
 "cells": [
  {
   "cell_type": "code",
   "execution_count": 1,
   "metadata": {
    "collapsed": true
   },
   "outputs": [],
   "source": [
    "import pandas as pd\n",
    "import numpy as np\n",
    "import scipy as sp\n",
    "import matplotlib as mp\n",
    "import matplotlib.pyplot as plt\n",
    "import math as m\n",
    "import sympy as smp\n",
    "from IPython.display import display as disp\n",
    "import lablib as ll\n",
    "%matplotlib inline"
   ]
  },
  {
   "cell_type": "code",
   "execution_count": 2,
   "metadata": {
    "collapsed": true
   },
   "outputs": [],
   "source": [
    "data = {}\n",
    "columns = {}\n",
    "experiments = []\n",
    "            \n",
    "data, columns, experiments = ll.read_standard_layout()"
   ]
  },
  {
   "cell_type": "code",
   "execution_count": 3,
   "metadata": {
    "collapsed": false
   },
   "outputs": [
    {
     "data": {
      "text/plain": [
       "'Experiment T=26'"
      ]
     },
     "metadata": {},
     "output_type": "display_data"
    },
    {
     "data": {
      "text/plain": [
       "'Error influence estimations for Q:'"
      ]
     },
     "metadata": {},
     "output_type": "display_data"
    },
    {
     "data": {
      "text/html": [
       "<div>\n",
       "<table border=\"1\" class=\"dataframe\">\n",
       "  <thead>\n",
       "    <tr style=\"text-align: right;\">\n",
       "      <th></th>\n",
       "      <th>Error</th>\n",
       "      <th>Derivative</th>\n",
       "      <th>(E*D)^2</th>\n",
       "    </tr>\n",
       "  </thead>\n",
       "  <tbody>\n",
       "    <tr>\n",
       "      <th>R_s</th>\n",
       "      <td>0.01</td>\n",
       "      <td>-0.01*U_s*U_t</td>\n",
       "      <td>1.0e-8*U_s**2*U_t**2</td>\n",
       "    </tr>\n",
       "    <tr>\n",
       "      <th>U_s</th>\n",
       "      <td>None</td>\n",
       "      <td>0.1*U_t</td>\n",
       "      <td>0.01*Error_U_s**2*U_t**2</td>\n",
       "    </tr>\n",
       "    <tr>\n",
       "      <th>U_t</th>\n",
       "      <td>None</td>\n",
       "      <td>0.1*U_s</td>\n",
       "      <td>0.01*Error_U_t**2*U_s**2</td>\n",
       "    </tr>\n",
       "  </tbody>\n",
       "</table>\n",
       "</div>"
      ],
      "text/plain": [
       "    Error     Derivative                   (E*D)^2\n",
       "R_s  0.01  -0.01*U_s*U_t      1.0e-8*U_s**2*U_t**2\n",
       "U_s  None        0.1*U_t  0.01*Error_U_s**2*U_t**2\n",
       "U_t  None        0.1*U_s  0.01*Error_U_t**2*U_s**2"
      ]
     },
     "metadata": {},
     "output_type": "display_data"
    },
    {
     "data": {
      "text/plain": [
       "'Error influence estimations for R_t:'"
      ]
     },
     "metadata": {},
     "output_type": "display_data"
    },
    {
     "data": {
      "text/html": [
       "<div>\n",
       "<table border=\"1\" class=\"dataframe\">\n",
       "  <thead>\n",
       "    <tr style=\"text-align: right;\">\n",
       "      <th></th>\n",
       "      <th>Error</th>\n",
       "      <th>Derivative</th>\n",
       "      <th>(E*D)^2</th>\n",
       "    </tr>\n",
       "  </thead>\n",
       "  <tbody>\n",
       "    <tr>\n",
       "      <th>R_s</th>\n",
       "      <td>0.01</td>\n",
       "      <td>U_t/U_s</td>\n",
       "      <td>0.0001*U_t**2/U_s**2</td>\n",
       "    </tr>\n",
       "    <tr>\n",
       "      <th>U_s</th>\n",
       "      <td>None</td>\n",
       "      <td>-10.0*U_t/U_s**2</td>\n",
       "      <td>100.0*Error_U_s**2*U_t**2/U_s**4</td>\n",
       "    </tr>\n",
       "    <tr>\n",
       "      <th>U_t</th>\n",
       "      <td>None</td>\n",
       "      <td>10.0/U_s</td>\n",
       "      <td>100.0*Error_U_t**2/U_s**2</td>\n",
       "    </tr>\n",
       "  </tbody>\n",
       "</table>\n",
       "</div>"
      ],
      "text/plain": [
       "    Error        Derivative                           (E*D)^2\n",
       "R_s  0.01           U_t/U_s              0.0001*U_t**2/U_s**2\n",
       "U_s  None  -10.0*U_t/U_s**2  100.0*Error_U_s**2*U_t**2/U_s**4\n",
       "U_t  None          10.0/U_s         100.0*Error_U_t**2/U_s**2"
      ]
     },
     "metadata": {},
     "output_type": "display_data"
    },
    {
     "data": {
      "text/plain": [
       "'Experiment T=30'"
      ]
     },
     "metadata": {},
     "output_type": "display_data"
    },
    {
     "data": {
      "text/plain": [
       "'Error influence estimations for Q:'"
      ]
     },
     "metadata": {},
     "output_type": "display_data"
    },
    {
     "data": {
      "text/html": [
       "<div>\n",
       "<table border=\"1\" class=\"dataframe\">\n",
       "  <thead>\n",
       "    <tr style=\"text-align: right;\">\n",
       "      <th></th>\n",
       "      <th>Error</th>\n",
       "      <th>Derivative</th>\n",
       "      <th>(E*D)^2</th>\n",
       "    </tr>\n",
       "  </thead>\n",
       "  <tbody>\n",
       "    <tr>\n",
       "      <th>R_s</th>\n",
       "      <td>0.01</td>\n",
       "      <td>-0.01*U_s*U_t</td>\n",
       "      <td>1.0e-8*U_s**2*U_t**2</td>\n",
       "    </tr>\n",
       "    <tr>\n",
       "      <th>U_s</th>\n",
       "      <td>None</td>\n",
       "      <td>0.1*U_t</td>\n",
       "      <td>0.01*Error_U_s**2*U_t**2</td>\n",
       "    </tr>\n",
       "    <tr>\n",
       "      <th>U_t</th>\n",
       "      <td>None</td>\n",
       "      <td>0.1*U_s</td>\n",
       "      <td>0.01*Error_U_t**2*U_s**2</td>\n",
       "    </tr>\n",
       "  </tbody>\n",
       "</table>\n",
       "</div>"
      ],
      "text/plain": [
       "    Error     Derivative                   (E*D)^2\n",
       "R_s  0.01  -0.01*U_s*U_t      1.0e-8*U_s**2*U_t**2\n",
       "U_s  None        0.1*U_t  0.01*Error_U_s**2*U_t**2\n",
       "U_t  None        0.1*U_s  0.01*Error_U_t**2*U_s**2"
      ]
     },
     "metadata": {},
     "output_type": "display_data"
    },
    {
     "data": {
      "text/plain": [
       "'Error influence estimations for R_t:'"
      ]
     },
     "metadata": {},
     "output_type": "display_data"
    },
    {
     "data": {
      "text/html": [
       "<div>\n",
       "<table border=\"1\" class=\"dataframe\">\n",
       "  <thead>\n",
       "    <tr style=\"text-align: right;\">\n",
       "      <th></th>\n",
       "      <th>Error</th>\n",
       "      <th>Derivative</th>\n",
       "      <th>(E*D)^2</th>\n",
       "    </tr>\n",
       "  </thead>\n",
       "  <tbody>\n",
       "    <tr>\n",
       "      <th>R_s</th>\n",
       "      <td>0.01</td>\n",
       "      <td>U_t/U_s</td>\n",
       "      <td>0.0001*U_t**2/U_s**2</td>\n",
       "    </tr>\n",
       "    <tr>\n",
       "      <th>U_s</th>\n",
       "      <td>None</td>\n",
       "      <td>-10.0*U_t/U_s**2</td>\n",
       "      <td>100.0*Error_U_s**2*U_t**2/U_s**4</td>\n",
       "    </tr>\n",
       "    <tr>\n",
       "      <th>U_t</th>\n",
       "      <td>None</td>\n",
       "      <td>10.0/U_s</td>\n",
       "      <td>100.0*Error_U_t**2/U_s**2</td>\n",
       "    </tr>\n",
       "  </tbody>\n",
       "</table>\n",
       "</div>"
      ],
      "text/plain": [
       "    Error        Derivative                           (E*D)^2\n",
       "R_s  0.01           U_t/U_s              0.0001*U_t**2/U_s**2\n",
       "U_s  None  -10.0*U_t/U_s**2  100.0*Error_U_s**2*U_t**2/U_s**4\n",
       "U_t  None          10.0/U_s         100.0*Error_U_t**2/U_s**2"
      ]
     },
     "metadata": {},
     "output_type": "display_data"
    },
    {
     "data": {
      "text/plain": [
       "'Experiment T=40'"
      ]
     },
     "metadata": {},
     "output_type": "display_data"
    },
    {
     "data": {
      "text/plain": [
       "'Error influence estimations for Q:'"
      ]
     },
     "metadata": {},
     "output_type": "display_data"
    },
    {
     "data": {
      "text/html": [
       "<div>\n",
       "<table border=\"1\" class=\"dataframe\">\n",
       "  <thead>\n",
       "    <tr style=\"text-align: right;\">\n",
       "      <th></th>\n",
       "      <th>Error</th>\n",
       "      <th>Derivative</th>\n",
       "      <th>(E*D)^2</th>\n",
       "    </tr>\n",
       "  </thead>\n",
       "  <tbody>\n",
       "    <tr>\n",
       "      <th>R_s</th>\n",
       "      <td>0.01</td>\n",
       "      <td>-0.01*U_s*U_t</td>\n",
       "      <td>1.0e-8*U_s**2*U_t**2</td>\n",
       "    </tr>\n",
       "    <tr>\n",
       "      <th>U_s</th>\n",
       "      <td>None</td>\n",
       "      <td>0.1*U_t</td>\n",
       "      <td>0.01*Error_U_s**2*U_t**2</td>\n",
       "    </tr>\n",
       "    <tr>\n",
       "      <th>U_t</th>\n",
       "      <td>None</td>\n",
       "      <td>0.1*U_s</td>\n",
       "      <td>0.01*Error_U_t**2*U_s**2</td>\n",
       "    </tr>\n",
       "  </tbody>\n",
       "</table>\n",
       "</div>"
      ],
      "text/plain": [
       "    Error     Derivative                   (E*D)^2\n",
       "R_s  0.01  -0.01*U_s*U_t      1.0e-8*U_s**2*U_t**2\n",
       "U_s  None        0.1*U_t  0.01*Error_U_s**2*U_t**2\n",
       "U_t  None        0.1*U_s  0.01*Error_U_t**2*U_s**2"
      ]
     },
     "metadata": {},
     "output_type": "display_data"
    },
    {
     "data": {
      "text/plain": [
       "'Error influence estimations for R_t:'"
      ]
     },
     "metadata": {},
     "output_type": "display_data"
    },
    {
     "data": {
      "text/html": [
       "<div>\n",
       "<table border=\"1\" class=\"dataframe\">\n",
       "  <thead>\n",
       "    <tr style=\"text-align: right;\">\n",
       "      <th></th>\n",
       "      <th>Error</th>\n",
       "      <th>Derivative</th>\n",
       "      <th>(E*D)^2</th>\n",
       "    </tr>\n",
       "  </thead>\n",
       "  <tbody>\n",
       "    <tr>\n",
       "      <th>R_s</th>\n",
       "      <td>0.01</td>\n",
       "      <td>U_t/U_s</td>\n",
       "      <td>0.0001*U_t**2/U_s**2</td>\n",
       "    </tr>\n",
       "    <tr>\n",
       "      <th>U_s</th>\n",
       "      <td>None</td>\n",
       "      <td>-10.0*U_t/U_s**2</td>\n",
       "      <td>100.0*Error_U_s**2*U_t**2/U_s**4</td>\n",
       "    </tr>\n",
       "    <tr>\n",
       "      <th>U_t</th>\n",
       "      <td>None</td>\n",
       "      <td>10.0/U_s</td>\n",
       "      <td>100.0*Error_U_t**2/U_s**2</td>\n",
       "    </tr>\n",
       "  </tbody>\n",
       "</table>\n",
       "</div>"
      ],
      "text/plain": [
       "    Error        Derivative                           (E*D)^2\n",
       "R_s  0.01           U_t/U_s              0.0001*U_t**2/U_s**2\n",
       "U_s  None  -10.0*U_t/U_s**2  100.0*Error_U_s**2*U_t**2/U_s**4\n",
       "U_t  None          10.0/U_s         100.0*Error_U_t**2/U_s**2"
      ]
     },
     "metadata": {},
     "output_type": "display_data"
    },
    {
     "data": {
      "text/plain": [
       "'Experiment T=50'"
      ]
     },
     "metadata": {},
     "output_type": "display_data"
    },
    {
     "data": {
      "text/plain": [
       "'Error influence estimations for Q:'"
      ]
     },
     "metadata": {},
     "output_type": "display_data"
    },
    {
     "data": {
      "text/html": [
       "<div>\n",
       "<table border=\"1\" class=\"dataframe\">\n",
       "  <thead>\n",
       "    <tr style=\"text-align: right;\">\n",
       "      <th></th>\n",
       "      <th>Error</th>\n",
       "      <th>Derivative</th>\n",
       "      <th>(E*D)^2</th>\n",
       "    </tr>\n",
       "  </thead>\n",
       "  <tbody>\n",
       "    <tr>\n",
       "      <th>R_s</th>\n",
       "      <td>0.01</td>\n",
       "      <td>-0.01*U_s*U_t</td>\n",
       "      <td>1.0e-8*U_s**2*U_t**2</td>\n",
       "    </tr>\n",
       "    <tr>\n",
       "      <th>U_s</th>\n",
       "      <td>None</td>\n",
       "      <td>0.1*U_t</td>\n",
       "      <td>0.01*Error_U_s**2*U_t**2</td>\n",
       "    </tr>\n",
       "    <tr>\n",
       "      <th>U_t</th>\n",
       "      <td>None</td>\n",
       "      <td>0.1*U_s</td>\n",
       "      <td>0.01*Error_U_t**2*U_s**2</td>\n",
       "    </tr>\n",
       "  </tbody>\n",
       "</table>\n",
       "</div>"
      ],
      "text/plain": [
       "    Error     Derivative                   (E*D)^2\n",
       "R_s  0.01  -0.01*U_s*U_t      1.0e-8*U_s**2*U_t**2\n",
       "U_s  None        0.1*U_t  0.01*Error_U_s**2*U_t**2\n",
       "U_t  None        0.1*U_s  0.01*Error_U_t**2*U_s**2"
      ]
     },
     "metadata": {},
     "output_type": "display_data"
    },
    {
     "data": {
      "text/plain": [
       "'Error influence estimations for R_t:'"
      ]
     },
     "metadata": {},
     "output_type": "display_data"
    },
    {
     "data": {
      "text/html": [
       "<div>\n",
       "<table border=\"1\" class=\"dataframe\">\n",
       "  <thead>\n",
       "    <tr style=\"text-align: right;\">\n",
       "      <th></th>\n",
       "      <th>Error</th>\n",
       "      <th>Derivative</th>\n",
       "      <th>(E*D)^2</th>\n",
       "    </tr>\n",
       "  </thead>\n",
       "  <tbody>\n",
       "    <tr>\n",
       "      <th>R_s</th>\n",
       "      <td>0.01</td>\n",
       "      <td>U_t/U_s</td>\n",
       "      <td>0.0001*U_t**2/U_s**2</td>\n",
       "    </tr>\n",
       "    <tr>\n",
       "      <th>U_s</th>\n",
       "      <td>None</td>\n",
       "      <td>-10.0*U_t/U_s**2</td>\n",
       "      <td>100.0*Error_U_s**2*U_t**2/U_s**4</td>\n",
       "    </tr>\n",
       "    <tr>\n",
       "      <th>U_t</th>\n",
       "      <td>None</td>\n",
       "      <td>10.0/U_s</td>\n",
       "      <td>100.0*Error_U_t**2/U_s**2</td>\n",
       "    </tr>\n",
       "  </tbody>\n",
       "</table>\n",
       "</div>"
      ],
      "text/plain": [
       "    Error        Derivative                           (E*D)^2\n",
       "R_s  0.01           U_t/U_s              0.0001*U_t**2/U_s**2\n",
       "U_s  None  -10.0*U_t/U_s**2  100.0*Error_U_s**2*U_t**2/U_s**4\n",
       "U_t  None          10.0/U_s         100.0*Error_U_t**2/U_s**2"
      ]
     },
     "metadata": {},
     "output_type": "display_data"
    },
    {
     "data": {
      "text/plain": [
       "'Experiment T=60'"
      ]
     },
     "metadata": {},
     "output_type": "display_data"
    },
    {
     "data": {
      "text/plain": [
       "'Error influence estimations for Q:'"
      ]
     },
     "metadata": {},
     "output_type": "display_data"
    },
    {
     "data": {
      "text/html": [
       "<div>\n",
       "<table border=\"1\" class=\"dataframe\">\n",
       "  <thead>\n",
       "    <tr style=\"text-align: right;\">\n",
       "      <th></th>\n",
       "      <th>Error</th>\n",
       "      <th>Derivative</th>\n",
       "      <th>(E*D)^2</th>\n",
       "    </tr>\n",
       "  </thead>\n",
       "  <tbody>\n",
       "    <tr>\n",
       "      <th>R_s</th>\n",
       "      <td>0.01</td>\n",
       "      <td>-0.01*U_s*U_t</td>\n",
       "      <td>1.0e-8*U_s**2*U_t**2</td>\n",
       "    </tr>\n",
       "    <tr>\n",
       "      <th>U_s</th>\n",
       "      <td>None</td>\n",
       "      <td>0.1*U_t</td>\n",
       "      <td>0.01*Error_U_s**2*U_t**2</td>\n",
       "    </tr>\n",
       "    <tr>\n",
       "      <th>U_t</th>\n",
       "      <td>None</td>\n",
       "      <td>0.1*U_s</td>\n",
       "      <td>0.01*Error_U_t**2*U_s**2</td>\n",
       "    </tr>\n",
       "  </tbody>\n",
       "</table>\n",
       "</div>"
      ],
      "text/plain": [
       "    Error     Derivative                   (E*D)^2\n",
       "R_s  0.01  -0.01*U_s*U_t      1.0e-8*U_s**2*U_t**2\n",
       "U_s  None        0.1*U_t  0.01*Error_U_s**2*U_t**2\n",
       "U_t  None        0.1*U_s  0.01*Error_U_t**2*U_s**2"
      ]
     },
     "metadata": {},
     "output_type": "display_data"
    },
    {
     "data": {
      "text/plain": [
       "'Error influence estimations for R_t:'"
      ]
     },
     "metadata": {},
     "output_type": "display_data"
    },
    {
     "data": {
      "text/html": [
       "<div>\n",
       "<table border=\"1\" class=\"dataframe\">\n",
       "  <thead>\n",
       "    <tr style=\"text-align: right;\">\n",
       "      <th></th>\n",
       "      <th>Error</th>\n",
       "      <th>Derivative</th>\n",
       "      <th>(E*D)^2</th>\n",
       "    </tr>\n",
       "  </thead>\n",
       "  <tbody>\n",
       "    <tr>\n",
       "      <th>R_s</th>\n",
       "      <td>0.01</td>\n",
       "      <td>U_t/U_s</td>\n",
       "      <td>0.0001*U_t**2/U_s**2</td>\n",
       "    </tr>\n",
       "    <tr>\n",
       "      <th>U_s</th>\n",
       "      <td>None</td>\n",
       "      <td>-10.0*U_t/U_s**2</td>\n",
       "      <td>100.0*Error_U_s**2*U_t**2/U_s**4</td>\n",
       "    </tr>\n",
       "    <tr>\n",
       "      <th>U_t</th>\n",
       "      <td>None</td>\n",
       "      <td>10.0/U_s</td>\n",
       "      <td>100.0*Error_U_t**2/U_s**2</td>\n",
       "    </tr>\n",
       "  </tbody>\n",
       "</table>\n",
       "</div>"
      ],
      "text/plain": [
       "    Error        Derivative                           (E*D)^2\n",
       "R_s  0.01           U_t/U_s              0.0001*U_t**2/U_s**2\n",
       "U_s  None  -10.0*U_t/U_s**2  100.0*Error_U_s**2*U_t**2/U_s**4\n",
       "U_t  None          10.0/U_s         100.0*Error_U_t**2/U_s**2"
      ]
     },
     "metadata": {},
     "output_type": "display_data"
    }
   ],
   "source": [
    "for e in experiments:\n",
    "    disp(\"Experiment %s\" % e)\n",
    "    \n",
    "    ll.compute(name = \"Q\",\n",
    "               expr = lambda R_s, U_s, U_t: U_s * U_t / R_s,\n",
    "               data = data[e],\n",
    "               columns = columns[e],\n",
    "               debug = True)\n",
    "    \n",
    "    ll.compute(name = \"R_t\",\n",
    "               expr = lambda R_s, U_t, U_s: R_s * U_t / U_s,\n",
    "               data = data[e],\n",
    "               columns = columns[e],\n",
    "               debug = True)"
   ]
  },
  {
   "cell_type": "code",
   "execution_count": 4,
   "metadata": {
    "collapsed": false
   },
   "outputs": [
    {
     "data": {
      "text/plain": [
       "'Experiment T=26'"
      ]
     },
     "metadata": {},
     "output_type": "display_data"
    },
    {
     "data": {
      "text/plain": [
       "'Constants:'"
      ]
     },
     "metadata": {},
     "output_type": "display_data"
    },
    {
     "data": {
      "text/html": [
       "<div>\n",
       "<table border=\"1\" class=\"dataframe\">\n",
       "  <thead>\n",
       "    <tr style=\"text-align: right;\">\n",
       "      <th></th>\n",
       "      <th>Value</th>\n",
       "      <th>Error</th>\n",
       "      <th>ErrorRel</th>\n",
       "    </tr>\n",
       "  </thead>\n",
       "  <tbody>\n",
       "    <tr>\n",
       "      <th>R_s</th>\n",
       "      <td>10.000000</td>\n",
       "      <td>1.000000e-02</td>\n",
       "      <td>NaN</td>\n",
       "    </tr>\n",
       "    <tr>\n",
       "      <th>L</th>\n",
       "      <td>0.365000</td>\n",
       "      <td>5.000000e-04</td>\n",
       "      <td>NaN</td>\n",
       "    </tr>\n",
       "    <tr>\n",
       "      <th>d_1</th>\n",
       "      <td>0.000055</td>\n",
       "      <td>5.000000e-07</td>\n",
       "      <td>NaN</td>\n",
       "    </tr>\n",
       "    <tr>\n",
       "      <th>d_2</th>\n",
       "      <td>0.010000</td>\n",
       "      <td>5.000000e-04</td>\n",
       "      <td>NaN</td>\n",
       "    </tr>\n",
       "    <tr>\n",
       "      <th>T</th>\n",
       "      <td>299.150000</td>\n",
       "      <td>5.000000e-02</td>\n",
       "      <td>NaN</td>\n",
       "    </tr>\n",
       "  </tbody>\n",
       "</table>\n",
       "</div>"
      ],
      "text/plain": [
       "          Value         Error  ErrorRel\n",
       "R_s   10.000000  1.000000e-02       NaN\n",
       "L      0.365000  5.000000e-04       NaN\n",
       "d_1    0.000055  5.000000e-07       NaN\n",
       "d_2    0.010000  5.000000e-04       NaN\n",
       "T    299.150000  5.000000e-02       NaN"
      ]
     },
     "metadata": {},
     "output_type": "display_data"
    },
    {
     "data": {
      "text/plain": [
       "'Measurements:'"
      ]
     },
     "metadata": {},
     "output_type": "display_data"
    },
    {
     "data": {
      "text/html": [
       "<div>\n",
       "<table border=\"1\" class=\"dataframe\">\n",
       "  <thead>\n",
       "    <tr style=\"text-align: right;\">\n",
       "      <th></th>\n",
       "      <th>U_s</th>\n",
       "      <th>Error_U_s</th>\n",
       "      <th>U_t</th>\n",
       "      <th>Error_U_t</th>\n",
       "      <th>Q</th>\n",
       "      <th>Error_Q</th>\n",
       "      <th>R_t</th>\n",
       "      <th>Error_R_t</th>\n",
       "    </tr>\n",
       "  </thead>\n",
       "  <tbody>\n",
       "    <tr>\n",
       "      <th>0</th>\n",
       "      <td>0.2000</td>\n",
       "      <td>0.0001</td>\n",
       "      <td>0.2282</td>\n",
       "      <td>0.0001</td>\n",
       "      <td>0.004564</td>\n",
       "      <td>0.000005</td>\n",
       "      <td>11.410000</td>\n",
       "      <td>0.013702</td>\n",
       "    </tr>\n",
       "    <tr>\n",
       "      <th>1</th>\n",
       "      <td>0.5000</td>\n",
       "      <td>0.0001</td>\n",
       "      <td>0.5732</td>\n",
       "      <td>0.0001</td>\n",
       "      <td>0.028660</td>\n",
       "      <td>0.000030</td>\n",
       "      <td>11.464000</td>\n",
       "      <td>0.011861</td>\n",
       "    </tr>\n",
       "    <tr>\n",
       "      <th>2</th>\n",
       "      <td>0.7500</td>\n",
       "      <td>0.0001</td>\n",
       "      <td>0.8670</td>\n",
       "      <td>0.0001</td>\n",
       "      <td>0.065025</td>\n",
       "      <td>0.000066</td>\n",
       "      <td>11.560000</td>\n",
       "      <td>0.011738</td>\n",
       "    </tr>\n",
       "    <tr>\n",
       "      <th>3</th>\n",
       "      <td>1.0000</td>\n",
       "      <td>0.0001</td>\n",
       "      <td>1.1715</td>\n",
       "      <td>0.0001</td>\n",
       "      <td>0.117150</td>\n",
       "      <td>0.000118</td>\n",
       "      <td>11.715000</td>\n",
       "      <td>0.011816</td>\n",
       "    </tr>\n",
       "    <tr>\n",
       "      <th>4</th>\n",
       "      <td>1.2499</td>\n",
       "      <td>0.0001</td>\n",
       "      <td>1.4851</td>\n",
       "      <td>0.0001</td>\n",
       "      <td>0.185623</td>\n",
       "      <td>0.000187</td>\n",
       "      <td>11.881751</td>\n",
       "      <td>0.011947</td>\n",
       "    </tr>\n",
       "    <tr>\n",
       "      <th>5</th>\n",
       "      <td>1.5015</td>\n",
       "      <td>0.0001</td>\n",
       "      <td>1.8175</td>\n",
       "      <td>0.0001</td>\n",
       "      <td>0.272898</td>\n",
       "      <td>0.000274</td>\n",
       "      <td>12.104562</td>\n",
       "      <td>0.012150</td>\n",
       "    </tr>\n",
       "  </tbody>\n",
       "</table>\n",
       "</div>"
      ],
      "text/plain": [
       "      U_s  Error_U_s     U_t  Error_U_t         Q   Error_Q        R_t  \\\n",
       "0  0.2000     0.0001  0.2282     0.0001  0.004564  0.000005  11.410000   \n",
       "1  0.5000     0.0001  0.5732     0.0001  0.028660  0.000030  11.464000   \n",
       "2  0.7500     0.0001  0.8670     0.0001  0.065025  0.000066  11.560000   \n",
       "3  1.0000     0.0001  1.1715     0.0001  0.117150  0.000118  11.715000   \n",
       "4  1.2499     0.0001  1.4851     0.0001  0.185623  0.000187  11.881751   \n",
       "5  1.5015     0.0001  1.8175     0.0001  0.272898  0.000274  12.104562   \n",
       "\n",
       "   Error_R_t  \n",
       "0   0.013702  \n",
       "1   0.011861  \n",
       "2   0.011738  \n",
       "3   0.011816  \n",
       "4   0.011947  \n",
       "5   0.012150  "
      ]
     },
     "metadata": {},
     "output_type": "display_data"
    },
    {
     "data": {
      "text/plain": [
       "'Experiment T=30'"
      ]
     },
     "metadata": {},
     "output_type": "display_data"
    },
    {
     "data": {
      "text/plain": [
       "'Constants:'"
      ]
     },
     "metadata": {},
     "output_type": "display_data"
    },
    {
     "data": {
      "text/html": [
       "<div>\n",
       "<table border=\"1\" class=\"dataframe\">\n",
       "  <thead>\n",
       "    <tr style=\"text-align: right;\">\n",
       "      <th></th>\n",
       "      <th>Value</th>\n",
       "      <th>Error</th>\n",
       "      <th>ErrorRel</th>\n",
       "    </tr>\n",
       "  </thead>\n",
       "  <tbody>\n",
       "    <tr>\n",
       "      <th>R_s</th>\n",
       "      <td>10.000000</td>\n",
       "      <td>1.000000e-02</td>\n",
       "      <td>NaN</td>\n",
       "    </tr>\n",
       "    <tr>\n",
       "      <th>L</th>\n",
       "      <td>0.365000</td>\n",
       "      <td>5.000000e-04</td>\n",
       "      <td>NaN</td>\n",
       "    </tr>\n",
       "    <tr>\n",
       "      <th>d_1</th>\n",
       "      <td>0.000055</td>\n",
       "      <td>5.000000e-07</td>\n",
       "      <td>NaN</td>\n",
       "    </tr>\n",
       "    <tr>\n",
       "      <th>d_2</th>\n",
       "      <td>0.010000</td>\n",
       "      <td>5.000000e-04</td>\n",
       "      <td>NaN</td>\n",
       "    </tr>\n",
       "    <tr>\n",
       "      <th>T</th>\n",
       "      <td>303.450000</td>\n",
       "      <td>5.000000e-02</td>\n",
       "      <td>NaN</td>\n",
       "    </tr>\n",
       "  </tbody>\n",
       "</table>\n",
       "</div>"
      ],
      "text/plain": [
       "          Value         Error  ErrorRel\n",
       "R_s   10.000000  1.000000e-02       NaN\n",
       "L      0.365000  5.000000e-04       NaN\n",
       "d_1    0.000055  5.000000e-07       NaN\n",
       "d_2    0.010000  5.000000e-04       NaN\n",
       "T    303.450000  5.000000e-02       NaN"
      ]
     },
     "metadata": {},
     "output_type": "display_data"
    },
    {
     "data": {
      "text/plain": [
       "'Measurements:'"
      ]
     },
     "metadata": {},
     "output_type": "display_data"
    },
    {
     "data": {
      "text/html": [
       "<div>\n",
       "<table border=\"1\" class=\"dataframe\">\n",
       "  <thead>\n",
       "    <tr style=\"text-align: right;\">\n",
       "      <th></th>\n",
       "      <th>U_s</th>\n",
       "      <th>Error_U_s</th>\n",
       "      <th>U_t</th>\n",
       "      <th>Error_U_t</th>\n",
       "      <th>Q</th>\n",
       "      <th>Error_Q</th>\n",
       "      <th>R_t</th>\n",
       "      <th>Error_R_t</th>\n",
       "    </tr>\n",
       "  </thead>\n",
       "  <tbody>\n",
       "    <tr>\n",
       "      <th>0</th>\n",
       "      <td>0.2000</td>\n",
       "      <td>0.0001</td>\n",
       "      <td>0.2310</td>\n",
       "      <td>0.0001</td>\n",
       "      <td>0.004620</td>\n",
       "      <td>0.000006</td>\n",
       "      <td>11.550000</td>\n",
       "      <td>0.013847</td>\n",
       "    </tr>\n",
       "    <tr>\n",
       "      <th>1</th>\n",
       "      <td>0.5000</td>\n",
       "      <td>0.0001</td>\n",
       "      <td>0.5800</td>\n",
       "      <td>0.0001</td>\n",
       "      <td>0.029000</td>\n",
       "      <td>0.000030</td>\n",
       "      <td>11.600000</td>\n",
       "      <td>0.011998</td>\n",
       "    </tr>\n",
       "    <tr>\n",
       "      <th>2</th>\n",
       "      <td>0.7495</td>\n",
       "      <td>0.0001</td>\n",
       "      <td>0.8769</td>\n",
       "      <td>0.0001</td>\n",
       "      <td>0.065724</td>\n",
       "      <td>0.000067</td>\n",
       "      <td>11.699800</td>\n",
       "      <td>0.011879</td>\n",
       "    </tr>\n",
       "    <tr>\n",
       "      <th>3</th>\n",
       "      <td>1.0010</td>\n",
       "      <td>0.0001</td>\n",
       "      <td>1.1842</td>\n",
       "      <td>0.0001</td>\n",
       "      <td>0.118538</td>\n",
       "      <td>0.000120</td>\n",
       "      <td>11.830170</td>\n",
       "      <td>0.011931</td>\n",
       "    </tr>\n",
       "    <tr>\n",
       "      <th>4</th>\n",
       "      <td>1.2485</td>\n",
       "      <td>0.0001</td>\n",
       "      <td>1.5002</td>\n",
       "      <td>0.0001</td>\n",
       "      <td>0.187300</td>\n",
       "      <td>0.000188</td>\n",
       "      <td>12.016019</td>\n",
       "      <td>0.012081</td>\n",
       "    </tr>\n",
       "    <tr>\n",
       "      <th>5</th>\n",
       "      <td>1.5042</td>\n",
       "      <td>0.0001</td>\n",
       "      <td>1.8430</td>\n",
       "      <td>0.0001</td>\n",
       "      <td>0.277224</td>\n",
       "      <td>0.000278</td>\n",
       "      <td>12.252360</td>\n",
       "      <td>0.012297</td>\n",
       "    </tr>\n",
       "  </tbody>\n",
       "</table>\n",
       "</div>"
      ],
      "text/plain": [
       "      U_s  Error_U_s     U_t  Error_U_t         Q   Error_Q        R_t  \\\n",
       "0  0.2000     0.0001  0.2310     0.0001  0.004620  0.000006  11.550000   \n",
       "1  0.5000     0.0001  0.5800     0.0001  0.029000  0.000030  11.600000   \n",
       "2  0.7495     0.0001  0.8769     0.0001  0.065724  0.000067  11.699800   \n",
       "3  1.0010     0.0001  1.1842     0.0001  0.118538  0.000120  11.830170   \n",
       "4  1.2485     0.0001  1.5002     0.0001  0.187300  0.000188  12.016019   \n",
       "5  1.5042     0.0001  1.8430     0.0001  0.277224  0.000278  12.252360   \n",
       "\n",
       "   Error_R_t  \n",
       "0   0.013847  \n",
       "1   0.011998  \n",
       "2   0.011879  \n",
       "3   0.011931  \n",
       "4   0.012081  \n",
       "5   0.012297  "
      ]
     },
     "metadata": {},
     "output_type": "display_data"
    },
    {
     "data": {
      "text/plain": [
       "'Experiment T=40'"
      ]
     },
     "metadata": {},
     "output_type": "display_data"
    },
    {
     "data": {
      "text/plain": [
       "'Constants:'"
      ]
     },
     "metadata": {},
     "output_type": "display_data"
    },
    {
     "data": {
      "text/html": [
       "<div>\n",
       "<table border=\"1\" class=\"dataframe\">\n",
       "  <thead>\n",
       "    <tr style=\"text-align: right;\">\n",
       "      <th></th>\n",
       "      <th>Value</th>\n",
       "      <th>Error</th>\n",
       "      <th>ErrorRel</th>\n",
       "    </tr>\n",
       "  </thead>\n",
       "  <tbody>\n",
       "    <tr>\n",
       "      <th>R_s</th>\n",
       "      <td>10.000000</td>\n",
       "      <td>1.000000e-02</td>\n",
       "      <td>NaN</td>\n",
       "    </tr>\n",
       "    <tr>\n",
       "      <th>L</th>\n",
       "      <td>0.365000</td>\n",
       "      <td>5.000000e-04</td>\n",
       "      <td>NaN</td>\n",
       "    </tr>\n",
       "    <tr>\n",
       "      <th>d_1</th>\n",
       "      <td>0.000055</td>\n",
       "      <td>5.000000e-07</td>\n",
       "      <td>NaN</td>\n",
       "    </tr>\n",
       "    <tr>\n",
       "      <th>d_2</th>\n",
       "      <td>0.010000</td>\n",
       "      <td>5.000000e-04</td>\n",
       "      <td>NaN</td>\n",
       "    </tr>\n",
       "    <tr>\n",
       "      <th>T</th>\n",
       "      <td>314.050000</td>\n",
       "      <td>5.000000e-02</td>\n",
       "      <td>NaN</td>\n",
       "    </tr>\n",
       "  </tbody>\n",
       "</table>\n",
       "</div>"
      ],
      "text/plain": [
       "          Value         Error  ErrorRel\n",
       "R_s   10.000000  1.000000e-02       NaN\n",
       "L      0.365000  5.000000e-04       NaN\n",
       "d_1    0.000055  5.000000e-07       NaN\n",
       "d_2    0.010000  5.000000e-04       NaN\n",
       "T    314.050000  5.000000e-02       NaN"
      ]
     },
     "metadata": {},
     "output_type": "display_data"
    },
    {
     "data": {
      "text/plain": [
       "'Measurements:'"
      ]
     },
     "metadata": {},
     "output_type": "display_data"
    },
    {
     "data": {
      "text/html": [
       "<div>\n",
       "<table border=\"1\" class=\"dataframe\">\n",
       "  <thead>\n",
       "    <tr style=\"text-align: right;\">\n",
       "      <th></th>\n",
       "      <th>U_s</th>\n",
       "      <th>Error_U_s</th>\n",
       "      <th>U_t</th>\n",
       "      <th>Error_U_t</th>\n",
       "      <th>Q</th>\n",
       "      <th>Error_Q</th>\n",
       "      <th>R_t</th>\n",
       "      <th>Error_R_t</th>\n",
       "    </tr>\n",
       "  </thead>\n",
       "  <tbody>\n",
       "    <tr>\n",
       "      <th>0</th>\n",
       "      <td>0.2000</td>\n",
       "      <td>0.0001</td>\n",
       "      <td>0.2382</td>\n",
       "      <td>0.0001</td>\n",
       "      <td>0.004764</td>\n",
       "      <td>0.000006</td>\n",
       "      <td>11.910000</td>\n",
       "      <td>0.014224</td>\n",
       "    </tr>\n",
       "    <tr>\n",
       "      <th>1</th>\n",
       "      <td>0.5000</td>\n",
       "      <td>0.0001</td>\n",
       "      <td>0.5985</td>\n",
       "      <td>0.0001</td>\n",
       "      <td>0.029925</td>\n",
       "      <td>0.000031</td>\n",
       "      <td>11.970000</td>\n",
       "      <td>0.012370</td>\n",
       "    </tr>\n",
       "    <tr>\n",
       "      <th>2</th>\n",
       "      <td>0.7500</td>\n",
       "      <td>0.0001</td>\n",
       "      <td>0.9047</td>\n",
       "      <td>0.0001</td>\n",
       "      <td>0.067853</td>\n",
       "      <td>0.000069</td>\n",
       "      <td>12.062667</td>\n",
       "      <td>0.012242</td>\n",
       "    </tr>\n",
       "    <tr>\n",
       "      <th>3</th>\n",
       "      <td>1.0009</td>\n",
       "      <td>0.0001</td>\n",
       "      <td>1.2215</td>\n",
       "      <td>0.0001</td>\n",
       "      <td>0.122260</td>\n",
       "      <td>0.000123</td>\n",
       "      <td>12.204016</td>\n",
       "      <td>0.012305</td>\n",
       "    </tr>\n",
       "    <tr>\n",
       "      <th>4</th>\n",
       "      <td>1.2495</td>\n",
       "      <td>0.0001</td>\n",
       "      <td>1.5477</td>\n",
       "      <td>0.0001</td>\n",
       "      <td>0.193385</td>\n",
       "      <td>0.000194</td>\n",
       "      <td>12.386555</td>\n",
       "      <td>0.012452</td>\n",
       "    </tr>\n",
       "    <tr>\n",
       "      <th>5</th>\n",
       "      <td>1.5007</td>\n",
       "      <td>0.0001</td>\n",
       "      <td>1.8934</td>\n",
       "      <td>0.0001</td>\n",
       "      <td>0.284143</td>\n",
       "      <td>0.000285</td>\n",
       "      <td>12.616779</td>\n",
       "      <td>0.012662</td>\n",
       "    </tr>\n",
       "  </tbody>\n",
       "</table>\n",
       "</div>"
      ],
      "text/plain": [
       "      U_s  Error_U_s     U_t  Error_U_t         Q   Error_Q        R_t  \\\n",
       "0  0.2000     0.0001  0.2382     0.0001  0.004764  0.000006  11.910000   \n",
       "1  0.5000     0.0001  0.5985     0.0001  0.029925  0.000031  11.970000   \n",
       "2  0.7500     0.0001  0.9047     0.0001  0.067853  0.000069  12.062667   \n",
       "3  1.0009     0.0001  1.2215     0.0001  0.122260  0.000123  12.204016   \n",
       "4  1.2495     0.0001  1.5477     0.0001  0.193385  0.000194  12.386555   \n",
       "5  1.5007     0.0001  1.8934     0.0001  0.284143  0.000285  12.616779   \n",
       "\n",
       "   Error_R_t  \n",
       "0   0.014224  \n",
       "1   0.012370  \n",
       "2   0.012242  \n",
       "3   0.012305  \n",
       "4   0.012452  \n",
       "5   0.012662  "
      ]
     },
     "metadata": {},
     "output_type": "display_data"
    },
    {
     "data": {
      "text/plain": [
       "'Experiment T=50'"
      ]
     },
     "metadata": {},
     "output_type": "display_data"
    },
    {
     "data": {
      "text/plain": [
       "'Constants:'"
      ]
     },
     "metadata": {},
     "output_type": "display_data"
    },
    {
     "data": {
      "text/html": [
       "<div>\n",
       "<table border=\"1\" class=\"dataframe\">\n",
       "  <thead>\n",
       "    <tr style=\"text-align: right;\">\n",
       "      <th></th>\n",
       "      <th>Value</th>\n",
       "      <th>Error</th>\n",
       "      <th>ErrorRel</th>\n",
       "    </tr>\n",
       "  </thead>\n",
       "  <tbody>\n",
       "    <tr>\n",
       "      <th>R_s</th>\n",
       "      <td>10.000000</td>\n",
       "      <td>1.000000e-02</td>\n",
       "      <td>NaN</td>\n",
       "    </tr>\n",
       "    <tr>\n",
       "      <th>L</th>\n",
       "      <td>0.365000</td>\n",
       "      <td>5.000000e-04</td>\n",
       "      <td>NaN</td>\n",
       "    </tr>\n",
       "    <tr>\n",
       "      <th>d_1</th>\n",
       "      <td>0.000055</td>\n",
       "      <td>5.000000e-07</td>\n",
       "      <td>NaN</td>\n",
       "    </tr>\n",
       "    <tr>\n",
       "      <th>d_2</th>\n",
       "      <td>0.010000</td>\n",
       "      <td>5.000000e-04</td>\n",
       "      <td>NaN</td>\n",
       "    </tr>\n",
       "    <tr>\n",
       "      <th>T</th>\n",
       "      <td>323.150000</td>\n",
       "      <td>5.000000e-02</td>\n",
       "      <td>NaN</td>\n",
       "    </tr>\n",
       "  </tbody>\n",
       "</table>\n",
       "</div>"
      ],
      "text/plain": [
       "          Value         Error  ErrorRel\n",
       "R_s   10.000000  1.000000e-02       NaN\n",
       "L      0.365000  5.000000e-04       NaN\n",
       "d_1    0.000055  5.000000e-07       NaN\n",
       "d_2    0.010000  5.000000e-04       NaN\n",
       "T    323.150000  5.000000e-02       NaN"
      ]
     },
     "metadata": {},
     "output_type": "display_data"
    },
    {
     "data": {
      "text/plain": [
       "'Measurements:'"
      ]
     },
     "metadata": {},
     "output_type": "display_data"
    },
    {
     "data": {
      "text/html": [
       "<div>\n",
       "<table border=\"1\" class=\"dataframe\">\n",
       "  <thead>\n",
       "    <tr style=\"text-align: right;\">\n",
       "      <th></th>\n",
       "      <th>U_s</th>\n",
       "      <th>Error_U_s</th>\n",
       "      <th>U_t</th>\n",
       "      <th>Error_U_t</th>\n",
       "      <th>Q</th>\n",
       "      <th>Error_Q</th>\n",
       "      <th>R_t</th>\n",
       "      <th>Error_R_t</th>\n",
       "    </tr>\n",
       "  </thead>\n",
       "  <tbody>\n",
       "    <tr>\n",
       "      <th>0</th>\n",
       "      <td>0.2000</td>\n",
       "      <td>0.0001</td>\n",
       "      <td>0.2444</td>\n",
       "      <td>0.0001</td>\n",
       "      <td>0.004888</td>\n",
       "      <td>0.000006</td>\n",
       "      <td>12.220000</td>\n",
       "      <td>0.014549</td>\n",
       "    </tr>\n",
       "    <tr>\n",
       "      <th>1</th>\n",
       "      <td>0.5000</td>\n",
       "      <td>0.0001</td>\n",
       "      <td>0.6140</td>\n",
       "      <td>0.0001</td>\n",
       "      <td>0.030700</td>\n",
       "      <td>0.000032</td>\n",
       "      <td>12.280000</td>\n",
       "      <td>0.012682</td>\n",
       "    </tr>\n",
       "    <tr>\n",
       "      <th>2</th>\n",
       "      <td>0.7499</td>\n",
       "      <td>0.0001</td>\n",
       "      <td>0.9280</td>\n",
       "      <td>0.0001</td>\n",
       "      <td>0.069591</td>\n",
       "      <td>0.000071</td>\n",
       "      <td>12.374983</td>\n",
       "      <td>0.012556</td>\n",
       "    </tr>\n",
       "    <tr>\n",
       "      <th>3</th>\n",
       "      <td>1.0008</td>\n",
       "      <td>0.0001</td>\n",
       "      <td>1.2528</td>\n",
       "      <td>0.0001</td>\n",
       "      <td>0.125380</td>\n",
       "      <td>0.000126</td>\n",
       "      <td>12.517986</td>\n",
       "      <td>0.012620</td>\n",
       "    </tr>\n",
       "    <tr>\n",
       "      <th>4</th>\n",
       "      <td>1.2489</td>\n",
       "      <td>0.0001</td>\n",
       "      <td>1.5865</td>\n",
       "      <td>0.0001</td>\n",
       "      <td>0.198138</td>\n",
       "      <td>0.000199</td>\n",
       "      <td>12.703179</td>\n",
       "      <td>0.012769</td>\n",
       "    </tr>\n",
       "    <tr>\n",
       "      <th>5</th>\n",
       "      <td>1.4997</td>\n",
       "      <td>0.0001</td>\n",
       "      <td>1.9395</td>\n",
       "      <td>0.0001</td>\n",
       "      <td>0.290867</td>\n",
       "      <td>0.000292</td>\n",
       "      <td>12.932587</td>\n",
       "      <td>0.012978</td>\n",
       "    </tr>\n",
       "  </tbody>\n",
       "</table>\n",
       "</div>"
      ],
      "text/plain": [
       "      U_s  Error_U_s     U_t  Error_U_t         Q   Error_Q        R_t  \\\n",
       "0  0.2000     0.0001  0.2444     0.0001  0.004888  0.000006  12.220000   \n",
       "1  0.5000     0.0001  0.6140     0.0001  0.030700  0.000032  12.280000   \n",
       "2  0.7499     0.0001  0.9280     0.0001  0.069591  0.000071  12.374983   \n",
       "3  1.0008     0.0001  1.2528     0.0001  0.125380  0.000126  12.517986   \n",
       "4  1.2489     0.0001  1.5865     0.0001  0.198138  0.000199  12.703179   \n",
       "5  1.4997     0.0001  1.9395     0.0001  0.290867  0.000292  12.932587   \n",
       "\n",
       "   Error_R_t  \n",
       "0   0.014549  \n",
       "1   0.012682  \n",
       "2   0.012556  \n",
       "3   0.012620  \n",
       "4   0.012769  \n",
       "5   0.012978  "
      ]
     },
     "metadata": {},
     "output_type": "display_data"
    },
    {
     "data": {
      "text/plain": [
       "'Experiment T=60'"
      ]
     },
     "metadata": {},
     "output_type": "display_data"
    },
    {
     "data": {
      "text/plain": [
       "'Constants:'"
      ]
     },
     "metadata": {},
     "output_type": "display_data"
    },
    {
     "data": {
      "text/html": [
       "<div>\n",
       "<table border=\"1\" class=\"dataframe\">\n",
       "  <thead>\n",
       "    <tr style=\"text-align: right;\">\n",
       "      <th></th>\n",
       "      <th>Value</th>\n",
       "      <th>Error</th>\n",
       "      <th>ErrorRel</th>\n",
       "    </tr>\n",
       "  </thead>\n",
       "  <tbody>\n",
       "    <tr>\n",
       "      <th>R_s</th>\n",
       "      <td>10.000000</td>\n",
       "      <td>1.000000e-02</td>\n",
       "      <td>NaN</td>\n",
       "    </tr>\n",
       "    <tr>\n",
       "      <th>L</th>\n",
       "      <td>0.365000</td>\n",
       "      <td>5.000000e-04</td>\n",
       "      <td>NaN</td>\n",
       "    </tr>\n",
       "    <tr>\n",
       "      <th>d_1</th>\n",
       "      <td>0.000055</td>\n",
       "      <td>5.000000e-07</td>\n",
       "      <td>NaN</td>\n",
       "    </tr>\n",
       "    <tr>\n",
       "      <th>d_2</th>\n",
       "      <td>0.010000</td>\n",
       "      <td>5.000000e-04</td>\n",
       "      <td>NaN</td>\n",
       "    </tr>\n",
       "    <tr>\n",
       "      <th>T</th>\n",
       "      <td>333.150000</td>\n",
       "      <td>5.000000e-02</td>\n",
       "      <td>NaN</td>\n",
       "    </tr>\n",
       "  </tbody>\n",
       "</table>\n",
       "</div>"
      ],
      "text/plain": [
       "          Value         Error  ErrorRel\n",
       "R_s   10.000000  1.000000e-02       NaN\n",
       "L      0.365000  5.000000e-04       NaN\n",
       "d_1    0.000055  5.000000e-07       NaN\n",
       "d_2    0.010000  5.000000e-04       NaN\n",
       "T    333.150000  5.000000e-02       NaN"
      ]
     },
     "metadata": {},
     "output_type": "display_data"
    },
    {
     "data": {
      "text/plain": [
       "'Measurements:'"
      ]
     },
     "metadata": {},
     "output_type": "display_data"
    },
    {
     "data": {
      "text/html": [
       "<div>\n",
       "<table border=\"1\" class=\"dataframe\">\n",
       "  <thead>\n",
       "    <tr style=\"text-align: right;\">\n",
       "      <th></th>\n",
       "      <th>U_s</th>\n",
       "      <th>Error_U_s</th>\n",
       "      <th>U_t</th>\n",
       "      <th>Error_U_t</th>\n",
       "      <th>Q</th>\n",
       "      <th>Error_Q</th>\n",
       "      <th>R_t</th>\n",
       "      <th>Error_R_t</th>\n",
       "    </tr>\n",
       "  </thead>\n",
       "  <tbody>\n",
       "    <tr>\n",
       "      <th>0</th>\n",
       "      <td>0.2000</td>\n",
       "      <td>0.0001</td>\n",
       "      <td>0.2517</td>\n",
       "      <td>0.0001</td>\n",
       "      <td>0.005034</td>\n",
       "      <td>0.000006</td>\n",
       "      <td>12.585000</td>\n",
       "      <td>0.014932</td>\n",
       "    </tr>\n",
       "    <tr>\n",
       "      <th>1</th>\n",
       "      <td>0.5003</td>\n",
       "      <td>0.0001</td>\n",
       "      <td>0.6323</td>\n",
       "      <td>0.0001</td>\n",
       "      <td>0.031634</td>\n",
       "      <td>0.000033</td>\n",
       "      <td>12.638417</td>\n",
       "      <td>0.013042</td>\n",
       "    </tr>\n",
       "    <tr>\n",
       "      <th>2</th>\n",
       "      <td>0.7502</td>\n",
       "      <td>0.0001</td>\n",
       "      <td>0.9558</td>\n",
       "      <td>0.0001</td>\n",
       "      <td>0.071704</td>\n",
       "      <td>0.000073</td>\n",
       "      <td>12.740603</td>\n",
       "      <td>0.012922</td>\n",
       "    </tr>\n",
       "    <tr>\n",
       "      <th>3</th>\n",
       "      <td>0.9990</td>\n",
       "      <td>0.0001</td>\n",
       "      <td>1.2870</td>\n",
       "      <td>0.0001</td>\n",
       "      <td>0.128571</td>\n",
       "      <td>0.000130</td>\n",
       "      <td>12.882883</td>\n",
       "      <td>0.012986</td>\n",
       "    </tr>\n",
       "    <tr>\n",
       "      <th>4</th>\n",
       "      <td>1.2500</td>\n",
       "      <td>0.0001</td>\n",
       "      <td>1.6339</td>\n",
       "      <td>0.0001</td>\n",
       "      <td>0.204237</td>\n",
       "      <td>0.000205</td>\n",
       "      <td>13.071200</td>\n",
       "      <td>0.013137</td>\n",
       "    </tr>\n",
       "    <tr>\n",
       "      <th>5</th>\n",
       "      <td>1.5009</td>\n",
       "      <td>0.0001</td>\n",
       "      <td>1.9972</td>\n",
       "      <td>0.0001</td>\n",
       "      <td>0.299760</td>\n",
       "      <td>0.000301</td>\n",
       "      <td>13.306683</td>\n",
       "      <td>0.013353</td>\n",
       "    </tr>\n",
       "  </tbody>\n",
       "</table>\n",
       "</div>"
      ],
      "text/plain": [
       "      U_s  Error_U_s     U_t  Error_U_t         Q   Error_Q        R_t  \\\n",
       "0  0.2000     0.0001  0.2517     0.0001  0.005034  0.000006  12.585000   \n",
       "1  0.5003     0.0001  0.6323     0.0001  0.031634  0.000033  12.638417   \n",
       "2  0.7502     0.0001  0.9558     0.0001  0.071704  0.000073  12.740603   \n",
       "3  0.9990     0.0001  1.2870     0.0001  0.128571  0.000130  12.882883   \n",
       "4  1.2500     0.0001  1.6339     0.0001  0.204237  0.000205  13.071200   \n",
       "5  1.5009     0.0001  1.9972     0.0001  0.299760  0.000301  13.306683   \n",
       "\n",
       "   Error_R_t  \n",
       "0   0.014932  \n",
       "1   0.013042  \n",
       "2   0.012922  \n",
       "3   0.012986  \n",
       "4   0.013137  \n",
       "5   0.013353  "
      ]
     },
     "metadata": {},
     "output_type": "display_data"
    }
   ],
   "source": [
    "for e in experiments:\n",
    "    disp(\"Experiment %s\" % e)\n",
    "    disp(\"Constants:\", data[e])\n",
    "    disp(\"Measurements:\", columns[e])"
   ]
  },
  {
   "cell_type": "code",
   "execution_count": 5,
   "metadata": {
    "collapsed": false
   },
   "outputs": [
    {
     "name": "stdout",
     "output_type": "stream",
     "text": [
      "Initial guesses for R_t:\n",
      "             Value     Error  ErrorRel\n",
      "dRt_dQ   2.615578  0.054236  0.020736\n",
      "R_0     11.395356  0.007985  0.000701\n"
     ]
    },
    {
     "data": {
      "text/plain": [
       "'Final guesses for R_t:'"
      ]
     },
     "metadata": {},
     "output_type": "display_data"
    },
    {
     "data": {
      "text/html": [
       "<div>\n",
       "<table border=\"1\" class=\"dataframe\">\n",
       "  <thead>\n",
       "    <tr style=\"text-align: right;\">\n",
       "      <th></th>\n",
       "      <th>Value</th>\n",
       "      <th>Error</th>\n",
       "      <th>ErrorRel</th>\n",
       "    </tr>\n",
       "  </thead>\n",
       "  <tbody>\n",
       "    <tr>\n",
       "      <th>dRt_dQ</th>\n",
       "      <td>2.615625</td>\n",
       "      <td>0.037776</td>\n",
       "      <td>0.014442</td>\n",
       "    </tr>\n",
       "    <tr>\n",
       "      <th>R_0</th>\n",
       "      <td>11.395352</td>\n",
       "      <td>0.005558</td>\n",
       "      <td>0.000488</td>\n",
       "    </tr>\n",
       "  </tbody>\n",
       "</table>\n",
       "</div>"
      ],
      "text/plain": [
       "            Value     Error  ErrorRel\n",
       "dRt_dQ   2.615625  0.037776  0.014442\n",
       "R_0     11.395352  0.005558  0.000488"
      ]
     },
     "metadata": {},
     "output_type": "display_data"
    },
    {
     "name": "stdout",
     "output_type": "stream",
     "text": [
      "Initial guesses for R_t:\n",
      "             Value     Error  ErrorRel\n",
      "dRt_dQ   2.600358  0.054079  0.020797\n",
      "R_0     11.528547  0.008065  0.000700\n"
     ]
    },
    {
     "data": {
      "text/plain": [
       "'Final guesses for R_t:'"
      ]
     },
     "metadata": {},
     "output_type": "display_data"
    },
    {
     "data": {
      "text/html": [
       "<div>\n",
       "<table border=\"1\" class=\"dataframe\">\n",
       "  <thead>\n",
       "    <tr style=\"text-align: right;\">\n",
       "      <th></th>\n",
       "      <th>Value</th>\n",
       "      <th>Error</th>\n",
       "      <th>ErrorRel</th>\n",
       "    </tr>\n",
       "  </thead>\n",
       "  <tbody>\n",
       "    <tr>\n",
       "      <th>dRt_dQ</th>\n",
       "      <td>2.600326</td>\n",
       "      <td>0.026238</td>\n",
       "      <td>0.010090</td>\n",
       "    </tr>\n",
       "    <tr>\n",
       "      <th>R_0</th>\n",
       "      <td>11.528550</td>\n",
       "      <td>0.003910</td>\n",
       "      <td>0.000339</td>\n",
       "    </tr>\n",
       "  </tbody>\n",
       "</table>\n",
       "</div>"
      ],
      "text/plain": [
       "            Value     Error  ErrorRel\n",
       "dRt_dQ   2.600326  0.026238  0.010090\n",
       "R_0     11.528550  0.003910  0.000339"
      ]
     },
     "metadata": {},
     "output_type": "display_data"
    },
    {
     "name": "stdout",
     "output_type": "stream",
     "text": [
      "Initial guesses for R_t:\n",
      "             Value     Error  ErrorRel\n",
      "dRt_dQ   2.542295  0.054263  0.021344\n",
      "R_0     11.893899  0.008320  0.000699\n"
     ]
    },
    {
     "data": {
      "text/plain": [
       "'Final guesses for R_t:'"
      ]
     },
     "metadata": {},
     "output_type": "display_data"
    },
    {
     "data": {
      "text/html": [
       "<div>\n",
       "<table border=\"1\" class=\"dataframe\">\n",
       "  <thead>\n",
       "    <tr style=\"text-align: right;\">\n",
       "      <th></th>\n",
       "      <th>Value</th>\n",
       "      <th>Error</th>\n",
       "      <th>ErrorRel</th>\n",
       "    </tr>\n",
       "  </thead>\n",
       "  <tbody>\n",
       "    <tr>\n",
       "      <th>dRt_dQ</th>\n",
       "      <td>2.542287</td>\n",
       "      <td>0.011621</td>\n",
       "      <td>0.004571</td>\n",
       "    </tr>\n",
       "    <tr>\n",
       "      <th>R_0</th>\n",
       "      <td>11.893900</td>\n",
       "      <td>0.001780</td>\n",
       "      <td>0.000150</td>\n",
       "    </tr>\n",
       "  </tbody>\n",
       "</table>\n",
       "</div>"
      ],
      "text/plain": [
       "            Value     Error  ErrorRel\n",
       "dRt_dQ   2.542287  0.011621  0.004571\n",
       "R_0     11.893900  0.001780  0.000150"
      ]
     },
     "metadata": {},
     "output_type": "display_data"
    },
    {
     "name": "stdout",
     "output_type": "stream",
     "text": [
      "Initial guesses for R_t:\n",
      "             Value     Error  ErrorRel\n",
      "dRt_dQ   2.507445  0.054318  0.021663\n",
      "R_0     12.203912  0.008528  0.000699\n"
     ]
    },
    {
     "data": {
      "text/plain": [
       "'Final guesses for R_t:'"
      ]
     },
     "metadata": {},
     "output_type": "display_data"
    },
    {
     "data": {
      "text/html": [
       "<div>\n",
       "<table border=\"1\" class=\"dataframe\">\n",
       "  <thead>\n",
       "    <tr style=\"text-align: right;\">\n",
       "      <th></th>\n",
       "      <th>Value</th>\n",
       "      <th>Error</th>\n",
       "      <th>ErrorRel</th>\n",
       "    </tr>\n",
       "  </thead>\n",
       "  <tbody>\n",
       "    <tr>\n",
       "      <th>dRt_dQ</th>\n",
       "      <td>2.507445</td>\n",
       "      <td>0.011800</td>\n",
       "      <td>0.004706</td>\n",
       "    </tr>\n",
       "    <tr>\n",
       "      <th>R_0</th>\n",
       "      <td>12.203912</td>\n",
       "      <td>0.001851</td>\n",
       "      <td>0.000152</td>\n",
       "    </tr>\n",
       "  </tbody>\n",
       "</table>\n",
       "</div>"
      ],
      "text/plain": [
       "            Value     Error  ErrorRel\n",
       "dRt_dQ   2.507445  0.011800  0.004706\n",
       "R_0     12.203912  0.001851  0.000152"
      ]
     },
     "metadata": {},
     "output_type": "display_data"
    },
    {
     "name": "stdout",
     "output_type": "stream",
     "text": [
      "Initial guesses for R_t:\n",
      "             Value     Error  ErrorRel\n",
      "dRt_dQ   2.473017  0.054196  0.021915\n",
      "R_0     12.565099  0.008762  0.000697\n"
     ]
    },
    {
     "data": {
      "text/plain": [
       "'Final guesses for R_t:'"
      ]
     },
     "metadata": {},
     "output_type": "display_data"
    },
    {
     "data": {
      "text/html": [
       "<div>\n",
       "<table border=\"1\" class=\"dataframe\">\n",
       "  <thead>\n",
       "    <tr style=\"text-align: right;\">\n",
       "      <th></th>\n",
       "      <th>Value</th>\n",
       "      <th>Error</th>\n",
       "      <th>ErrorRel</th>\n",
       "    </tr>\n",
       "  </thead>\n",
       "  <tbody>\n",
       "    <tr>\n",
       "      <th>dRt_dQ</th>\n",
       "      <td>2.473012</td>\n",
       "      <td>0.017522</td>\n",
       "      <td>0.007085</td>\n",
       "    </tr>\n",
       "    <tr>\n",
       "      <th>R_0</th>\n",
       "      <td>12.565100</td>\n",
       "      <td>0.002831</td>\n",
       "      <td>0.000225</td>\n",
       "    </tr>\n",
       "  </tbody>\n",
       "</table>\n",
       "</div>"
      ],
      "text/plain": [
       "            Value     Error  ErrorRel\n",
       "dRt_dQ   2.473012  0.017522  0.007085\n",
       "R_0     12.565100  0.002831  0.000225"
      ]
     },
     "metadata": {},
     "output_type": "display_data"
    },
    {
     "data": {
      "text/plain": [
       "<matplotlib.legend.Legend at 0x7f35af2ed7b8>"
      ]
     },
     "execution_count": 5,
     "metadata": {},
     "output_type": "execute_result"
    },
    {
     "data": {
      "image/png": "[encoded data removed]",
      "text/plain": [
       "<matplotlib.figure.Figure at 0x7f35af4050f0>"
      ]
     },
     "metadata": {},
     "output_type": "display_data"
    }
   ],
   "source": [
    "plt.title(\"Heating power + fit\")\n",
    "plt.ylabel(\"$R_t$, $\\Omega$\")\n",
    "plt.xlabel(\"$Q$, J\")\n",
    "\n",
    "for e in experiments:\n",
    "    plt.errorbar(y = columns[e].R_t,\n",
    "                 x = columns[e].Q,\n",
    "                 yerr = columns[e].Error_R_t,\n",
    "                 xerr = columns[e].Error_Q,\n",
    "                 label = \"%s\" % (e),\n",
    "                 linestyle = \"none\")\n",
    "\n",
    "plt.gca().set_prop_cycle(None)\n",
    "Q_linspace = ll.linspace([Q for Q in columns[e].Q for e in experiments])\n",
    "\n",
    "for e in experiments:\n",
    "    model = ll.fit2(name = \"R_t\",\n",
    "                    model = lambda Q, dRt_dQ, R_0: Q * dRt_dQ + R_0,\n",
    "                    x = columns[e].Q,\n",
    "                    y = columns[e].R_t,\n",
    "                    xerr = columns[e].Error_Q,\n",
    "                    yerr = columns[e].Error_R_t,\n",
    "                    data = data[e])\n",
    "    \n",
    "    plt.errorbar(y = model(Q_linspace),\n",
    "                 x = Q_linspace)\n",
    "    \n",
    "plt.legend(loc = \"best\")"
   ]
  },
  {
   "cell_type": "code",
   "execution_count": 6,
   "metadata": {
    "collapsed": false
   },
   "outputs": [
    {
     "name": "stdout",
     "output_type": "stream",
     "text": [
      "Initial guesses for R_0:\n",
      "            Value     Error  ErrorRel\n",
      "dR0_dT  0.034603  0.000123  0.003551\n",
      "R_0_0   1.027503  0.039175  0.038127\n"
     ]
    },
    {
     "data": {
      "text/plain": [
       "'Final guesses for R_0:'"
      ]
     },
     "metadata": {},
     "output_type": "display_data"
    },
    {
     "data": {
      "text/html": [
       "<div>\n",
       "<table border=\"1\" class=\"dataframe\">\n",
       "  <thead>\n",
       "    <tr style=\"text-align: right;\">\n",
       "      <th></th>\n",
       "      <th>Value</th>\n",
       "      <th>Error</th>\n",
       "      <th>ErrorRel</th>\n",
       "    </tr>\n",
       "  </thead>\n",
       "  <tbody>\n",
       "    <tr>\n",
       "      <th>dR0_dT</th>\n",
       "      <td>0.034593</td>\n",
       "      <td>0.000374</td>\n",
       "      <td>0.010817</td>\n",
       "    </tr>\n",
       "    <tr>\n",
       "      <th>R_0_0</th>\n",
       "      <td>1.031598</td>\n",
       "      <td>0.119186</td>\n",
       "      <td>0.115535</td>\n",
       "    </tr>\n",
       "  </tbody>\n",
       "</table>\n",
       "</div>"
      ],
      "text/plain": [
       "           Value     Error  ErrorRel\n",
       "dR0_dT  0.034593  0.000374  0.010817\n",
       "R_0_0   1.031598  0.119186  0.115535"
      ]
     },
     "metadata": {},
     "output_type": "display_data"
    },
    {
     "data": {
      "text/plain": [
       "<Container object of 3 artists>"
      ]
     },
     "execution_count": 6,
     "metadata": {},
     "output_type": "execute_result"
    },
    {
     "data": {
      "image/png": "[encoded data removed]",
      "text/plain": [
       "<matplotlib.figure.Figure at 0x7f35af11ed30>"
      ]
     },
     "metadata": {},
     "output_type": "display_data"
    }
   ],
   "source": [
    "plt.title(\"Temperature resistance drift\")\n",
    "plt.ylabel(\"$R_0$, $\\Omega$\")\n",
    "plt.xlabel(\"$T$, °C\")\n",
    "\n",
    "plt.errorbar(y = [data[e].Value[\"R_0\"] for e in experiments],\n",
    "             x = [data[e].Value[\"T\"] for e in experiments],\n",
    "             yerr = [data[e].Error[\"R_0\"] for e in experiments],\n",
    "             xerr = [data[e].Error[\"T\"] for e in experiments],\n",
    "             linestyle = \"none\")\n",
    "\n",
    "plt.gca().set_prop_cycle(None)\n",
    "T_linspace = ll.linspace([data[e].Value[\"T\"] for e in experiments])\n",
    "\n",
    "# TODO: implement passing iterables to `data` of ll.fit2()\n",
    "tmp = ll.varlist()\n",
    "model = ll.fit2(name = \"R_0\",\n",
    "                model = lambda T, dR0_dT, R_0_0: T * dR0_dT + R_0_0,\n",
    "                y = [data[e].Value[\"R_0\"] for e in experiments],\n",
    "                x = [data[e].Value[\"T\"] for e in experiments],\n",
    "                yerr = [data[e].Error[\"R_0\"] for e in experiments],\n",
    "                xerr = [data[e].Error[\"T\"] for e in experiments],\n",
    "                data = tmp)\n",
    "for e in experiments:\n",
    "    ll.add(data[e], tmp)\n",
    "\n",
    "plt.errorbar(x = T_linspace,\n",
    "             y = model(T_linspace))"
   ]
  },
  {
   "cell_type": "code",
   "execution_count": 7,
   "metadata": {
    "collapsed": false
   },
   "outputs": [
    {
     "data": {
      "text/plain": [
       "'Error influence estimations for chi:'"
      ]
     },
     "metadata": {},
     "output_type": "display_data"
    },
    {
     "data": {
      "text/html": [
       "<div>\n",
       "<table border=\"1\" class=\"dataframe\">\n",
       "  <thead>\n",
       "    <tr style=\"text-align: right;\">\n",
       "      <th></th>\n",
       "      <th>Error</th>\n",
       "      <th>Derivative</th>\n",
       "      <th>(E*D)^2</th>\n",
       "    </tr>\n",
       "  </thead>\n",
       "  <tbody>\n",
       "    <tr>\n",
       "      <th>L</th>\n",
       "      <td>0.0005</td>\n",
       "      <td>-0.0822052518783928</td>\n",
       "      <td>1.68942585909750e-9</td>\n",
       "    </tr>\n",
       "    <tr>\n",
       "      <th>dR0_dT</th>\n",
       "      <td>0.000374192</td>\n",
       "      <td>0.867373720859728</td>\n",
       "      <td>1.05342184337557e-7</td>\n",
       "    </tr>\n",
       "    <tr>\n",
       "      <th>dRt_dQ</th>\n",
       "      <td>0.037776</td>\n",
       "      <td>-0.0114714151169734</td>\n",
       "      <td>1.87786921999647e-7</td>\n",
       "    </tr>\n",
       "    <tr>\n",
       "      <th>d_1</th>\n",
       "      <td>5e-07</td>\n",
       "      <td>-104.851660723019</td>\n",
       "      <td>2.74846768909375e-9</td>\n",
       "    </tr>\n",
       "    <tr>\n",
       "      <th>d_2</th>\n",
       "      <td>0.0005</td>\n",
       "      <td>0.576684133976603</td>\n",
       "      <td>8.31411475950861e-8</td>\n",
       "    </tr>\n",
       "  </tbody>\n",
       "</table>\n",
       "</div>"
      ],
      "text/plain": [
       "              Error           Derivative              (E*D)^2\n",
       "L            0.0005  -0.0822052518783928  1.68942585909750e-9\n",
       "dR0_dT  0.000374192    0.867373720859728  1.05342184337557e-7\n",
       "dRt_dQ     0.037776  -0.0114714151169734  1.87786921999647e-7\n",
       "d_1           5e-07    -104.851660723019  2.74846768909375e-9\n",
       "d_2          0.0005    0.576684133976603  8.31411475950861e-8"
      ]
     },
     "metadata": {},
     "output_type": "display_data"
    },
    {
     "data": {
      "text/plain": [
       "'Error influence estimations for chi:'"
      ]
     },
     "metadata": {},
     "output_type": "display_data"
    },
    {
     "data": {
      "text/html": [
       "<div>\n",
       "<table border=\"1\" class=\"dataframe\">\n",
       "  <thead>\n",
       "    <tr style=\"text-align: right;\">\n",
       "      <th></th>\n",
       "      <th>Error</th>\n",
       "      <th>Derivative</th>\n",
       "      <th>(E*D)^2</th>\n",
       "    </tr>\n",
       "  </thead>\n",
       "  <tbody>\n",
       "    <tr>\n",
       "      <th>L</th>\n",
       "      <td>0.0005</td>\n",
       "      <td>-0.0826889118560888</td>\n",
       "      <td>1.70936403598601e-9</td>\n",
       "    </tr>\n",
       "    <tr>\n",
       "      <th>dR0_dT</th>\n",
       "      <td>0.000374192</td>\n",
       "      <td>0.872476970894235</td>\n",
       "      <td>1.06585406165750e-7</td>\n",
       "    </tr>\n",
       "    <tr>\n",
       "      <th>dRt_dQ</th>\n",
       "      <td>0.0262377</td>\n",
       "      <td>-0.0116067978581171</td>\n",
       "      <td>9.27416336869477e-8</td>\n",
       "    </tr>\n",
       "    <tr>\n",
       "      <th>d_1</th>\n",
       "      <td>5e-07</td>\n",
       "      <td>-105.468562328791</td>\n",
       "      <td>2.78090440992551e-9</td>\n",
       "    </tr>\n",
       "    <tr>\n",
       "      <th>d_2</th>\n",
       "      <td>0.0005</td>\n",
       "      <td>0.580077092808349</td>\n",
       "      <td>8.41223584002466e-8</td>\n",
       "    </tr>\n",
       "  </tbody>\n",
       "</table>\n",
       "</div>"
      ],
      "text/plain": [
       "              Error           Derivative              (E*D)^2\n",
       "L            0.0005  -0.0826889118560888  1.70936403598601e-9\n",
       "dR0_dT  0.000374192    0.872476970894235  1.06585406165750e-7\n",
       "dRt_dQ    0.0262377  -0.0116067978581171  9.27416336869477e-8\n",
       "d_1           5e-07    -105.468562328791  2.78090440992551e-9\n",
       "d_2          0.0005    0.580077092808349  8.41223584002466e-8"
      ]
     },
     "metadata": {},
     "output_type": "display_data"
    },
    {
     "data": {
      "text/plain": [
       "'Error influence estimations for chi:'"
      ]
     },
     "metadata": {},
     "output_type": "display_data"
    },
    {
     "data": {
      "text/html": [
       "<div>\n",
       "<table border=\"1\" class=\"dataframe\">\n",
       "  <thead>\n",
       "    <tr style=\"text-align: right;\">\n",
       "      <th></th>\n",
       "      <th>Error</th>\n",
       "      <th>Derivative</th>\n",
       "      <th>(E*D)^2</th>\n",
       "    </tr>\n",
       "  </thead>\n",
       "  <tbody>\n",
       "    <tr>\n",
       "      <th>L</th>\n",
       "      <td>0.0005</td>\n",
       "      <td>-0.0845766255130442</td>\n",
       "      <td>1.78830139579343e-9</td>\n",
       "    </tr>\n",
       "    <tr>\n",
       "      <th>dR0_dT</th>\n",
       "      <td>0.000374192</td>\n",
       "      <td>0.892394837224397</td>\n",
       "      <td>1.11507453418179e-7</td>\n",
       "    </tr>\n",
       "    <tr>\n",
       "      <th>dRt_dQ</th>\n",
       "      <td>0.011621</td>\n",
       "      <td>-0.0121427925084372</td>\n",
       "      <td>1.99123507102206e-8</td>\n",
       "    </tr>\n",
       "    <tr>\n",
       "      <th>d_1</th>\n",
       "      <td>5e-07</td>\n",
       "      <td>-107.876314964767</td>\n",
       "      <td>2.90932483259441e-9</td>\n",
       "    </tr>\n",
       "    <tr>\n",
       "      <th>d_2</th>\n",
       "      <td>0.0005</td>\n",
       "      <td>0.593319732306219</td>\n",
       "      <td>8.80070761859808e-8</td>\n",
       "    </tr>\n",
       "  </tbody>\n",
       "</table>\n",
       "</div>"
      ],
      "text/plain": [
       "              Error           Derivative              (E*D)^2\n",
       "L            0.0005  -0.0845766255130442  1.78830139579343e-9\n",
       "dR0_dT  0.000374192    0.892394837224397  1.11507453418179e-7\n",
       "dRt_dQ     0.011621  -0.0121427925084372  1.99123507102206e-8\n",
       "d_1           5e-07    -107.876314964767  2.90932483259441e-9\n",
       "d_2          0.0005    0.593319732306219  8.80070761859808e-8"
      ]
     },
     "metadata": {},
     "output_type": "display_data"
    },
    {
     "data": {
      "text/plain": [
       "'Error influence estimations for chi:'"
      ]
     },
     "metadata": {},
     "output_type": "display_data"
    },
    {
     "data": {
      "text/html": [
       "<div>\n",
       "<table border=\"1\" class=\"dataframe\">\n",
       "  <thead>\n",
       "    <tr style=\"text-align: right;\">\n",
       "      <th></th>\n",
       "      <th>Error</th>\n",
       "      <th>Derivative</th>\n",
       "      <th>(E*D)^2</th>\n",
       "    </tr>\n",
       "  </thead>\n",
       "  <tbody>\n",
       "    <tr>\n",
       "      <th>L</th>\n",
       "      <td>0.0005</td>\n",
       "      <td>-0.0857518548440334</td>\n",
       "      <td>1.83834515229805e-9</td>\n",
       "    </tr>\n",
       "    <tr>\n",
       "      <th>dR0_dT</th>\n",
       "      <td>0.000374192</td>\n",
       "      <td>0.904795055147111</td>\n",
       "      <td>1.14627873645125e-7</td>\n",
       "    </tr>\n",
       "    <tr>\n",
       "      <th>dRt_dQ</th>\n",
       "      <td>0.0118004</td>\n",
       "      <td>-0.0124825959403463</td>\n",
       "      <td>2.16970966275925e-8</td>\n",
       "    </tr>\n",
       "    <tr>\n",
       "      <th>d_1</th>\n",
       "      <td>5e-07</td>\n",
       "      <td>-109.375303706592</td>\n",
       "      <td>2.99073926522733e-9</td>\n",
       "    </tr>\n",
       "    <tr>\n",
       "      <th>d_2</th>\n",
       "      <td>0.0005</td>\n",
       "      <td>0.601564170386258</td>\n",
       "      <td>9.04698627731268e-8</td>\n",
       "    </tr>\n",
       "  </tbody>\n",
       "</table>\n",
       "</div>"
      ],
      "text/plain": [
       "              Error           Derivative              (E*D)^2\n",
       "L            0.0005  -0.0857518548440334  1.83834515229805e-9\n",
       "dR0_dT  0.000374192    0.904795055147111  1.14627873645125e-7\n",
       "dRt_dQ    0.0118004  -0.0124825959403463  2.16970966275925e-8\n",
       "d_1           5e-07    -109.375303706592  2.99073926522733e-9\n",
       "d_2          0.0005    0.601564170386258  9.04698627731268e-8"
      ]
     },
     "metadata": {},
     "output_type": "display_data"
    },
    {
     "data": {
      "text/plain": [
       "'Error influence estimations for chi:'"
      ]
     },
     "metadata": {},
     "output_type": "display_data"
    },
    {
     "data": {
      "text/html": [
       "<div>\n",
       "<table border=\"1\" class=\"dataframe\">\n",
       "  <thead>\n",
       "    <tr style=\"text-align: right;\">\n",
       "      <th></th>\n",
       "      <th>Error</th>\n",
       "      <th>Derivative</th>\n",
       "      <th>(E*D)^2</th>\n",
       "    </tr>\n",
       "  </thead>\n",
       "  <tbody>\n",
       "    <tr>\n",
       "      <th>L</th>\n",
       "      <td>0.0005</td>\n",
       "      <td>-0.0869458212065364</td>\n",
       "      <td>1.88989395631975e-9</td>\n",
       "    </tr>\n",
       "    <tr>\n",
       "      <th>dR0_dT</th>\n",
       "      <td>0.000374192</td>\n",
       "      <td>0.917392973440184</td>\n",
       "      <td>1.17842139359357e-7</td>\n",
       "    </tr>\n",
       "    <tr>\n",
       "      <th>dRt_dQ</th>\n",
       "      <td>0.0175224</td>\n",
       "      <td>-0.0128326188351257</td>\n",
       "      <td>5.05615306857774e-8</td>\n",
       "    </tr>\n",
       "    <tr>\n",
       "      <th>d_1</th>\n",
       "      <td>5e-07</td>\n",
       "      <td>-110.898191272718</td>\n",
       "      <td>3.07460220689010e-9</td>\n",
       "    </tr>\n",
       "    <tr>\n",
       "      <th>d_2</th>\n",
       "      <td>0.0005</td>\n",
       "      <td>0.609940051999951</td>\n",
       "      <td>9.30067167584257e-8</td>\n",
       "    </tr>\n",
       "  </tbody>\n",
       "</table>\n",
       "</div>"
      ],
      "text/plain": [
       "              Error           Derivative              (E*D)^2\n",
       "L            0.0005  -0.0869458212065364  1.88989395631975e-9\n",
       "dR0_dT  0.000374192    0.917392973440184  1.17842139359357e-7\n",
       "dRt_dQ    0.0175224  -0.0128326188351257  5.05615306857774e-8\n",
       "d_1           5e-07    -110.898191272718  3.07460220689010e-9\n",
       "d_2          0.0005    0.609940051999951  9.30067167584257e-8"
      ]
     },
     "metadata": {},
     "output_type": "display_data"
    },
    {
     "name": "stdout",
     "output_type": "stream",
     "text": [
      "Initial guesses for chi:\n",
      "           Value     Error  ErrorRel\n",
      "chi_A  0.001439  0.001650  1.147042\n",
      "chi_B  0.532868  0.199262  0.373943\n"
     ]
    },
    {
     "data": {
      "text/plain": [
       "'Final guesses for chi:'"
      ]
     },
     "metadata": {},
     "output_type": "display_data"
    },
    {
     "data": {
      "text/html": [
       "<div>\n",
       "<table border=\"1\" class=\"dataframe\">\n",
       "  <thead>\n",
       "    <tr style=\"text-align: right;\">\n",
       "      <th></th>\n",
       "      <th>Value</th>\n",
       "      <th>Error</th>\n",
       "      <th>ErrorRel</th>\n",
       "    </tr>\n",
       "  </thead>\n",
       "  <tbody>\n",
       "    <tr>\n",
       "      <th>chi_A</th>\n",
       "      <td>0.001439</td>\n",
       "      <td>0.000207</td>\n",
       "      <td>0.143703</td>\n",
       "    </tr>\n",
       "    <tr>\n",
       "      <th>chi_B</th>\n",
       "      <td>0.532868</td>\n",
       "      <td>0.024964</td>\n",
       "      <td>0.046848</td>\n",
       "    </tr>\n",
       "  </tbody>\n",
       "</table>\n",
       "</div>"
      ],
      "text/plain": [
       "          Value     Error  ErrorRel\n",
       "chi_A  0.001439  0.000207  0.143703\n",
       "chi_B  0.532868  0.024964  0.046848"
      ]
     },
     "metadata": {},
     "output_type": "display_data"
    },
    {
     "data": {
      "text/plain": [
       "<Container object of 3 artists>"
      ]
     },
     "execution_count": 7,
     "metadata": {},
     "output_type": "execute_result"
    },
    {
     "data": {
      "image/png": "[encoded data removed]",
      "text/plain": [
       "<matplotlib.figure.Figure at 0x7f35af0bd6a0>"
      ]
     },
     "metadata": {},
     "output_type": "display_data"
    }
   ],
   "source": [
    "for e in experiments:\n",
    "    ll.compute(name = \"chi\",\n",
    "               expr = lambda dRt_dQ, dR0_dT, L, d_1, d_2: dR0_dT / dRt_dQ / (2 * m.pi * L) * ll.log(d_2 / d_1),\n",
    "               data = data[e],\n",
    "               debug = True)\n",
    "\n",
    "plt.title(\"Thermal conductivity\")\n",
    "plt.ylabel(\"$\\chi$\")\n",
    "plt.xlabel(\"$T$, °C\")\n",
    "\n",
    "plt.errorbar(y = [data[e].Value[\"chi\"] for e in experiments],\n",
    "             x = [data[e].Value[\"T\"] for e in experiments],\n",
    "             yerr = [data[e].Error[\"chi\"] for e in experiments],\n",
    "             xerr = [data[e].Error[\"T\"] for e in experiments],\n",
    "             linestyle = \"none\")\n",
    "\n",
    "model = ll.fit2(name = \"chi\",\n",
    "                model = lambda T, chi_A, chi_B: chi_A * T**chi_B,\n",
    "                y = [data[e].Value[\"chi\"] for e in experiments],\n",
    "                x = [data[e].Value[\"T\"] for e in experiments],\n",
    "                yerr = [data[e].Error[\"chi\"] for e in experiments],\n",
    "                xerr = [data[e].Error[\"T\"] for e in experiments],\n",
    "                data = data[\"global\"])\n",
    "T_linspace = ll.linspace([data[e].Value[\"T\"] for e in experiments])\n",
    "plt.gca().set_prop_cycle(None)\n",
    "plt.errorbar(x = T_linspace,\n",
    "             y = model(T_linspace))"
   ]
  }
 ],
 "metadata": {
  "kernelspec": {
   "display_name": "Python 3",
   "language": "python",
   "name": "python3"
  },
  "language_info": {
   "codemirror_mode": {
    "name": "ipython",
    "version": 3
   },
   "file_extension": ".py",
   "mimetype": "text/x-python",
   "name": "python",
   "nbconvert_exporter": "python",
   "pygments_lexer": "ipython3",
   "version": "3.5.1"
  }
 },
 "nbformat": 4,
 "nbformat_minor": 0
}
