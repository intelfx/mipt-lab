{
 "cells": [
  {
   "cell_type": "code",
   "execution_count": 1,
   "metadata": {
    "collapsed": true
   },
   "outputs": [],
   "source": [
    "import pandas as pd\n",
    "import numpy as np\n",
    "import scipy as sp\n",
    "import matplotlib as mp\n",
    "import matplotlib.pyplot as plt\n",
    "import math as m\n",
    "import sympy as smp\n",
    "from IPython.display import display as disp\n",
    "import lablib as ll\n",
    "%matplotlib inline\n",
    "mp.rc(\"savefig\", dpi=96)"
   ]
  },
  {
   "cell_type": "markdown",
   "metadata": {},
   "source": [
    "Загружаем данные, приводим к СИ."
   ]
  },
  {
   "cell_type": "code",
   "execution_count": 2,
   "metadata": {
    "collapsed": false
   },
   "outputs": [],
   "source": [
    "data, columns, experiments = ll.read_standard_layout()\n",
    "\n",
    "for e in experiments:\n",
    "    ll.compute(name = \"P\",\n",
    "               expr = lambda P: P * 6/400 * ll.at,\n",
    "               data = data[e],\n",
    "               columns = columns[e])\n",
    "    ll.compute(name = \"T\",\n",
    "               expr = lambda T: T + 273,\n",
    "               data = data[e],\n",
    "               columns = columns[e])"
   ]
  },
  {
   "cell_type": "markdown",
   "metadata": {},
   "source": [
    "Получаем зависимость чувствительности термопары ($\\frac{\\partial U}{\\partial T}$) от температуры, считая эту зависимость линейной: $\\frac{\\partial U}{\\partial T} = \\frac{\\partial^2 U}{\\partial T^2} T + (\\frac{\\partial U}{\\partial T})_{T=0}$"
   ]
  },
  {
   "cell_type": "code",
   "execution_count": 3,
   "metadata": {
    "collapsed": false
   },
   "outputs": [
    {
     "name": "stdout",
     "output_type": "stream",
     "text": [
      "Initial guesses for tc_dV_dT:\n",
      "                Value    Error  ErrorRel\n",
      "_tc_ddV_dTT 0.000083 0.000001  0.013221\n",
      "_tc_dV_dT_0 0.015883 0.000357  0.022478\n"
     ]
    },
    {
     "data": {
      "text/plain": [
       "'Final guesses for tc_dV_dT:'"
      ]
     },
     "metadata": {},
     "output_type": "display_data"
    },
    {
     "data": {
      "text/html": [
       "<div>\n",
       "<table border=\"1\" class=\"dataframe\">\n",
       "  <thead>\n",
       "    <tr style=\"text-align: right;\">\n",
       "      <th></th>\n",
       "      <th>Value</th>\n",
       "      <th>Error</th>\n",
       "      <th>ErrorRel</th>\n",
       "    </tr>\n",
       "  </thead>\n",
       "  <tbody>\n",
       "    <tr>\n",
       "      <th>_tc_ddV_dTT</th>\n",
       "      <td>0.000083</td>\n",
       "      <td>0.000001</td>\n",
       "      <td>1.38%</td>\n",
       "    </tr>\n",
       "    <tr>\n",
       "      <th>_tc_dV_dT_0</th>\n",
       "      <td>0.015844</td>\n",
       "      <td>0.000374</td>\n",
       "      <td>2.36%</td>\n",
       "    </tr>\n",
       "  </tbody>\n",
       "</table>\n",
       "</div>"
      ],
      "text/plain": [
       "               Value    Error  ErrorRel\n",
       "_tc_ddV_dTT 0.000083 0.000001  0.013837\n",
       "_tc_dV_dT_0 0.015844 0.000374  0.023616"
      ]
     },
     "metadata": {},
     "output_type": "display_data"
    },
    {
     "data": {
      "image/png": "[encoded data removed]",
      "text/plain": [
       "<matplotlib.figure.Figure at 0x7feb8f688198>"
      ]
     },
     "metadata": {},
     "output_type": "display_data"
    }
   ],
   "source": [
    "# linear-fit the thermocouple sensitivity\n",
    "\n",
    "# из лабника\n",
    "tc_T =     [ x + 273  for x in [5,    15,   25,   35,   45,   55,   65,    75,  85,   95] ]\n",
    "tc_dV_dT = [ x / 1000 for x in [38.9, 39.8, 40.7, 41.6, 42.5, 43.3, 44.1, 44.9, 45.6, 46.4] ]\n",
    "\n",
    "tc_model = ll.fit2(name = \"tc_dV_dT\",\n",
    "            model = lambda T, _tc_ddV_dTT, _tc_dV_dT_0: T * _tc_ddV_dTT + _tc_dV_dT_0,\n",
    "            data = data[\"global\"],\n",
    "            x = tc_T,\n",
    "            y = tc_dV_dT,\n",
    "            xerr = [5 for x in tc_T],\n",
    "            yerr = [0.0001 for x in tc_dV_dT])\n",
    "tc_T_linspace = ll.linspace(tc_T)\n",
    "\n",
    "for e in experiments:\n",
    "    ll.add(data[e], data[\"global\"].loc[[\"_tc_ddV_dTT\", \"_tc_dV_dT_0\"]])\n",
    "\n",
    "plt.title(\"Thermocouple sensitivity\")\n",
    "plt.xlabel(\"$T, \\\\degree C$\")\n",
    "plt.ylabel(\"$dU/dT, \\\\frac{V}{\\\\degree C}$\")\n",
    "plt.errorbar(x = tc_T,\n",
    "             y = tc_dV_dT,\n",
    "             linestyle = \"\",\n",
    "             marker = \".\",\n",
    "             label = \"Source data\")\n",
    "plt.errorbar(x = tc_T_linspace,\n",
    "             y = tc_model(tc_T_linspace),\n",
    "             label = \"Fitted curve\")\n",
    "plt.axis([None, None, None, None])\n",
    "plt.legend(loc = \"best\")\n",
    "plt.show()"
   ]
  },
  {
   "cell_type": "markdown",
   "metadata": {},
   "source": [
    "Получив модель чувствительности термопары, вычисляем $\\Delta T = T_{изм} - T_{терм}$ для каждого измерения двумя способами:\n",
    "1. Решая линейное уравнение $U = \\frac{\\partial U}{\\partial T} \\Delta T$, т. е. пренебрегая изменением чувствительности (считая, что $T_{изм} = T_{терм}$)\n",
    "2. Решая квадратное уравнение $U = \\frac{\\partial^2 U}{\\partial T^2} T_{изм} \\Delta T + \\frac{\\partial U}{\\partial T}_{T=0} \\Delta T$\n",
    "\n",
    "Можно видеть, что различия между полученными значениями лежат в пределах погрешности."
   ]
  },
  {
   "cell_type": "code",
   "execution_count": 4,
   "metadata": {
    "collapsed": false
   },
   "outputs": [
    {
     "name": "stdout",
     "output_type": "stream",
     "text": [
      "Experiment T=25:\n"
     ]
    },
    {
     "data": {
      "text/html": [
       "<div>\n",
       "<table border=\"1\" class=\"dataframe\">\n",
       "  <thead>\n",
       "    <tr style=\"text-align: right;\">\n",
       "      <th></th>\n",
       "      <th>Value</th>\n",
       "      <th>Error</th>\n",
       "      <th>ErrorRel</th>\n",
       "    </tr>\n",
       "  </thead>\n",
       "  <tbody>\n",
       "    <tr>\n",
       "      <th>C_p</th>\n",
       "      <td>47.300000</td>\n",
       "      <td>0.500000</td>\n",
       "      <td>1.06%</td>\n",
       "    </tr>\n",
       "    <tr>\n",
       "      <th>T</th>\n",
       "      <td>298.250000</td>\n",
       "      <td>0.250000</td>\n",
       "      <td>0.08%</td>\n",
       "    </tr>\n",
       "    <tr>\n",
       "      <th>_tc_ddV_dTT</th>\n",
       "      <td>0.000083</td>\n",
       "      <td>0.000001</td>\n",
       "      <td>1.38%</td>\n",
       "    </tr>\n",
       "    <tr>\n",
       "      <th>_tc_dV_dT_0</th>\n",
       "      <td>0.015844</td>\n",
       "      <td>0.000374</td>\n",
       "      <td>2.36%</td>\n",
       "    </tr>\n",
       "  </tbody>\n",
       "</table>\n",
       "</div>"
      ],
      "text/plain": [
       "                 Value    Error  ErrorRel\n",
       "C_p          47.300000 0.500000  0.010571\n",
       "T           298.250000 0.250000  0.000838\n",
       "_tc_ddV_dTT   0.000083 0.000001  0.013837\n",
       "_tc_dV_dT_0   0.015844 0.000374  0.023616"
      ]
     },
     "metadata": {},
     "output_type": "display_data"
    },
    {
     "data": {
      "text/html": [
       "<div>\n",
       "<table border=\"1\" class=\"dataframe\">\n",
       "  <thead>\n",
       "    <tr style=\"text-align: right;\">\n",
       "      <th></th>\n",
       "      <th>P</th>\n",
       "      <th>Error_P</th>\n",
       "      <th>ErrorRel_P</th>\n",
       "      <th>U</th>\n",
       "      <th>Error_U</th>\n",
       "      <th>ErrorRel_U</th>\n",
       "      <th>deltaT</th>\n",
       "      <th>Error_deltaT</th>\n",
       "      <th>ErrorRel_deltaT</th>\n",
       "      <th>deltaT_c</th>\n",
       "      <th>Error_deltaT_c</th>\n",
       "      <th>ErrorRel_deltaT_c</th>\n",
       "    </tr>\n",
       "  </thead>\n",
       "  <tbody>\n",
       "    <tr>\n",
       "      <th>0</th>\n",
       "      <td>366278.377500</td>\n",
       "      <td>1470.997500</td>\n",
       "      <td>0.40%</td>\n",
       "      <td>-0.112000</td>\n",
       "      <td>0.000500</td>\n",
       "      <td>-0.45%</td>\n",
       "      <td>-2.750760</td>\n",
       "      <td>0.036502</td>\n",
       "      <td>-1.33%</td>\n",
       "      <td>-2.766435</td>\n",
       "      <td>0.036968</td>\n",
       "      <td>-1.34%</td>\n",
       "    </tr>\n",
       "    <tr>\n",
       "      <th>1</th>\n",
       "      <td>323619.450000</td>\n",
       "      <td>1470.997500</td>\n",
       "      <td>0.45%</td>\n",
       "      <td>-0.096000</td>\n",
       "      <td>0.000500</td>\n",
       "      <td>-0.52%</td>\n",
       "      <td>-2.357795</td>\n",
       "      <td>0.031921</td>\n",
       "      <td>-1.35%</td>\n",
       "      <td>-2.369292</td>\n",
       "      <td>0.032267</td>\n",
       "      <td>-1.36%</td>\n",
       "    </tr>\n",
       "    <tr>\n",
       "      <th>2</th>\n",
       "      <td>276547.530000</td>\n",
       "      <td>1470.997500</td>\n",
       "      <td>0.53%</td>\n",
       "      <td>-0.079000</td>\n",
       "      <td>0.000500</td>\n",
       "      <td>-0.63%</td>\n",
       "      <td>-1.940268</td>\n",
       "      <td>0.027179</td>\n",
       "      <td>-1.40%</td>\n",
       "      <td>-1.948041</td>\n",
       "      <td>0.027419</td>\n",
       "      <td>-1.41%</td>\n",
       "    </tr>\n",
       "    <tr>\n",
       "      <th>3</th>\n",
       "      <td>233888.602500</td>\n",
       "      <td>1470.997500</td>\n",
       "      <td>0.63%</td>\n",
       "      <td>-0.063000</td>\n",
       "      <td>0.000500</td>\n",
       "      <td>-0.79%</td>\n",
       "      <td>-1.547303</td>\n",
       "      <td>0.022906</td>\n",
       "      <td>-1.48%</td>\n",
       "      <td>-1.552238</td>\n",
       "      <td>0.023065</td>\n",
       "      <td>-1.49%</td>\n",
       "    </tr>\n",
       "    <tr>\n",
       "      <th>4</th>\n",
       "      <td>186816.682500</td>\n",
       "      <td>1470.997500</td>\n",
       "      <td>0.79%</td>\n",
       "      <td>-0.046000</td>\n",
       "      <td>0.000500</td>\n",
       "      <td>-1.09%</td>\n",
       "      <td>-1.129777</td>\n",
       "      <td>0.018712</td>\n",
       "      <td>-1.66%</td>\n",
       "      <td>-1.132403</td>\n",
       "      <td>0.018805</td>\n",
       "      <td>-1.66%</td>\n",
       "    </tr>\n",
       "    <tr>\n",
       "      <th>5</th>\n",
       "      <td>147099.750000</td>\n",
       "      <td>1470.997500</td>\n",
       "      <td>1.00%</td>\n",
       "      <td>-0.032000</td>\n",
       "      <td>0.000500</td>\n",
       "      <td>-1.56%</td>\n",
       "      <td>-0.785932</td>\n",
       "      <td>0.015725</td>\n",
       "      <td>-2.00%</td>\n",
       "      <td>-0.787201</td>\n",
       "      <td>0.015778</td>\n",
       "      <td>-2.00%</td>\n",
       "    </tr>\n",
       "  </tbody>\n",
       "</table>\n",
       "</div>"
      ],
      "text/plain": [
       "              P     Error_P  ErrorRel_P         U  Error_U  ErrorRel_U  \\\n",
       "0 366278.377500 1470.997500    0.004016 -0.112000 0.000500   -0.004464   \n",
       "1 323619.450000 1470.997500    0.004545 -0.096000 0.000500   -0.005208   \n",
       "2 276547.530000 1470.997500    0.005319 -0.079000 0.000500   -0.006329   \n",
       "3 233888.602500 1470.997500    0.006289 -0.063000 0.000500   -0.007937   \n",
       "4 186816.682500 1470.997500    0.007874 -0.046000 0.000500   -0.010870   \n",
       "5 147099.750000 1470.997500    0.010000 -0.032000 0.000500   -0.015625   \n",
       "\n",
       "     deltaT  Error_deltaT  ErrorRel_deltaT  deltaT_c  Error_deltaT_c  \\\n",
       "0 -2.750760      0.036502        -0.013270 -2.766435        0.036968   \n",
       "1 -2.357795      0.031921        -0.013538 -2.369292        0.032267   \n",
       "2 -1.940268      0.027179        -0.014008 -1.948041        0.027419   \n",
       "3 -1.547303      0.022906        -0.014804 -1.552238        0.023065   \n",
       "4 -1.129777      0.018712        -0.016562 -1.132403        0.018805   \n",
       "5 -0.785932      0.015725        -0.020007 -0.787201        0.015778   \n",
       "\n",
       "   ErrorRel_deltaT_c  \n",
       "0          -0.013363  \n",
       "1          -0.013619  \n",
       "2          -0.014075  \n",
       "3          -0.014860  \n",
       "4          -0.016606  \n",
       "5          -0.020043  "
      ]
     },
     "metadata": {},
     "output_type": "display_data"
    },
    {
     "name": "stdout",
     "output_type": "stream",
     "text": [
      "Experiment T=40:\n"
     ]
    },
    {
     "data": {
      "text/html": [
       "<div>\n",
       "<table border=\"1\" class=\"dataframe\">\n",
       "  <thead>\n",
       "    <tr style=\"text-align: right;\">\n",
       "      <th></th>\n",
       "      <th>Value</th>\n",
       "      <th>Error</th>\n",
       "      <th>ErrorRel</th>\n",
       "    </tr>\n",
       "  </thead>\n",
       "  <tbody>\n",
       "    <tr>\n",
       "      <th>C_p</th>\n",
       "      <td>47.300000</td>\n",
       "      <td>0.500000</td>\n",
       "      <td>1.06%</td>\n",
       "    </tr>\n",
       "    <tr>\n",
       "      <th>T</th>\n",
       "      <td>313.025000</td>\n",
       "      <td>0.025000</td>\n",
       "      <td>0.01%</td>\n",
       "    </tr>\n",
       "    <tr>\n",
       "      <th>_tc_ddV_dTT</th>\n",
       "      <td>0.000083</td>\n",
       "      <td>0.000001</td>\n",
       "      <td>1.38%</td>\n",
       "    </tr>\n",
       "    <tr>\n",
       "      <th>_tc_dV_dT_0</th>\n",
       "      <td>0.015844</td>\n",
       "      <td>0.000374</td>\n",
       "      <td>2.36%</td>\n",
       "    </tr>\n",
       "  </tbody>\n",
       "</table>\n",
       "</div>"
      ],
      "text/plain": [
       "                 Value    Error  ErrorRel\n",
       "C_p          47.300000 0.500000  0.010571\n",
       "T           313.025000 0.025000  0.000080\n",
       "_tc_ddV_dTT   0.000083 0.000001  0.013837\n",
       "_tc_dV_dT_0   0.015844 0.000374  0.023616"
      ]
     },
     "metadata": {},
     "output_type": "display_data"
    },
    {
     "data": {
      "text/html": [
       "<div>\n",
       "<table border=\"1\" class=\"dataframe\">\n",
       "  <thead>\n",
       "    <tr style=\"text-align: right;\">\n",
       "      <th></th>\n",
       "      <th>P</th>\n",
       "      <th>Error_P</th>\n",
       "      <th>ErrorRel_P</th>\n",
       "      <th>U</th>\n",
       "      <th>Error_U</th>\n",
       "      <th>ErrorRel_U</th>\n",
       "      <th>deltaT</th>\n",
       "      <th>Error_deltaT</th>\n",
       "      <th>ErrorRel_deltaT</th>\n",
       "      <th>deltaT_c</th>\n",
       "      <th>Error_deltaT_c</th>\n",
       "      <th>ErrorRel_deltaT_c</th>\n",
       "    </tr>\n",
       "  </thead>\n",
       "  <tbody>\n",
       "    <tr>\n",
       "      <th>0</th>\n",
       "      <td>367749.375000</td>\n",
       "      <td>1470.997500</td>\n",
       "      <td>0.40%</td>\n",
       "      <td>-0.027000</td>\n",
       "      <td>0.000500</td>\n",
       "      <td>-1.85%</td>\n",
       "      <td>-0.643652</td>\n",
       "      <td>0.014344</td>\n",
       "      <td>-2.23%</td>\n",
       "      <td>-0.644477</td>\n",
       "      <td>0.014382</td>\n",
       "      <td>-2.23%</td>\n",
       "    </tr>\n",
       "    <tr>\n",
       "      <th>1</th>\n",
       "      <td>325090.447500</td>\n",
       "      <td>1470.997500</td>\n",
       "      <td>0.45%</td>\n",
       "      <td>-0.013000</td>\n",
       "      <td>0.000500</td>\n",
       "      <td>-3.85%</td>\n",
       "      <td>-0.309906</td>\n",
       "      <td>0.012523</td>\n",
       "      <td>-4.04%</td>\n",
       "      <td>-0.310098</td>\n",
       "      <td>0.012539</td>\n",
       "      <td>-4.04%</td>\n",
       "    </tr>\n",
       "    <tr>\n",
       "      <th>2</th>\n",
       "      <td>279489.525000</td>\n",
       "      <td>1470.997500</td>\n",
       "      <td>0.53%</td>\n",
       "      <td>0.001000</td>\n",
       "      <td>0.000500</td>\n",
       "      <td>50.00%</td>\n",
       "      <td>0.023839</td>\n",
       "      <td>0.011923</td>\n",
       "      <td>50.02%</td>\n",
       "      <td>0.023838</td>\n",
       "      <td>0.011922</td>\n",
       "      <td>50.01%</td>\n",
       "    </tr>\n",
       "    <tr>\n",
       "      <th>3</th>\n",
       "      <td>229475.610000</td>\n",
       "      <td>1470.997500</td>\n",
       "      <td>0.64%</td>\n",
       "      <td>0.017000</td>\n",
       "      <td>0.000500</td>\n",
       "      <td>2.94%</td>\n",
       "      <td>0.405262</td>\n",
       "      <td>0.012935</td>\n",
       "      <td>3.19%</td>\n",
       "      <td>0.404936</td>\n",
       "      <td>0.012914</td>\n",
       "      <td>3.19%</td>\n",
       "    </tr>\n",
       "    <tr>\n",
       "      <th>4</th>\n",
       "      <td>188287.680000</td>\n",
       "      <td>1470.997500</td>\n",
       "      <td>0.78%</td>\n",
       "      <td>0.030000</td>\n",
       "      <td>0.000500</td>\n",
       "      <td>1.67%</td>\n",
       "      <td>0.715169</td>\n",
       "      <td>0.014856</td>\n",
       "      <td>2.08%</td>\n",
       "      <td>0.714155</td>\n",
       "      <td>0.014812</td>\n",
       "      <td>2.07%</td>\n",
       "    </tr>\n",
       "    <tr>\n",
       "      <th>5</th>\n",
       "      <td>147099.750000</td>\n",
       "      <td>1470.997500</td>\n",
       "      <td>1.00%</td>\n",
       "      <td>0.040000</td>\n",
       "      <td>0.000500</td>\n",
       "      <td>1.25%</td>\n",
       "      <td>0.953558</td>\n",
       "      <td>0.016788</td>\n",
       "      <td>1.76%</td>\n",
       "      <td>0.951757</td>\n",
       "      <td>0.016721</td>\n",
       "      <td>1.76%</td>\n",
       "    </tr>\n",
       "  </tbody>\n",
       "</table>\n",
       "</div>"
      ],
      "text/plain": [
       "              P     Error_P  ErrorRel_P         U  Error_U  ErrorRel_U  \\\n",
       "0 367749.375000 1470.997500    0.004000 -0.027000 0.000500   -0.018519   \n",
       "1 325090.447500 1470.997500    0.004525 -0.013000 0.000500   -0.038462   \n",
       "2 279489.525000 1470.997500    0.005263  0.001000 0.000500    0.500000   \n",
       "3 229475.610000 1470.997500    0.006410  0.017000 0.000500    0.029412   \n",
       "4 188287.680000 1470.997500    0.007812  0.030000 0.000500    0.016667   \n",
       "5 147099.750000 1470.997500    0.010000  0.040000 0.000500    0.012500   \n",
       "\n",
       "     deltaT  Error_deltaT  ErrorRel_deltaT  deltaT_c  Error_deltaT_c  \\\n",
       "0 -0.643652      0.014344        -0.022286 -0.644477        0.014382   \n",
       "1 -0.309906      0.012523        -0.040410 -0.310098        0.012539   \n",
       "2  0.023839      0.011923         0.500154  0.023838        0.011922   \n",
       "3  0.405262      0.012935         0.031918  0.404936        0.012914   \n",
       "4  0.715169      0.014856         0.020772  0.714155        0.014812   \n",
       "5  0.953558      0.016788         0.017606  0.951757        0.016721   \n",
       "\n",
       "   ErrorRel_deltaT_c  \n",
       "0          -0.022316  \n",
       "1          -0.040436  \n",
       "2           0.500130  \n",
       "3           0.031892  \n",
       "4           0.020741  \n",
       "5           0.017569  "
      ]
     },
     "metadata": {},
     "output_type": "display_data"
    },
    {
     "name": "stdout",
     "output_type": "stream",
     "text": [
      "Experiment T=70:\n"
     ]
    },
    {
     "data": {
      "text/html": [
       "<div>\n",
       "<table border=\"1\" class=\"dataframe\">\n",
       "  <thead>\n",
       "    <tr style=\"text-align: right;\">\n",
       "      <th></th>\n",
       "      <th>Value</th>\n",
       "      <th>Error</th>\n",
       "      <th>ErrorRel</th>\n",
       "    </tr>\n",
       "  </thead>\n",
       "  <tbody>\n",
       "    <tr>\n",
       "      <th>C_p</th>\n",
       "      <td>47.300000</td>\n",
       "      <td>0.500000</td>\n",
       "      <td>1.06%</td>\n",
       "    </tr>\n",
       "    <tr>\n",
       "      <th>T</th>\n",
       "      <td>343.000000</td>\n",
       "      <td>0.010000</td>\n",
       "      <td>0.00%</td>\n",
       "    </tr>\n",
       "    <tr>\n",
       "      <th>_tc_ddV_dTT</th>\n",
       "      <td>0.000083</td>\n",
       "      <td>0.000001</td>\n",
       "      <td>1.38%</td>\n",
       "    </tr>\n",
       "    <tr>\n",
       "      <th>_tc_dV_dT_0</th>\n",
       "      <td>0.015844</td>\n",
       "      <td>0.000374</td>\n",
       "      <td>2.36%</td>\n",
       "    </tr>\n",
       "  </tbody>\n",
       "</table>\n",
       "</div>"
      ],
      "text/plain": [
       "                 Value    Error  ErrorRel\n",
       "C_p          47.300000 0.500000  0.010571\n",
       "T           343.000000 0.010000  0.000029\n",
       "_tc_ddV_dTT   0.000083 0.000001  0.013837\n",
       "_tc_dV_dT_0   0.015844 0.000374  0.023616"
      ]
     },
     "metadata": {},
     "output_type": "display_data"
    },
    {
     "data": {
      "text/html": [
       "<div>\n",
       "<table border=\"1\" class=\"dataframe\">\n",
       "  <thead>\n",
       "    <tr style=\"text-align: right;\">\n",
       "      <th></th>\n",
       "      <th>P</th>\n",
       "      <th>Error_P</th>\n",
       "      <th>ErrorRel_P</th>\n",
       "      <th>U</th>\n",
       "      <th>Error_U</th>\n",
       "      <th>ErrorRel_U</th>\n",
       "      <th>deltaT</th>\n",
       "      <th>Error_deltaT</th>\n",
       "      <th>ErrorRel_deltaT</th>\n",
       "      <th>deltaT_c</th>\n",
       "      <th>Error_deltaT_c</th>\n",
       "      <th>ErrorRel_deltaT_c</th>\n",
       "    </tr>\n",
       "  </thead>\n",
       "  <tbody>\n",
       "    <tr>\n",
       "      <th>0</th>\n",
       "      <td>366278.377500</td>\n",
       "      <td>1470.997500</td>\n",
       "      <td>0.40%</td>\n",
       "      <td>0.041000</td>\n",
       "      <td>0.000500</td>\n",
       "      <td>1.22%</td>\n",
       "      <td>0.922429</td>\n",
       "      <td>0.015947</td>\n",
       "      <td>1.73%</td>\n",
       "      <td>0.920838</td>\n",
       "      <td>0.015890</td>\n",
       "      <td>1.73%</td>\n",
       "    </tr>\n",
       "    <tr>\n",
       "      <th>1</th>\n",
       "      <td>323619.450000</td>\n",
       "      <td>1470.997500</td>\n",
       "      <td>0.45%</td>\n",
       "      <td>0.051000</td>\n",
       "      <td>0.000500</td>\n",
       "      <td>0.98%</td>\n",
       "      <td>1.147412</td>\n",
       "      <td>0.018006</td>\n",
       "      <td>1.57%</td>\n",
       "      <td>1.144952</td>\n",
       "      <td>0.017925</td>\n",
       "      <td>1.57%</td>\n",
       "    </tr>\n",
       "    <tr>\n",
       "      <th>2</th>\n",
       "      <td>279489.525000</td>\n",
       "      <td>1470.997500</td>\n",
       "      <td>0.53%</td>\n",
       "      <td>0.062000</td>\n",
       "      <td>0.000500</td>\n",
       "      <td>0.81%</td>\n",
       "      <td>1.394893</td>\n",
       "      <td>0.020462</td>\n",
       "      <td>1.47%</td>\n",
       "      <td>1.391261</td>\n",
       "      <td>0.020349</td>\n",
       "      <td>1.46%</td>\n",
       "    </tr>\n",
       "    <tr>\n",
       "      <th>3</th>\n",
       "      <td>235359.600000</td>\n",
       "      <td>1470.997500</td>\n",
       "      <td>0.62%</td>\n",
       "      <td>0.071000</td>\n",
       "      <td>0.000500</td>\n",
       "      <td>0.70%</td>\n",
       "      <td>1.597377</td>\n",
       "      <td>0.022576</td>\n",
       "      <td>1.41%</td>\n",
       "      <td>1.592618</td>\n",
       "      <td>0.022433</td>\n",
       "      <td>1.41%</td>\n",
       "    </tr>\n",
       "    <tr>\n",
       "      <th>4</th>\n",
       "      <td>189758.677500</td>\n",
       "      <td>1470.997500</td>\n",
       "      <td>0.78%</td>\n",
       "      <td>0.078000</td>\n",
       "      <td>0.000500</td>\n",
       "      <td>0.64%</td>\n",
       "      <td>1.754865</td>\n",
       "      <td>0.024269</td>\n",
       "      <td>1.38%</td>\n",
       "      <td>1.749125</td>\n",
       "      <td>0.024099</td>\n",
       "      <td>1.38%</td>\n",
       "    </tr>\n",
       "    <tr>\n",
       "      <th>5</th>\n",
       "      <td>148570.747500</td>\n",
       "      <td>1470.997500</td>\n",
       "      <td>0.99%</td>\n",
       "      <td>0.081000</td>\n",
       "      <td>0.000500</td>\n",
       "      <td>0.62%</td>\n",
       "      <td>1.822360</td>\n",
       "      <td>0.025004</td>\n",
       "      <td>1.37%</td>\n",
       "      <td>1.816171</td>\n",
       "      <td>0.024823</td>\n",
       "      <td>1.37%</td>\n",
       "    </tr>\n",
       "  </tbody>\n",
       "</table>\n",
       "</div>"
      ],
      "text/plain": [
       "              P     Error_P  ErrorRel_P        U  Error_U  ErrorRel_U  \\\n",
       "0 366278.377500 1470.997500    0.004016 0.041000 0.000500    0.012195   \n",
       "1 323619.450000 1470.997500    0.004545 0.051000 0.000500    0.009804   \n",
       "2 279489.525000 1470.997500    0.005263 0.062000 0.000500    0.008065   \n",
       "3 235359.600000 1470.997500    0.006250 0.071000 0.000500    0.007042   \n",
       "4 189758.677500 1470.997500    0.007752 0.078000 0.000500    0.006410   \n",
       "5 148570.747500 1470.997500    0.009901 0.081000 0.000500    0.006173   \n",
       "\n",
       "    deltaT  Error_deltaT  ErrorRel_deltaT  deltaT_c  Error_deltaT_c  \\\n",
       "0 0.922429      0.015947         0.017288  0.920838        0.015890   \n",
       "1 1.147412      0.018006         0.015693  1.144952        0.017925   \n",
       "2 1.394893      0.020462         0.014669  1.391261        0.020349   \n",
       "3 1.597377      0.022576         0.014133  1.592618        0.022433   \n",
       "4 1.754865      0.024269         0.013829  1.749125        0.024099   \n",
       "5 1.822360      0.025004         0.013721  1.816171        0.024823   \n",
       "\n",
       "   ErrorRel_deltaT_c  \n",
       "0           0.017256  \n",
       "1           0.015656  \n",
       "2           0.014627  \n",
       "3           0.014086  \n",
       "4           0.013778  \n",
       "5           0.013668  "
      ]
     },
     "metadata": {},
     "output_type": "display_data"
    }
   ],
   "source": [
    "def dT_uncorrected(U, T, _tc_ddV_dTT, _tc_dV_dT_0):\n",
    "    dV_dT = T * _tc_ddV_dTT + _tc_dV_dT_0\n",
    "    return U / dV_dT\n",
    "\n",
    "def dT_corrected(U, T, _tc_ddV_dTT, _tc_dV_dT_0):\n",
    "    b = _tc_dV_dT_0 - _tc_ddV_dTT * T\n",
    "    a = _tc_ddV_dTT\n",
    "    c = - (U + T * _tc_dV_dT_0)\n",
    "\n",
    "    #dT1 = (-b - (b**2-4*a*c)**(1/2)) / (2*a)\n",
    "    dT2 = (-b + (b**2-4*a*c)**(1/2)) / (2*a)\n",
    "    \n",
    "    return dT2 - T\n",
    "\n",
    "for e in experiments:\n",
    "    ll.compute(name = \"deltaT\",\n",
    "               expr = dT_uncorrected,\n",
    "               data = data[e],\n",
    "               columns = columns[e])\n",
    "    ll.compute(name = \"deltaT_c\",\n",
    "               expr = dT_corrected,\n",
    "               data = data[e],\n",
    "               columns = columns[e])\n",
    "    print(\"Experiment %s:\" % e)\n",
    "    disp(data[e])\n",
    "    disp(columns[e])"
   ]
  },
  {
   "cell_type": "markdown",
   "metadata": {},
   "source": [
    "Для каждой серии экспериментов построим график $\\Delta T(\\Delta P)$, приблизим его прямой и найдём $\\mu_{д-т} = \\frac{\\partial T}{\\partial P}$."
   ]
  },
  {
   "cell_type": "code",
   "execution_count": 5,
   "metadata": {
    "collapsed": false
   },
   "outputs": [
    {
     "name": "stdout",
     "output_type": "stream",
     "text": [
      "Experiment T=25:\n",
      "Initial guesses for deltaT:\n",
      "           Value    Error  ErrorRel\n",
      "dT_dP -0.000009 0.000000 -0.015021\n",
      "T_0    0.534659 0.030124  0.056342\n"
     ]
    },
    {
     "data": {
      "text/plain": [
       "'Final guesses for deltaT:'"
      ]
     },
     "metadata": {},
     "output_type": "display_data"
    },
    {
     "data": {
      "text/html": [
       "<div>\n",
       "<table border=\"1\" class=\"dataframe\">\n",
       "  <thead>\n",
       "    <tr style=\"text-align: right;\">\n",
       "      <th></th>\n",
       "      <th>Value</th>\n",
       "      <th>Error</th>\n",
       "      <th>ErrorRel</th>\n",
       "    </tr>\n",
       "  </thead>\n",
       "  <tbody>\n",
       "    <tr>\n",
       "      <th>dT_dP</th>\n",
       "      <td>-0.000009</td>\n",
       "      <td>0.000000</td>\n",
       "      <td>-0.50%</td>\n",
       "    </tr>\n",
       "    <tr>\n",
       "      <th>T_0</th>\n",
       "      <td>0.536940</td>\n",
       "      <td>0.010499</td>\n",
       "      <td>1.96%</td>\n",
       "    </tr>\n",
       "  </tbody>\n",
       "</table>\n",
       "</div>"
      ],
      "text/plain": [
       "          Value    Error  ErrorRel\n",
       "dT_dP -0.000009 0.000000 -0.005004\n",
       "T_0    0.536940 0.010499  0.019552"
      ]
     },
     "metadata": {},
     "output_type": "display_data"
    },
    {
     "name": "stdout",
     "output_type": "stream",
     "text": [
      "Experiment T=40:\n",
      "Initial guesses for deltaT:\n",
      "           Value    Error  ErrorRel\n",
      "dT_dP -0.000007 0.000000 -0.010770\n",
      "T_0    2.077821 0.021733  0.010459\n"
     ]
    },
    {
     "data": {
      "text/plain": [
       "'Final guesses for deltaT:'"
      ]
     },
     "metadata": {},
     "output_type": "display_data"
    },
    {
     "data": {
      "text/html": [
       "<div>\n",
       "<table border=\"1\" class=\"dataframe\">\n",
       "  <thead>\n",
       "    <tr style=\"text-align: right;\">\n",
       "      <th></th>\n",
       "      <th>Value</th>\n",
       "      <th>Error</th>\n",
       "      <th>ErrorRel</th>\n",
       "    </tr>\n",
       "  </thead>\n",
       "  <tbody>\n",
       "    <tr>\n",
       "      <th>dT_dP</th>\n",
       "      <td>-0.000007</td>\n",
       "      <td>0.000000</td>\n",
       "      <td>-1.85%</td>\n",
       "    </tr>\n",
       "    <tr>\n",
       "      <th>T_0</th>\n",
       "      <td>2.075067</td>\n",
       "      <td>0.037000</td>\n",
       "      <td>1.78%</td>\n",
       "    </tr>\n",
       "  </tbody>\n",
       "</table>\n",
       "</div>"
      ],
      "text/plain": [
       "          Value    Error  ErrorRel\n",
       "dT_dP -0.000007 0.000000 -0.018508\n",
       "T_0    2.075067 0.037000  0.017831"
      ]
     },
     "metadata": {},
     "output_type": "display_data"
    },
    {
     "name": "stdout",
     "output_type": "stream",
     "text": [
      "Experiment T=70:\n",
      "Initial guesses for deltaT:\n",
      "           Value    Error  ErrorRel\n",
      "dT_dP -0.000004 0.000000 -0.025272\n",
      "T_0    2.573111 0.032445  0.012609\n"
     ]
    },
    {
     "data": {
      "text/plain": [
       "'Final guesses for deltaT:'"
      ]
     },
     "metadata": {},
     "output_type": "display_data"
    },
    {
     "data": {
      "text/html": [
       "<div>\n",
       "<table border=\"1\" class=\"dataframe\">\n",
       "  <thead>\n",
       "    <tr style=\"text-align: right;\">\n",
       "      <th></th>\n",
       "      <th>Value</th>\n",
       "      <th>Error</th>\n",
       "      <th>ErrorRel</th>\n",
       "    </tr>\n",
       "  </thead>\n",
       "  <tbody>\n",
       "    <tr>\n",
       "      <th>dT_dP</th>\n",
       "      <td>-0.000004</td>\n",
       "      <td>0.000000</td>\n",
       "      <td>-7.49%</td>\n",
       "    </tr>\n",
       "    <tr>\n",
       "      <th>T_0</th>\n",
       "      <td>2.571902</td>\n",
       "      <td>0.095398</td>\n",
       "      <td>3.71%</td>\n",
       "    </tr>\n",
       "  </tbody>\n",
       "</table>\n",
       "</div>"
      ],
      "text/plain": [
       "          Value    Error  ErrorRel\n",
       "dT_dP -0.000004 0.000000 -0.074944\n",
       "T_0    2.571902 0.095398  0.037092"
      ]
     },
     "metadata": {},
     "output_type": "display_data"
    },
    {
     "data": {
      "image/png": "[encoded data removed]",
      "text/plain": [
       "<matplotlib.figure.Figure at 0x7feb8bcf0e80>"
      ]
     },
     "metadata": {},
     "output_type": "display_data"
    }
   ],
   "source": [
    "plt.title(\"Joule-Thompson effect amount by pressure\")\n",
    "plt.xlabel(\"$\\Delta P, Pa$\")\n",
    "plt.ylabel(\"$\\Delta T, \\degree K$\")\n",
    "\n",
    "for e in experiments:\n",
    "    plt.errorbar(x = columns[e][\"P\"],\n",
    "                 y = columns[e][\"deltaT\"],\n",
    "                 xerr = columns[e][\"Error_P\"],\n",
    "                 yerr = columns[e][\"Error_deltaT\"],\n",
    "                 linestyle = \"none\",\n",
    "                 marker = \".\",\n",
    "                 label = e)\n",
    "    \n",
    "plt.gca().set_prop_cycle(None)\n",
    "    \n",
    "for e in experiments:\n",
    "    print(\"Experiment %s:\" % e)\n",
    "\n",
    "    model = ll.fit2(name = \"deltaT\",\n",
    "                    model = lambda P, dT_dP, T_0: P * dT_dP + T_0,\n",
    "                    x = columns[e][\"P\"],\n",
    "                    y = columns[e][\"deltaT\"],\n",
    "                    xerr = columns[e][\"Error_P\"],\n",
    "                    yerr = columns[e][\"Error_deltaT\"],\n",
    "                    data = data[e])\n",
    "    \n",
    "    P_linspace = ll.linspace(columns[e][\"P\"])\n",
    "    \n",
    "    plt.plot(P_linspace,\n",
    "             model(P_linspace))\n",
    "    \n",
    "plt.axis([None, None, None, None])\n",
    "plt.legend(loc = \"best\")\n",
    "plt.show()"
   ]
  },
  {
   "cell_type": "markdown",
   "metadata": {},
   "source": [
    "Теперь построим график зависимости $\\mu_{д-т}(T)$. Из теоретических соображений $\\mu_{д-т}(T) = \\frac{\\frac{2a}{RT} - b}{C_p} = \\frac{2a}{R C_p} \\frac{1}{T} - \\frac{b}{C_p}$, поэтому приблизим его гиперболой и найдём оба коэффициента."
   ]
  },
  {
   "cell_type": "code",
   "execution_count": 6,
   "metadata": {
    "collapsed": false
   },
   "outputs": [
    {
     "name": "stdout",
     "output_type": "stream",
     "text": [
      "Initial guesses for dT_dP:\n",
      "             Value    Error  ErrorRel\n",
      "_2a_RCp -0.010277 0.000595 -0.057857\n",
      "_b_Cp   -0.000026 0.000002 -0.077657\n"
     ]
    },
    {
     "data": {
      "text/plain": [
       "'Final guesses for dT_dP:'"
      ]
     },
     "metadata": {},
     "output_type": "display_data"
    },
    {
     "data": {
      "text/html": [
       "<div>\n",
       "<table border=\"1\" class=\"dataframe\">\n",
       "  <thead>\n",
       "    <tr style=\"text-align: right;\">\n",
       "      <th></th>\n",
       "      <th>Value</th>\n",
       "      <th>Error</th>\n",
       "      <th>ErrorRel</th>\n",
       "    </tr>\n",
       "  </thead>\n",
       "  <tbody>\n",
       "    <tr>\n",
       "      <th>_2a_RCp</th>\n",
       "      <td>-0.010280</td>\n",
       "      <td>0.000141</td>\n",
       "      <td>-1.37%</td>\n",
       "    </tr>\n",
       "    <tr>\n",
       "      <th>_b_Cp</th>\n",
       "      <td>-0.000026</td>\n",
       "      <td>0.000000</td>\n",
       "      <td>-1.84%</td>\n",
       "    </tr>\n",
       "  </tbody>\n",
       "</table>\n",
       "</div>"
      ],
      "text/plain": [
       "            Value    Error  ErrorRel\n",
       "_2a_RCp -0.010280 0.000141 -0.013711\n",
       "_b_Cp   -0.000026 0.000000 -0.018360"
      ]
     },
     "metadata": {},
     "output_type": "display_data"
    },
    {
     "data": {
      "image/png": "[encoded data removed]",
      "text/plain": [
       "<matplotlib.figure.Figure at 0x7feb8bbe35c0>"
      ]
     },
     "metadata": {},
     "output_type": "display_data"
    }
   ],
   "source": [
    "plt.title(\"Joule-Thompson effect coefficient $\\mu_{д-т}$ by temperature\")\n",
    "plt.xlabel(\"$T, \\\\degree K$\")\n",
    "plt.ylabel(\"$\\mu_{д-т}, \\\\degree K / Pa$\")\n",
    "\n",
    "e = \"global\"\n",
    "\n",
    "#experiments2 = [\"T=40\", \"T=70\"]\n",
    "#experiments2 = [\"T=25\", \"T=40\"]\n",
    "experiments2 = experiments\n",
    "\n",
    "ll.make_column(columns[e], \"T\", data, experiments2)\n",
    "ll.make_column(columns[e], \"dT_dP\", data, experiments2)\n",
    "\n",
    "plt.errorbar(x = columns[e][\"T\"],\n",
    "             y = columns[e][\"dT_dP\"],\n",
    "             xerr = columns[e][\"Error_T\"],\n",
    "             yerr = columns[e][\"Error_dT_dP\"],\n",
    "             linestyle = \"none\",\n",
    "             marker = \".\",\n",
    "             label = \"Experimental data\")\n",
    "\n",
    "model = ll.fit2(name = \"dT_dP\",\n",
    "                model = lambda T, _2a_RCp, _b_Cp: _2a_RCp / T - _b_Cp,\n",
    "                x = columns[e][\"T\"],\n",
    "                y = columns[e][\"dT_dP\"],\n",
    "                xerr = columns[e][\"Error_T\"],\n",
    "                yerr = columns[e][\"Error_dT_dP\"],\n",
    "                data = data[e])\n",
    "\n",
    "T_linspace = ll.linspace(columns[e][\"T\"], pre = 5, post = 5)\n",
    "\n",
    "plt.plot(T_linspace,\n",
    "         model(T_linspace),\n",
    "         label = \"Fitted curve\")\n",
    "\n",
    "plt.axis([None, None, None, None])\n",
    "plt.legend(loc = \"best\")\n",
    "plt.show()"
   ]
  },
  {
   "cell_type": "markdown",
   "metadata": {},
   "source": [
    "Наконец, вычислим коэффициенты газа Ван-дер-Ваальса $a$ и $b$, а также температуру инверсии $T_{inv}$."
   ]
  },
  {
   "cell_type": "code",
   "execution_count": 7,
   "metadata": {
    "collapsed": false
   },
   "outputs": [
    {
     "data": {
      "text/html": [
       "<div>\n",
       "<table border=\"1\" class=\"dataframe\">\n",
       "  <thead>\n",
       "    <tr style=\"text-align: right;\">\n",
       "      <th></th>\n",
       "      <th>Value</th>\n",
       "      <th>Error</th>\n",
       "      <th>ErrorRel</th>\n",
       "    </tr>\n",
       "  </thead>\n",
       "  <tbody>\n",
       "    <tr>\n",
       "      <th>a</th>\n",
       "      <td>-2.021375</td>\n",
       "      <td>0.034996</td>\n",
       "      <td>-0.017313</td>\n",
       "    </tr>\n",
       "    <tr>\n",
       "      <th>b</th>\n",
       "      <td>-0.001207</td>\n",
       "      <td>0.000026</td>\n",
       "      <td>-0.021185</td>\n",
       "    </tr>\n",
       "    <tr>\n",
       "      <th>T_inv</th>\n",
       "      <td>402.890403</td>\n",
       "      <td>11.023021</td>\n",
       "      <td>0.027360</td>\n",
       "    </tr>\n",
       "  </tbody>\n",
       "</table>\n",
       "</div>"
      ],
      "text/plain": [
       "           Value     Error  ErrorRel\n",
       "a      -2.021375  0.034996 -0.017313\n",
       "b      -0.001207  0.000026 -0.021185\n",
       "T_inv 402.890403 11.023021  0.027360"
      ]
     },
     "metadata": {},
     "output_type": "display_data"
    }
   ],
   "source": [
    "ll.compute(name = \"a\",\n",
    "           expr = lambda _2a_RCp, C_p: _2a_RCp * ll.R * C_p / 2,\n",
    "           data = data[e])\n",
    "ll.compute(name = \"b\",\n",
    "           expr = lambda _b_Cp, C_p: _b_Cp * C_p,\n",
    "           data = data[e])\n",
    "ll.compute(name = \"T_inv\",\n",
    "           expr = lambda a, b: 2 * a / (ll.R * b),\n",
    "           data = data[e])\n",
    "\n",
    "disp(data[e].loc[[\"a\", \"b\", \"T_inv\"]])"
   ]
  }
 ],
 "metadata": {
  "kernelspec": {
   "display_name": "Python 3",
   "language": "python",
   "name": "python3"
  },
  "language_info": {
   "codemirror_mode": {
    "name": "ipython",
    "version": 3
   },
   "file_extension": ".py",
   "mimetype": "text/x-python",
   "name": "python",
   "nbconvert_exporter": "python",
   "pygments_lexer": "ipython3",
   "version": "3.5.2"
  }
 },
 "nbformat": 4,
 "nbformat_minor": 0
}
