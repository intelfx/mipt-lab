{
 "cells": [
  {
   "cell_type": "code",
   "execution_count": 1,
   "metadata": {
    "collapsed": false
   },
   "outputs": [],
   "source": [
    "import pandas as pd\n",
    "import numpy as np\n",
    "import scipy as sp\n",
    "import matplotlib as mp\n",
    "import matplotlib.pyplot as plt\n",
    "import math as m\n",
    "import sympy as smp\n",
    "from IPython.display import display as disp\n",
    "import lablib as ll\n",
    "%matplotlib inline\n",
    "mp.rc(\"savefig\", dpi=96)"
   ]
  },
  {
   "cell_type": "markdown",
   "metadata": {},
   "source": [
    "Загружаем данные, приводим к СИ, считаем скорости шариков."
   ]
  },
  {
   "cell_type": "code",
   "execution_count": 2,
   "metadata": {
    "collapsed": false
   },
   "outputs": [],
   "source": [
    "data, columns, experiments = ll.read_standard_layout()\n",
    "\n",
    "# recalculate diameters in mm to m\n",
    "for e in experiments:\n",
    "    ll.compute(name = \"d\",\n",
    "               expr = lambda d: d / 1000,\n",
    "               data = data[e],\n",
    "               columns = columns[e])\n",
    "    \n",
    "    ll.compute(name = \"T\",\n",
    "               expr = lambda T: T + 273,\n",
    "               data = data[e],\n",
    "               columns = columns[e])\n",
    "    \n",
    "# compute velocities of the test spheres\n",
    "for e in experiments:\n",
    "    ll.compute(name = \"v\",\n",
    "               expr = lambda L, t_10, t_20: L / (t_20 - t_10),\n",
    "               data = data[e],\n",
    "               columns = columns[e],\n",
    "               aux = { \"t_10\": { \"Error\": \"Error_t\" },\n",
    "                       \"t_20\": { \"Error\": \"Error_t\" }})\n",
    "    del columns[e][\"t_10\"]\n",
    "    del columns[e][\"t_20\"]\n",
    "    del columns[e][\"Error_t\"]"
   ]
  },
  {
   "cell_type": "markdown",
   "metadata": {},
   "source": [
    "Получаем зависимость плотности глицерина от температуры (у нас много разных температур, не для всех есть экспериментальные значения плотности)."
   ]
  },
  {
   "cell_type": "code",
   "execution_count": 3,
   "metadata": {
    "collapsed": false
   },
   "outputs": [
    {
     "name": "stdout",
     "output_type": "stream",
     "text": [
      "Initial guesses for de_gly:\n",
      "                 Value    Error  ErrorRel\n",
      "_de_gly_k   -0.645255 0.000000 -0.000000\n",
      "_de_gly_l 1450.625233 0.000073  0.000000\n"
     ]
    },
    {
     "data": {
      "text/plain": [
       "'Final guesses for de_gly:'"
      ]
     },
     "metadata": {},
     "output_type": "display_data"
    },
    {
     "data": {
      "text/html": [
       "<div>\n",
       "<table border=\"1\" class=\"dataframe\">\n",
       "  <thead>\n",
       "    <tr style=\"text-align: right;\">\n",
       "      <th></th>\n",
       "      <th>Value</th>\n",
       "      <th>Error</th>\n",
       "      <th>ErrorRel</th>\n",
       "    </tr>\n",
       "  </thead>\n",
       "  <tbody>\n",
       "    <tr>\n",
       "      <th>_de_gly_k</th>\n",
       "      <td>-0.645395</td>\n",
       "      <td>0.005486</td>\n",
       "      <td>-0.85%</td>\n",
       "    </tr>\n",
       "    <tr>\n",
       "      <th>_de_gly_l</th>\n",
       "      <td>1450.669550</td>\n",
       "      <td>1.741745</td>\n",
       "      <td>0.12%</td>\n",
       "    </tr>\n",
       "  </tbody>\n",
       "</table>\n",
       "</div>"
      ],
      "text/plain": [
       "                Value    Error  ErrorRel\n",
       "_de_gly_k   -0.645395 0.005486 -0.008500\n",
       "_de_gly_l 1450.669550 1.741745  0.001201"
      ]
     },
     "metadata": {},
     "output_type": "display_data"
    }
   ],
   "source": [
    "# linear-fit the glycerin densities\n",
    "\n",
    "# http://www.aciscience.org/docs/physical_properties_of_glycerine_and_its_solutions.pdf\n",
    "gly_T = [ x + 273 for x in [20, 30, 40, 54, 75.5] ]\n",
    "gly_de = [ x * 1000 for x in [1.26134, 1.25512, 1.24896, 1.2397, 1.2256] ]\n",
    "\n",
    "gly_model = ll.fit2(name = \"de_gly\",\n",
    "            model = lambda _T, _de_gly_k, _de_gly_l: _T * _de_gly_k + _de_gly_l,\n",
    "            data = data[\"global\"],\n",
    "            x = gly_T,\n",
    "            y = gly_de,\n",
    "            xerr = [0.1 for x in gly_T],\n",
    "            yerr = [0.00001 for x in gly_de])\n",
    "\n",
    "for e in experiments:\n",
    "    ll.add(data[e], data[\"global\"].loc[[\"_de_gly_k\", \"_de_gly_l\"]])"
   ]
  },
  {
   "cell_type": "markdown",
   "metadata": {},
   "source": [
    "Считаем вязкость для каждого эксперимента. Оцениваем число Рейнольдса и время релаксации. Можно видеть, что условия применимости расчётных формул (ламинарность обтекания, установление скорости на момент начала замера) выполняются."
   ]
  },
  {
   "cell_type": "code",
   "execution_count": 4,
   "metadata": {
    "collapsed": false
   },
   "outputs": [
    {
     "name": "stdout",
     "output_type": "stream",
     "text": [
      "Experiment T=20:\n"
     ]
    },
    {
     "data": {
      "text/html": [
       "<div>\n",
       "<table border=\"1\" class=\"dataframe\">\n",
       "  <thead>\n",
       "    <tr style=\"text-align: right;\">\n",
       "      <th></th>\n",
       "      <th>T</th>\n",
       "      <th>Error_T</th>\n",
       "      <th>ErrorRel_T</th>\n",
       "      <th>de</th>\n",
       "      <th>Error_de</th>\n",
       "      <th>ErrorRel_de</th>\n",
       "      <th>d</th>\n",
       "      <th>Error_d</th>\n",
       "      <th>ErrorRel_d</th>\n",
       "      <th>v</th>\n",
       "      <th>Error_v</th>\n",
       "      <th>ErrorRel_v</th>\n",
       "      <th>vi</th>\n",
       "      <th>Error_vi</th>\n",
       "      <th>ErrorRel_vi</th>\n",
       "      <th>Re</th>\n",
       "      <th>Error_Re</th>\n",
       "      <th>ErrorRel_Re</th>\n",
       "    </tr>\n",
       "  </thead>\n",
       "  <tbody>\n",
       "    <tr>\n",
       "      <th>0</th>\n",
       "      <td>295.300000</td>\n",
       "      <td>0.050000</td>\n",
       "      <td>0.02%</td>\n",
       "      <td>2500</td>\n",
       "      <td>50</td>\n",
       "      <td>2.00%</td>\n",
       "      <td>0.002100</td>\n",
       "      <td>0.000050</td>\n",
       "      <td>2.38%</td>\n",
       "      <td>0.008000</td>\n",
       "      <td>0.000240</td>\n",
       "      <td>3.00%</td>\n",
       "      <td>0.372382</td>\n",
       "      <td>0.025792</td>\n",
       "      <td>6.93%</td>\n",
       "      <td>0.028424</td>\n",
       "      <td>0.002250</td>\n",
       "      <td>7.92%</td>\n",
       "    </tr>\n",
       "    <tr>\n",
       "      <th>1</th>\n",
       "      <td>295.700000</td>\n",
       "      <td>0.050000</td>\n",
       "      <td>0.02%</td>\n",
       "      <td>7800</td>\n",
       "      <td>50</td>\n",
       "      <td>0.64%</td>\n",
       "      <td>0.000550</td>\n",
       "      <td>0.000050</td>\n",
       "      <td>9.09%</td>\n",
       "      <td>0.002778</td>\n",
       "      <td>0.000039</td>\n",
       "      <td>1.40%</td>\n",
       "      <td>0.388030</td>\n",
       "      <td>0.070823</td>\n",
       "      <td>18.25%</td>\n",
       "      <td>0.002480</td>\n",
       "      <td>0.000507</td>\n",
       "      <td>20.44%</td>\n",
       "    </tr>\n",
       "    <tr>\n",
       "      <th>2</th>\n",
       "      <td>295.800000</td>\n",
       "      <td>0.050000</td>\n",
       "      <td>0.02%</td>\n",
       "      <td>7800</td>\n",
       "      <td>50</td>\n",
       "      <td>0.64%</td>\n",
       "      <td>0.000750</td>\n",
       "      <td>0.000050</td>\n",
       "      <td>6.67%</td>\n",
       "      <td>0.005263</td>\n",
       "      <td>0.000111</td>\n",
       "      <td>2.11%</td>\n",
       "      <td>0.380818</td>\n",
       "      <td>0.051492</td>\n",
       "      <td>13.52%</td>\n",
       "      <td>0.006529</td>\n",
       "      <td>0.000994</td>\n",
       "      <td>15.22%</td>\n",
       "    </tr>\n",
       "  </tbody>\n",
       "</table>\n",
       "</div>"
      ],
      "text/plain": [
       "           T  Error_T  ErrorRel_T    de  Error_de  ErrorRel_de        d  \\\n",
       "0 295.300000 0.050000    0.000169  2500        50     0.020000 0.002100   \n",
       "1 295.700000 0.050000    0.000169  7800        50     0.006410 0.000550   \n",
       "2 295.800000 0.050000    0.000169  7800        50     0.006410 0.000750   \n",
       "\n",
       "   Error_d  ErrorRel_d        v  Error_v  ErrorRel_v       vi  Error_vi  \\\n",
       "0 0.000050    0.023810 0.008000 0.000240    0.030000 0.372382  0.025792   \n",
       "1 0.000050    0.090909 0.002778 0.000039    0.014016 0.388030  0.070823   \n",
       "2 0.000050    0.066667 0.005263 0.000111    0.021125 0.380818  0.051492   \n",
       "\n",
       "   ErrorRel_vi       Re  Error_Re  ErrorRel_Re  \n",
       "0     0.069263 0.028424  0.002250     0.079170  \n",
       "1     0.182518 0.002480  0.000507     0.204395  \n",
       "2     0.135213 0.006529  0.000994     0.152240  "
      ]
     },
     "metadata": {},
     "output_type": "display_data"
    },
    {
     "name": "stdout",
     "output_type": "stream",
     "text": [
      "Experiment T=30:\n"
     ]
    },
    {
     "data": {
      "text/html": [
       "<div>\n",
       "<table border=\"1\" class=\"dataframe\">\n",
       "  <thead>\n",
       "    <tr style=\"text-align: right;\">\n",
       "      <th></th>\n",
       "      <th>T</th>\n",
       "      <th>Error_T</th>\n",
       "      <th>ErrorRel_T</th>\n",
       "      <th>de</th>\n",
       "      <th>Error_de</th>\n",
       "      <th>ErrorRel_de</th>\n",
       "      <th>d</th>\n",
       "      <th>Error_d</th>\n",
       "      <th>ErrorRel_d</th>\n",
       "      <th>v</th>\n",
       "      <th>Error_v</th>\n",
       "      <th>ErrorRel_v</th>\n",
       "      <th>vi</th>\n",
       "      <th>Error_vi</th>\n",
       "      <th>ErrorRel_vi</th>\n",
       "      <th>Re</th>\n",
       "      <th>Error_Re</th>\n",
       "      <th>ErrorRel_Re</th>\n",
       "    </tr>\n",
       "  </thead>\n",
       "  <tbody>\n",
       "    <tr>\n",
       "      <th>0</th>\n",
       "      <td>306.100000</td>\n",
       "      <td>0.050000</td>\n",
       "      <td>0.02%</td>\n",
       "      <td>2500</td>\n",
       "      <td>50</td>\n",
       "      <td>2.00%</td>\n",
       "      <td>0.002050</td>\n",
       "      <td>0.000050</td>\n",
       "      <td>2.44%</td>\n",
       "      <td>0.015385</td>\n",
       "      <td>0.000851</td>\n",
       "      <td>5.53%</td>\n",
       "      <td>0.185565</td>\n",
       "      <td>0.015581</td>\n",
       "      <td>8.40%</td>\n",
       "      <td>0.106489</td>\n",
       "      <td>0.011019</td>\n",
       "      <td>10.35%</td>\n",
       "    </tr>\n",
       "    <tr>\n",
       "      <th>1</th>\n",
       "      <td>306.200000</td>\n",
       "      <td>0.050000</td>\n",
       "      <td>0.02%</td>\n",
       "      <td>7800</td>\n",
       "      <td>50</td>\n",
       "      <td>0.64%</td>\n",
       "      <td>0.000650</td>\n",
       "      <td>0.000050</td>\n",
       "      <td>7.69%</td>\n",
       "      <td>0.008333</td>\n",
       "      <td>0.000259</td>\n",
       "      <td>3.11%</td>\n",
       "      <td>0.180840</td>\n",
       "      <td>0.028418</td>\n",
       "      <td>15.71%</td>\n",
       "      <td>0.018766</td>\n",
       "      <td>0.003335</td>\n",
       "      <td>17.77%</td>\n",
       "    </tr>\n",
       "    <tr>\n",
       "      <th>2</th>\n",
       "      <td>306.200000</td>\n",
       "      <td>0.050000</td>\n",
       "      <td>0.02%</td>\n",
       "      <td>7800</td>\n",
       "      <td>50</td>\n",
       "      <td>0.64%</td>\n",
       "      <td>0.000700</td>\n",
       "      <td>0.000050</td>\n",
       "      <td>7.14%</td>\n",
       "      <td>0.009524</td>\n",
       "      <td>0.000335</td>\n",
       "      <td>3.51%</td>\n",
       "      <td>0.183515</td>\n",
       "      <td>0.027034</td>\n",
       "      <td>14.73%</td>\n",
       "      <td>0.022760</td>\n",
       "      <td>0.003811</td>\n",
       "      <td>16.75%</td>\n",
       "    </tr>\n",
       "  </tbody>\n",
       "</table>\n",
       "</div>"
      ],
      "text/plain": [
       "           T  Error_T  ErrorRel_T    de  Error_de  ErrorRel_de        d  \\\n",
       "0 306.100000 0.050000    0.000163  2500        50     0.020000 0.002050   \n",
       "1 306.200000 0.050000    0.000163  7800        50     0.006410 0.000650   \n",
       "2 306.200000 0.050000    0.000163  7800        50     0.006410 0.000700   \n",
       "\n",
       "   Error_d  ErrorRel_d        v  Error_v  ErrorRel_v       vi  Error_vi  \\\n",
       "0 0.000050    0.024390 0.015385 0.000851    0.055304 0.185565  0.015581   \n",
       "1 0.000050    0.076923 0.008333 0.000259    0.031114 0.180840  0.028418   \n",
       "2 0.000050    0.071429 0.009524 0.000335    0.035125 0.183515  0.027034   \n",
       "\n",
       "   ErrorRel_vi       Re  Error_Re  ErrorRel_Re  \n",
       "0     0.083964 0.106489  0.011019     0.103475  \n",
       "1     0.157147 0.018766  0.003335     0.177719  \n",
       "2     0.147311 0.022760  0.003811     0.167451  "
      ]
     },
     "metadata": {},
     "output_type": "display_data"
    },
    {
     "name": "stdout",
     "output_type": "stream",
     "text": [
      "Experiment T=40:\n"
     ]
    },
    {
     "data": {
      "text/html": [
       "<div>\n",
       "<table border=\"1\" class=\"dataframe\">\n",
       "  <thead>\n",
       "    <tr style=\"text-align: right;\">\n",
       "      <th></th>\n",
       "      <th>T</th>\n",
       "      <th>Error_T</th>\n",
       "      <th>ErrorRel_T</th>\n",
       "      <th>de</th>\n",
       "      <th>Error_de</th>\n",
       "      <th>ErrorRel_de</th>\n",
       "      <th>d</th>\n",
       "      <th>Error_d</th>\n",
       "      <th>ErrorRel_d</th>\n",
       "      <th>v</th>\n",
       "      <th>Error_v</th>\n",
       "      <th>ErrorRel_v</th>\n",
       "      <th>vi</th>\n",
       "      <th>Error_vi</th>\n",
       "      <th>ErrorRel_vi</th>\n",
       "      <th>Re</th>\n",
       "      <th>Error_Re</th>\n",
       "      <th>ErrorRel_Re</th>\n",
       "    </tr>\n",
       "  </thead>\n",
       "  <tbody>\n",
       "    <tr>\n",
       "      <th>0</th>\n",
       "      <td>316.100000</td>\n",
       "      <td>0.050000</td>\n",
       "      <td>0.02%</td>\n",
       "      <td>2500</td>\n",
       "      <td>50</td>\n",
       "      <td>2.00%</td>\n",
       "      <td>0.001350</td>\n",
       "      <td>0.000050</td>\n",
       "      <td>3.70%</td>\n",
       "      <td>0.012500</td>\n",
       "      <td>0.000566</td>\n",
       "      <td>4.53%</td>\n",
       "      <td>0.099558</td>\n",
       "      <td>0.009516</td>\n",
       "      <td>9.56%</td>\n",
       "      <td>0.105654</td>\n",
       "      <td>0.011843</td>\n",
       "      <td>11.21%</td>\n",
       "    </tr>\n",
       "    <tr>\n",
       "      <th>1</th>\n",
       "      <td>316.100000</td>\n",
       "      <td>0.050000</td>\n",
       "      <td>0.02%</td>\n",
       "      <td>7800</td>\n",
       "      <td>50</td>\n",
       "      <td>0.64%</td>\n",
       "      <td>0.000700</td>\n",
       "      <td>0.000050</td>\n",
       "      <td>7.14%</td>\n",
       "      <td>0.016667</td>\n",
       "      <td>0.000996</td>\n",
       "      <td>5.98%</td>\n",
       "      <td>0.104968</td>\n",
       "      <td>0.016275</td>\n",
       "      <td>15.50%</td>\n",
       "      <td>0.069280</td>\n",
       "      <td>0.012531</td>\n",
       "      <td>18.09%</td>\n",
       "    </tr>\n",
       "  </tbody>\n",
       "</table>\n",
       "</div>"
      ],
      "text/plain": [
       "           T  Error_T  ErrorRel_T    de  Error_de  ErrorRel_de        d  \\\n",
       "0 316.100000 0.050000    0.000158  2500        50     0.020000 0.001350   \n",
       "1 316.100000 0.050000    0.000158  7800        50     0.006410 0.000700   \n",
       "\n",
       "   Error_d  ErrorRel_d        v  Error_v  ErrorRel_v       vi  Error_vi  \\\n",
       "0 0.000050    0.037037 0.012500 0.000566    0.045311 0.099558  0.009516   \n",
       "1 0.000050    0.071429 0.016667 0.000996    0.059768 0.104968  0.016275   \n",
       "\n",
       "   ErrorRel_vi       Re  Error_Re  ErrorRel_Re  \n",
       "0     0.095579 0.105654  0.011843     0.112090  \n",
       "1     0.155044 0.069280  0.012531     0.180878  "
      ]
     },
     "metadata": {},
     "output_type": "display_data"
    },
    {
     "name": "stdout",
     "output_type": "stream",
     "text": [
      "Experiment T=50:\n"
     ]
    },
    {
     "data": {
      "text/html": [
       "<div>\n",
       "<table border=\"1\" class=\"dataframe\">\n",
       "  <thead>\n",
       "    <tr style=\"text-align: right;\">\n",
       "      <th></th>\n",
       "      <th>T</th>\n",
       "      <th>Error_T</th>\n",
       "      <th>ErrorRel_T</th>\n",
       "      <th>de</th>\n",
       "      <th>Error_de</th>\n",
       "      <th>ErrorRel_de</th>\n",
       "      <th>d</th>\n",
       "      <th>Error_d</th>\n",
       "      <th>ErrorRel_d</th>\n",
       "      <th>v</th>\n",
       "      <th>Error_v</th>\n",
       "      <th>ErrorRel_v</th>\n",
       "      <th>vi</th>\n",
       "      <th>Error_vi</th>\n",
       "      <th>ErrorRel_vi</th>\n",
       "      <th>Re</th>\n",
       "      <th>Error_Re</th>\n",
       "      <th>ErrorRel_Re</th>\n",
       "    </tr>\n",
       "  </thead>\n",
       "  <tbody>\n",
       "    <tr>\n",
       "      <th>0</th>\n",
       "      <td>326.000000</td>\n",
       "      <td>0.050000</td>\n",
       "      <td>0.02%</td>\n",
       "      <td>2500</td>\n",
       "      <td>50</td>\n",
       "      <td>2.00%</td>\n",
       "      <td>0.002150</td>\n",
       "      <td>0.000050</td>\n",
       "      <td>2.33%</td>\n",
       "      <td>0.050000</td>\n",
       "      <td>0.008853</td>\n",
       "      <td>17.71%</td>\n",
       "      <td>0.063450</td>\n",
       "      <td>0.011886</td>\n",
       "      <td>18.73%</td>\n",
       "      <td>1.050661</td>\n",
       "      <td>0.271932</td>\n",
       "      <td>25.88%</td>\n",
       "    </tr>\n",
       "    <tr>\n",
       "      <th>1</th>\n",
       "      <td>326.000000</td>\n",
       "      <td>0.050000</td>\n",
       "      <td>0.02%</td>\n",
       "      <td>2500</td>\n",
       "      <td>50</td>\n",
       "      <td>2.00%</td>\n",
       "      <td>0.002100</td>\n",
       "      <td>0.000050</td>\n",
       "      <td>2.38%</td>\n",
       "      <td>0.050000</td>\n",
       "      <td>0.008853</td>\n",
       "      <td>17.71%</td>\n",
       "      <td>0.060533</td>\n",
       "      <td>0.011357</td>\n",
       "      <td>18.76%</td>\n",
       "      <td>1.075677</td>\n",
       "      <td>0.278677</td>\n",
       "      <td>25.91%</td>\n",
       "    </tr>\n",
       "    <tr>\n",
       "      <th>2</th>\n",
       "      <td>326.000000</td>\n",
       "      <td>0.050000</td>\n",
       "      <td>0.02%</td>\n",
       "      <td>7800</td>\n",
       "      <td>50</td>\n",
       "      <td>0.64%</td>\n",
       "      <td>0.000700</td>\n",
       "      <td>0.000050</td>\n",
       "      <td>7.14%</td>\n",
       "      <td>0.027778</td>\n",
       "      <td>0.002742</td>\n",
       "      <td>9.87%</td>\n",
       "      <td>0.063042</td>\n",
       "      <td>0.010958</td>\n",
       "      <td>17.38%</td>\n",
       "      <td>0.191271</td>\n",
       "      <td>0.040603</td>\n",
       "      <td>21.23%</td>\n",
       "    </tr>\n",
       "    <tr>\n",
       "      <th>3</th>\n",
       "      <td>326.000000</td>\n",
       "      <td>0.050000</td>\n",
       "      <td>0.02%</td>\n",
       "      <td>7800</td>\n",
       "      <td>50</td>\n",
       "      <td>0.64%</td>\n",
       "      <td>0.000650</td>\n",
       "      <td>0.000050</td>\n",
       "      <td>7.69%</td>\n",
       "      <td>0.023256</td>\n",
       "      <td>0.001926</td>\n",
       "      <td>8.28%</td>\n",
       "      <td>0.064928</td>\n",
       "      <td>0.011355</td>\n",
       "      <td>17.49%</td>\n",
       "      <td>0.144378</td>\n",
       "      <td>0.030067</td>\n",
       "      <td>20.83%</td>\n",
       "    </tr>\n",
       "  </tbody>\n",
       "</table>\n",
       "</div>"
      ],
      "text/plain": [
       "           T  Error_T  ErrorRel_T    de  Error_de  ErrorRel_de        d  \\\n",
       "0 326.000000 0.050000    0.000153  2500        50     0.020000 0.002150   \n",
       "1 326.000000 0.050000    0.000153  2500        50     0.020000 0.002100   \n",
       "2 326.000000 0.050000    0.000153  7800        50     0.006410 0.000700   \n",
       "3 326.000000 0.050000    0.000153  7800        50     0.006410 0.000650   \n",
       "\n",
       "   Error_d  ErrorRel_d        v  Error_v  ErrorRel_v       vi  Error_vi  \\\n",
       "0 0.000050    0.023256 0.050000 0.008853    0.177059 0.063450  0.011886   \n",
       "1 0.000050    0.023810 0.050000 0.008853    0.177059 0.060533  0.011357   \n",
       "2 0.000050    0.071429 0.027778 0.002742    0.098717 0.063042  0.010958   \n",
       "3 0.000050    0.076923 0.023256 0.001926    0.082828 0.064928  0.011355   \n",
       "\n",
       "   ErrorRel_vi       Re  Error_Re  ErrorRel_Re  \n",
       "0     0.187330 1.050661  0.271932     0.258819  \n",
       "1     0.187608 1.075677  0.278677     0.259071  \n",
       "2     0.173814 0.191271  0.040603     0.212280  \n",
       "3     0.174892 0.144378  0.030067     0.208252  "
      ]
     },
     "metadata": {},
     "output_type": "display_data"
    },
    {
     "name": "stdout",
     "output_type": "stream",
     "text": [
      "Experiment T=60:\n"
     ]
    },
    {
     "data": {
      "text/html": [
       "<div>\n",
       "<table border=\"1\" class=\"dataframe\">\n",
       "  <thead>\n",
       "    <tr style=\"text-align: right;\">\n",
       "      <th></th>\n",
       "      <th>T</th>\n",
       "      <th>Error_T</th>\n",
       "      <th>ErrorRel_T</th>\n",
       "      <th>de</th>\n",
       "      <th>Error_de</th>\n",
       "      <th>ErrorRel_de</th>\n",
       "      <th>d</th>\n",
       "      <th>Error_d</th>\n",
       "      <th>ErrorRel_d</th>\n",
       "      <th>v</th>\n",
       "      <th>Error_v</th>\n",
       "      <th>ErrorRel_v</th>\n",
       "      <th>vi</th>\n",
       "      <th>Error_vi</th>\n",
       "      <th>ErrorRel_vi</th>\n",
       "      <th>Re</th>\n",
       "      <th>Error_Re</th>\n",
       "      <th>ErrorRel_Re</th>\n",
       "    </tr>\n",
       "  </thead>\n",
       "  <tbody>\n",
       "    <tr>\n",
       "      <th>0</th>\n",
       "      <td>336.000000</td>\n",
       "      <td>0.050000</td>\n",
       "      <td>0.01%</td>\n",
       "      <td>2500</td>\n",
       "      <td>50</td>\n",
       "      <td>2.00%</td>\n",
       "      <td>0.001200</td>\n",
       "      <td>0.000050</td>\n",
       "      <td>4.17%</td>\n",
       "      <td>0.026667</td>\n",
       "      <td>0.002528</td>\n",
       "      <td>9.48%</td>\n",
       "      <td>0.037251</td>\n",
       "      <td>0.004927</td>\n",
       "      <td>13.23%</td>\n",
       "      <td>0.529947</td>\n",
       "      <td>0.089034</td>\n",
       "      <td>16.80%</td>\n",
       "    </tr>\n",
       "    <tr>\n",
       "      <th>1</th>\n",
       "      <td>336.000000</td>\n",
       "      <td>0.050000</td>\n",
       "      <td>0.01%</td>\n",
       "      <td>7800</td>\n",
       "      <td>50</td>\n",
       "      <td>0.64%</td>\n",
       "      <td>0.000700</td>\n",
       "      <td>0.000050</td>\n",
       "      <td>7.14%</td>\n",
       "      <td>0.045455</td>\n",
       "      <td>0.007319</td>\n",
       "      <td>16.10%</td>\n",
       "      <td>0.038564</td>\n",
       "      <td>0.008306</td>\n",
       "      <td>21.54%</td>\n",
       "      <td>0.508998</td>\n",
       "      <td>0.141631</td>\n",
       "      <td>27.83%</td>\n",
       "    </tr>\n",
       "  </tbody>\n",
       "</table>\n",
       "</div>"
      ],
      "text/plain": [
       "           T  Error_T  ErrorRel_T    de  Error_de  ErrorRel_de        d  \\\n",
       "0 336.000000 0.050000    0.000149  2500        50     0.020000 0.001200   \n",
       "1 336.000000 0.050000    0.000149  7800        50     0.006410 0.000700   \n",
       "\n",
       "   Error_d  ErrorRel_d        v  Error_v  ErrorRel_v       vi  Error_vi  \\\n",
       "0 0.000050    0.041667 0.026667 0.002528    0.094810 0.037251  0.004927   \n",
       "1 0.000050    0.071429 0.045455 0.007319    0.161017 0.038564  0.008306   \n",
       "\n",
       "   ErrorRel_vi       Re  Error_Re  ErrorRel_Re  \n",
       "0     0.132275 0.529947  0.089034     0.168006  \n",
       "1     0.215390 0.508998  0.141631     0.278254  "
      ]
     },
     "metadata": {},
     "output_type": "display_data"
    }
   ],
   "source": [
    "for e in experiments:\n",
    "    ll.compute(name = \"vi\",\n",
    "               expr = lambda d, de, T, _de_gly_k, _de_gly_l, v: 2/9 * ll.g * (d/2)**2 * (de - (T*_de_gly_k+_de_gly_l)) / v,\n",
    "#               expr = lambda d, D, de, T, _de_gly_k, _de_gly_l, v: 2/9 * ll.g * (d/2)**2 * (de - (T*_de_gly_k+_de_gly_l)) / ((1 + 2.4*(d/D)) * v),\n",
    "               data = data[e],\n",
    "               columns = columns[e])\n",
    "    \n",
    "    ll.compute(name = \"Re\",\n",
    "               expr = lambda d, v, vi, T, _de_gly_k, _de_gly_l: v * (d/2) * (T*_de_gly_k+_de_gly_l) / vi,\n",
    "               data = data[e],\n",
    "               columns = columns[e])\n",
    "    \n",
    "#    ll.compute(name = \"t_relax\",\n",
    "#               expr = lambda d, de, vi: 2/9 * (d/2)**2 * de / vi,\n",
    "#               data = data[e],\n",
    "#               columns = columns[e])\n",
    "\n",
    "for e in experiments:\n",
    "    print(\"Experiment %s:\" % e)\n",
    "    disp(columns[e])"
   ]
  },
  {
   "cell_type": "markdown",
   "metadata": {},
   "source": [
    "Построим графики разброса вязкости от температуры. К каждой точке добавлено искажение температуры в пределах $[-0.01; +0.01]$, чтобы графики легче читались."
   ]
  },
  {
   "cell_type": "code",
   "execution_count": 5,
   "metadata": {
    "collapsed": false
   },
   "outputs": [
    {
     "data": {
      "image/png": "[encoded data removed]",
      "text/plain": [
       "<matplotlib.figure.Figure at 0x7f965cdb4cc0>"
      ]
     },
     "metadata": {},
     "output_type": "display_data"
    },
    {
     "data": {
      "image/png": "[encoded data removed]",
      "text/plain": [
       "<matplotlib.figure.Figure at 0x7f965cce95f8>"
      ]
     },
     "metadata": {},
     "output_type": "display_data"
    },
    {
     "data": {
      "image/png": "[encoded data removed]",
      "text/plain": [
       "<matplotlib.figure.Figure at 0x7f965c962358>"
      ]
     },
     "metadata": {},
     "output_type": "display_data"
    },
    {
     "data": {
      "image/png": "[encoded data removed]",
      "text/plain": [
       "<matplotlib.figure.Figure at 0x7f965ca0a438>"
      ]
     },
     "metadata": {},
     "output_type": "display_data"
    },
    {
     "data": {
      "image/png": "[encoded data removed]",
      "text/plain": [
       "<matplotlib.figure.Figure at 0x7f965ca1c438>"
      ]
     },
     "metadata": {},
     "output_type": "display_data"
    }
   ],
   "source": [
    "for i, e in enumerate(experiments):\n",
    "    plt.title(\"Viscosity by temperature, experiment %s\" % e)\n",
    "\n",
    "    plt.xlabel(\"$T, \\\\degree C$\")\n",
    "    plt.ylabel(\"$\\eta, kg/(m*\\\\degree K)$\")\n",
    "\n",
    "    T = columns[e][\"T\"]\n",
    "    \n",
    "    plt.errorbar(x = T - 273 + np.linspace(-0.01, 0.01, len(T)),\n",
    "                 y = columns[e][\"vi\"],\n",
    "                 yerr = columns[e][\"Error_vi\"],\n",
    "                 label = e,\n",
    "                 marker = \".\",\n",
    "                 markersize = 5,\n",
    "                 linestyle = \"none\")\n",
    "    plt.axis([min(T) - 273 - 0.1, max(T) - 273 + 0.1, None, None])\n",
    "    plt.plot()\n",
    "    plt.show()"
   ]
  },
  {
   "cell_type": "markdown",
   "metadata": {},
   "source": [
    "Теперь соберём все экспериментальные точки на одном графике $\\eta(T)$, приблизим теоретической зависимостью $\\eta = A * e^{\\frac{W}{kT}}$ и найдём отсюда $\\frac{W}{k}$ (из-за проблем с точностью не можем найти сразу $W$)."
   ]
  },
  {
   "cell_type": "code",
   "execution_count": 9,
   "metadata": {
    "collapsed": false
   },
   "outputs": [
    {
     "data": {
      "text/plain": [
       "'Final guesses for vi:'"
      ]
     },
     "metadata": {},
     "output_type": "display_data"
    },
    {
     "data": {
      "text/html": [
       "<div>\n",
       "<table border=\"1\" class=\"dataframe\">\n",
       "  <thead>\n",
       "    <tr style=\"text-align: right;\">\n",
       "      <th></th>\n",
       "      <th>Value</th>\n",
       "      <th>Error</th>\n",
       "      <th>ErrorRel</th>\n",
       "    </tr>\n",
       "  </thead>\n",
       "  <tbody>\n",
       "    <tr>\n",
       "      <th>W_k</th>\n",
       "      <td>5652.513162</td>\n",
       "      <td>75.607496</td>\n",
       "      <td>1.34%</td>\n",
       "    </tr>\n",
       "    <tr>\n",
       "      <th>_ln_A</th>\n",
       "      <td>-20.133991</td>\n",
       "      <td>0.244745</td>\n",
       "      <td>-1.22%</td>\n",
       "    </tr>\n",
       "  </tbody>\n",
       "</table>\n",
       "</div>"
      ],
      "text/plain": [
       "            Value     Error  ErrorRel\n",
       "W_k   5652.513162 75.607496  0.013376\n",
       "_ln_A  -20.133991  0.244745 -0.012156"
      ]
     },
     "metadata": {},
     "output_type": "display_data"
    },
    {
     "data": {
      "text/plain": [
       "<matplotlib.legend.Legend at 0x7f965c7c69e8>"
      ]
     },
     "execution_count": 9,
     "metadata": {},
     "output_type": "execute_result"
    },
    {
     "data": {
      "image/png": "[encoded data removed]",
      "text/plain": [
       "<matplotlib.figure.Figure at 0x7f965cc7e3c8>"
      ]
     },
     "metadata": {},
     "output_type": "display_data"
    }
   ],
   "source": [
    "columns_all = pd.concat(columns.values(), ignore_index = True)\n",
    "\n",
    "ll.compute(name = \"ln_vi\",\n",
    "           expr = lambda vi: ll.log(vi),\n",
    "           data = data[\"global\"],\n",
    "           columns = columns_all)\n",
    "\n",
    "ll.compute(name = \"_1_T\",\n",
    "           expr = lambda T: 1/T,\n",
    "           data = data[\"global\"],\n",
    "           columns = columns_all)\n",
    "\n",
    "model = ll.fit2(name = \"vi\",\n",
    "                model = lambda T, W_k, _ln_A: ll.exp(_ln_A + W_k/T),\n",
    "                x = columns_all[\"T\"],\n",
    "                xerr = columns_all[\"Error_T\"],\n",
    "                y = columns_all[\"vi\"],\n",
    "                yerr = columns_all[\"Error_vi\"],\n",
    "                data = data[\"global\"],\n",
    "                initial = [1, 1])\n",
    "\n",
    "ll.compute(name = \"vi_c\",\n",
    "           expr = lambda T, W_k, _ln_A: ll.exp(_ln_A + W_k/T),\n",
    "           data = data[\"global\"],\n",
    "           columns = columns_all)\n",
    "\n",
    "plt.title(\"Viscosity by temperature, joint\")\n",
    "\n",
    "plt.xlabel(\"$T, \\\\degree C$\")\n",
    "plt.ylabel(\"$\\eta, kg/(m*\\\\degree K)$\")\n",
    "\n",
    "T = columns_all[\"T\"]\n",
    "T_linspace = ll.linspace(T)\n",
    "\n",
    "plt.errorbar(x = T - 273 + np.linspace(-0.1, 0.1, len(T)),\n",
    "             y = columns_all[\"vi\"],\n",
    "             yerr = columns_all[\"Error_vi\"],\n",
    "             marker = \".\",\n",
    "             markersize = 5,\n",
    "             elinewidth = 1,\n",
    "             linestyle = \"none\",\n",
    "             label = \"Experimental data\")\n",
    "plt.errorbar(x = T - 273,\n",
    "             y = columns_all[\"vi_c\"],\n",
    "             yerr = columns_all[\"Error_vi_c\"],\n",
    "             marker = \"o\",\n",
    "             markersize = 5,\n",
    "             linestyle = \"none\",\n",
    "             label = \"Calculated data\")\n",
    "plt.plot(T_linspace - 273, model(T_linspace),\n",
    "         label = \"Fitted curve\")\n",
    "\n",
    "plt.axis([min(T) - 273 - 10, max(T) - 273 + 10, None, None])\n",
    "plt.legend(loc = \"best\")"
   ]
  },
  {
   "cell_type": "markdown",
   "metadata": {},
   "source": [
    "Наконец, найдём $W$."
   ]
  },
  {
   "cell_type": "code",
   "execution_count": 7,
   "metadata": {
    "collapsed": false
   },
   "outputs": [
    {
     "data": {
      "text/html": [
       "<div>\n",
       "<table border=\"1\" class=\"dataframe\">\n",
       "  <thead>\n",
       "    <tr style=\"text-align: right;\">\n",
       "      <th></th>\n",
       "      <th>Value</th>\n",
       "      <th>Error</th>\n",
       "      <th>ErrorRel</th>\n",
       "    </tr>\n",
       "  </thead>\n",
       "  <tbody>\n",
       "    <tr>\n",
       "      <th>W</th>\n",
       "      <td>7.804134e-20</td>\n",
       "      <td>1.043874e-21</td>\n",
       "      <td>1.337591e-02</td>\n",
       "    </tr>\n",
       "  </tbody>\n",
       "</table>\n",
       "</div>"
      ],
      "text/plain": [
       "         Value        Error     ErrorRel\n",
       "W 7.804134e-20 1.043874e-21 1.337591e-02"
      ]
     },
     "metadata": {},
     "output_type": "display_data"
    }
   ],
   "source": [
    "ll.compute(name = \"W\",\n",
    "           expr = lambda W_k: W_k * ll.k,\n",
    "           data = data[\"global\"])\n",
    "pd.set_option(\"float_format\", \"{:e}\".format)\n",
    "disp(data[\"global\"].loc[[\"W\"]])\n",
    "pd.set_option(\"float_format\", \"{:f}\".format)"
   ]
  }
 ],
 "metadata": {
  "kernelspec": {
   "display_name": "Python 3",
   "language": "python",
   "name": "python3"
  },
  "language_info": {
   "codemirror_mode": {
    "name": "ipython",
    "version": 3
   },
   "file_extension": ".py",
   "mimetype": "text/x-python",
   "name": "python",
   "nbconvert_exporter": "python",
   "pygments_lexer": "ipython3",
   "version": "3.5.1"
  }
 },
 "nbformat": 4,
 "nbformat_minor": 0
}
