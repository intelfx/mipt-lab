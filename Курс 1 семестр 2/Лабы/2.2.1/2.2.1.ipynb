{
 "cells": [
  {
   "cell_type": "code",
   "execution_count": 1,
   "metadata": {
    "collapsed": false
   },
   "outputs": [],
   "source": [
    "import pandas as pd\n",
    "import numpy as np\n",
    "import scipy as sp\n",
    "import matplotlib as mp\n",
    "import matplotlib.pyplot as plt\n",
    "import math as m\n",
    "import sympy as smp\n",
    "from IPython.display import display as disp\n",
    "import lablib as ll\n",
    "%matplotlib inline"
   ]
  },
  {
   "cell_type": "code",
   "execution_count": 2,
   "metadata": {
    "collapsed": false
   },
   "outputs": [],
   "source": [
    "data = {}\n",
    "columns = {}\n",
    "experiments = []\n",
    "            \n",
    "data, columns, experiments = ll.read_standard_layout()"
   ]
  },
  {
   "cell_type": "markdown",
   "metadata": {},
   "source": [
    "Рассчитаем рабочее давление для каждого эксперимента и отмасштабируем измерения напряжения."
   ]
  },
  {
   "cell_type": "code",
   "execution_count": 3,
   "metadata": {
    "collapsed": false
   },
   "outputs": [
    {
     "data": {
      "text/plain": [
       "'Computing P, scaled U for 40'"
      ]
     },
     "metadata": {},
     "output_type": "display_data"
    },
    {
     "data": {
      "text/plain": [
       "'Error influence estimations for P:'"
      ]
     },
     "metadata": {},
     "output_type": "display_data"
    },
    {
     "data": {
      "text/html": [
       "<div>\n",
       "<table border=\"1\" class=\"dataframe\">\n",
       "  <thead>\n",
       "    <tr style=\"text-align: right;\">\n",
       "      <th></th>\n",
       "      <th>Error</th>\n",
       "      <th>Derivative</th>\n",
       "      <th>(E*D)^2</th>\n",
       "    </tr>\n",
       "  </thead>\n",
       "  <tbody>\n",
       "    <tr>\n",
       "      <th>P_atm</th>\n",
       "      <td>100</td>\n",
       "      <td>1</td>\n",
       "      <td>10000.0000000000</td>\n",
       "    </tr>\n",
       "    <tr>\n",
       "      <th>P_m</th>\n",
       "      <td>0.5</td>\n",
       "      <td>980.665000000000</td>\n",
       "      <td>240425.960556250</td>\n",
       "    </tr>\n",
       "  </tbody>\n",
       "</table>\n",
       "</div>"
      ],
      "text/plain": [
       "      Error        Derivative           (E*D)^2\n",
       "P_atm   100                 1  10000.0000000000\n",
       "P_m     0.5  980.665000000000  240425.960556250"
      ]
     },
     "metadata": {},
     "output_type": "display_data"
    },
    {
     "data": {
      "text/plain": [
       "'Error influence estimations for U_scaled:'"
      ]
     },
     "metadata": {},
     "output_type": "display_data"
    },
    {
     "data": {
      "text/html": [
       "<div>\n",
       "<table border=\"1\" class=\"dataframe\">\n",
       "  <thead>\n",
       "    <tr style=\"text-align: right;\">\n",
       "      <th></th>\n",
       "      <th>Error</th>\n",
       "      <th>Derivative</th>\n",
       "      <th>(E*D)^2</th>\n",
       "    </tr>\n",
       "  </thead>\n",
       "  <tbody>\n",
       "    <tr>\n",
       "      <th>U</th>\n",
       "      <td>None</td>\n",
       "      <td>59.8802395209581</td>\n",
       "      <td>3585.64308508731*Error_U**2</td>\n",
       "    </tr>\n",
       "    <tr>\n",
       "      <th>U_0</th>\n",
       "      <td>0.0001</td>\n",
       "      <td>-3585.64308508731*U</td>\n",
       "      <td>0.128568363336344*U**2</td>\n",
       "    </tr>\n",
       "  </tbody>\n",
       "</table>\n",
       "</div>"
      ],
      "text/plain": [
       "      Error           Derivative                      (E*D)^2\n",
       "U      None     59.8802395209581  3585.64308508731*Error_U**2\n",
       "U_0  0.0001  -3585.64308508731*U       0.128568363336344*U**2"
      ]
     },
     "metadata": {},
     "output_type": "display_data"
    },
    {
     "data": {
      "text/plain": [
       "'Error influence estimations for ln_U:'"
      ]
     },
     "metadata": {},
     "output_type": "display_data"
    },
    {
     "data": {
      "text/html": [
       "<div>\n",
       "<table border=\"1\" class=\"dataframe\">\n",
       "  <thead>\n",
       "    <tr style=\"text-align: right;\">\n",
       "      <th></th>\n",
       "      <th>Error</th>\n",
       "      <th>Derivative</th>\n",
       "      <th>(E*D)^2</th>\n",
       "    </tr>\n",
       "  </thead>\n",
       "  <tbody>\n",
       "    <tr>\n",
       "      <th>U_scaled</th>\n",
       "      <td>None</td>\n",
       "      <td>1/U_scaled</td>\n",
       "      <td>Error_U_scaled**2/U_scaled**2</td>\n",
       "    </tr>\n",
       "  </tbody>\n",
       "</table>\n",
       "</div>"
      ],
      "text/plain": [
       "         Error  Derivative                        (E*D)^2\n",
       "U_scaled  None  1/U_scaled  Error_U_scaled**2/U_scaled**2"
      ]
     },
     "metadata": {},
     "output_type": "display_data"
    },
    {
     "data": {
      "text/plain": [
       "'Computing P, scaled U for 100'"
      ]
     },
     "metadata": {},
     "output_type": "display_data"
    },
    {
     "data": {
      "text/plain": [
       "'Error influence estimations for P:'"
      ]
     },
     "metadata": {},
     "output_type": "display_data"
    },
    {
     "data": {
      "text/html": [
       "<div>\n",
       "<table border=\"1\" class=\"dataframe\">\n",
       "  <thead>\n",
       "    <tr style=\"text-align: right;\">\n",
       "      <th></th>\n",
       "      <th>Error</th>\n",
       "      <th>Derivative</th>\n",
       "      <th>(E*D)^2</th>\n",
       "    </tr>\n",
       "  </thead>\n",
       "  <tbody>\n",
       "    <tr>\n",
       "      <th>P_atm</th>\n",
       "      <td>100</td>\n",
       "      <td>1</td>\n",
       "      <td>10000.0000000000</td>\n",
       "    </tr>\n",
       "    <tr>\n",
       "      <th>P_m</th>\n",
       "      <td>1</td>\n",
       "      <td>980.665000000000</td>\n",
       "      <td>961703.842225000</td>\n",
       "    </tr>\n",
       "  </tbody>\n",
       "</table>\n",
       "</div>"
      ],
      "text/plain": [
       "      Error        Derivative           (E*D)^2\n",
       "P_atm   100                 1  10000.0000000000\n",
       "P_m       1  980.665000000000  961703.842225000"
      ]
     },
     "metadata": {},
     "output_type": "display_data"
    },
    {
     "data": {
      "text/plain": [
       "'Error influence estimations for U_scaled:'"
      ]
     },
     "metadata": {},
     "output_type": "display_data"
    },
    {
     "data": {
      "text/html": [
       "<div>\n",
       "<table border=\"1\" class=\"dataframe\">\n",
       "  <thead>\n",
       "    <tr style=\"text-align: right;\">\n",
       "      <th></th>\n",
       "      <th>Error</th>\n",
       "      <th>Derivative</th>\n",
       "      <th>(E*D)^2</th>\n",
       "    </tr>\n",
       "  </thead>\n",
       "  <tbody>\n",
       "    <tr>\n",
       "      <th>U</th>\n",
       "      <td>None</td>\n",
       "      <td>69.4444444444444</td>\n",
       "      <td>4822.53086419753*Error_U**2</td>\n",
       "    </tr>\n",
       "    <tr>\n",
       "      <th>U_0</th>\n",
       "      <td>0.0001</td>\n",
       "      <td>-4822.53086419753*U</td>\n",
       "      <td>0.232568039361378*U**2</td>\n",
       "    </tr>\n",
       "  </tbody>\n",
       "</table>\n",
       "</div>"
      ],
      "text/plain": [
       "      Error           Derivative                      (E*D)^2\n",
       "U      None     69.4444444444444  4822.53086419753*Error_U**2\n",
       "U_0  0.0001  -4822.53086419753*U       0.232568039361378*U**2"
      ]
     },
     "metadata": {},
     "output_type": "display_data"
    },
    {
     "data": {
      "text/plain": [
       "'Error influence estimations for ln_U:'"
      ]
     },
     "metadata": {},
     "output_type": "display_data"
    },
    {
     "data": {
      "text/html": [
       "<div>\n",
       "<table border=\"1\" class=\"dataframe\">\n",
       "  <thead>\n",
       "    <tr style=\"text-align: right;\">\n",
       "      <th></th>\n",
       "      <th>Error</th>\n",
       "      <th>Derivative</th>\n",
       "      <th>(E*D)^2</th>\n",
       "    </tr>\n",
       "  </thead>\n",
       "  <tbody>\n",
       "    <tr>\n",
       "      <th>U_scaled</th>\n",
       "      <td>None</td>\n",
       "      <td>1/U_scaled</td>\n",
       "      <td>Error_U_scaled**2/U_scaled**2</td>\n",
       "    </tr>\n",
       "  </tbody>\n",
       "</table>\n",
       "</div>"
      ],
      "text/plain": [
       "         Error  Derivative                        (E*D)^2\n",
       "U_scaled  None  1/U_scaled  Error_U_scaled**2/U_scaled**2"
      ]
     },
     "metadata": {},
     "output_type": "display_data"
    },
    {
     "data": {
      "text/plain": [
       "'Computing P, scaled U for 200'"
      ]
     },
     "metadata": {},
     "output_type": "display_data"
    },
    {
     "data": {
      "text/plain": [
       "'Error influence estimations for P:'"
      ]
     },
     "metadata": {},
     "output_type": "display_data"
    },
    {
     "data": {
      "text/html": [
       "<div>\n",
       "<table border=\"1\" class=\"dataframe\">\n",
       "  <thead>\n",
       "    <tr style=\"text-align: right;\">\n",
       "      <th></th>\n",
       "      <th>Error</th>\n",
       "      <th>Derivative</th>\n",
       "      <th>(E*D)^2</th>\n",
       "    </tr>\n",
       "  </thead>\n",
       "  <tbody>\n",
       "    <tr>\n",
       "      <th>P_atm</th>\n",
       "      <td>100</td>\n",
       "      <td>1</td>\n",
       "      <td>10000.0000000000</td>\n",
       "    </tr>\n",
       "    <tr>\n",
       "      <th>P_m</th>\n",
       "      <td>0.5</td>\n",
       "      <td>980.665000000000</td>\n",
       "      <td>240425.960556250</td>\n",
       "    </tr>\n",
       "  </tbody>\n",
       "</table>\n",
       "</div>"
      ],
      "text/plain": [
       "      Error        Derivative           (E*D)^2\n",
       "P_atm   100                 1  10000.0000000000\n",
       "P_m     0.5  980.665000000000  240425.960556250"
      ]
     },
     "metadata": {},
     "output_type": "display_data"
    },
    {
     "data": {
      "text/plain": [
       "'Error influence estimations for U_scaled:'"
      ]
     },
     "metadata": {},
     "output_type": "display_data"
    },
    {
     "data": {
      "text/html": [
       "<div>\n",
       "<table border=\"1\" class=\"dataframe\">\n",
       "  <thead>\n",
       "    <tr style=\"text-align: right;\">\n",
       "      <th></th>\n",
       "      <th>Error</th>\n",
       "      <th>Derivative</th>\n",
       "      <th>(E*D)^2</th>\n",
       "    </tr>\n",
       "  </thead>\n",
       "  <tbody>\n",
       "    <tr>\n",
       "      <th>U</th>\n",
       "      <td>None</td>\n",
       "      <td>147.058823529412</td>\n",
       "      <td>21626.2975778547*Error_U**2</td>\n",
       "    </tr>\n",
       "    <tr>\n",
       "      <th>U_0</th>\n",
       "      <td>0.0001</td>\n",
       "      <td>-21626.2975778547*U</td>\n",
       "      <td>4.67696746925923*U**2</td>\n",
       "    </tr>\n",
       "  </tbody>\n",
       "</table>\n",
       "</div>"
      ],
      "text/plain": [
       "      Error           Derivative                      (E*D)^2\n",
       "U      None     147.058823529412  21626.2975778547*Error_U**2\n",
       "U_0  0.0001  -21626.2975778547*U        4.67696746925923*U**2"
      ]
     },
     "metadata": {},
     "output_type": "display_data"
    },
    {
     "data": {
      "text/plain": [
       "'Error influence estimations for ln_U:'"
      ]
     },
     "metadata": {},
     "output_type": "display_data"
    },
    {
     "data": {
      "text/html": [
       "<div>\n",
       "<table border=\"1\" class=\"dataframe\">\n",
       "  <thead>\n",
       "    <tr style=\"text-align: right;\">\n",
       "      <th></th>\n",
       "      <th>Error</th>\n",
       "      <th>Derivative</th>\n",
       "      <th>(E*D)^2</th>\n",
       "    </tr>\n",
       "  </thead>\n",
       "  <tbody>\n",
       "    <tr>\n",
       "      <th>U_scaled</th>\n",
       "      <td>None</td>\n",
       "      <td>1/U_scaled</td>\n",
       "      <td>Error_U_scaled**2/U_scaled**2</td>\n",
       "    </tr>\n",
       "  </tbody>\n",
       "</table>\n",
       "</div>"
      ],
      "text/plain": [
       "         Error  Derivative                        (E*D)^2\n",
       "U_scaled  None  1/U_scaled  Error_U_scaled**2/U_scaled**2"
      ]
     },
     "metadata": {},
     "output_type": "display_data"
    },
    {
     "data": {
      "text/plain": [
       "'Computing P, scaled U for 300'"
      ]
     },
     "metadata": {},
     "output_type": "display_data"
    },
    {
     "data": {
      "text/plain": [
       "'Error influence estimations for P:'"
      ]
     },
     "metadata": {},
     "output_type": "display_data"
    },
    {
     "data": {
      "text/html": [
       "<div>\n",
       "<table border=\"1\" class=\"dataframe\">\n",
       "  <thead>\n",
       "    <tr style=\"text-align: right;\">\n",
       "      <th></th>\n",
       "      <th>Error</th>\n",
       "      <th>Derivative</th>\n",
       "      <th>(E*D)^2</th>\n",
       "    </tr>\n",
       "  </thead>\n",
       "  <tbody>\n",
       "    <tr>\n",
       "      <th>P_atm</th>\n",
       "      <td>100</td>\n",
       "      <td>1</td>\n",
       "      <td>10000.0000000000</td>\n",
       "    </tr>\n",
       "    <tr>\n",
       "      <th>P_m</th>\n",
       "      <td>0.5</td>\n",
       "      <td>980.665000000000</td>\n",
       "      <td>240425.960556250</td>\n",
       "    </tr>\n",
       "  </tbody>\n",
       "</table>\n",
       "</div>"
      ],
      "text/plain": [
       "      Error        Derivative           (E*D)^2\n",
       "P_atm   100                 1  10000.0000000000\n",
       "P_m     0.5  980.665000000000  240425.960556250"
      ]
     },
     "metadata": {},
     "output_type": "display_data"
    },
    {
     "data": {
      "text/plain": [
       "'Error influence estimations for U_scaled:'"
      ]
     },
     "metadata": {},
     "output_type": "display_data"
    },
    {
     "data": {
      "text/html": [
       "<div>\n",
       "<table border=\"1\" class=\"dataframe\">\n",
       "  <thead>\n",
       "    <tr style=\"text-align: right;\">\n",
       "      <th></th>\n",
       "      <th>Error</th>\n",
       "      <th>Derivative</th>\n",
       "      <th>(E*D)^2</th>\n",
       "    </tr>\n",
       "  </thead>\n",
       "  <tbody>\n",
       "    <tr>\n",
       "      <th>U</th>\n",
       "      <td>None</td>\n",
       "      <td>0.00392156862745098</td>\n",
       "      <td>1.53787004998078e-5*Error_U**2</td>\n",
       "    </tr>\n",
       "    <tr>\n",
       "      <th>U_0</th>\n",
       "      <td>0.1</td>\n",
       "      <td>-1.53787004998078e-5*U</td>\n",
       "      <td>2.36504429062788e-12*U**2</td>\n",
       "    </tr>\n",
       "  </tbody>\n",
       "</table>\n",
       "</div>"
      ],
      "text/plain": [
       "    Error              Derivative                         (E*D)^2\n",
       "U    None     0.00392156862745098  1.53787004998078e-5*Error_U**2\n",
       "U_0   0.1  -1.53787004998078e-5*U       2.36504429062788e-12*U**2"
      ]
     },
     "metadata": {},
     "output_type": "display_data"
    },
    {
     "data": {
      "text/plain": [
       "'Error influence estimations for ln_U:'"
      ]
     },
     "metadata": {},
     "output_type": "display_data"
    },
    {
     "data": {
      "text/html": [
       "<div>\n",
       "<table border=\"1\" class=\"dataframe\">\n",
       "  <thead>\n",
       "    <tr style=\"text-align: right;\">\n",
       "      <th></th>\n",
       "      <th>Error</th>\n",
       "      <th>Derivative</th>\n",
       "      <th>(E*D)^2</th>\n",
       "    </tr>\n",
       "  </thead>\n",
       "  <tbody>\n",
       "    <tr>\n",
       "      <th>U_scaled</th>\n",
       "      <td>None</td>\n",
       "      <td>1/U_scaled</td>\n",
       "      <td>Error_U_scaled**2/U_scaled**2</td>\n",
       "    </tr>\n",
       "  </tbody>\n",
       "</table>\n",
       "</div>"
      ],
      "text/plain": [
       "         Error  Derivative                        (E*D)^2\n",
       "U_scaled  None  1/U_scaled  Error_U_scaled**2/U_scaled**2"
      ]
     },
     "metadata": {},
     "output_type": "display_data"
    }
   ],
   "source": [
    "for e in experiments:\n",
    "    disp(\"Computing P, scaled U for %s\" % e)\n",
    "\n",
    "    ll.compute(name = \"P\",\n",
    "               expr = lambda P_atm, P_m: P_atm + (P_m/100) * 98066.5, # Pa/at\n",
    "               data = data[e],\n",
    "               columns = columns[e],\n",
    "               debug = True)\n",
    "    \n",
    "    ll.add(data[e], ll.var(name = \"U_0\", value = columns[e].U[0], error = columns[e].Error_U[0]))\n",
    "    \n",
    "    ll.compute(name = \"U_scaled\",\n",
    "               expr = lambda U, U_0: U / U_0,\n",
    "               data = data[e],\n",
    "               columns = columns[e],\n",
    "               debug = True)\n",
    "    \n",
    "    ll.compute(name = \"ln_U\",\n",
    "               expr = lambda U_scaled: ll.log(U_scaled),\n",
    "               data = data[e],\n",
    "               columns = columns[e],\n",
    "               debug = True)"
   ]
  },
  {
   "cell_type": "code",
   "execution_count": 4,
   "metadata": {
    "collapsed": false
   },
   "outputs": [
    {
     "data": {
      "text/plain": [
       "'Experiment 40:'"
      ]
     },
     "metadata": {},
     "output_type": "display_data"
    },
    {
     "data": {
      "text/html": [
       "<div>\n",
       "<table border=\"1\" class=\"dataframe\">\n",
       "  <thead>\n",
       "    <tr style=\"text-align: right;\">\n",
       "      <th></th>\n",
       "      <th>Value</th>\n",
       "      <th>Error</th>\n",
       "      <th>ErrorRel</th>\n",
       "    </tr>\n",
       "  </thead>\n",
       "  <tbody>\n",
       "    <tr>\n",
       "      <th>P_atm</th>\n",
       "      <td>98600.00000</td>\n",
       "      <td>1.000000e+02</td>\n",
       "      <td>NaN</td>\n",
       "    </tr>\n",
       "    <tr>\n",
       "      <th>L_to_S</th>\n",
       "      <td>700.00000</td>\n",
       "      <td>5.000000e+01</td>\n",
       "      <td>NaN</td>\n",
       "    </tr>\n",
       "    <tr>\n",
       "      <th>V_1</th>\n",
       "      <td>0.00036</td>\n",
       "      <td>5.000000e-07</td>\n",
       "      <td>NaN</td>\n",
       "    </tr>\n",
       "    <tr>\n",
       "      <th>V_2</th>\n",
       "      <td>0.00036</td>\n",
       "      <td>5.000000e-07</td>\n",
       "      <td>NaN</td>\n",
       "    </tr>\n",
       "    <tr>\n",
       "      <th>P_m</th>\n",
       "      <td>-93.50000</td>\n",
       "      <td>5.000000e-01</td>\n",
       "      <td>NaN</td>\n",
       "    </tr>\n",
       "    <tr>\n",
       "      <th>P</th>\n",
       "      <td>6907.82250</td>\n",
       "      <td>5.004258e+02</td>\n",
       "      <td>0.072443</td>\n",
       "    </tr>\n",
       "    <tr>\n",
       "      <th>U_0</th>\n",
       "      <td>0.01670</td>\n",
       "      <td>1.000000e-04</td>\n",
       "      <td>0.005988</td>\n",
       "    </tr>\n",
       "  </tbody>\n",
       "</table>\n",
       "</div>"
      ],
      "text/plain": [
       "              Value         Error  ErrorRel\n",
       "P_atm   98600.00000  1.000000e+02       NaN\n",
       "L_to_S    700.00000  5.000000e+01       NaN\n",
       "V_1         0.00036  5.000000e-07       NaN\n",
       "V_2         0.00036  5.000000e-07       NaN\n",
       "P_m       -93.50000  5.000000e-01       NaN\n",
       "P        6907.82250  5.004258e+02  0.072443\n",
       "U_0         0.01670  1.000000e-04  0.005988"
      ]
     },
     "metadata": {},
     "output_type": "display_data"
    },
    {
     "data": {
      "text/html": [
       "<div>\n",
       "<table border=\"1\" class=\"dataframe\">\n",
       "  <thead>\n",
       "    <tr style=\"text-align: right;\">\n",
       "      <th></th>\n",
       "      <th>t</th>\n",
       "      <th>Error_t</th>\n",
       "      <th>U</th>\n",
       "      <th>Error_U</th>\n",
       "      <th>U_scaled</th>\n",
       "      <th>Error_U_scaled</th>\n",
       "      <th>ln_U</th>\n",
       "      <th>Error_ln_U</th>\n",
       "    </tr>\n",
       "  </thead>\n",
       "  <tbody>\n",
       "    <tr>\n",
       "      <th>0</th>\n",
       "      <td>0</td>\n",
       "      <td>1</td>\n",
       "      <td>0.0167</td>\n",
       "      <td>0.0001</td>\n",
       "      <td>1.000000</td>\n",
       "      <td>0.008468</td>\n",
       "      <td>2.363643e-125</td>\n",
       "      <td>0.008468</td>\n",
       "    </tr>\n",
       "    <tr>\n",
       "      <th>1</th>\n",
       "      <td>22</td>\n",
       "      <td>1</td>\n",
       "      <td>0.0150</td>\n",
       "      <td>0.0001</td>\n",
       "      <td>0.898204</td>\n",
       "      <td>0.008049</td>\n",
       "      <td>-1.073585e-01</td>\n",
       "      <td>0.008961</td>\n",
       "    </tr>\n",
       "    <tr>\n",
       "      <th>2</th>\n",
       "      <td>41</td>\n",
       "      <td>1</td>\n",
       "      <td>0.0135</td>\n",
       "      <td>0.0001</td>\n",
       "      <td>0.808383</td>\n",
       "      <td>0.007700</td>\n",
       "      <td>-2.127190e-01</td>\n",
       "      <td>0.009525</td>\n",
       "    </tr>\n",
       "    <tr>\n",
       "      <th>3</th>\n",
       "      <td>49</td>\n",
       "      <td>1</td>\n",
       "      <td>0.0130</td>\n",
       "      <td>0.0001</td>\n",
       "      <td>0.778443</td>\n",
       "      <td>0.007588</td>\n",
       "      <td>-2.504594e-01</td>\n",
       "      <td>0.009748</td>\n",
       "    </tr>\n",
       "    <tr>\n",
       "      <th>4</th>\n",
       "      <td>79</td>\n",
       "      <td>1</td>\n",
       "      <td>0.0110</td>\n",
       "      <td>0.0001</td>\n",
       "      <td>0.658683</td>\n",
       "      <td>0.007170</td>\n",
       "      <td>-4.175134e-01</td>\n",
       "      <td>0.010886</td>\n",
       "    </tr>\n",
       "    <tr>\n",
       "      <th>5</th>\n",
       "      <td>96</td>\n",
       "      <td>1</td>\n",
       "      <td>0.0100</td>\n",
       "      <td>0.0001</td>\n",
       "      <td>0.598802</td>\n",
       "      <td>0.006979</td>\n",
       "      <td>-5.128236e-01</td>\n",
       "      <td>0.011656</td>\n",
       "    </tr>\n",
       "    <tr>\n",
       "      <th>6</th>\n",
       "      <td>116</td>\n",
       "      <td>1</td>\n",
       "      <td>0.0090</td>\n",
       "      <td>0.0001</td>\n",
       "      <td>0.538922</td>\n",
       "      <td>0.006802</td>\n",
       "      <td>-6.181841e-01</td>\n",
       "      <td>0.012622</td>\n",
       "    </tr>\n",
       "    <tr>\n",
       "      <th>7</th>\n",
       "      <td>137</td>\n",
       "      <td>1</td>\n",
       "      <td>0.0080</td>\n",
       "      <td>0.0001</td>\n",
       "      <td>0.479042</td>\n",
       "      <td>0.006640</td>\n",
       "      <td>-7.359672e-01</td>\n",
       "      <td>0.013860</td>\n",
       "    </tr>\n",
       "  </tbody>\n",
       "</table>\n",
       "</div>"
      ],
      "text/plain": [
       "     t  Error_t       U  Error_U  U_scaled  Error_U_scaled           ln_U  \\\n",
       "0    0        1  0.0167   0.0001  1.000000        0.008468  2.363643e-125   \n",
       "1   22        1  0.0150   0.0001  0.898204        0.008049  -1.073585e-01   \n",
       "2   41        1  0.0135   0.0001  0.808383        0.007700  -2.127190e-01   \n",
       "3   49        1  0.0130   0.0001  0.778443        0.007588  -2.504594e-01   \n",
       "4   79        1  0.0110   0.0001  0.658683        0.007170  -4.175134e-01   \n",
       "5   96        1  0.0100   0.0001  0.598802        0.006979  -5.128236e-01   \n",
       "6  116        1  0.0090   0.0001  0.538922        0.006802  -6.181841e-01   \n",
       "7  137        1  0.0080   0.0001  0.479042        0.006640  -7.359672e-01   \n",
       "\n",
       "   Error_ln_U  \n",
       "0    0.008468  \n",
       "1    0.008961  \n",
       "2    0.009525  \n",
       "3    0.009748  \n",
       "4    0.010886  \n",
       "5    0.011656  \n",
       "6    0.012622  \n",
       "7    0.013860  "
      ]
     },
     "metadata": {},
     "output_type": "display_data"
    },
    {
     "data": {
      "text/plain": [
       "'Experiment 100:'"
      ]
     },
     "metadata": {},
     "output_type": "display_data"
    },
    {
     "data": {
      "text/html": [
       "<div>\n",
       "<table border=\"1\" class=\"dataframe\">\n",
       "  <thead>\n",
       "    <tr style=\"text-align: right;\">\n",
       "      <th></th>\n",
       "      <th>Value</th>\n",
       "      <th>Error</th>\n",
       "      <th>ErrorRel</th>\n",
       "    </tr>\n",
       "  </thead>\n",
       "  <tbody>\n",
       "    <tr>\n",
       "      <th>P_atm</th>\n",
       "      <td>98600.00000</td>\n",
       "      <td>1.000000e+02</td>\n",
       "      <td>NaN</td>\n",
       "    </tr>\n",
       "    <tr>\n",
       "      <th>L_to_S</th>\n",
       "      <td>700.00000</td>\n",
       "      <td>5.000000e+01</td>\n",
       "      <td>NaN</td>\n",
       "    </tr>\n",
       "    <tr>\n",
       "      <th>V_1</th>\n",
       "      <td>0.00036</td>\n",
       "      <td>5.000000e-07</td>\n",
       "      <td>NaN</td>\n",
       "    </tr>\n",
       "    <tr>\n",
       "      <th>V_2</th>\n",
       "      <td>0.00036</td>\n",
       "      <td>5.000000e-07</td>\n",
       "      <td>NaN</td>\n",
       "    </tr>\n",
       "    <tr>\n",
       "      <th>P_m</th>\n",
       "      <td>-85.00000</td>\n",
       "      <td>1.000000e+00</td>\n",
       "      <td>NaN</td>\n",
       "    </tr>\n",
       "    <tr>\n",
       "      <th>P</th>\n",
       "      <td>15243.47500</td>\n",
       "      <td>9.857504e+02</td>\n",
       "      <td>0.064667</td>\n",
       "    </tr>\n",
       "    <tr>\n",
       "      <th>U_0</th>\n",
       "      <td>0.01440</td>\n",
       "      <td>1.000000e-04</td>\n",
       "      <td>0.006944</td>\n",
       "    </tr>\n",
       "  </tbody>\n",
       "</table>\n",
       "</div>"
      ],
      "text/plain": [
       "              Value         Error  ErrorRel\n",
       "P_atm   98600.00000  1.000000e+02       NaN\n",
       "L_to_S    700.00000  5.000000e+01       NaN\n",
       "V_1         0.00036  5.000000e-07       NaN\n",
       "V_2         0.00036  5.000000e-07       NaN\n",
       "P_m       -85.00000  1.000000e+00       NaN\n",
       "P       15243.47500  9.857504e+02  0.064667\n",
       "U_0         0.01440  1.000000e-04  0.006944"
      ]
     },
     "metadata": {},
     "output_type": "display_data"
    },
    {
     "data": {
      "text/html": [
       "<div>\n",
       "<table border=\"1\" class=\"dataframe\">\n",
       "  <thead>\n",
       "    <tr style=\"text-align: right;\">\n",
       "      <th></th>\n",
       "      <th>t</th>\n",
       "      <th>Error_t</th>\n",
       "      <th>U</th>\n",
       "      <th>Error_U</th>\n",
       "      <th>U_scaled</th>\n",
       "      <th>Error_U_scaled</th>\n",
       "      <th>ln_U</th>\n",
       "      <th>Error_ln_U</th>\n",
       "    </tr>\n",
       "  </thead>\n",
       "  <tbody>\n",
       "    <tr>\n",
       "      <th>0</th>\n",
       "      <td>0</td>\n",
       "      <td>1</td>\n",
       "      <td>0.0144</td>\n",
       "      <td>0.0001</td>\n",
       "      <td>1.000000</td>\n",
       "      <td>0.009821</td>\n",
       "      <td>2.363643e-125</td>\n",
       "      <td>0.009821</td>\n",
       "    </tr>\n",
       "    <tr>\n",
       "      <th>1</th>\n",
       "      <td>16</td>\n",
       "      <td>1</td>\n",
       "      <td>0.0140</td>\n",
       "      <td>0.0001</td>\n",
       "      <td>0.972222</td>\n",
       "      <td>0.009685</td>\n",
       "      <td>-2.817088e-02</td>\n",
       "      <td>0.009962</td>\n",
       "    </tr>\n",
       "    <tr>\n",
       "      <th>2</th>\n",
       "      <td>47</td>\n",
       "      <td>1</td>\n",
       "      <td>0.0130</td>\n",
       "      <td>0.0001</td>\n",
       "      <td>0.902778</td>\n",
       "      <td>0.009356</td>\n",
       "      <td>-1.022788e-01</td>\n",
       "      <td>0.010363</td>\n",
       "    </tr>\n",
       "    <tr>\n",
       "      <th>3</th>\n",
       "      <td>63</td>\n",
       "      <td>1</td>\n",
       "      <td>0.0125</td>\n",
       "      <td>0.0001</td>\n",
       "      <td>0.868056</td>\n",
       "      <td>0.009196</td>\n",
       "      <td>-1.414996e-01</td>\n",
       "      <td>0.010594</td>\n",
       "    </tr>\n",
       "    <tr>\n",
       "      <th>4</th>\n",
       "      <td>78</td>\n",
       "      <td>1</td>\n",
       "      <td>0.0120</td>\n",
       "      <td>0.0001</td>\n",
       "      <td>0.833333</td>\n",
       "      <td>0.009040</td>\n",
       "      <td>-1.823216e-01</td>\n",
       "      <td>0.010848</td>\n",
       "    </tr>\n",
       "    <tr>\n",
       "      <th>5</th>\n",
       "      <td>96</td>\n",
       "      <td>1</td>\n",
       "      <td>0.0115</td>\n",
       "      <td>0.0001</td>\n",
       "      <td>0.798611</td>\n",
       "      <td>0.008887</td>\n",
       "      <td>-2.248812e-01</td>\n",
       "      <td>0.011128</td>\n",
       "    </tr>\n",
       "    <tr>\n",
       "      <th>6</th>\n",
       "      <td>114</td>\n",
       "      <td>1</td>\n",
       "      <td>0.0110</td>\n",
       "      <td>0.0001</td>\n",
       "      <td>0.763889</td>\n",
       "      <td>0.008739</td>\n",
       "      <td>-2.693329e-01</td>\n",
       "      <td>0.011440</td>\n",
       "    </tr>\n",
       "    <tr>\n",
       "      <th>7</th>\n",
       "      <td>134</td>\n",
       "      <td>1</td>\n",
       "      <td>0.0105</td>\n",
       "      <td>0.0001</td>\n",
       "      <td>0.729167</td>\n",
       "      <td>0.008595</td>\n",
       "      <td>-3.158529e-01</td>\n",
       "      <td>0.011787</td>\n",
       "    </tr>\n",
       "    <tr>\n",
       "      <th>8</th>\n",
       "      <td>154</td>\n",
       "      <td>1</td>\n",
       "      <td>0.0100</td>\n",
       "      <td>0.0001</td>\n",
       "      <td>0.694444</td>\n",
       "      <td>0.008455</td>\n",
       "      <td>-3.646431e-01</td>\n",
       "      <td>0.012175</td>\n",
       "    </tr>\n",
       "    <tr>\n",
       "      <th>9</th>\n",
       "      <td>175</td>\n",
       "      <td>1</td>\n",
       "      <td>0.0095</td>\n",
       "      <td>0.0001</td>\n",
       "      <td>0.659722</td>\n",
       "      <td>0.008320</td>\n",
       "      <td>-4.159364e-01</td>\n",
       "      <td>0.012611</td>\n",
       "    </tr>\n",
       "    <tr>\n",
       "      <th>10</th>\n",
       "      <td>197</td>\n",
       "      <td>1</td>\n",
       "      <td>0.0090</td>\n",
       "      <td>0.0001</td>\n",
       "      <td>0.625000</td>\n",
       "      <td>0.008189</td>\n",
       "      <td>-4.700036e-01</td>\n",
       "      <td>0.013103</td>\n",
       "    </tr>\n",
       "  </tbody>\n",
       "</table>\n",
       "</div>"
      ],
      "text/plain": [
       "      t  Error_t       U  Error_U  U_scaled  Error_U_scaled           ln_U  \\\n",
       "0     0        1  0.0144   0.0001  1.000000        0.009821  2.363643e-125   \n",
       "1    16        1  0.0140   0.0001  0.972222        0.009685  -2.817088e-02   \n",
       "2    47        1  0.0130   0.0001  0.902778        0.009356  -1.022788e-01   \n",
       "3    63        1  0.0125   0.0001  0.868056        0.009196  -1.414996e-01   \n",
       "4    78        1  0.0120   0.0001  0.833333        0.009040  -1.823216e-01   \n",
       "5    96        1  0.0115   0.0001  0.798611        0.008887  -2.248812e-01   \n",
       "6   114        1  0.0110   0.0001  0.763889        0.008739  -2.693329e-01   \n",
       "7   134        1  0.0105   0.0001  0.729167        0.008595  -3.158529e-01   \n",
       "8   154        1  0.0100   0.0001  0.694444        0.008455  -3.646431e-01   \n",
       "9   175        1  0.0095   0.0001  0.659722        0.008320  -4.159364e-01   \n",
       "10  197        1  0.0090   0.0001  0.625000        0.008189  -4.700036e-01   \n",
       "\n",
       "    Error_ln_U  \n",
       "0     0.009821  \n",
       "1     0.009962  \n",
       "2     0.010363  \n",
       "3     0.010594  \n",
       "4     0.010848  \n",
       "5     0.011128  \n",
       "6     0.011440  \n",
       "7     0.011787  \n",
       "8     0.012175  \n",
       "9     0.012611  \n",
       "10    0.013103  "
      ]
     },
     "metadata": {},
     "output_type": "display_data"
    },
    {
     "data": {
      "text/plain": [
       "'Experiment 200:'"
      ]
     },
     "metadata": {},
     "output_type": "display_data"
    },
    {
     "data": {
      "text/html": [
       "<div>\n",
       "<table border=\"1\" class=\"dataframe\">\n",
       "  <thead>\n",
       "    <tr style=\"text-align: right;\">\n",
       "      <th></th>\n",
       "      <th>Value</th>\n",
       "      <th>Error</th>\n",
       "      <th>ErrorRel</th>\n",
       "    </tr>\n",
       "  </thead>\n",
       "  <tbody>\n",
       "    <tr>\n",
       "      <th>P_atm</th>\n",
       "      <td>98600.00000</td>\n",
       "      <td>1.000000e+02</td>\n",
       "      <td>NaN</td>\n",
       "    </tr>\n",
       "    <tr>\n",
       "      <th>L_to_S</th>\n",
       "      <td>700.00000</td>\n",
       "      <td>5.000000e+01</td>\n",
       "      <td>NaN</td>\n",
       "    </tr>\n",
       "    <tr>\n",
       "      <th>V_1</th>\n",
       "      <td>0.00036</td>\n",
       "      <td>5.000000e-07</td>\n",
       "      <td>NaN</td>\n",
       "    </tr>\n",
       "    <tr>\n",
       "      <th>V_2</th>\n",
       "      <td>0.00036</td>\n",
       "      <td>5.000000e-07</td>\n",
       "      <td>NaN</td>\n",
       "    </tr>\n",
       "    <tr>\n",
       "      <th>P_m</th>\n",
       "      <td>-75.50000</td>\n",
       "      <td>5.000000e-01</td>\n",
       "      <td>NaN</td>\n",
       "    </tr>\n",
       "    <tr>\n",
       "      <th>P</th>\n",
       "      <td>24559.79250</td>\n",
       "      <td>5.004258e+02</td>\n",
       "      <td>0.020376</td>\n",
       "    </tr>\n",
       "    <tr>\n",
       "      <th>U_0</th>\n",
       "      <td>0.00680</td>\n",
       "      <td>1.000000e-04</td>\n",
       "      <td>0.014706</td>\n",
       "    </tr>\n",
       "  </tbody>\n",
       "</table>\n",
       "</div>"
      ],
      "text/plain": [
       "              Value         Error  ErrorRel\n",
       "P_atm   98600.00000  1.000000e+02       NaN\n",
       "L_to_S    700.00000  5.000000e+01       NaN\n",
       "V_1         0.00036  5.000000e-07       NaN\n",
       "V_2         0.00036  5.000000e-07       NaN\n",
       "P_m       -75.50000  5.000000e-01       NaN\n",
       "P       24559.79250  5.004258e+02  0.020376\n",
       "U_0         0.00680  1.000000e-04  0.014706"
      ]
     },
     "metadata": {},
     "output_type": "display_data"
    },
    {
     "data": {
      "text/html": [
       "<div>\n",
       "<table border=\"1\" class=\"dataframe\">\n",
       "  <thead>\n",
       "    <tr style=\"text-align: right;\">\n",
       "      <th></th>\n",
       "      <th>t</th>\n",
       "      <th>Error_t</th>\n",
       "      <th>U</th>\n",
       "      <th>Error_U</th>\n",
       "      <th>U_scaled</th>\n",
       "      <th>Error_U_scaled</th>\n",
       "      <th>ln_U</th>\n",
       "      <th>Error_ln_U</th>\n",
       "    </tr>\n",
       "  </thead>\n",
       "  <tbody>\n",
       "    <tr>\n",
       "      <th>0</th>\n",
       "      <td>0</td>\n",
       "      <td>1</td>\n",
       "      <td>0.0068</td>\n",
       "      <td>0.0001</td>\n",
       "      <td>1.000000</td>\n",
       "      <td>0.020797</td>\n",
       "      <td>2.363643e-125</td>\n",
       "      <td>0.020797</td>\n",
       "    </tr>\n",
       "    <tr>\n",
       "      <th>1</th>\n",
       "      <td>24</td>\n",
       "      <td>1</td>\n",
       "      <td>0.0066</td>\n",
       "      <td>0.0001</td>\n",
       "      <td>0.970588</td>\n",
       "      <td>0.020494</td>\n",
       "      <td>-2.985296e-02</td>\n",
       "      <td>0.021115</td>\n",
       "    </tr>\n",
       "    <tr>\n",
       "      <th>2</th>\n",
       "      <td>44</td>\n",
       "      <td>1</td>\n",
       "      <td>0.0064</td>\n",
       "      <td>0.0001</td>\n",
       "      <td>0.941176</td>\n",
       "      <td>0.020195</td>\n",
       "      <td>-6.062462e-02</td>\n",
       "      <td>0.021457</td>\n",
       "    </tr>\n",
       "    <tr>\n",
       "      <th>3</th>\n",
       "      <td>62</td>\n",
       "      <td>1</td>\n",
       "      <td>0.0062</td>\n",
       "      <td>0.0001</td>\n",
       "      <td>0.911765</td>\n",
       "      <td>0.019901</td>\n",
       "      <td>-9.237332e-02</td>\n",
       "      <td>0.021827</td>\n",
       "    </tr>\n",
       "    <tr>\n",
       "      <th>4</th>\n",
       "      <td>82</td>\n",
       "      <td>1</td>\n",
       "      <td>0.0060</td>\n",
       "      <td>0.0001</td>\n",
       "      <td>0.882353</td>\n",
       "      <td>0.019612</td>\n",
       "      <td>-1.251631e-01</td>\n",
       "      <td>0.022227</td>\n",
       "    </tr>\n",
       "    <tr>\n",
       "      <th>5</th>\n",
       "      <td>103</td>\n",
       "      <td>1</td>\n",
       "      <td>0.0058</td>\n",
       "      <td>0.0001</td>\n",
       "      <td>0.852941</td>\n",
       "      <td>0.019329</td>\n",
       "      <td>-1.590647e-01</td>\n",
       "      <td>0.022661</td>\n",
       "    </tr>\n",
       "    <tr>\n",
       "      <th>6</th>\n",
       "      <td>180</td>\n",
       "      <td>1</td>\n",
       "      <td>0.0051</td>\n",
       "      <td>0.0001</td>\n",
       "      <td>0.750000</td>\n",
       "      <td>0.018382</td>\n",
       "      <td>-2.876821e-01</td>\n",
       "      <td>0.024510</td>\n",
       "    </tr>\n",
       "    <tr>\n",
       "      <th>7</th>\n",
       "      <td>208</td>\n",
       "      <td>1</td>\n",
       "      <td>0.0049</td>\n",
       "      <td>0.0001</td>\n",
       "      <td>0.720588</td>\n",
       "      <td>0.018126</td>\n",
       "      <td>-3.276874e-01</td>\n",
       "      <td>0.025155</td>\n",
       "    </tr>\n",
       "    <tr>\n",
       "      <th>8</th>\n",
       "      <td>232</td>\n",
       "      <td>1</td>\n",
       "      <td>0.0047</td>\n",
       "      <td>0.0001</td>\n",
       "      <td>0.691176</td>\n",
       "      <td>0.017877</td>\n",
       "      <td>-3.693601e-01</td>\n",
       "      <td>0.025864</td>\n",
       "    </tr>\n",
       "    <tr>\n",
       "      <th>9</th>\n",
       "      <td>259</td>\n",
       "      <td>1</td>\n",
       "      <td>0.0045</td>\n",
       "      <td>0.0001</td>\n",
       "      <td>0.661765</td>\n",
       "      <td>0.017634</td>\n",
       "      <td>-4.128452e-01</td>\n",
       "      <td>0.026648</td>\n",
       "    </tr>\n",
       "    <tr>\n",
       "      <th>10</th>\n",
       "      <td>290</td>\n",
       "      <td>1</td>\n",
       "      <td>0.0043</td>\n",
       "      <td>0.0001</td>\n",
       "      <td>0.632353</td>\n",
       "      <td>0.017399</td>\n",
       "      <td>-4.583076e-01</td>\n",
       "      <td>0.027515</td>\n",
       "    </tr>\n",
       "    <tr>\n",
       "      <th>11</th>\n",
       "      <td>322</td>\n",
       "      <td>1</td>\n",
       "      <td>0.0041</td>\n",
       "      <td>0.0001</td>\n",
       "      <td>0.602941</td>\n",
       "      <td>0.017172</td>\n",
       "      <td>-5.059356e-01</td>\n",
       "      <td>0.028481</td>\n",
       "    </tr>\n",
       "  </tbody>\n",
       "</table>\n",
       "</div>"
      ],
      "text/plain": [
       "      t  Error_t       U  Error_U  U_scaled  Error_U_scaled           ln_U  \\\n",
       "0     0        1  0.0068   0.0001  1.000000        0.020797  2.363643e-125   \n",
       "1    24        1  0.0066   0.0001  0.970588        0.020494  -2.985296e-02   \n",
       "2    44        1  0.0064   0.0001  0.941176        0.020195  -6.062462e-02   \n",
       "3    62        1  0.0062   0.0001  0.911765        0.019901  -9.237332e-02   \n",
       "4    82        1  0.0060   0.0001  0.882353        0.019612  -1.251631e-01   \n",
       "5   103        1  0.0058   0.0001  0.852941        0.019329  -1.590647e-01   \n",
       "6   180        1  0.0051   0.0001  0.750000        0.018382  -2.876821e-01   \n",
       "7   208        1  0.0049   0.0001  0.720588        0.018126  -3.276874e-01   \n",
       "8   232        1  0.0047   0.0001  0.691176        0.017877  -3.693601e-01   \n",
       "9   259        1  0.0045   0.0001  0.661765        0.017634  -4.128452e-01   \n",
       "10  290        1  0.0043   0.0001  0.632353        0.017399  -4.583076e-01   \n",
       "11  322        1  0.0041   0.0001  0.602941        0.017172  -5.059356e-01   \n",
       "\n",
       "    Error_ln_U  \n",
       "0     0.020797  \n",
       "1     0.021115  \n",
       "2     0.021457  \n",
       "3     0.021827  \n",
       "4     0.022227  \n",
       "5     0.022661  \n",
       "6     0.024510  \n",
       "7     0.025155  \n",
       "8     0.025864  \n",
       "9     0.026648  \n",
       "10    0.027515  \n",
       "11    0.028481  "
      ]
     },
     "metadata": {},
     "output_type": "display_data"
    },
    {
     "data": {
      "text/plain": [
       "'Experiment 300:'"
      ]
     },
     "metadata": {},
     "output_type": "display_data"
    },
    {
     "data": {
      "text/html": [
       "<div>\n",
       "<table border=\"1\" class=\"dataframe\">\n",
       "  <thead>\n",
       "    <tr style=\"text-align: right;\">\n",
       "      <th></th>\n",
       "      <th>Value</th>\n",
       "      <th>Error</th>\n",
       "      <th>ErrorRel</th>\n",
       "    </tr>\n",
       "  </thead>\n",
       "  <tbody>\n",
       "    <tr>\n",
       "      <th>P_atm</th>\n",
       "      <td>98600.00000</td>\n",
       "      <td>1.000000e+02</td>\n",
       "      <td>NaN</td>\n",
       "    </tr>\n",
       "    <tr>\n",
       "      <th>L_to_S</th>\n",
       "      <td>700.00000</td>\n",
       "      <td>5.000000e+01</td>\n",
       "      <td>NaN</td>\n",
       "    </tr>\n",
       "    <tr>\n",
       "      <th>V_1</th>\n",
       "      <td>0.00036</td>\n",
       "      <td>5.000000e-07</td>\n",
       "      <td>NaN</td>\n",
       "    </tr>\n",
       "    <tr>\n",
       "      <th>V_2</th>\n",
       "      <td>0.00036</td>\n",
       "      <td>5.000000e-07</td>\n",
       "      <td>NaN</td>\n",
       "    </tr>\n",
       "    <tr>\n",
       "      <th>P_m</th>\n",
       "      <td>-63.50000</td>\n",
       "      <td>5.000000e-01</td>\n",
       "      <td>NaN</td>\n",
       "    </tr>\n",
       "    <tr>\n",
       "      <th>P</th>\n",
       "      <td>36327.77250</td>\n",
       "      <td>5.004258e+02</td>\n",
       "      <td>0.013775</td>\n",
       "    </tr>\n",
       "    <tr>\n",
       "      <th>U_0</th>\n",
       "      <td>255.00000</td>\n",
       "      <td>1.000000e-01</td>\n",
       "      <td>0.000392</td>\n",
       "    </tr>\n",
       "  </tbody>\n",
       "</table>\n",
       "</div>"
      ],
      "text/plain": [
       "              Value         Error  ErrorRel\n",
       "P_atm   98600.00000  1.000000e+02       NaN\n",
       "L_to_S    700.00000  5.000000e+01       NaN\n",
       "V_1         0.00036  5.000000e-07       NaN\n",
       "V_2         0.00036  5.000000e-07       NaN\n",
       "P_m       -63.50000  5.000000e-01       NaN\n",
       "P       36327.77250  5.004258e+02  0.013775\n",
       "U_0       255.00000  1.000000e-01  0.000392"
      ]
     },
     "metadata": {},
     "output_type": "display_data"
    },
    {
     "data": {
      "text/html": [
       "<div>\n",
       "<table border=\"1\" class=\"dataframe\">\n",
       "  <thead>\n",
       "    <tr style=\"text-align: right;\">\n",
       "      <th></th>\n",
       "      <th>t</th>\n",
       "      <th>Error_t</th>\n",
       "      <th>U</th>\n",
       "      <th>Error_U</th>\n",
       "      <th>U_scaled</th>\n",
       "      <th>Error_U_scaled</th>\n",
       "      <th>ln_U</th>\n",
       "      <th>Error_ln_U</th>\n",
       "    </tr>\n",
       "  </thead>\n",
       "  <tbody>\n",
       "    <tr>\n",
       "      <th>0</th>\n",
       "      <td>0.00</td>\n",
       "      <td>0.005</td>\n",
       "      <td>255.0</td>\n",
       "      <td>0.1</td>\n",
       "      <td>1.000000</td>\n",
       "      <td>0.000555</td>\n",
       "      <td>2.363643e-125</td>\n",
       "      <td>0.000555</td>\n",
       "    </tr>\n",
       "    <tr>\n",
       "      <th>1</th>\n",
       "      <td>32.43</td>\n",
       "      <td>0.005</td>\n",
       "      <td>245.6</td>\n",
       "      <td>0.1</td>\n",
       "      <td>0.963137</td>\n",
       "      <td>0.000544</td>\n",
       "      <td>-3.755935e-02</td>\n",
       "      <td>0.000565</td>\n",
       "    </tr>\n",
       "    <tr>\n",
       "      <th>2</th>\n",
       "      <td>64.86</td>\n",
       "      <td>0.005</td>\n",
       "      <td>235.1</td>\n",
       "      <td>0.1</td>\n",
       "      <td>0.921961</td>\n",
       "      <td>0.000533</td>\n",
       "      <td>-8.125259e-02</td>\n",
       "      <td>0.000579</td>\n",
       "    </tr>\n",
       "    <tr>\n",
       "      <th>3</th>\n",
       "      <td>97.29</td>\n",
       "      <td>0.005</td>\n",
       "      <td>226.0</td>\n",
       "      <td>0.1</td>\n",
       "      <td>0.886275</td>\n",
       "      <td>0.000524</td>\n",
       "      <td>-1.207285e-01</td>\n",
       "      <td>0.000591</td>\n",
       "    </tr>\n",
       "    <tr>\n",
       "      <th>4</th>\n",
       "      <td>129.71</td>\n",
       "      <td>0.005</td>\n",
       "      <td>217.0</td>\n",
       "      <td>0.1</td>\n",
       "      <td>0.850980</td>\n",
       "      <td>0.000515</td>\n",
       "      <td>-1.613662e-01</td>\n",
       "      <td>0.000605</td>\n",
       "    </tr>\n",
       "    <tr>\n",
       "      <th>5</th>\n",
       "      <td>162.14</td>\n",
       "      <td>0.005</td>\n",
       "      <td>208.0</td>\n",
       "      <td>0.1</td>\n",
       "      <td>0.815686</td>\n",
       "      <td>0.000506</td>\n",
       "      <td>-2.037255e-01</td>\n",
       "      <td>0.000620</td>\n",
       "    </tr>\n",
       "    <tr>\n",
       "      <th>6</th>\n",
       "      <td>194.57</td>\n",
       "      <td>0.005</td>\n",
       "      <td>201.0</td>\n",
       "      <td>0.1</td>\n",
       "      <td>0.788235</td>\n",
       "      <td>0.000499</td>\n",
       "      <td>-2.379586e-01</td>\n",
       "      <td>0.000633</td>\n",
       "    </tr>\n",
       "    <tr>\n",
       "      <th>7</th>\n",
       "      <td>227.00</td>\n",
       "      <td>0.005</td>\n",
       "      <td>193.0</td>\n",
       "      <td>0.1</td>\n",
       "      <td>0.756863</td>\n",
       "      <td>0.000492</td>\n",
       "      <td>-2.785734e-01</td>\n",
       "      <td>0.000650</td>\n",
       "    </tr>\n",
       "    <tr>\n",
       "      <th>8</th>\n",
       "      <td>259.43</td>\n",
       "      <td>0.005</td>\n",
       "      <td>186.0</td>\n",
       "      <td>0.1</td>\n",
       "      <td>0.729412</td>\n",
       "      <td>0.000485</td>\n",
       "      <td>-3.155169e-01</td>\n",
       "      <td>0.000665</td>\n",
       "    </tr>\n",
       "    <tr>\n",
       "      <th>9</th>\n",
       "      <td>291.86</td>\n",
       "      <td>0.005</td>\n",
       "      <td>179.1</td>\n",
       "      <td>0.1</td>\n",
       "      <td>0.702353</td>\n",
       "      <td>0.000479</td>\n",
       "      <td>-3.533192e-01</td>\n",
       "      <td>0.000682</td>\n",
       "    </tr>\n",
       "    <tr>\n",
       "      <th>10</th>\n",
       "      <td>324.89</td>\n",
       "      <td>0.005</td>\n",
       "      <td>173.0</td>\n",
       "      <td>0.1</td>\n",
       "      <td>0.678431</td>\n",
       "      <td>0.000474</td>\n",
       "      <td>-3.879720e-01</td>\n",
       "      <td>0.000699</td>\n",
       "    </tr>\n",
       "    <tr>\n",
       "      <th>11</th>\n",
       "      <td>356.71</td>\n",
       "      <td>0.005</td>\n",
       "      <td>167.0</td>\n",
       "      <td>0.1</td>\n",
       "      <td>0.654902</td>\n",
       "      <td>0.000469</td>\n",
       "      <td>-4.232697e-01</td>\n",
       "      <td>0.000716</td>\n",
       "    </tr>\n",
       "    <tr>\n",
       "      <th>12</th>\n",
       "      <td>389.14</td>\n",
       "      <td>0.005</td>\n",
       "      <td>161.0</td>\n",
       "      <td>0.1</td>\n",
       "      <td>0.631373</td>\n",
       "      <td>0.000464</td>\n",
       "      <td>-4.598592e-01</td>\n",
       "      <td>0.000735</td>\n",
       "    </tr>\n",
       "    <tr>\n",
       "      <th>13</th>\n",
       "      <td>421.57</td>\n",
       "      <td>0.005</td>\n",
       "      <td>155.6</td>\n",
       "      <td>0.1</td>\n",
       "      <td>0.610196</td>\n",
       "      <td>0.000459</td>\n",
       "      <td>-4.939749e-01</td>\n",
       "      <td>0.000753</td>\n",
       "    </tr>\n",
       "    <tr>\n",
       "      <th>14</th>\n",
       "      <td>454.00</td>\n",
       "      <td>0.005</td>\n",
       "      <td>151.0</td>\n",
       "      <td>0.1</td>\n",
       "      <td>0.592157</td>\n",
       "      <td>0.000456</td>\n",
       "      <td>-5.239837e-01</td>\n",
       "      <td>0.000770</td>\n",
       "    </tr>\n",
       "  </tbody>\n",
       "</table>\n",
       "</div>"
      ],
      "text/plain": [
       "         t  Error_t      U  Error_U  U_scaled  Error_U_scaled           ln_U  \\\n",
       "0     0.00    0.005  255.0      0.1  1.000000        0.000555  2.363643e-125   \n",
       "1    32.43    0.005  245.6      0.1  0.963137        0.000544  -3.755935e-02   \n",
       "2    64.86    0.005  235.1      0.1  0.921961        0.000533  -8.125259e-02   \n",
       "3    97.29    0.005  226.0      0.1  0.886275        0.000524  -1.207285e-01   \n",
       "4   129.71    0.005  217.0      0.1  0.850980        0.000515  -1.613662e-01   \n",
       "5   162.14    0.005  208.0      0.1  0.815686        0.000506  -2.037255e-01   \n",
       "6   194.57    0.005  201.0      0.1  0.788235        0.000499  -2.379586e-01   \n",
       "7   227.00    0.005  193.0      0.1  0.756863        0.000492  -2.785734e-01   \n",
       "8   259.43    0.005  186.0      0.1  0.729412        0.000485  -3.155169e-01   \n",
       "9   291.86    0.005  179.1      0.1  0.702353        0.000479  -3.533192e-01   \n",
       "10  324.89    0.005  173.0      0.1  0.678431        0.000474  -3.879720e-01   \n",
       "11  356.71    0.005  167.0      0.1  0.654902        0.000469  -4.232697e-01   \n",
       "12  389.14    0.005  161.0      0.1  0.631373        0.000464  -4.598592e-01   \n",
       "13  421.57    0.005  155.6      0.1  0.610196        0.000459  -4.939749e-01   \n",
       "14  454.00    0.005  151.0      0.1  0.592157        0.000456  -5.239837e-01   \n",
       "\n",
       "    Error_ln_U  \n",
       "0     0.000555  \n",
       "1     0.000565  \n",
       "2     0.000579  \n",
       "3     0.000591  \n",
       "4     0.000605  \n",
       "5     0.000620  \n",
       "6     0.000633  \n",
       "7     0.000650  \n",
       "8     0.000665  \n",
       "9     0.000682  \n",
       "10    0.000699  \n",
       "11    0.000716  \n",
       "12    0.000735  \n",
       "13    0.000753  \n",
       "14    0.000770  "
      ]
     },
     "metadata": {},
     "output_type": "display_data"
    }
   ],
   "source": [
    "for e in experiments:\n",
    "    disp(\"Experiment %s:\" % e, data[e], columns[e])"
   ]
  },
  {
   "cell_type": "code",
   "execution_count": 5,
   "metadata": {
    "collapsed": false
   },
   "outputs": [
    {
     "data": {
      "text/plain": [
       "[None, None, None, 0]"
      ]
     },
     "execution_count": 5,
     "metadata": {},
     "output_type": "execute_result"
    },
    {
     "data": {
      "image/png": "[encoded data removed]",
      "text/plain": [
       "<matplotlib.figure.Figure at 0x7fb876544ba8>"
      ]
     },
     "metadata": {},
     "output_type": "display_data"
    }
   ],
   "source": [
    "plt.title(\"Voltmeter readings\")\n",
    "plt.xlabel(\"$t$, sec\")\n",
    "\n",
    "ax1 = plt.gca()\n",
    "ax1.set_ylabel(\"$U / U_0$, V\")\n",
    "ax2 = ax1.twinx()\n",
    "ax2.set_ylabel(\"$ln(U / U_0)$\")\n",
    "\n",
    "for e in experiments:\n",
    "    ax1.errorbar(x = columns[e].t,\n",
    "                 y = columns[e].U_scaled,\n",
    "                 xerr = columns[e].Error_t,\n",
    "                 yerr = columns[e].Error_U_scaled,\n",
    "                 label = \"%s: $P = %d \\pm %d$\" % (e, data[e].Value[\"P\"], data[e].Error[\"P\"]),\n",
    "                 alpha = 0.5,\n",
    "                 linewidth = 0.5,\n",
    "                 linestyle = \"dotted\")\n",
    "    ax2.errorbar(x = columns[e].t,\n",
    "                 y = columns[e].ln_U,\n",
    "                 xerr = columns[e].Error_t,\n",
    "                 yerr = columns[e].Error_ln_U,\n",
    "                 linestyle = \"none\")\n",
    "\n",
    "ax1.legend(loc = \"best\")\n",
    "plt.axis([0, None, None, None])\n",
    "ax1.axis([None, None, None, 1])\n",
    "ax2.axis([None, None, None, 0])"
   ]
  },
  {
   "cell_type": "code",
   "execution_count": 6,
   "metadata": {
    "collapsed": false
   },
   "outputs": [
    {
     "name": "stdout",
     "output_type": "stream",
     "text": [
      "Initial guesses for lnU:\n",
      "                   Value     Error  ErrorRel\n",
      "tau          185.697563  2.981299  0.016055\n",
      "offset_lnU0    0.006857  0.005918  0.863135\n"
     ]
    },
    {
     "data": {
      "text/plain": [
       "'Final guesses for lnU:'"
      ]
     },
     "metadata": {},
     "output_type": "display_data"
    },
    {
     "data": {
      "text/html": [
       "<div>\n",
       "<table border=\"1\" class=\"dataframe\">\n",
       "  <thead>\n",
       "    <tr style=\"text-align: right;\">\n",
       "      <th></th>\n",
       "      <th>Value</th>\n",
       "      <th>Error</th>\n",
       "      <th>ErrorRel</th>\n",
       "    </tr>\n",
       "  </thead>\n",
       "  <tbody>\n",
       "    <tr>\n",
       "      <th>tau</th>\n",
       "      <td>185.517339</td>\n",
       "      <td>1.468974</td>\n",
       "      <td>0.007918</td>\n",
       "    </tr>\n",
       "    <tr>\n",
       "      <th>offset_lnU0</th>\n",
       "      <td>0.007147</td>\n",
       "      <td>0.003025</td>\n",
       "      <td>0.423304</td>\n",
       "    </tr>\n",
       "  </tbody>\n",
       "</table>\n",
       "</div>"
      ],
      "text/plain": [
       "                  Value     Error  ErrorRel\n",
       "tau          185.517339  1.468974  0.007918\n",
       "offset_lnU0    0.007147  0.003025  0.423304"
      ]
     },
     "metadata": {},
     "output_type": "display_data"
    },
    {
     "name": "stdout",
     "output_type": "stream",
     "text": [
      "Initial guesses for lnU:\n",
      "                   Value     Error  ErrorRel\n",
      "tau          414.476221  9.579931  0.023113\n",
      "offset_lnU0    0.006979  0.005889  0.843833\n"
     ]
    },
    {
     "data": {
      "text/plain": [
       "'Final guesses for lnU:'"
      ]
     },
     "metadata": {},
     "output_type": "display_data"
    },
    {
     "data": {
      "text/html": [
       "<div>\n",
       "<table border=\"1\" class=\"dataframe\">\n",
       "  <thead>\n",
       "    <tr style=\"text-align: right;\">\n",
       "      <th></th>\n",
       "      <th>Value</th>\n",
       "      <th>Error</th>\n",
       "      <th>ErrorRel</th>\n",
       "    </tr>\n",
       "  </thead>\n",
       "  <tbody>\n",
       "    <tr>\n",
       "      <th>tau</th>\n",
       "      <td>414.435241</td>\n",
       "      <td>3.079643</td>\n",
       "      <td>0.007431</td>\n",
       "    </tr>\n",
       "    <tr>\n",
       "      <th>offset_lnU0</th>\n",
       "      <td>0.006999</td>\n",
       "      <td>0.001901</td>\n",
       "      <td>0.271585</td>\n",
       "    </tr>\n",
       "  </tbody>\n",
       "</table>\n",
       "</div>"
      ],
      "text/plain": [
       "                  Value     Error  ErrorRel\n",
       "tau          414.435241  3.079643  0.007431\n",
       "offset_lnU0    0.006999  0.001901  0.271585"
      ]
     },
     "metadata": {},
     "output_type": "display_data"
    },
    {
     "name": "stdout",
     "output_type": "stream",
     "text": [
      "Initial guesses for lnU:\n",
      "                   Value      Error  ErrorRel\n",
      "tau          623.366671  25.728297  0.041273\n",
      "offset_lnU0    0.005684   0.010912  1.919745\n"
     ]
    },
    {
     "data": {
      "text/plain": [
       "'Final guesses for lnU:'"
      ]
     },
     "metadata": {},
     "output_type": "display_data"
    },
    {
     "data": {
      "text/html": [
       "<div>\n",
       "<table border=\"1\" class=\"dataframe\">\n",
       "  <thead>\n",
       "    <tr style=\"text-align: right;\">\n",
       "      <th></th>\n",
       "      <th>Value</th>\n",
       "      <th>Error</th>\n",
       "      <th>ErrorRel</th>\n",
       "    </tr>\n",
       "  </thead>\n",
       "  <tbody>\n",
       "    <tr>\n",
       "      <th>tau</th>\n",
       "      <td>623.366350</td>\n",
       "      <td>3.922187</td>\n",
       "      <td>0.006292</td>\n",
       "    </tr>\n",
       "    <tr>\n",
       "      <th>offset_lnU0</th>\n",
       "      <td>0.005684</td>\n",
       "      <td>0.001664</td>\n",
       "      <td>0.292810</td>\n",
       "    </tr>\n",
       "  </tbody>\n",
       "</table>\n",
       "</div>"
      ],
      "text/plain": [
       "                  Value     Error  ErrorRel\n",
       "tau          623.366350  3.922187  0.006292\n",
       "offset_lnU0    0.005684  0.001664  0.292810"
      ]
     },
     "metadata": {},
     "output_type": "display_data"
    },
    {
     "name": "stdout",
     "output_type": "stream",
     "text": [
      "Initial guesses for lnU:\n",
      "                   Value     Error  ErrorRel\n",
      "tau          854.326038  0.879023  0.001029\n",
      "offset_lnU0   -0.006303  0.000291 -0.046231\n"
     ]
    },
    {
     "data": {
      "text/plain": [
       "'Final guesses for lnU:'"
      ]
     },
     "metadata": {},
     "output_type": "display_data"
    },
    {
     "data": {
      "text/html": [
       "<div>\n",
       "<table border=\"1\" class=\"dataframe\">\n",
       "  <thead>\n",
       "    <tr style=\"text-align: right;\">\n",
       "      <th></th>\n",
       "      <th>Value</th>\n",
       "      <th>Error</th>\n",
       "      <th>ErrorRel</th>\n",
       "    </tr>\n",
       "  </thead>\n",
       "  <tbody>\n",
       "    <tr>\n",
       "      <th>tau</th>\n",
       "      <td>854.326465</td>\n",
       "      <td>8.138295</td>\n",
       "      <td>0.009526</td>\n",
       "    </tr>\n",
       "    <tr>\n",
       "      <th>offset_lnU0</th>\n",
       "      <td>-0.006303</td>\n",
       "      <td>0.002698</td>\n",
       "      <td>-0.428017</td>\n",
       "    </tr>\n",
       "  </tbody>\n",
       "</table>\n",
       "</div>"
      ],
      "text/plain": [
       "                  Value     Error  ErrorRel\n",
       "tau          854.326465  8.138295  0.009526\n",
       "offset_lnU0   -0.006303  0.002698 -0.428017"
      ]
     },
     "metadata": {},
     "output_type": "display_data"
    },
    {
     "data": {
      "text/plain": [
       "[0, None, None, 0.1]"
      ]
     },
     "execution_count": 6,
     "metadata": {},
     "output_type": "execute_result"
    },
    {
     "data": {
      "image/png": "[encoded data removed]",
      "text/plain": [
       "<matplotlib.figure.Figure at 0x7fb876303c18>"
      ]
     },
     "metadata": {},
     "output_type": "display_data"
    }
   ],
   "source": [
    "plt.title(\"Voltmeter readings (scaled) + fit\")\n",
    "plt.xlabel(\"$t$, sec\")\n",
    "plt.ylabel(\"$ln(U/U_0)$\")\n",
    "\n",
    "for e in experiments:\n",
    "    plt.errorbar(x = columns[e].t,\n",
    "                 y = columns[e].ln_U,\n",
    "                 xerr = columns[e].Error_t,\n",
    "                 yerr = columns[e].Error_ln_U,\n",
    "                 linestyle = \"none\",\n",
    "                 label = \"$P = %d \\pm %d$\" % (data[e].Value[\"P\"], data[e].Error[\"P\"]))\n",
    "\n",
    "plt.gca().set_prop_cycle(None)\n",
    "t_linspace = ll.linspace([t for t in columns[e].t for e in experiments])\n",
    "\n",
    "for e in experiments:\n",
    "    model = ll.fit2(name = \"lnU\",\n",
    "                    model = lambda t, tau, offset_lnU0: offset_lnU0 - t/tau,\n",
    "                    x = columns[e].t,\n",
    "                    y = columns[e].ln_U,\n",
    "                    xerr = columns[e].Error_t,\n",
    "                    yerr = columns[e].Error_ln_U,\n",
    "                    data = data[e])\n",
    "\n",
    "    plt.errorbar(x = t_linspace,\n",
    "                 y = model(t_linspace))\n",
    "\n",
    "plt.legend(loc = \"best\")\n",
    "plt.axis([0, None, None, 0.1])"
   ]
  },
  {
   "cell_type": "code",
   "execution_count": 7,
   "metadata": {
    "collapsed": false
   },
   "outputs": [
    {
     "name": "stdout",
     "output_type": "stream",
     "text": [
      "Initial guesses for D:\n",
      "       Value     Error  ErrorRel\n",
      "k  4.410460  0.368736  0.083605\n",
      "l  0.000024  0.000017  0.690666\n"
     ]
    },
    {
     "data": {
      "text/plain": [
       "'Final guesses for D:'"
      ]
     },
     "metadata": {},
     "output_type": "display_data"
    },
    {
     "data": {
      "text/html": [
       "<div>\n",
       "<table border=\"1\" class=\"dataframe\">\n",
       "  <thead>\n",
       "    <tr style=\"text-align: right;\">\n",
       "      <th></th>\n",
       "      <th>Value</th>\n",
       "      <th>Error</th>\n",
       "      <th>ErrorRel</th>\n",
       "    </tr>\n",
       "  </thead>\n",
       "  <tbody>\n",
       "    <tr>\n",
       "      <th>k</th>\n",
       "      <td>4.388309</td>\n",
       "      <td>0.153688</td>\n",
       "      <td>0.035022</td>\n",
       "    </tr>\n",
       "    <tr>\n",
       "      <th>l</th>\n",
       "      <td>0.000025</td>\n",
       "      <td>0.000006</td>\n",
       "      <td>0.248089</td>\n",
       "    </tr>\n",
       "  </tbody>\n",
       "</table>\n",
       "</div>"
      ],
      "text/plain": [
       "      Value     Error  ErrorRel\n",
       "k  4.388309  0.153688  0.035022\n",
       "l  0.000025  0.000006  0.248089"
      ]
     },
     "metadata": {},
     "output_type": "display_data"
    },
    {
     "data": {
      "text/plain": [
       "'D for atmospheric pressure:'"
      ]
     },
     "metadata": {},
     "output_type": "display_data"
    },
    {
     "data": {
      "text/html": [
       "<div>\n",
       "<table border=\"1\" class=\"dataframe\">\n",
       "  <thead>\n",
       "    <tr style=\"text-align: right;\">\n",
       "      <th></th>\n",
       "      <th>Value</th>\n",
       "      <th>Error</th>\n",
       "      <th>ErrorRel</th>\n",
       "    </tr>\n",
       "  </thead>\n",
       "  <tbody>\n",
       "    <tr>\n",
       "      <th>D_atm</th>\n",
       "      <td>0.00007</td>\n",
       "      <td>4.513812e-08</td>\n",
       "      <td>0.000649</td>\n",
       "    </tr>\n",
       "  </tbody>\n",
       "</table>\n",
       "</div>"
      ],
      "text/plain": [
       "         Value         Error  ErrorRel\n",
       "D_atm  0.00007  4.513812e-08  0.000649"
      ]
     },
     "metadata": {},
     "output_type": "display_data"
    },
    {
     "data": {
      "text/plain": [
       "<Container object of 3 artists>"
      ]
     },
     "execution_count": 7,
     "metadata": {},
     "output_type": "execute_result"
    },
    {
     "data": {
      "image/png": "[encoded data removed]",
      "text/plain": [
       "<matplotlib.figure.Figure at 0x7fb8764a8978>"
      ]
     },
     "metadata": {},
     "output_type": "display_data"
    }
   ],
   "source": [
    "for e in experiments:\n",
    "    ll.compute(name = \"1/P\",\n",
    "               expr = lambda P: 1 / P,\n",
    "               data = data[e],\n",
    "               columns = columns[e])\n",
    "\n",
    "    ll.compute(name = \"D\",\n",
    "               expr = lambda V_1, V_2, L_to_S, tau: (V_1*V_2) / (V_1+V_2) * L_to_S / tau,\n",
    "               data = data[e],\n",
    "               columns = columns[e])\n",
    "\n",
    "model = ll.fit2(name = \"D\",\n",
    "                model = lambda _1_P, k, l: _1_P * k + l,\n",
    "                x = [data[e].Value[\"1/P\"] for e in experiments],\n",
    "                y = [data[e].Value[\"D\"] for e in experiments],\n",
    "                xerr = [data[e].Error[\"1/P\"] for e in experiments],\n",
    "                yerr = [data[e].Error[\"D\"] for e in experiments],\n",
    "                data = data[\"global\"])\n",
    "\n",
    "ll.compute(name = \"1/P_atm\",\n",
    "           expr = lambda P_atm: 1/P_atm,\n",
    "           data = data[\"global\"])\n",
    "\n",
    "ll.compute(name = \"D_atm\",\n",
    "           expr = lambda P_atm: model(1/P_atm),\n",
    "           data = data[\"global\"])\n",
    "\n",
    "plt.title(\"Diffusion-pressure plot\")\n",
    "plt.xlabel(\"$1 / P$, Pa$^{-1}$\")\n",
    "plt.ylabel(\"$D$, m$^2$/sec\")\n",
    "\n",
    "plt.errorbar(x = [data[e].Value[\"1/P\"] for e in experiments],\n",
    "             y = [data[e].Value[\"D\"] for e in experiments],\n",
    "             xerr = [data[e].Error[\"1/P\"] for e in experiments],\n",
    "             yerr = [data[e].Error[\"D\"] for e in experiments],\n",
    "             linestyle = \"none\",\n",
    "             ms = 2)\n",
    "\n",
    "plt.errorbar(x = [data[\"global\"].Value[\"1/P_atm\"]],\n",
    "             y = [data[\"global\"].Value[\"D_atm\"]],\n",
    "             xerr = [data[\"global\"].Error[\"1/P_atm\"]],\n",
    "             yerr = [data[\"global\"].Error[\"D_atm\"]],\n",
    "             linestyle = \"none\",\n",
    "             ms = 2)\n",
    "\n",
    "plt.gca().set_prop_cycle(None)\n",
    "_1_P_linspace = ll.linspace([data[e].Value[\"1/P\"] for e in experiments] + [1 / data[\"global\"].Value[\"P_atm\"]])\n",
    "\n",
    "disp(\"D for atmospheric pressure:\", data[\"global\"].loc[[\"D_atm\"]])\n",
    "\n",
    "plt.errorbar(x = _1_P_linspace,\n",
    "             y = model(_1_P_linspace))"
   ]
  },
  {
   "cell_type": "code",
   "execution_count": null,
   "metadata": {
    "collapsed": true
   },
   "outputs": [],
   "source": []
  }
 ],
 "metadata": {
  "kernelspec": {
   "display_name": "Python 3",
   "language": "python",
   "name": "python3"
  },
  "language_info": {
   "codemirror_mode": {
    "name": "ipython",
    "version": 3
   },
   "file_extension": ".py",
   "mimetype": "text/x-python",
   "name": "python",
   "nbconvert_exporter": "python",
   "pygments_lexer": "ipython3",
   "version": "3.5.1"
  }
 },
 "nbformat": 4,
 "nbformat_minor": 0
}
