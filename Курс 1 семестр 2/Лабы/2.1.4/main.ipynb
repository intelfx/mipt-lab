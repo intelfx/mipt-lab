{
 "cells": [
  {
   "cell_type": "code",
   "execution_count": 1,
   "metadata": {
    "collapsed": false
   },
   "outputs": [],
   "source": [
    "import pandas as pd\n",
    "import numpy as np\n",
    "import scipy as sp\n",
    "import matplotlib as mp\n",
    "import matplotlib.pyplot as plt\n",
    "import math as m\n",
    "import sympy as smp\n",
    "import IPython.display as disp\n",
    "%matplotlib inline"
   ]
  },
  {
   "cell_type": "markdown",
   "metadata": {},
   "source": [
    "Имеющиеся экспериментальные данные:\n",
    "\n",
    "* $R ↦ t$\n",
    "* комнатная температура (исходная температура образцов), $R_{ambient}$ (измерение R при комнатной температуре)\n",
    "* приборные константы:\n",
    "    * масса образца $m$\n",
    "    * напряжение на нагревателе $U$\n",
    "    * ток через нагреватель $I$\n",
    "    * температурный коэффициент сопротивления материала нагревателя $\\alpha$"
   ]
  },
  {
   "cell_type": "code",
   "execution_count": 2,
   "metadata": {
    "collapsed": false
   },
   "outputs": [
    {
     "data": {
      "text/plain": [
       "'Data for kind empty:'"
      ]
     },
     "metadata": {},
     "output_type": "display_data"
    },
    {
     "data": {
      "text/html": [
       "<div>\n",
       "<table border=\"1\" class=\"dataframe\">\n",
       "  <thead>\n",
       "    <tr style=\"text-align: right;\">\n",
       "      <th></th>\n",
       "      <th>R</th>\n",
       "      <th>Error_R</th>\n",
       "      <th>t</th>\n",
       "      <th>Error_t</th>\n",
       "    </tr>\n",
       "  </thead>\n",
       "  <tbody>\n",
       "    <tr>\n",
       "      <th>0</th>\n",
       "      <td>18.144</td>\n",
       "      <td>0.005</td>\n",
       "      <td>0</td>\n",
       "      <td>0.5</td>\n",
       "    </tr>\n",
       "    <tr>\n",
       "      <th>1</th>\n",
       "      <td>18.194</td>\n",
       "      <td>0.005</td>\n",
       "      <td>40</td>\n",
       "      <td>0.5</td>\n",
       "    </tr>\n",
       "    <tr>\n",
       "      <th>2</th>\n",
       "      <td>18.244</td>\n",
       "      <td>0.005</td>\n",
       "      <td>84</td>\n",
       "      <td>0.5</td>\n",
       "    </tr>\n",
       "    <tr>\n",
       "      <th>3</th>\n",
       "      <td>18.294</td>\n",
       "      <td>0.005</td>\n",
       "      <td>129</td>\n",
       "      <td>0.5</td>\n",
       "    </tr>\n",
       "    <tr>\n",
       "      <th>4</th>\n",
       "      <td>18.344</td>\n",
       "      <td>0.005</td>\n",
       "      <td>175</td>\n",
       "      <td>0.5</td>\n",
       "    </tr>\n",
       "    <tr>\n",
       "      <th>5</th>\n",
       "      <td>18.394</td>\n",
       "      <td>0.005</td>\n",
       "      <td>223</td>\n",
       "      <td>0.5</td>\n",
       "    </tr>\n",
       "    <tr>\n",
       "      <th>6</th>\n",
       "      <td>18.444</td>\n",
       "      <td>0.005</td>\n",
       "      <td>273</td>\n",
       "      <td>0.5</td>\n",
       "    </tr>\n",
       "    <tr>\n",
       "      <th>7</th>\n",
       "      <td>18.494</td>\n",
       "      <td>0.005</td>\n",
       "      <td>325</td>\n",
       "      <td>0.5</td>\n",
       "    </tr>\n",
       "    <tr>\n",
       "      <th>8</th>\n",
       "      <td>18.544</td>\n",
       "      <td>0.005</td>\n",
       "      <td>378</td>\n",
       "      <td>0.5</td>\n",
       "    </tr>\n",
       "    <tr>\n",
       "      <th>9</th>\n",
       "      <td>18.594</td>\n",
       "      <td>0.005</td>\n",
       "      <td>433</td>\n",
       "      <td>0.5</td>\n",
       "    </tr>\n",
       "    <tr>\n",
       "      <th>10</th>\n",
       "      <td>18.644</td>\n",
       "      <td>0.005</td>\n",
       "      <td>488</td>\n",
       "      <td>0.5</td>\n",
       "    </tr>\n",
       "    <tr>\n",
       "      <th>11</th>\n",
       "      <td>18.694</td>\n",
       "      <td>0.005</td>\n",
       "      <td>546</td>\n",
       "      <td>0.5</td>\n",
       "    </tr>\n",
       "    <tr>\n",
       "      <th>12</th>\n",
       "      <td>18.744</td>\n",
       "      <td>0.005</td>\n",
       "      <td>606</td>\n",
       "      <td>0.5</td>\n",
       "    </tr>\n",
       "    <tr>\n",
       "      <th>13</th>\n",
       "      <td>18.794</td>\n",
       "      <td>0.005</td>\n",
       "      <td>667</td>\n",
       "      <td>0.5</td>\n",
       "    </tr>\n",
       "  </tbody>\n",
       "</table>\n",
       "</div>"
      ],
      "text/plain": [
       "         R  Error_R    t  Error_t\n",
       "0   18.144    0.005    0      0.5\n",
       "1   18.194    0.005   40      0.5\n",
       "2   18.244    0.005   84      0.5\n",
       "3   18.294    0.005  129      0.5\n",
       "4   18.344    0.005  175      0.5\n",
       "5   18.394    0.005  223      0.5\n",
       "6   18.444    0.005  273      0.5\n",
       "7   18.494    0.005  325      0.5\n",
       "8   18.544    0.005  378      0.5\n",
       "9   18.594    0.005  433      0.5\n",
       "10  18.644    0.005  488      0.5\n",
       "11  18.694    0.005  546      0.5\n",
       "12  18.744    0.005  606      0.5\n",
       "13  18.794    0.005  667      0.5"
      ]
     },
     "metadata": {},
     "output_type": "display_data"
    },
    {
     "data": {
      "text/plain": [
       "'Data for kind brass:'"
      ]
     },
     "metadata": {},
     "output_type": "display_data"
    },
    {
     "data": {
      "text/html": [
       "<div>\n",
       "<table border=\"1\" class=\"dataframe\">\n",
       "  <thead>\n",
       "    <tr style=\"text-align: right;\">\n",
       "      <th></th>\n",
       "      <th>R</th>\n",
       "      <th>Error_R</th>\n",
       "      <th>t</th>\n",
       "      <th>Error_t</th>\n",
       "    </tr>\n",
       "  </thead>\n",
       "  <tbody>\n",
       "    <tr>\n",
       "      <th>0</th>\n",
       "      <td>18.146</td>\n",
       "      <td>0.005</td>\n",
       "      <td>0</td>\n",
       "      <td>0.5</td>\n",
       "    </tr>\n",
       "    <tr>\n",
       "      <th>1</th>\n",
       "      <td>18.196</td>\n",
       "      <td>0.005</td>\n",
       "      <td>44</td>\n",
       "      <td>0.5</td>\n",
       "    </tr>\n",
       "    <tr>\n",
       "      <th>2</th>\n",
       "      <td>18.246</td>\n",
       "      <td>0.005</td>\n",
       "      <td>105</td>\n",
       "      <td>0.5</td>\n",
       "    </tr>\n",
       "    <tr>\n",
       "      <th>3</th>\n",
       "      <td>18.296</td>\n",
       "      <td>0.005</td>\n",
       "      <td>172</td>\n",
       "      <td>0.5</td>\n",
       "    </tr>\n",
       "    <tr>\n",
       "      <th>4</th>\n",
       "      <td>18.346</td>\n",
       "      <td>0.005</td>\n",
       "      <td>243</td>\n",
       "      <td>0.5</td>\n",
       "    </tr>\n",
       "    <tr>\n",
       "      <th>5</th>\n",
       "      <td>18.396</td>\n",
       "      <td>0.005</td>\n",
       "      <td>315</td>\n",
       "      <td>0.5</td>\n",
       "    </tr>\n",
       "    <tr>\n",
       "      <th>6</th>\n",
       "      <td>18.446</td>\n",
       "      <td>0.005</td>\n",
       "      <td>389</td>\n",
       "      <td>0.5</td>\n",
       "    </tr>\n",
       "    <tr>\n",
       "      <th>7</th>\n",
       "      <td>18.496</td>\n",
       "      <td>0.005</td>\n",
       "      <td>465</td>\n",
       "      <td>0.5</td>\n",
       "    </tr>\n",
       "    <tr>\n",
       "      <th>8</th>\n",
       "      <td>18.546</td>\n",
       "      <td>0.005</td>\n",
       "      <td>544</td>\n",
       "      <td>0.5</td>\n",
       "    </tr>\n",
       "    <tr>\n",
       "      <th>9</th>\n",
       "      <td>18.596</td>\n",
       "      <td>0.005</td>\n",
       "      <td>624</td>\n",
       "      <td>0.5</td>\n",
       "    </tr>\n",
       "    <tr>\n",
       "      <th>10</th>\n",
       "      <td>18.646</td>\n",
       "      <td>0.005</td>\n",
       "      <td>707</td>\n",
       "      <td>0.5</td>\n",
       "    </tr>\n",
       "    <tr>\n",
       "      <th>11</th>\n",
       "      <td>18.696</td>\n",
       "      <td>0.005</td>\n",
       "      <td>791</td>\n",
       "      <td>0.5</td>\n",
       "    </tr>\n",
       "    <tr>\n",
       "      <th>12</th>\n",
       "      <td>18.746</td>\n",
       "      <td>0.005</td>\n",
       "      <td>878</td>\n",
       "      <td>0.5</td>\n",
       "    </tr>\n",
       "    <tr>\n",
       "      <th>13</th>\n",
       "      <td>18.796</td>\n",
       "      <td>0.005</td>\n",
       "      <td>967</td>\n",
       "      <td>0.5</td>\n",
       "    </tr>\n",
       "  </tbody>\n",
       "</table>\n",
       "</div>"
      ],
      "text/plain": [
       "         R  Error_R    t  Error_t\n",
       "0   18.146    0.005    0      0.5\n",
       "1   18.196    0.005   44      0.5\n",
       "2   18.246    0.005  105      0.5\n",
       "3   18.296    0.005  172      0.5\n",
       "4   18.346    0.005  243      0.5\n",
       "5   18.396    0.005  315      0.5\n",
       "6   18.446    0.005  389      0.5\n",
       "7   18.496    0.005  465      0.5\n",
       "8   18.546    0.005  544      0.5\n",
       "9   18.596    0.005  624      0.5\n",
       "10  18.646    0.005  707      0.5\n",
       "11  18.696    0.005  791      0.5\n",
       "12  18.746    0.005  878      0.5\n",
       "13  18.796    0.005  967      0.5"
      ]
     },
     "metadata": {},
     "output_type": "display_data"
    },
    {
     "data": {
      "text/plain": [
       "'Data for kind iron:'"
      ]
     },
     "metadata": {},
     "output_type": "display_data"
    },
    {
     "data": {
      "text/html": [
       "<div>\n",
       "<table border=\"1\" class=\"dataframe\">\n",
       "  <thead>\n",
       "    <tr style=\"text-align: right;\">\n",
       "      <th></th>\n",
       "      <th>R</th>\n",
       "      <th>Error_R</th>\n",
       "      <th>t</th>\n",
       "      <th>Error_t</th>\n",
       "    </tr>\n",
       "  </thead>\n",
       "  <tbody>\n",
       "    <tr>\n",
       "      <th>0</th>\n",
       "      <td>18.147</td>\n",
       "      <td>0.005</td>\n",
       "      <td>0</td>\n",
       "      <td>0.5</td>\n",
       "    </tr>\n",
       "    <tr>\n",
       "      <th>1</th>\n",
       "      <td>18.197</td>\n",
       "      <td>0.005</td>\n",
       "      <td>46</td>\n",
       "      <td>0.5</td>\n",
       "    </tr>\n",
       "    <tr>\n",
       "      <th>2</th>\n",
       "      <td>18.247</td>\n",
       "      <td>0.005</td>\n",
       "      <td>110</td>\n",
       "      <td>0.5</td>\n",
       "    </tr>\n",
       "    <tr>\n",
       "      <th>3</th>\n",
       "      <td>18.297</td>\n",
       "      <td>0.005</td>\n",
       "      <td>180</td>\n",
       "      <td>0.5</td>\n",
       "    </tr>\n",
       "    <tr>\n",
       "      <th>4</th>\n",
       "      <td>18.347</td>\n",
       "      <td>0.005</td>\n",
       "      <td>252</td>\n",
       "      <td>0.5</td>\n",
       "    </tr>\n",
       "    <tr>\n",
       "      <th>5</th>\n",
       "      <td>18.397</td>\n",
       "      <td>0.005</td>\n",
       "      <td>327</td>\n",
       "      <td>0.5</td>\n",
       "    </tr>\n",
       "    <tr>\n",
       "      <th>6</th>\n",
       "      <td>18.497</td>\n",
       "      <td>0.005</td>\n",
       "      <td>482</td>\n",
       "      <td>0.5</td>\n",
       "    </tr>\n",
       "    <tr>\n",
       "      <th>7</th>\n",
       "      <td>18.547</td>\n",
       "      <td>0.005</td>\n",
       "      <td>562</td>\n",
       "      <td>0.5</td>\n",
       "    </tr>\n",
       "    <tr>\n",
       "      <th>8</th>\n",
       "      <td>18.597</td>\n",
       "      <td>0.005</td>\n",
       "      <td>644</td>\n",
       "      <td>0.5</td>\n",
       "    </tr>\n",
       "    <tr>\n",
       "      <th>9</th>\n",
       "      <td>18.647</td>\n",
       "      <td>0.005</td>\n",
       "      <td>728</td>\n",
       "      <td>0.5</td>\n",
       "    </tr>\n",
       "    <tr>\n",
       "      <th>10</th>\n",
       "      <td>18.697</td>\n",
       "      <td>0.005</td>\n",
       "      <td>815</td>\n",
       "      <td>0.5</td>\n",
       "    </tr>\n",
       "    <tr>\n",
       "      <th>11</th>\n",
       "      <td>18.747</td>\n",
       "      <td>0.005</td>\n",
       "      <td>903</td>\n",
       "      <td>0.5</td>\n",
       "    </tr>\n",
       "    <tr>\n",
       "      <th>12</th>\n",
       "      <td>18.797</td>\n",
       "      <td>0.005</td>\n",
       "      <td>993</td>\n",
       "      <td>0.5</td>\n",
       "    </tr>\n",
       "  </tbody>\n",
       "</table>\n",
       "</div>"
      ],
      "text/plain": [
       "         R  Error_R    t  Error_t\n",
       "0   18.147    0.005    0      0.5\n",
       "1   18.197    0.005   46      0.5\n",
       "2   18.247    0.005  110      0.5\n",
       "3   18.297    0.005  180      0.5\n",
       "4   18.347    0.005  252      0.5\n",
       "5   18.397    0.005  327      0.5\n",
       "6   18.497    0.005  482      0.5\n",
       "7   18.547    0.005  562      0.5\n",
       "8   18.597    0.005  644      0.5\n",
       "9   18.647    0.005  728      0.5\n",
       "10  18.697    0.005  815      0.5\n",
       "11  18.747    0.005  903      0.5\n",
       "12  18.797    0.005  993      0.5"
      ]
     },
     "metadata": {},
     "output_type": "display_data"
    },
    {
     "data": {
      "text/plain": [
       "'Work variables for kind empty:'"
      ]
     },
     "metadata": {},
     "output_type": "display_data"
    },
    {
     "data": {
      "text/html": [
       "<div>\n",
       "<table border=\"1\" class=\"dataframe\">\n",
       "  <thead>\n",
       "    <tr style=\"text-align: right;\">\n",
       "      <th></th>\n",
       "      <th>Error</th>\n",
       "      <th>Value</th>\n",
       "    </tr>\n",
       "  </thead>\n",
       "  <tbody>\n",
       "    <tr>\n",
       "      <th>I</th>\n",
       "      <td>0.010000</td>\n",
       "      <td>0.30000</td>\n",
       "    </tr>\n",
       "    <tr>\n",
       "      <th>R_ambient</th>\n",
       "      <td>0.005000</td>\n",
       "      <td>18.14400</td>\n",
       "    </tr>\n",
       "    <tr>\n",
       "      <th>T_ambient</th>\n",
       "      <td>1.000000</td>\n",
       "      <td>24.00000</td>\n",
       "    </tr>\n",
       "    <tr>\n",
       "      <th>U</th>\n",
       "      <td>0.100000</td>\n",
       "      <td>36.00000</td>\n",
       "    </tr>\n",
       "    <tr>\n",
       "      <th>alpha</th>\n",
       "      <td>0.000005</td>\n",
       "      <td>0.00428</td>\n",
       "    </tr>\n",
       "    <tr>\n",
       "      <th>m</th>\n",
       "      <td>0.000000</td>\n",
       "      <td>1.00000</td>\n",
       "    </tr>\n",
       "  </tbody>\n",
       "</table>\n",
       "</div>"
      ],
      "text/plain": [
       "              Error     Value\n",
       "I          0.010000   0.30000\n",
       "R_ambient  0.005000  18.14400\n",
       "T_ambient  1.000000  24.00000\n",
       "U          0.100000  36.00000\n",
       "alpha      0.000005   0.00428\n",
       "m          0.000000   1.00000"
      ]
     },
     "metadata": {},
     "output_type": "display_data"
    },
    {
     "data": {
      "text/plain": [
       "'Work variables for kind brass:'"
      ]
     },
     "metadata": {},
     "output_type": "display_data"
    },
    {
     "data": {
      "text/html": [
       "<div>\n",
       "<table border=\"1\" class=\"dataframe\">\n",
       "  <thead>\n",
       "    <tr style=\"text-align: right;\">\n",
       "      <th></th>\n",
       "      <th>Error</th>\n",
       "      <th>Value</th>\n",
       "    </tr>\n",
       "  </thead>\n",
       "  <tbody>\n",
       "    <tr>\n",
       "      <th>I</th>\n",
       "      <td>0.010000</td>\n",
       "      <td>0.30000</td>\n",
       "    </tr>\n",
       "    <tr>\n",
       "      <th>R_ambient</th>\n",
       "      <td>0.005000</td>\n",
       "      <td>18.14600</td>\n",
       "    </tr>\n",
       "    <tr>\n",
       "      <th>T_ambient</th>\n",
       "      <td>1.000000</td>\n",
       "      <td>24.00000</td>\n",
       "    </tr>\n",
       "    <tr>\n",
       "      <th>U</th>\n",
       "      <td>0.100000</td>\n",
       "      <td>36.00000</td>\n",
       "    </tr>\n",
       "    <tr>\n",
       "      <th>alpha</th>\n",
       "      <td>0.000005</td>\n",
       "      <td>0.00428</td>\n",
       "    </tr>\n",
       "    <tr>\n",
       "      <th>m</th>\n",
       "      <td>0.000100</td>\n",
       "      <td>0.87800</td>\n",
       "    </tr>\n",
       "  </tbody>\n",
       "</table>\n",
       "</div>"
      ],
      "text/plain": [
       "              Error     Value\n",
       "I          0.010000   0.30000\n",
       "R_ambient  0.005000  18.14600\n",
       "T_ambient  1.000000  24.00000\n",
       "U          0.100000  36.00000\n",
       "alpha      0.000005   0.00428\n",
       "m          0.000100   0.87800"
      ]
     },
     "metadata": {},
     "output_type": "display_data"
    },
    {
     "data": {
      "text/plain": [
       "'Work variables for kind iron:'"
      ]
     },
     "metadata": {},
     "output_type": "display_data"
    },
    {
     "data": {
      "text/html": [
       "<div>\n",
       "<table border=\"1\" class=\"dataframe\">\n",
       "  <thead>\n",
       "    <tr style=\"text-align: right;\">\n",
       "      <th></th>\n",
       "      <th>Error</th>\n",
       "      <th>Value</th>\n",
       "    </tr>\n",
       "  </thead>\n",
       "  <tbody>\n",
       "    <tr>\n",
       "      <th>I</th>\n",
       "      <td>0.010000</td>\n",
       "      <td>0.30000</td>\n",
       "    </tr>\n",
       "    <tr>\n",
       "      <th>R_ambient</th>\n",
       "      <td>0.005000</td>\n",
       "      <td>18.14700</td>\n",
       "    </tr>\n",
       "    <tr>\n",
       "      <th>T_ambient</th>\n",
       "      <td>1.000000</td>\n",
       "      <td>25.00000</td>\n",
       "    </tr>\n",
       "    <tr>\n",
       "      <th>U</th>\n",
       "      <td>0.100000</td>\n",
       "      <td>36.00000</td>\n",
       "    </tr>\n",
       "    <tr>\n",
       "      <th>alpha</th>\n",
       "      <td>0.000005</td>\n",
       "      <td>0.00428</td>\n",
       "    </tr>\n",
       "    <tr>\n",
       "      <th>m</th>\n",
       "      <td>0.000100</td>\n",
       "      <td>0.81650</td>\n",
       "    </tr>\n",
       "  </tbody>\n",
       "</table>\n",
       "</div>"
      ],
      "text/plain": [
       "              Error     Value\n",
       "I          0.010000   0.30000\n",
       "R_ambient  0.005000  18.14700\n",
       "T_ambient  1.000000  25.00000\n",
       "U          0.100000  36.00000\n",
       "alpha      0.000005   0.00428\n",
       "m          0.000100   0.81650"
      ]
     },
     "metadata": {},
     "output_type": "display_data"
    }
   ],
   "source": [
    "data = {}\n",
    "work = {}\n",
    "\n",
    "def append(kind, *args):\n",
    "    for arg in args:\n",
    "        if kind not in work:\n",
    "            work[kind] = arg\n",
    "        else:\n",
    "            work[kind] = work[kind].combine_first(arg)\n",
    "\n",
    "def append_all(*args):\n",
    "    for kind in kinds:\n",
    "        append(kind, *args)\n",
    "\n",
    "def read_csv(name):\n",
    "    return pd.read_csv(name)\n",
    "\n",
    "kinds = [\"empty\", \"brass\", \"iron\"]\n",
    "colors = {\n",
    "    \"empty\": \"black\",\n",
    "    \"brass\": \"#808000\",\n",
    "    \"iron\": \"#800080\"\n",
    "}\n",
    "\n",
    "constants = read_csv(\"constants.csv\")\n",
    "\n",
    "for kind in kinds:\n",
    "    data[kind] = read_csv(\"measurements/%s.csv\" % kind)\n",
    "    append(kind,\n",
    "           constants,\n",
    "           read_csv(\"constants/%s.csv\" % kind),\n",
    "           pd.DataFrame({ \"R_ambient\": { \"Value\": data[kind].R[0], \"Error\": data[kind].Error_R[0] } }).T)\n",
    "    \n",
    "for kind in kinds:\n",
    "    disp.display(\"Data for kind %s:\" % kind, data[kind])\n",
    "\n",
    "for kind in kinds:\n",
    "    disp.display(\"Work variables for kind %s:\" % kind, work[kind])\n"
   ]
  },
  {
   "cell_type": "markdown",
   "metadata": {},
   "source": [
    "Будем считать, что зависимость $t(R)$ имеет вид $t(R) = e^{R/C} + B$.\n",
    "\n",
    "Выразим теплоёмкость образца в калориметре (вместе с теплоёмкостью калориметра) через значение $\\frac{\\partial t}{\\partial R}_{R = R_{ambient}}$:\n",
    "\n",
    "(FIXME: вывод пропущен)\n",
    "\n",
    "$$C = \\frac{P - \\lambda(T - T_{ambient})}{\\partial T / \\partial t}$$\n",
    "\n",
    "при $T = T_{ambient}$,\n",
    "\n",
    "$$C = \\frac{P}{(\\partial T / \\partial t)_{T = T_{ambient}}}$$\n",
    "\n",
    "Найдём $\\frac{\\partial T}{\\partial t}$:\n",
    "\n",
    "$$R(T) = R_0(1 + \\alpha \\Delta T)$$\n",
    "\n",
    "$$\\frac{\\partial R}{\\partial t} = R_0 \\alpha \\frac{\\partial T}{\\partial t}$$\n",
    "\n",
    "Итак,\n",
    "\n",
    "$$C = \\frac{P}{\\frac{\\partial T}{\\partial t}_{T = T_{ambient}}} = \\frac{P R_0 \\alpha}{\\frac{\\partial R}{\\partial t}_{R = R_{ambient}}} = P R_0 \\alpha \\frac{\\partial t}{\\partial R}_{R = R_{ambient}}$$\n",
    "\n",
    "В свою очередь,\n",
    "\n",
    "$$P R_0 \\alpha \\frac{\\partial t}{\\partial R}_{R = R_{ambient}} = \\frac{P R_{ambient} \\alpha \\frac{\\partial t}{\\partial R}_{R = R_{ambient}}}{1 + \\alpha \\Delta T_{ambient}}$$"
   ]
  },
  {
   "cell_type": "code",
   "execution_count": 3,
   "metadata": {
    "collapsed": true
   },
   "outputs": [],
   "source": [
    "def x(kind):\n",
    "    return data[kind].R\n",
    "def xerr(kind):\n",
    "    return data[kind].Error_R\n",
    "def y(kind):\n",
    "    return data[kind].t\n",
    "def yerr(kind):\n",
    "    return data[kind].Error_t\n",
    "def model(x, b, c):\n",
    "    return m.e**(x/c) + b\n",
    "def C(dy_dx_at_ambient, U, I, R_ambient, alpha, T_ambient):\n",
    "    return (U * I * R_ambient * alpha * dy_dx_at_ambient) / (1 + alpha * T_ambient)\n",
    "    \n",
    "model_args = [\"b\", \"c\"]\n",
    "model_str = \"e^(x/c) + b\""
   ]
  },
  {
   "cell_type": "markdown",
   "metadata": {},
   "source": [
    "Построим график $t(R)$."
   ]
  },
  {
   "cell_type": "code",
   "execution_count": 4,
   "metadata": {
    "collapsed": false
   },
   "outputs": [
    {
     "data": {
      "image/png": "[encoded data removed]",
      "text/plain": [
       "<matplotlib.figure.Figure at 0x7f2e242ddc50>"
      ]
     },
     "metadata": {},
     "output_type": "display_data"
    }
   ],
   "source": [
    "def src_plot_header(title):\n",
    "    plt.title(title)\n",
    "    plt.ylabel(\"t, sec\")\n",
    "    plt.xlabel(\"R, $\\Omega$\")\n",
    "\n",
    "# x, y: data[kind].R, data[kind].t\n",
    "# xerr, yerr: data[kind].Error_R, yerr = data[kind].Error_t\n",
    "def src_plot_kind(kind, x, y, label, xerr = None, yerr = None, **kwargs):\n",
    "    plt.errorbar(x = x, y = y, xerr = xerr, yerr = yerr,\n",
    "                 label = label, color = colors[kind],\n",
    "                 **kwargs)\n",
    "    \n",
    "def src_plot_footer():\n",
    "    # let's count time strictly from 0\n",
    "    plt.axis([None, None, 0, None])\n",
    "    plt.legend(loc = \"best\")\n",
    "        \n",
    "src_plot_header(title = \"Experimental data\")\n",
    "\n",
    "for kind in kinds:\n",
    "    src_plot_kind(kind, x = x(kind), y = y(kind),\n",
    "                  xerr = xerr(kind), yerr = yerr(kind),\n",
    "                  label = kind,\n",
    "                  linestyle = \"-\", marker = \".\",\n",
    "                  linewidth = 2, elinewidth = 1)\n",
    "\n",
    "src_plot_footer()"
   ]
  },
  {
   "cell_type": "markdown",
   "metadata": {},
   "source": [
    "Выполним приближение модельной функции $t(R)$ к экспериментальным данным методом наименьших квадратов и затем Deming regression."
   ]
  },
  {
   "cell_type": "code",
   "execution_count": 5,
   "metadata": {
    "collapsed": false,
    "scrolled": false
   },
   "outputs": [
    {
     "name": "stdout",
     "output_type": "stream",
     "text": [
      "Initial guesses for empty:\n",
      "       Error        Value\n",
      "b  1.399899 -2127.700154\n",
      "c  0.000173     2.369040\n"
     ]
    },
    {
     "data": {
      "text/plain": [
       "'Final guesses for empty:'"
      ]
     },
     "metadata": {},
     "output_type": "display_data"
    },
    {
     "data": {
      "text/html": [
       "<div>\n",
       "<table border=\"1\" class=\"dataframe\">\n",
       "  <thead>\n",
       "    <tr style=\"text-align: right;\">\n",
       "      <th></th>\n",
       "      <th>Error</th>\n",
       "      <th>Value</th>\n",
       "    </tr>\n",
       "  </thead>\n",
       "  <tbody>\n",
       "    <tr>\n",
       "      <th>b</th>\n",
       "      <td>12.229929</td>\n",
       "      <td>-2122.372718</td>\n",
       "    </tr>\n",
       "    <tr>\n",
       "      <th>c</th>\n",
       "      <td>0.001544</td>\n",
       "      <td>2.369706</td>\n",
       "    </tr>\n",
       "  </tbody>\n",
       "</table>\n",
       "</div>"
      ],
      "text/plain": [
       "       Error        Value\n",
       "b  12.229929 -2122.372718\n",
       "c   0.001544     2.369706"
      ]
     },
     "metadata": {},
     "output_type": "display_data"
    },
    {
     "name": "stdout",
     "output_type": "stream",
     "text": [
      "Initial guesses for brass:\n",
      "       Error        Value\n",
      "b  1.348299 -2988.088187\n",
      "c  0.000109     2.269843\n"
     ]
    },
    {
     "data": {
      "text/plain": [
       "'Final guesses for brass:'"
      ]
     },
     "metadata": {},
     "output_type": "display_data"
    },
    {
     "data": {
      "text/html": [
       "<div>\n",
       "<table border=\"1\" class=\"dataframe\">\n",
       "  <thead>\n",
       "    <tr style=\"text-align: right;\">\n",
       "      <th></th>\n",
       "      <th>Error</th>\n",
       "      <th>Value</th>\n",
       "    </tr>\n",
       "  </thead>\n",
       "  <tbody>\n",
       "    <tr>\n",
       "      <th>b</th>\n",
       "      <td>25.106852</td>\n",
       "      <td>-2980.249899</td>\n",
       "    </tr>\n",
       "    <tr>\n",
       "      <th>c</th>\n",
       "      <td>0.002069</td>\n",
       "      <td>2.270482</td>\n",
       "    </tr>\n",
       "  </tbody>\n",
       "</table>\n",
       "</div>"
      ],
      "text/plain": [
       "       Error        Value\n",
       "b  25.106852 -2980.249899\n",
       "c   0.002069     2.270482"
      ]
     },
     "metadata": {},
     "output_type": "display_data"
    },
    {
     "name": "stdout",
     "output_type": "stream",
     "text": [
      "Initial guesses for iron:\n",
      "       Error        Value\n",
      "b  1.348748 -3054.980669\n",
      "c  0.000106     2.263437\n"
     ]
    },
    {
     "data": {
      "text/plain": [
       "'Final guesses for iron:'"
      ]
     },
     "metadata": {},
     "output_type": "display_data"
    },
    {
     "data": {
      "text/html": [
       "<div>\n",
       "<table border=\"1\" class=\"dataframe\">\n",
       "  <thead>\n",
       "    <tr style=\"text-align: right;\">\n",
       "      <th></th>\n",
       "      <th>Error</th>\n",
       "      <th>Value</th>\n",
       "    </tr>\n",
       "  </thead>\n",
       "  <tbody>\n",
       "    <tr>\n",
       "      <th>b</th>\n",
       "      <td>23.259529</td>\n",
       "      <td>-3048.935899</td>\n",
       "    </tr>\n",
       "    <tr>\n",
       "      <th>c</th>\n",
       "      <td>0.001860</td>\n",
       "      <td>2.263916</td>\n",
       "    </tr>\n",
       "  </tbody>\n",
       "</table>\n",
       "</div>"
      ],
      "text/plain": [
       "       Error        Value\n",
       "b  23.259529 -3048.935899\n",
       "c   0.001860     2.263916"
      ]
     },
     "metadata": {},
     "output_type": "display_data"
    },
    {
     "data": {
      "image/png": "[encoded data removed]",
      "text/plain": [
       "<matplotlib.figure.Figure at 0x7f2e2407b860>"
      ]
     },
     "metadata": {},
     "output_type": "display_data"
    }
   ],
   "source": [
    "from scipy import optimize as sp_opt\n",
    "from scipy import odr as sp_odr\n",
    "\n",
    "def fit_as_string(fit):\n",
    "    return \"%s\\n%s\" % (model_str,\n",
    "                       \"\\n\".join([\"%s = %s +/- %s\" % (n, fit.Value[n], fit.Error[n])\n",
    "                                  for n in model_args]))\n",
    "\n",
    "for kind in kinds:\n",
    "    # use OLS (ordinary least squares) to find initial guesses\n",
    "    beta, cov = sp_opt.curve_fit(model,\n",
    "                                 xdata = x(kind),\n",
    "                                 ydata = y(kind),\n",
    "                                 sigma = yerr(kind),\n",
    "                                 absolute_sigma = True, maxfev = 1000000)\n",
    "    \n",
    "    fit_result = pd.DataFrame({ \"Value\": beta,\n",
    "                                \"Error\": [cov[i, i]**0.5 for i, v in enumerate(cov)] },\n",
    "                              index = model_args)\n",
    "    print(\"Initial guesses for %s:\\n\" % kind, fit_result)\n",
    "    \n",
    "    # use ODR (Deming regression) which is a special case of TLS (total least squares)\n",
    "    # to find results accounting for both X and Y uncertainties\n",
    "    odr_model = sp_odr.Model(lambda B, x: model(x, *B))\n",
    "    odr_data = sp_odr.RealData(x = x(kind), y = y(kind), sx = xerr(kind), sy = yerr(kind))\n",
    "    odr = sp_odr.ODR(odr_data, odr_model, beta0 = beta, maxit = 1000000)\n",
    "    odr_output = odr.run()\n",
    "    \n",
    "    fit_result = pd.DataFrame({ \"Value\": odr_output.beta,\n",
    "                                \"Error\": odr_output.sd_beta},\n",
    "                              index = model_args)\n",
    "    disp.display(\"Final guesses for %s:\" % kind, fit_result)\n",
    "    \n",
    "    append(kind, fit_result)\n",
    "\n",
    "\n",
    "src_plot_header(title = \"Experimental data with fitting\")\n",
    "\n",
    "x_all = [x for x in x(kind) for kind in data]\n",
    "x_min = min(x_all)\n",
    "x_max = max(x_all)\n",
    "x_max += (x_max - x_min) * 0.1\n",
    "x_linspace = np.linspace(x_min, x_max, 100)\n",
    "\n",
    "for kind in kinds:\n",
    "    src_plot_kind(kind, x = x(kind), y = y(kind),\n",
    "                  xerr = xerr(kind), yerr = yerr(kind),\n",
    "                  label = kind,\n",
    "                  linestyle = \"-\", marker = \".\",\n",
    "                  linewidth = 2, elinewidth = 1, alpha = 0.25)\n",
    "    src_plot_kind(kind, x = x_linspace, y = model(x_linspace, *work[kind].Value[model_args]),\n",
    "                  linewidth = 1, label = \"fit for %s\" % kind)\n",
    "    \n",
    "src_plot_footer()"
   ]
  },
  {
   "cell_type": "markdown",
   "metadata": {},
   "source": [
    "Используя полученные коэффициенты, продифференцируем модельную функцию $t(R)$ по $R$ в точке $R_{ambient}$ и подставим значения в основную формулу.\n",
    "\n",
    "Таким образом найдём полную теплоёмкость пустого калориметра, после чего модифицируем основную формулу и для каждого из образцов будем находить удельную теплоёмкость образца: $c = \\frac{C - C_{empty}}{m}$."
   ]
  },
  {
   "cell_type": "code",
   "execution_count": 6,
   "metadata": {
    "collapsed": false
   },
   "outputs": [
    {
     "name": "stdout",
     "output_type": "stream",
     "text": [
      "Model: 2.71828182845905**(x/c) + b\n",
      "dy/dx: 1.0*2.71828182845905**(x/c)/c\n",
      "Symbolic formula for C: 1.0*2.71828182845905**(R_ambient/c)*I*R_ambient*U*alpha/(c*(T_ambient*alpha + 1))\n"
     ]
    },
    {
     "data": {
      "text/plain": [
       "'C for empty'"
      ]
     },
     "metadata": {},
     "output_type": "display_data"
    },
    {
     "data": {
      "text/html": [
       "<div>\n",
       "<table border=\"1\" class=\"dataframe\">\n",
       "  <thead>\n",
       "    <tr style=\"text-align: right;\">\n",
       "      <th></th>\n",
       "      <th>Error</th>\n",
       "      <th>Value</th>\n",
       "    </tr>\n",
       "  </thead>\n",
       "  <tbody>\n",
       "    <tr>\n",
       "      <th>C_empty</th>\n",
       "      <td>23.240097</td>\n",
       "      <td>678.702435</td>\n",
       "    </tr>\n",
       "  </tbody>\n",
       "</table>\n",
       "</div>"
      ],
      "text/plain": [
       "             Error       Value\n",
       "C_empty  23.240097  678.702435"
      ]
     },
     "metadata": {},
     "output_type": "display_data"
    },
    {
     "data": {
      "text/plain": [
       "'C for iron'"
      ]
     },
     "metadata": {},
     "output_type": "display_data"
    },
    {
     "data": {
      "text/html": [
       "<div>\n",
       "<table border=\"1\" class=\"dataframe\">\n",
       "  <thead>\n",
       "    <tr style=\"text-align: right;\">\n",
       "      <th></th>\n",
       "      <th>Error</th>\n",
       "      <th>Value</th>\n",
       "    </tr>\n",
       "  </thead>\n",
       "  <tbody>\n",
       "    <tr>\n",
       "      <th>C</th>\n",
       "      <td>51.50836</td>\n",
       "      <td>410.154823</td>\n",
       "    </tr>\n",
       "  </tbody>\n",
       "</table>\n",
       "</div>"
      ],
      "text/plain": [
       "      Error       Value\n",
       "C  51.50836  410.154823"
      ]
     },
     "metadata": {},
     "output_type": "display_data"
    },
    {
     "data": {
      "text/plain": [
       "'C for brass'"
      ]
     },
     "metadata": {},
     "output_type": "display_data"
    },
    {
     "data": {
      "text/html": [
       "<div>\n",
       "<table border=\"1\" class=\"dataframe\">\n",
       "  <thead>\n",
       "    <tr style=\"text-align: right;\">\n",
       "      <th></th>\n",
       "      <th>Error</th>\n",
       "      <th>Value</th>\n",
       "    </tr>\n",
       "  </thead>\n",
       "  <tbody>\n",
       "    <tr>\n",
       "      <th>C</th>\n",
       "      <td>47.323138</td>\n",
       "      <td>355.513503</td>\n",
       "    </tr>\n",
       "  </tbody>\n",
       "</table>\n",
       "</div>"
      ],
      "text/plain": [
       "       Error       Value\n",
       "C  47.323138  355.513503"
      ]
     },
     "metadata": {},
     "output_type": "display_data"
    }
   ],
   "source": [
    "sym_x = smp.symbols(\"x\")\n",
    "sym_args = smp.symbols(model_args)\n",
    "sym_model = model(sym_x, *sym_args)\n",
    "dy_dx = smp.diff(sym_model, sym_x)\n",
    "\n",
    "print(\"Model: %s\" % sym_model)\n",
    "print(\"dy/dx: %s\" % dy_dx)\n",
    "\n",
    "#\n",
    "# Generate final symbolic expression for C.\n",
    "#\n",
    "\n",
    "sym_U, sym_I, sym_R_ambient, sym_alpha, sym_T_ambient, sym_m = smp.symbols(\"U I R_ambient alpha T_ambient m\")\n",
    "sym_C = C(U = sym_U,\n",
    "          I = sym_I,\n",
    "          R_ambient = sym_R_ambient,\n",
    "          alpha = sym_alpha,\n",
    "          T_ambient = sym_T_ambient,\n",
    "          dy_dx_at_ambient = dy_dx.subs(sym_x, sym_R_ambient))\n",
    "print(\"Symbolic formula for C: %s\" % sym_C)\n",
    "\n",
    "#\n",
    "# Now compute its error as square root of sum of squares of products of\n",
    "# partial differentials of C for each variable by absolute error of the corresponding variable.\n",
    "#\n",
    "\n",
    "def error_for(expr, expr_vars):\n",
    "    expr_err_vars = []\n",
    "    expr_err_derivs = []\n",
    "    expr_err_bits = []\n",
    "    for var in expr_vars:\n",
    "        err_var = smp.symbols(\"error_%s\" % var.name)\n",
    "        err_deriv = smp.diff(expr, var)\n",
    "        expr_err_vars += [err_var]\n",
    "        expr_err_derivs += [err_deriv]\n",
    "        expr_err_bits += [(err_deriv*err_var)**2]\n",
    "    return smp.sqrt(sum(expr_err_bits)), expr_err_vars\n",
    "\n",
    "def substitutions(expr_vars, expr_err_vars, data):\n",
    "    var_pairs = { var: data.Value[var.name]\n",
    "                  for var\n",
    "                  in expr_vars }\n",
    "    err_pairs = { err_var: data.Error[var.name]\n",
    "                  for var, err_var\n",
    "                  in zip(expr_vars, expr_err_vars) }\n",
    "\n",
    "    var_pairs.update(err_pairs)\n",
    "    return var_pairs\n",
    "\n",
    "def compute_with_error(name, expr, data):\n",
    "    expr_vars = expr.atoms(smp.Symbol)\n",
    "    expr_err, expr_err_vars = error_for(expr, expr_vars)\n",
    "    expr_subs = substitutions(expr_vars, expr_err_vars, data)\n",
    "    \n",
    "#    bits = pd.DataFrame({ var.name: { \"Error\": data.Error[var.name],\n",
    "#                                      \"Derivative\": deriv.subs(expr_subs),\n",
    "#                                      \"(E*D)**2\": bit.subs(expr_subs) }\n",
    "#                          for var, deriv, bit in zip(expr_vars, expr_err_derivs, expr_err_bits) }).T\n",
    "#    disp.display(\"Error values while computation:\", bits)\n",
    "    \n",
    "    return pd.DataFrame({ name: { \"Value\": expr.subs(expr_subs), \"Error\": expr_err.subs(expr_subs) }}).T\n",
    "\n",
    "disp.display(\"C for empty\" )\n",
    "append_all(compute_with_error(\"C_empty\", sym_C, work[\"empty\"]))\n",
    "disp.display(work[\"empty\"].loc[[\"C_empty\"]])\n",
    "\n",
    "sym_C_empty = smp.symbols(\"C_empty\")\n",
    "sym_C = (sym_C - sym_C_empty) / sym_m\n",
    "\n",
    "for kind in set(kinds) - set([\"empty\"]):\n",
    "    disp.display(\"C for %s\" % kind)\n",
    "    append(kind, compute_with_error(\"C\", sym_C, work[kind]))\n",
    "    disp.display(work[kind].loc[[\"C\"]])\n",
    "    "
   ]
  }
 ],
 "metadata": {
  "kernelspec": {
   "display_name": "Python 3",
   "language": "python",
   "name": "python3"
  },
  "language_info": {
   "codemirror_mode": {
    "name": "ipython",
    "version": 3
   },
   "file_extension": ".py",
   "mimetype": "text/x-python",
   "name": "python",
   "nbconvert_exporter": "python",
   "pygments_lexer": "ipython3",
   "version": "3.5.1"
  }
 },
 "nbformat": 4,
 "nbformat_minor": 0
}
