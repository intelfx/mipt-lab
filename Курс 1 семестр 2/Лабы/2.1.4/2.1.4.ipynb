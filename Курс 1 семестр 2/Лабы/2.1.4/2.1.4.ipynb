{
 "cells": [
  {
   "cell_type": "code",
   "execution_count": 1,
   "metadata": {
    "collapsed": false
   },
   "outputs": [],
   "source": [
    "import pandas as pd\n",
    "import numpy as np\n",
    "import scipy as sp\n",
    "import matplotlib as mp\n",
    "import matplotlib.pyplot as plt\n",
    "import math as m\n",
    "import sympy as smp\n",
    "from IPython.display import display as disp\n",
    "import lablib as ll\n",
    "%matplotlib inline"
   ]
  },
  {
   "cell_type": "markdown",
   "metadata": {},
   "source": [
    "Имеющиеся экспериментальные данные:\n",
    "\n",
    "* $R ↦ t$\n",
    "* комнатная температура (исходная температура образцов), $R_{ambient}$ (измерение R при комнатной температуре)\n",
    "* приборные константы:\n",
    "    * масса образца $m$\n",
    "    * напряжение на нагревателе $U$\n",
    "    * ток через нагреватель $I$\n",
    "    * температурный коэффициент сопротивления материала нагревателя $\\alpha$"
   ]
  },
  {
   "cell_type": "code",
   "execution_count": 2,
   "metadata": {
    "collapsed": false
   },
   "outputs": [
    {
     "data": {
      "text/plain": [
       "'Data for kind empty:'"
      ]
     },
     "metadata": {},
     "output_type": "display_data"
    },
    {
     "data": {
      "text/html": [
       "<div>\n",
       "<table border=\"1\" class=\"dataframe\">\n",
       "  <thead>\n",
       "    <tr style=\"text-align: right;\">\n",
       "      <th></th>\n",
       "      <th>R</th>\n",
       "      <th>Error_R</th>\n",
       "      <th>ErrorRel_R</th>\n",
       "      <th>t</th>\n",
       "      <th>Error_t</th>\n",
       "      <th>ErrorRel_t</th>\n",
       "    </tr>\n",
       "  </thead>\n",
       "  <tbody>\n",
       "    <tr>\n",
       "      <th>0</th>\n",
       "      <td>18.144000</td>\n",
       "      <td>0.005000</td>\n",
       "      <td>0.03%</td>\n",
       "      <td>0</td>\n",
       "      <td>0.500000</td>\n",
       "      <td>inf%</td>\n",
       "    </tr>\n",
       "    <tr>\n",
       "      <th>1</th>\n",
       "      <td>18.194000</td>\n",
       "      <td>0.005000</td>\n",
       "      <td>0.03%</td>\n",
       "      <td>40</td>\n",
       "      <td>0.500000</td>\n",
       "      <td>1.25%</td>\n",
       "    </tr>\n",
       "    <tr>\n",
       "      <th>2</th>\n",
       "      <td>18.244000</td>\n",
       "      <td>0.005000</td>\n",
       "      <td>0.03%</td>\n",
       "      <td>84</td>\n",
       "      <td>0.500000</td>\n",
       "      <td>0.60%</td>\n",
       "    </tr>\n",
       "    <tr>\n",
       "      <th>3</th>\n",
       "      <td>18.294000</td>\n",
       "      <td>0.005000</td>\n",
       "      <td>0.03%</td>\n",
       "      <td>129</td>\n",
       "      <td>0.500000</td>\n",
       "      <td>0.39%</td>\n",
       "    </tr>\n",
       "    <tr>\n",
       "      <th>4</th>\n",
       "      <td>18.344000</td>\n",
       "      <td>0.005000</td>\n",
       "      <td>0.03%</td>\n",
       "      <td>175</td>\n",
       "      <td>0.500000</td>\n",
       "      <td>0.29%</td>\n",
       "    </tr>\n",
       "    <tr>\n",
       "      <th>5</th>\n",
       "      <td>18.394000</td>\n",
       "      <td>0.005000</td>\n",
       "      <td>0.03%</td>\n",
       "      <td>223</td>\n",
       "      <td>0.500000</td>\n",
       "      <td>0.22%</td>\n",
       "    </tr>\n",
       "    <tr>\n",
       "      <th>6</th>\n",
       "      <td>18.444000</td>\n",
       "      <td>0.005000</td>\n",
       "      <td>0.03%</td>\n",
       "      <td>273</td>\n",
       "      <td>0.500000</td>\n",
       "      <td>0.18%</td>\n",
       "    </tr>\n",
       "    <tr>\n",
       "      <th>7</th>\n",
       "      <td>18.494000</td>\n",
       "      <td>0.005000</td>\n",
       "      <td>0.03%</td>\n",
       "      <td>325</td>\n",
       "      <td>0.500000</td>\n",
       "      <td>0.15%</td>\n",
       "    </tr>\n",
       "    <tr>\n",
       "      <th>8</th>\n",
       "      <td>18.544000</td>\n",
       "      <td>0.005000</td>\n",
       "      <td>0.03%</td>\n",
       "      <td>378</td>\n",
       "      <td>0.500000</td>\n",
       "      <td>0.13%</td>\n",
       "    </tr>\n",
       "    <tr>\n",
       "      <th>9</th>\n",
       "      <td>18.594000</td>\n",
       "      <td>0.005000</td>\n",
       "      <td>0.03%</td>\n",
       "      <td>433</td>\n",
       "      <td>0.500000</td>\n",
       "      <td>0.12%</td>\n",
       "    </tr>\n",
       "    <tr>\n",
       "      <th>10</th>\n",
       "      <td>18.644000</td>\n",
       "      <td>0.005000</td>\n",
       "      <td>0.03%</td>\n",
       "      <td>488</td>\n",
       "      <td>0.500000</td>\n",
       "      <td>0.10%</td>\n",
       "    </tr>\n",
       "    <tr>\n",
       "      <th>11</th>\n",
       "      <td>18.694000</td>\n",
       "      <td>0.005000</td>\n",
       "      <td>0.03%</td>\n",
       "      <td>546</td>\n",
       "      <td>0.500000</td>\n",
       "      <td>0.09%</td>\n",
       "    </tr>\n",
       "    <tr>\n",
       "      <th>12</th>\n",
       "      <td>18.744000</td>\n",
       "      <td>0.005000</td>\n",
       "      <td>0.03%</td>\n",
       "      <td>606</td>\n",
       "      <td>0.500000</td>\n",
       "      <td>0.08%</td>\n",
       "    </tr>\n",
       "    <tr>\n",
       "      <th>13</th>\n",
       "      <td>18.794000</td>\n",
       "      <td>0.005000</td>\n",
       "      <td>0.03%</td>\n",
       "      <td>667</td>\n",
       "      <td>0.500000</td>\n",
       "      <td>0.07%</td>\n",
       "    </tr>\n",
       "  </tbody>\n",
       "</table>\n",
       "</div>"
      ],
      "text/plain": [
       "           R  Error_R  ErrorRel_R    t  Error_t  ErrorRel_t\n",
       "0  18.144000 0.005000    0.000276    0 0.500000         inf\n",
       "1  18.194000 0.005000    0.000275   40 0.500000    0.012500\n",
       "2  18.244000 0.005000    0.000274   84 0.500000    0.005952\n",
       "3  18.294000 0.005000    0.000273  129 0.500000    0.003876\n",
       "4  18.344000 0.005000    0.000273  175 0.500000    0.002857\n",
       "5  18.394000 0.005000    0.000272  223 0.500000    0.002242\n",
       "6  18.444000 0.005000    0.000271  273 0.500000    0.001832\n",
       "7  18.494000 0.005000    0.000270  325 0.500000    0.001538\n",
       "8  18.544000 0.005000    0.000270  378 0.500000    0.001323\n",
       "9  18.594000 0.005000    0.000269  433 0.500000    0.001155\n",
       "10 18.644000 0.005000    0.000268  488 0.500000    0.001025\n",
       "11 18.694000 0.005000    0.000267  546 0.500000    0.000916\n",
       "12 18.744000 0.005000    0.000267  606 0.500000    0.000825\n",
       "13 18.794000 0.005000    0.000266  667 0.500000    0.000750"
      ]
     },
     "metadata": {},
     "output_type": "display_data"
    },
    {
     "data": {
      "text/plain": [
       "'Data for kind brass:'"
      ]
     },
     "metadata": {},
     "output_type": "display_data"
    },
    {
     "data": {
      "text/html": [
       "<div>\n",
       "<table border=\"1\" class=\"dataframe\">\n",
       "  <thead>\n",
       "    <tr style=\"text-align: right;\">\n",
       "      <th></th>\n",
       "      <th>R</th>\n",
       "      <th>Error_R</th>\n",
       "      <th>ErrorRel_R</th>\n",
       "      <th>t</th>\n",
       "      <th>Error_t</th>\n",
       "      <th>ErrorRel_t</th>\n",
       "    </tr>\n",
       "  </thead>\n",
       "  <tbody>\n",
       "    <tr>\n",
       "      <th>0</th>\n",
       "      <td>18.146000</td>\n",
       "      <td>0.005000</td>\n",
       "      <td>0.03%</td>\n",
       "      <td>0</td>\n",
       "      <td>0.500000</td>\n",
       "      <td>inf%</td>\n",
       "    </tr>\n",
       "    <tr>\n",
       "      <th>1</th>\n",
       "      <td>18.196000</td>\n",
       "      <td>0.005000</td>\n",
       "      <td>0.03%</td>\n",
       "      <td>44</td>\n",
       "      <td>0.500000</td>\n",
       "      <td>1.14%</td>\n",
       "    </tr>\n",
       "    <tr>\n",
       "      <th>2</th>\n",
       "      <td>18.246000</td>\n",
       "      <td>0.005000</td>\n",
       "      <td>0.03%</td>\n",
       "      <td>105</td>\n",
       "      <td>0.500000</td>\n",
       "      <td>0.48%</td>\n",
       "    </tr>\n",
       "    <tr>\n",
       "      <th>3</th>\n",
       "      <td>18.296000</td>\n",
       "      <td>0.005000</td>\n",
       "      <td>0.03%</td>\n",
       "      <td>172</td>\n",
       "      <td>0.500000</td>\n",
       "      <td>0.29%</td>\n",
       "    </tr>\n",
       "    <tr>\n",
       "      <th>4</th>\n",
       "      <td>18.346000</td>\n",
       "      <td>0.005000</td>\n",
       "      <td>0.03%</td>\n",
       "      <td>243</td>\n",
       "      <td>0.500000</td>\n",
       "      <td>0.21%</td>\n",
       "    </tr>\n",
       "    <tr>\n",
       "      <th>5</th>\n",
       "      <td>18.396000</td>\n",
       "      <td>0.005000</td>\n",
       "      <td>0.03%</td>\n",
       "      <td>315</td>\n",
       "      <td>0.500000</td>\n",
       "      <td>0.16%</td>\n",
       "    </tr>\n",
       "    <tr>\n",
       "      <th>6</th>\n",
       "      <td>18.446000</td>\n",
       "      <td>0.005000</td>\n",
       "      <td>0.03%</td>\n",
       "      <td>389</td>\n",
       "      <td>0.500000</td>\n",
       "      <td>0.13%</td>\n",
       "    </tr>\n",
       "    <tr>\n",
       "      <th>7</th>\n",
       "      <td>18.496000</td>\n",
       "      <td>0.005000</td>\n",
       "      <td>0.03%</td>\n",
       "      <td>465</td>\n",
       "      <td>0.500000</td>\n",
       "      <td>0.11%</td>\n",
       "    </tr>\n",
       "    <tr>\n",
       "      <th>8</th>\n",
       "      <td>18.546000</td>\n",
       "      <td>0.005000</td>\n",
       "      <td>0.03%</td>\n",
       "      <td>544</td>\n",
       "      <td>0.500000</td>\n",
       "      <td>0.09%</td>\n",
       "    </tr>\n",
       "    <tr>\n",
       "      <th>9</th>\n",
       "      <td>18.596000</td>\n",
       "      <td>0.005000</td>\n",
       "      <td>0.03%</td>\n",
       "      <td>624</td>\n",
       "      <td>0.500000</td>\n",
       "      <td>0.08%</td>\n",
       "    </tr>\n",
       "    <tr>\n",
       "      <th>10</th>\n",
       "      <td>18.646000</td>\n",
       "      <td>0.005000</td>\n",
       "      <td>0.03%</td>\n",
       "      <td>707</td>\n",
       "      <td>0.500000</td>\n",
       "      <td>0.07%</td>\n",
       "    </tr>\n",
       "    <tr>\n",
       "      <th>11</th>\n",
       "      <td>18.696000</td>\n",
       "      <td>0.005000</td>\n",
       "      <td>0.03%</td>\n",
       "      <td>791</td>\n",
       "      <td>0.500000</td>\n",
       "      <td>0.06%</td>\n",
       "    </tr>\n",
       "    <tr>\n",
       "      <th>12</th>\n",
       "      <td>18.746000</td>\n",
       "      <td>0.005000</td>\n",
       "      <td>0.03%</td>\n",
       "      <td>878</td>\n",
       "      <td>0.500000</td>\n",
       "      <td>0.06%</td>\n",
       "    </tr>\n",
       "    <tr>\n",
       "      <th>13</th>\n",
       "      <td>18.796000</td>\n",
       "      <td>0.005000</td>\n",
       "      <td>0.03%</td>\n",
       "      <td>967</td>\n",
       "      <td>0.500000</td>\n",
       "      <td>0.05%</td>\n",
       "    </tr>\n",
       "  </tbody>\n",
       "</table>\n",
       "</div>"
      ],
      "text/plain": [
       "           R  Error_R  ErrorRel_R    t  Error_t  ErrorRel_t\n",
       "0  18.146000 0.005000    0.000276    0 0.500000         inf\n",
       "1  18.196000 0.005000    0.000275   44 0.500000    0.011364\n",
       "2  18.246000 0.005000    0.000274  105 0.500000    0.004762\n",
       "3  18.296000 0.005000    0.000273  172 0.500000    0.002907\n",
       "4  18.346000 0.005000    0.000273  243 0.500000    0.002058\n",
       "5  18.396000 0.005000    0.000272  315 0.500000    0.001587\n",
       "6  18.446000 0.005000    0.000271  389 0.500000    0.001285\n",
       "7  18.496000 0.005000    0.000270  465 0.500000    0.001075\n",
       "8  18.546000 0.005000    0.000270  544 0.500000    0.000919\n",
       "9  18.596000 0.005000    0.000269  624 0.500000    0.000801\n",
       "10 18.646000 0.005000    0.000268  707 0.500000    0.000707\n",
       "11 18.696000 0.005000    0.000267  791 0.500000    0.000632\n",
       "12 18.746000 0.005000    0.000267  878 0.500000    0.000569\n",
       "13 18.796000 0.005000    0.000266  967 0.500000    0.000517"
      ]
     },
     "metadata": {},
     "output_type": "display_data"
    },
    {
     "data": {
      "text/plain": [
       "'Data for kind iron:'"
      ]
     },
     "metadata": {},
     "output_type": "display_data"
    },
    {
     "data": {
      "text/html": [
       "<div>\n",
       "<table border=\"1\" class=\"dataframe\">\n",
       "  <thead>\n",
       "    <tr style=\"text-align: right;\">\n",
       "      <th></th>\n",
       "      <th>R</th>\n",
       "      <th>Error_R</th>\n",
       "      <th>ErrorRel_R</th>\n",
       "      <th>t</th>\n",
       "      <th>Error_t</th>\n",
       "      <th>ErrorRel_t</th>\n",
       "    </tr>\n",
       "  </thead>\n",
       "  <tbody>\n",
       "    <tr>\n",
       "      <th>0</th>\n",
       "      <td>18.147000</td>\n",
       "      <td>0.005000</td>\n",
       "      <td>0.03%</td>\n",
       "      <td>0</td>\n",
       "      <td>0.500000</td>\n",
       "      <td>inf%</td>\n",
       "    </tr>\n",
       "    <tr>\n",
       "      <th>1</th>\n",
       "      <td>18.197000</td>\n",
       "      <td>0.005000</td>\n",
       "      <td>0.03%</td>\n",
       "      <td>46</td>\n",
       "      <td>0.500000</td>\n",
       "      <td>1.09%</td>\n",
       "    </tr>\n",
       "    <tr>\n",
       "      <th>2</th>\n",
       "      <td>18.247000</td>\n",
       "      <td>0.005000</td>\n",
       "      <td>0.03%</td>\n",
       "      <td>110</td>\n",
       "      <td>0.500000</td>\n",
       "      <td>0.45%</td>\n",
       "    </tr>\n",
       "    <tr>\n",
       "      <th>3</th>\n",
       "      <td>18.297000</td>\n",
       "      <td>0.005000</td>\n",
       "      <td>0.03%</td>\n",
       "      <td>180</td>\n",
       "      <td>0.500000</td>\n",
       "      <td>0.28%</td>\n",
       "    </tr>\n",
       "    <tr>\n",
       "      <th>4</th>\n",
       "      <td>18.347000</td>\n",
       "      <td>0.005000</td>\n",
       "      <td>0.03%</td>\n",
       "      <td>252</td>\n",
       "      <td>0.500000</td>\n",
       "      <td>0.20%</td>\n",
       "    </tr>\n",
       "    <tr>\n",
       "      <th>5</th>\n",
       "      <td>18.397000</td>\n",
       "      <td>0.005000</td>\n",
       "      <td>0.03%</td>\n",
       "      <td>327</td>\n",
       "      <td>0.500000</td>\n",
       "      <td>0.15%</td>\n",
       "    </tr>\n",
       "    <tr>\n",
       "      <th>6</th>\n",
       "      <td>18.497000</td>\n",
       "      <td>0.005000</td>\n",
       "      <td>0.03%</td>\n",
       "      <td>482</td>\n",
       "      <td>0.500000</td>\n",
       "      <td>0.10%</td>\n",
       "    </tr>\n",
       "    <tr>\n",
       "      <th>7</th>\n",
       "      <td>18.547000</td>\n",
       "      <td>0.005000</td>\n",
       "      <td>0.03%</td>\n",
       "      <td>562</td>\n",
       "      <td>0.500000</td>\n",
       "      <td>0.09%</td>\n",
       "    </tr>\n",
       "    <tr>\n",
       "      <th>8</th>\n",
       "      <td>18.597000</td>\n",
       "      <td>0.005000</td>\n",
       "      <td>0.03%</td>\n",
       "      <td>644</td>\n",
       "      <td>0.500000</td>\n",
       "      <td>0.08%</td>\n",
       "    </tr>\n",
       "    <tr>\n",
       "      <th>9</th>\n",
       "      <td>18.647000</td>\n",
       "      <td>0.005000</td>\n",
       "      <td>0.03%</td>\n",
       "      <td>728</td>\n",
       "      <td>0.500000</td>\n",
       "      <td>0.07%</td>\n",
       "    </tr>\n",
       "    <tr>\n",
       "      <th>10</th>\n",
       "      <td>18.697000</td>\n",
       "      <td>0.005000</td>\n",
       "      <td>0.03%</td>\n",
       "      <td>815</td>\n",
       "      <td>0.500000</td>\n",
       "      <td>0.06%</td>\n",
       "    </tr>\n",
       "    <tr>\n",
       "      <th>11</th>\n",
       "      <td>18.747000</td>\n",
       "      <td>0.005000</td>\n",
       "      <td>0.03%</td>\n",
       "      <td>903</td>\n",
       "      <td>0.500000</td>\n",
       "      <td>0.06%</td>\n",
       "    </tr>\n",
       "    <tr>\n",
       "      <th>12</th>\n",
       "      <td>18.797000</td>\n",
       "      <td>0.005000</td>\n",
       "      <td>0.03%</td>\n",
       "      <td>993</td>\n",
       "      <td>0.500000</td>\n",
       "      <td>0.05%</td>\n",
       "    </tr>\n",
       "  </tbody>\n",
       "</table>\n",
       "</div>"
      ],
      "text/plain": [
       "           R  Error_R  ErrorRel_R    t  Error_t  ErrorRel_t\n",
       "0  18.147000 0.005000    0.000276    0 0.500000         inf\n",
       "1  18.197000 0.005000    0.000275   46 0.500000    0.010870\n",
       "2  18.247000 0.005000    0.000274  110 0.500000    0.004545\n",
       "3  18.297000 0.005000    0.000273  180 0.500000    0.002778\n",
       "4  18.347000 0.005000    0.000273  252 0.500000    0.001984\n",
       "5  18.397000 0.005000    0.000272  327 0.500000    0.001529\n",
       "6  18.497000 0.005000    0.000270  482 0.500000    0.001037\n",
       "7  18.547000 0.005000    0.000270  562 0.500000    0.000890\n",
       "8  18.597000 0.005000    0.000269  644 0.500000    0.000776\n",
       "9  18.647000 0.005000    0.000268  728 0.500000    0.000687\n",
       "10 18.697000 0.005000    0.000267  815 0.500000    0.000613\n",
       "11 18.747000 0.005000    0.000267  903 0.500000    0.000554\n",
       "12 18.797000 0.005000    0.000266  993 0.500000    0.000504"
      ]
     },
     "metadata": {},
     "output_type": "display_data"
    },
    {
     "data": {
      "text/plain": [
       "'Work variables for kind empty:'"
      ]
     },
     "metadata": {},
     "output_type": "display_data"
    },
    {
     "data": {
      "text/html": [
       "<div>\n",
       "<table border=\"1\" class=\"dataframe\">\n",
       "  <thead>\n",
       "    <tr style=\"text-align: right;\">\n",
       "      <th></th>\n",
       "      <th>Value</th>\n",
       "      <th>Error</th>\n",
       "      <th>ErrorRel</th>\n",
       "    </tr>\n",
       "  </thead>\n",
       "  <tbody>\n",
       "    <tr>\n",
       "      <th>alpha</th>\n",
       "      <td>0.004280</td>\n",
       "      <td>0.000005</td>\n",
       "      <td>0.12%</td>\n",
       "    </tr>\n",
       "    <tr>\n",
       "      <th>U</th>\n",
       "      <td>36.000000</td>\n",
       "      <td>0.100000</td>\n",
       "      <td>0.28%</td>\n",
       "    </tr>\n",
       "    <tr>\n",
       "      <th>I</th>\n",
       "      <td>0.300000</td>\n",
       "      <td>0.010000</td>\n",
       "      <td>3.33%</td>\n",
       "    </tr>\n",
       "    <tr>\n",
       "      <th>T_ambient</th>\n",
       "      <td>24.000000</td>\n",
       "      <td>1.000000</td>\n",
       "      <td>4.17%</td>\n",
       "    </tr>\n",
       "    <tr>\n",
       "      <th>m</th>\n",
       "      <td>1.000000</td>\n",
       "      <td>0.000000</td>\n",
       "      <td>0.00%</td>\n",
       "    </tr>\n",
       "    <tr>\n",
       "      <th>R_ambient</th>\n",
       "      <td>18.144000</td>\n",
       "      <td>0.005000</td>\n",
       "      <td>0.03%</td>\n",
       "    </tr>\n",
       "  </tbody>\n",
       "</table>\n",
       "</div>"
      ],
      "text/plain": [
       "              Value    Error  ErrorRel\n",
       "alpha      0.004280 0.000005  0.001168\n",
       "U         36.000000 0.100000  0.002778\n",
       "I          0.300000 0.010000  0.033333\n",
       "T_ambient 24.000000 1.000000  0.041667\n",
       "m          1.000000 0.000000  0.000000\n",
       "R_ambient 18.144000 0.005000  0.000276"
      ]
     },
     "metadata": {},
     "output_type": "display_data"
    },
    {
     "data": {
      "text/plain": [
       "'Work variables for kind brass:'"
      ]
     },
     "metadata": {},
     "output_type": "display_data"
    },
    {
     "data": {
      "text/html": [
       "<div>\n",
       "<table border=\"1\" class=\"dataframe\">\n",
       "  <thead>\n",
       "    <tr style=\"text-align: right;\">\n",
       "      <th></th>\n",
       "      <th>Value</th>\n",
       "      <th>Error</th>\n",
       "      <th>ErrorRel</th>\n",
       "    </tr>\n",
       "  </thead>\n",
       "  <tbody>\n",
       "    <tr>\n",
       "      <th>alpha</th>\n",
       "      <td>0.004280</td>\n",
       "      <td>0.000005</td>\n",
       "      <td>0.12%</td>\n",
       "    </tr>\n",
       "    <tr>\n",
       "      <th>U</th>\n",
       "      <td>36.000000</td>\n",
       "      <td>0.100000</td>\n",
       "      <td>0.28%</td>\n",
       "    </tr>\n",
       "    <tr>\n",
       "      <th>I</th>\n",
       "      <td>0.300000</td>\n",
       "      <td>0.010000</td>\n",
       "      <td>3.33%</td>\n",
       "    </tr>\n",
       "    <tr>\n",
       "      <th>T_ambient</th>\n",
       "      <td>24.000000</td>\n",
       "      <td>1.000000</td>\n",
       "      <td>4.17%</td>\n",
       "    </tr>\n",
       "    <tr>\n",
       "      <th>m</th>\n",
       "      <td>0.878000</td>\n",
       "      <td>0.000100</td>\n",
       "      <td>0.01%</td>\n",
       "    </tr>\n",
       "    <tr>\n",
       "      <th>R_ambient</th>\n",
       "      <td>18.146000</td>\n",
       "      <td>0.005000</td>\n",
       "      <td>0.03%</td>\n",
       "    </tr>\n",
       "  </tbody>\n",
       "</table>\n",
       "</div>"
      ],
      "text/plain": [
       "              Value    Error  ErrorRel\n",
       "alpha      0.004280 0.000005  0.001168\n",
       "U         36.000000 0.100000  0.002778\n",
       "I          0.300000 0.010000  0.033333\n",
       "T_ambient 24.000000 1.000000  0.041667\n",
       "m          0.878000 0.000100  0.000114\n",
       "R_ambient 18.146000 0.005000  0.000276"
      ]
     },
     "metadata": {},
     "output_type": "display_data"
    },
    {
     "data": {
      "text/plain": [
       "'Work variables for kind iron:'"
      ]
     },
     "metadata": {},
     "output_type": "display_data"
    },
    {
     "data": {
      "text/html": [
       "<div>\n",
       "<table border=\"1\" class=\"dataframe\">\n",
       "  <thead>\n",
       "    <tr style=\"text-align: right;\">\n",
       "      <th></th>\n",
       "      <th>Value</th>\n",
       "      <th>Error</th>\n",
       "      <th>ErrorRel</th>\n",
       "    </tr>\n",
       "  </thead>\n",
       "  <tbody>\n",
       "    <tr>\n",
       "      <th>alpha</th>\n",
       "      <td>0.004280</td>\n",
       "      <td>0.000005</td>\n",
       "      <td>0.12%</td>\n",
       "    </tr>\n",
       "    <tr>\n",
       "      <th>U</th>\n",
       "      <td>36.000000</td>\n",
       "      <td>0.100000</td>\n",
       "      <td>0.28%</td>\n",
       "    </tr>\n",
       "    <tr>\n",
       "      <th>I</th>\n",
       "      <td>0.300000</td>\n",
       "      <td>0.010000</td>\n",
       "      <td>3.33%</td>\n",
       "    </tr>\n",
       "    <tr>\n",
       "      <th>T_ambient</th>\n",
       "      <td>25.000000</td>\n",
       "      <td>1.000000</td>\n",
       "      <td>4.00%</td>\n",
       "    </tr>\n",
       "    <tr>\n",
       "      <th>m</th>\n",
       "      <td>0.816500</td>\n",
       "      <td>0.000100</td>\n",
       "      <td>0.01%</td>\n",
       "    </tr>\n",
       "    <tr>\n",
       "      <th>R_ambient</th>\n",
       "      <td>18.147000</td>\n",
       "      <td>0.005000</td>\n",
       "      <td>0.03%</td>\n",
       "    </tr>\n",
       "  </tbody>\n",
       "</table>\n",
       "</div>"
      ],
      "text/plain": [
       "              Value    Error  ErrorRel\n",
       "alpha      0.004280 0.000005  0.001168\n",
       "U         36.000000 0.100000  0.002778\n",
       "I          0.300000 0.010000  0.033333\n",
       "T_ambient 25.000000 1.000000  0.040000\n",
       "m          0.816500 0.000100  0.000122\n",
       "R_ambient 18.147000 0.005000  0.000276"
      ]
     },
     "metadata": {},
     "output_type": "display_data"
    }
   ],
   "source": [
    "data = {}\n",
    "work = {}\n",
    "\n",
    "kinds = [\"empty\", \"brass\", \"iron\"]\n",
    "colors = {\n",
    "    \"empty\": \"black\",\n",
    "    \"brass\": \"#808000\",\n",
    "    \"iron\": \"#800080\"\n",
    "}\n",
    "\n",
    "constants = ll.read_csv(\"constants.csv\")\n",
    "\n",
    "for kind in kinds:\n",
    "    data[kind] = ll.read_csv(\"measurements/%s.csv\" % kind)\n",
    "    work[kind] = ll.varlist()\n",
    "    ll.add(work[kind],\n",
    "           constants,\n",
    "           ll.read_csv(\"constants/%s.csv\" % kind),\n",
    "           ll.var(\"R_ambient\", data[kind].R[0], data[kind].Error_R[0]))\n",
    "\n",
    "for kind in kinds:\n",
    "    disp(\"Data for kind %s:\" % kind, data[kind])\n",
    "\n",
    "for kind in kinds:\n",
    "    disp(\"Work variables for kind %s:\" % kind, work[kind])\n"
   ]
  },
  {
   "cell_type": "markdown",
   "metadata": {},
   "source": [
    "Будем считать, что зависимость $t(R)$ имеет вид $t(R) = e^{R/C} + B$.\n",
    "\n",
    "Выразим теплоёмкость образца в калориметре (вместе с теплоёмкостью калориметра) через значение $\\frac{\\partial t}{\\partial R}_{R = R_{ambient}}$:\n",
    "\n",
    "$$C = \\frac{P - \\lambda(T - T_{ambient})}{\\partial T / \\partial t}$$\n",
    "\n",
    "при $T = T_{ambient}$,\n",
    "\n",
    "$$C = \\frac{P}{(\\partial T / \\partial t)_{T = T_{ambient}}}$$\n",
    "\n",
    "Найдём $\\frac{\\partial T}{\\partial t}$:\n",
    "\n",
    "$$R(T) = R_0(1 + \\alpha \\Delta T)$$\n",
    "\n",
    "$$\\frac{\\partial R}{\\partial t} = R_0 \\alpha \\frac{\\partial T}{\\partial t}$$\n",
    "\n",
    "Итак,\n",
    "\n",
    "$$C = \\frac{P}{\\frac{\\partial T}{\\partial t}_{T = T_{ambient}}} = \\frac{P R_0 \\alpha}{\\frac{\\partial R}{\\partial t}_{R = R_{ambient}}} = P R_0 \\alpha \\frac{\\partial t}{\\partial R}_{R = R_{ambient}}$$\n",
    "\n",
    "В свою очередь,\n",
    "\n",
    "$$P R_0 \\alpha \\frac{\\partial t}{\\partial R}_{R = R_{ambient}} = \\frac{P R_{ambient} \\alpha \\frac{\\partial t}{\\partial R}_{R = R_{ambient}}}{1 + \\alpha \\Delta T_{ambient}}$$"
   ]
  },
  {
   "cell_type": "code",
   "execution_count": 3,
   "metadata": {
    "collapsed": true
   },
   "outputs": [],
   "source": [
    "def R(kind):\n",
    "    return data[kind].R\n",
    "def Rerr(kind):\n",
    "    return data[kind].Error_R\n",
    "def t(kind):\n",
    "    return data[kind].t\n",
    "def terr(kind):\n",
    "    return data[kind].Error_t\n",
    "def t_R_model(x, a, b):\n",
    "    return ll.exp(x/a) + b\n",
    "def C(dt_dR_at_ambient, U, I, R_ambient, alpha, T_ambient):\n",
    "    return (U * I * R_ambient * alpha * dt_dR_at_ambient) / (1 + alpha * T_ambient)\n",
    "    \n",
    "t_R_model_args = [\"a\", \"c\"]"
   ]
  },
  {
   "cell_type": "markdown",
   "metadata": {},
   "source": [
    "Построим график $t(R)$."
   ]
  },
  {
   "cell_type": "code",
   "execution_count": 4,
   "metadata": {
    "collapsed": false
   },
   "outputs": [
    {
     "data": {
      "text/plain": [
       "<matplotlib.legend.Legend at 0x7f413bed8ef0>"
      ]
     },
     "execution_count": 4,
     "metadata": {},
     "output_type": "execute_result"
    },
    {
     "data": {
      "image/png": "[encoded data removed]",
      "text/plain": [
       "<matplotlib.figure.Figure at 0x7f413bed8f98>"
      ]
     },
     "metadata": {},
     "output_type": "display_data"
    }
   ],
   "source": [
    "plt.title(\"Experimental data\")\n",
    "plt.xlabel(\"R, $\\Omega$\")\n",
    "plt.ylabel(\"t, sec\")\n",
    "\n",
    "for kind in kinds:\n",
    "    plt.errorbar(x = R(kind), y = t(kind), xerr = Rerr(kind), yerr = terr(kind),\n",
    "                 label = kind, color = colors[kind])\n",
    "\n",
    "plt.axis([None, None, 0, None])\n",
    "plt.legend(loc = \"best\")"
   ]
  },
  {
   "cell_type": "markdown",
   "metadata": {},
   "source": [
    "Выполним приближение модельной функции $t(R)$ к экспериментальным данным методом наименьших квадратов и затем Deming regression."
   ]
  },
  {
   "cell_type": "code",
   "execution_count": 5,
   "metadata": {
    "collapsed": false,
    "scrolled": false
   },
   "outputs": [
    {
     "name": "stdout",
     "output_type": "stream",
     "text": [
      "Initial guesses for empty:\n",
      "          Value    Error  ErrorRel\n",
      "a     2.369040 0.000173  0.000073\n",
      "c -2127.700155 1.399899 -0.000658\n"
     ]
    },
    {
     "data": {
      "text/plain": [
       "'Final guesses for empty:'"
      ]
     },
     "metadata": {},
     "output_type": "display_data"
    },
    {
     "data": {
      "text/html": [
       "<div>\n",
       "<table border=\"1\" class=\"dataframe\">\n",
       "  <thead>\n",
       "    <tr style=\"text-align: right;\">\n",
       "      <th></th>\n",
       "      <th>Value</th>\n",
       "      <th>Error</th>\n",
       "      <th>ErrorRel</th>\n",
       "    </tr>\n",
       "  </thead>\n",
       "  <tbody>\n",
       "    <tr>\n",
       "      <th>a</th>\n",
       "      <td>2.369706</td>\n",
       "      <td>0.001544</td>\n",
       "      <td>0.07%</td>\n",
       "    </tr>\n",
       "    <tr>\n",
       "      <th>c</th>\n",
       "      <td>-2122.372717</td>\n",
       "      <td>12.229929</td>\n",
       "      <td>-0.58%</td>\n",
       "    </tr>\n",
       "  </tbody>\n",
       "</table>\n",
       "</div>"
      ],
      "text/plain": [
       "         Value     Error  ErrorRel\n",
       "a     2.369706  0.001544  0.000651\n",
       "c -2122.372717 12.229929 -0.005762"
      ]
     },
     "metadata": {},
     "output_type": "display_data"
    },
    {
     "name": "stdout",
     "output_type": "stream",
     "text": [
      "Initial guesses for brass:\n",
      "          Value    Error  ErrorRel\n",
      "a     2.269843 0.000109  0.000048\n",
      "c -2988.088183 1.348299 -0.000451\n"
     ]
    },
    {
     "data": {
      "text/plain": [
       "'Final guesses for brass:'"
      ]
     },
     "metadata": {},
     "output_type": "display_data"
    },
    {
     "data": {
      "text/html": [
       "<div>\n",
       "<table border=\"1\" class=\"dataframe\">\n",
       "  <thead>\n",
       "    <tr style=\"text-align: right;\">\n",
       "      <th></th>\n",
       "      <th>Value</th>\n",
       "      <th>Error</th>\n",
       "      <th>ErrorRel</th>\n",
       "    </tr>\n",
       "  </thead>\n",
       "  <tbody>\n",
       "    <tr>\n",
       "      <th>a</th>\n",
       "      <td>2.270482</td>\n",
       "      <td>0.002069</td>\n",
       "      <td>0.09%</td>\n",
       "    </tr>\n",
       "    <tr>\n",
       "      <th>c</th>\n",
       "      <td>-2980.249898</td>\n",
       "      <td>25.106852</td>\n",
       "      <td>-0.84%</td>\n",
       "    </tr>\n",
       "  </tbody>\n",
       "</table>\n",
       "</div>"
      ],
      "text/plain": [
       "         Value     Error  ErrorRel\n",
       "a     2.270482  0.002069  0.000911\n",
       "c -2980.249898 25.106852 -0.008424"
      ]
     },
     "metadata": {},
     "output_type": "display_data"
    },
    {
     "name": "stdout",
     "output_type": "stream",
     "text": [
      "Initial guesses for iron:\n",
      "          Value    Error  ErrorRel\n",
      "a     2.263437 0.000106  0.000047\n",
      "c -3054.980667 1.348748 -0.000441\n"
     ]
    },
    {
     "data": {
      "text/plain": [
       "'Final guesses for iron:'"
      ]
     },
     "metadata": {},
     "output_type": "display_data"
    },
    {
     "data": {
      "text/html": [
       "<div>\n",
       "<table border=\"1\" class=\"dataframe\">\n",
       "  <thead>\n",
       "    <tr style=\"text-align: right;\">\n",
       "      <th></th>\n",
       "      <th>Value</th>\n",
       "      <th>Error</th>\n",
       "      <th>ErrorRel</th>\n",
       "    </tr>\n",
       "  </thead>\n",
       "  <tbody>\n",
       "    <tr>\n",
       "      <th>a</th>\n",
       "      <td>2.263916</td>\n",
       "      <td>0.001860</td>\n",
       "      <td>0.08%</td>\n",
       "    </tr>\n",
       "    <tr>\n",
       "      <th>c</th>\n",
       "      <td>-3048.935899</td>\n",
       "      <td>23.259529</td>\n",
       "      <td>-0.76%</td>\n",
       "    </tr>\n",
       "  </tbody>\n",
       "</table>\n",
       "</div>"
      ],
      "text/plain": [
       "         Value     Error  ErrorRel\n",
       "a     2.263916  0.001860  0.000822\n",
       "c -3048.935899 23.259529 -0.007629"
      ]
     },
     "metadata": {},
     "output_type": "display_data"
    },
    {
     "data": {
      "text/plain": [
       "<matplotlib.legend.Legend at 0x7f413bef5d30>"
      ]
     },
     "execution_count": 5,
     "metadata": {},
     "output_type": "execute_result"
    },
    {
     "data": {
      "image/png": "[encoded data removed]",
      "text/plain": [
       "<matplotlib.figure.Figure at 0x7f413bef5e48>"
      ]
     },
     "metadata": {},
     "output_type": "display_data"
    }
   ],
   "source": [
    "for kind in kinds:\n",
    "    ll.add(work[kind], ll.fit(name = kind,\n",
    "                              model = t_R_model,\n",
    "                              model_args = t_R_model_args,\n",
    "                              x = R(kind),\n",
    "                              y = t(kind),\n",
    "                              xerr = Rerr(kind),\n",
    "                              yerr = terr(kind)))\n",
    "\n",
    "\n",
    "plt.title(\"Experimental data with fitting\")\n",
    "plt.xlabel(\"R, $\\Omega$\")\n",
    "plt.ylabel(\"t, sec\")\n",
    "\n",
    "R_linspace = ll.linspace([R for R in R(kind) for kind in data])\n",
    "\n",
    "for kind in kinds:\n",
    "    plt.errorbar(x = R(kind), y = t(kind), xerr = Rerr(kind), yerr = terr(kind),\n",
    "                 ls = \"none\", label = kind, color = colors[kind])\n",
    "    plt.errorbar(x = R_linspace, y = t_R_model(R_linspace, *work[kind].Value[t_R_model_args]),\n",
    "                 label = \"fit for %s\" % kind, color = colors[kind])\n",
    "\n",
    "plt.axis([None, None, 0, None])\n",
    "plt.legend(loc = \"best\")\n"
   ]
  },
  {
   "cell_type": "markdown",
   "metadata": {},
   "source": [
    "Используя полученные коэффициенты, продифференцируем модельную функцию $t(R)$ по $R$ в точке $R_{ambient}$ и подставим значения в основную формулу.\n",
    "\n",
    "Таким образом найдём полную теплоёмкость пустого калориметра, после чего модифицируем основную формулу и для каждого из образцов будем находить удельную теплоёмкость образца: $c = \\frac{C - C_{empty}}{m}$."
   ]
  },
  {
   "cell_type": "code",
   "execution_count": 6,
   "metadata": {
    "collapsed": false
   },
   "outputs": [
    {
     "name": "stdout",
     "output_type": "stream",
     "text": [
      "t(R): c + exp(R/a)\n",
      "dt/dR: exp(R/a)/a\n",
      "Symbolic formula for C: I*R_ambient*U*alpha*exp(R_ambient/a)/(a*(T_ambient*alpha + 1))\n",
      "Error influence estimations for C_empty:\n"
     ]
    },
    {
     "data": {
      "text/html": [
       "<div>\n",
       "<table border=\"1\" class=\"dataframe\">\n",
       "  <thead>\n",
       "    <tr style=\"text-align: right;\">\n",
       "      <th></th>\n",
       "      <th>Error</th>\n",
       "      <th>Derivative</th>\n",
       "      <th>(E*D)^2</th>\n",
       "    </tr>\n",
       "  </thead>\n",
       "  <tbody>\n",
       "    <tr>\n",
       "      <th>I</th>\n",
       "      <td>0.010000</td>\n",
       "      <td>2262.34145069088</td>\n",
       "      <td>511.818883951409</td>\n",
       "    </tr>\n",
       "    <tr>\n",
       "      <th>a</th>\n",
       "      <td>0.001544</td>\n",
       "      <td>-2479.33081787981</td>\n",
       "      <td>14.6512239606984</td>\n",
       "    </tr>\n",
       "    <tr>\n",
       "      <th>T_ambient</th>\n",
       "      <td>1.000000</td>\n",
       "      <td>-2.63425567930851</td>\n",
       "      <td>6.93930298396916</td>\n",
       "    </tr>\n",
       "    <tr>\n",
       "      <th>U</th>\n",
       "      <td>0.100000</td>\n",
       "      <td>18.8528454224240</td>\n",
       "      <td>3.55429780521812</td>\n",
       "    </tr>\n",
       "    <tr>\n",
       "      <th>R_ambient</th>\n",
       "      <td>0.005000</td>\n",
       "      <td>323.814262146972</td>\n",
       "      <td>2.62139190924470</td>\n",
       "    </tr>\n",
       "    <tr>\n",
       "      <th>alpha</th>\n",
       "      <td>0.000005</td>\n",
       "      <td>143803.808155107</td>\n",
       "      <td>0.516988380997771</td>\n",
       "    </tr>\n",
       "  </tbody>\n",
       "</table>\n",
       "</div>"
      ],
      "text/plain": [
       "             Error         Derivative            (E*D)^2\n",
       "I         0.010000   2262.34145069088   511.818883951409\n",
       "a         0.001544  -2479.33081787981   14.6512239606984\n",
       "T_ambient 1.000000  -2.63425567930851   6.93930298396916\n",
       "U         0.100000   18.8528454224240   3.55429780521812\n",
       "R_ambient 0.005000   323.814262146972   2.62139190924470\n",
       "alpha     0.000005   143803.808155107  0.516988380997771"
      ]
     },
     "metadata": {},
     "output_type": "display_data"
    },
    {
     "data": {
      "text/plain": [
       "'C for empty:'"
      ]
     },
     "metadata": {},
     "output_type": "display_data"
    },
    {
     "data": {
      "text/html": [
       "<div>\n",
       "<table border=\"1\" class=\"dataframe\">\n",
       "  <thead>\n",
       "    <tr style=\"text-align: right;\">\n",
       "      <th></th>\n",
       "      <th>Value</th>\n",
       "      <th>Error</th>\n",
       "      <th>ErrorRel</th>\n",
       "    </tr>\n",
       "  </thead>\n",
       "  <tbody>\n",
       "    <tr>\n",
       "      <th>C_empty</th>\n",
       "      <td>678.702435</td>\n",
       "      <td>23.240097</td>\n",
       "      <td>0.034242</td>\n",
       "    </tr>\n",
       "  </tbody>\n",
       "</table>\n",
       "</div>"
      ],
      "text/plain": [
       "             Value     Error  ErrorRel\n",
       "C_empty 678.702435 23.240097  0.034242"
      ]
     },
     "metadata": {},
     "output_type": "display_data"
    },
    {
     "name": "stdout",
     "output_type": "stream",
     "text": [
      "Error influence estimations for C:\n"
     ]
    },
    {
     "data": {
      "text/html": [
       "<div>\n",
       "<table border=\"1\" class=\"dataframe\">\n",
       "  <thead>\n",
       "    <tr style=\"text-align: right;\">\n",
       "      <th></th>\n",
       "      <th>Error</th>\n",
       "      <th>Derivative</th>\n",
       "      <th>(E*D)^2</th>\n",
       "    </tr>\n",
       "  </thead>\n",
       "  <tbody>\n",
       "    <tr>\n",
       "      <th>I</th>\n",
       "      <td>0.010000</td>\n",
       "      <td>3302.81096964515</td>\n",
       "      <td>1090.85603012083</td>\n",
       "    </tr>\n",
       "    <tr>\n",
       "      <th>a</th>\n",
       "      <td>0.002069</td>\n",
       "      <td>-3924.18655663624</td>\n",
       "      <td>65.9250176780298</td>\n",
       "    </tr>\n",
       "    <tr>\n",
       "      <th>T_ambient</th>\n",
       "      <td>1.000000</td>\n",
       "      <td>-3.84577162382506</td>\n",
       "      <td>14.7899593826181</td>\n",
       "    </tr>\n",
       "    <tr>\n",
       "      <th>U</th>\n",
       "      <td>0.100000</td>\n",
       "      <td>27.5234247470429</td>\n",
       "      <td>7.57538909806135</td>\n",
       "    </tr>\n",
       "    <tr>\n",
       "      <th>R_ambient</th>\n",
       "      <td>0.005000</td>\n",
       "      <td>491.006070109844</td>\n",
       "      <td>6.02717402211783</td>\n",
       "    </tr>\n",
       "    <tr>\n",
       "      <th>alpha</th>\n",
       "      <td>0.000005</td>\n",
       "      <td>209940.367271435</td>\n",
       "      <td>1.10187394525163</td>\n",
       "    </tr>\n",
       "  </tbody>\n",
       "</table>\n",
       "</div>"
      ],
      "text/plain": [
       "             Error         Derivative           (E*D)^2\n",
       "I         0.010000   3302.81096964515  1090.85603012083\n",
       "a         0.002069  -3924.18655663624  65.9250176780298\n",
       "T_ambient 1.000000  -3.84577162382506  14.7899593826181\n",
       "U         0.100000   27.5234247470429  7.57538909806135\n",
       "R_ambient 0.005000   491.006070109844  6.02717402211783\n",
       "alpha     0.000005   209940.367271435  1.10187394525163"
      ]
     },
     "metadata": {},
     "output_type": "display_data"
    },
    {
     "data": {
      "text/plain": [
       "'C for brass:'"
      ]
     },
     "metadata": {},
     "output_type": "display_data"
    },
    {
     "data": {
      "text/html": [
       "<div>\n",
       "<table border=\"1\" class=\"dataframe\">\n",
       "  <thead>\n",
       "    <tr style=\"text-align: right;\">\n",
       "      <th></th>\n",
       "      <th>Value</th>\n",
       "      <th>Error</th>\n",
       "      <th>ErrorRel</th>\n",
       "    </tr>\n",
       "  </thead>\n",
       "  <tbody>\n",
       "    <tr>\n",
       "      <th>C</th>\n",
       "      <td>990.843291</td>\n",
       "      <td>34.442350</td>\n",
       "      <td>0.034761</td>\n",
       "    </tr>\n",
       "  </tbody>\n",
       "</table>\n",
       "</div>"
      ],
      "text/plain": [
       "       Value     Error  ErrorRel\n",
       "C 990.843291 34.442350  0.034761"
      ]
     },
     "metadata": {},
     "output_type": "display_data"
    },
    {
     "name": "stdout",
     "output_type": "stream",
     "text": [
      "Error influence estimations for C:\n"
     ]
    },
    {
     "data": {
      "text/html": [
       "<div>\n",
       "<table border=\"1\" class=\"dataframe\">\n",
       "  <thead>\n",
       "    <tr style=\"text-align: right;\">\n",
       "      <th></th>\n",
       "      <th>Error</th>\n",
       "      <th>Derivative</th>\n",
       "      <th>(E*D)^2</th>\n",
       "    </tr>\n",
       "  </thead>\n",
       "  <tbody>\n",
       "    <tr>\n",
       "      <th>I</th>\n",
       "      <td>0.010000</td>\n",
       "      <td>3378.64615954857</td>\n",
       "      <td>1141.52498714323</td>\n",
       "    </tr>\n",
       "    <tr>\n",
       "      <th>a</th>\n",
       "      <td>0.001860</td>\n",
       "      <td>-4036.50940913746</td>\n",
       "      <td>56.3582919944350</td>\n",
       "    </tr>\n",
       "    <tr>\n",
       "      <th>T_ambient</th>\n",
       "      <td>1.000000</td>\n",
       "      <td>-3.91886329617016</td>\n",
       "      <td>15.3574895340697</td>\n",
       "    </tr>\n",
       "    <tr>\n",
       "      <th>U</th>\n",
       "      <td>0.100000</td>\n",
       "      <td>28.1553846629048</td>\n",
       "      <td>7.92725685516134</td>\n",
       "    </tr>\n",
       "    <tr>\n",
       "      <th>R_ambient</th>\n",
       "      <td>0.005000</td>\n",
       "      <td>503.571765985304</td>\n",
       "      <td>6.33961308743895</td>\n",
       "    </tr>\n",
       "    <tr>\n",
       "      <th>alpha</th>\n",
       "      <td>0.000005</td>\n",
       "      <td>213930.435855215</td>\n",
       "      <td>1.14415578463005</td>\n",
       "    </tr>\n",
       "  </tbody>\n",
       "</table>\n",
       "</div>"
      ],
      "text/plain": [
       "             Error         Derivative           (E*D)^2\n",
       "I         0.010000   3378.64615954857  1141.52498714323\n",
       "a         0.001860  -4036.50940913746  56.3582919944350\n",
       "T_ambient 1.000000  -3.91886329617016  15.3574895340697\n",
       "U         0.100000   28.1553846629048  7.92725685516134\n",
       "R_ambient 0.005000   503.571765985304  6.33961308743895\n",
       "alpha     0.000005   213930.435855215  1.14415578463005"
      ]
     },
     "metadata": {},
     "output_type": "display_data"
    },
    {
     "data": {
      "text/plain": [
       "'C for iron:'"
      ]
     },
     "metadata": {},
     "output_type": "display_data"
    },
    {
     "data": {
      "text/html": [
       "<div>\n",
       "<table border=\"1\" class=\"dataframe\">\n",
       "  <thead>\n",
       "    <tr style=\"text-align: right;\">\n",
       "      <th></th>\n",
       "      <th>Value</th>\n",
       "      <th>Error</th>\n",
       "      <th>ErrorRel</th>\n",
       "    </tr>\n",
       "  </thead>\n",
       "  <tbody>\n",
       "    <tr>\n",
       "      <th>C</th>\n",
       "      <td>1013.593848</td>\n",
       "      <td>35.052130</td>\n",
       "      <td>0.034582</td>\n",
       "    </tr>\n",
       "  </tbody>\n",
       "</table>\n",
       "</div>"
      ],
      "text/plain": [
       "        Value     Error  ErrorRel\n",
       "C 1013.593848 35.052130  0.034582"
      ]
     },
     "metadata": {},
     "output_type": "display_data"
    },
    {
     "name": "stdout",
     "output_type": "stream",
     "text": [
      "Error influence estimations for C_sp:\n"
     ]
    },
    {
     "data": {
      "text/html": [
       "<div>\n",
       "<table border=\"1\" class=\"dataframe\">\n",
       "  <thead>\n",
       "    <tr style=\"text-align: right;\">\n",
       "      <th></th>\n",
       "      <th>Error</th>\n",
       "      <th>Derivative</th>\n",
       "      <th>(E*D)^2</th>\n",
       "    </tr>\n",
       "  </thead>\n",
       "  <tbody>\n",
       "    <tr>\n",
       "      <th>I</th>\n",
       "      <td>0.010000</td>\n",
       "      <td>3761.74370119038</td>\n",
       "      <td>1415.07156734455</td>\n",
       "    </tr>\n",
       "    <tr>\n",
       "      <th>C_empty</th>\n",
       "      <td>23.240097</td>\n",
       "      <td>-1.13895216400911</td>\n",
       "      <td>700.626928294707</td>\n",
       "    </tr>\n",
       "    <tr>\n",
       "      <th>a</th>\n",
       "      <td>0.002069</td>\n",
       "      <td>-4469.46077065631</td>\n",
       "      <td>85.5187261352289</td>\n",
       "    </tr>\n",
       "    <tr>\n",
       "      <th>T_ambient</th>\n",
       "      <td>1.000000</td>\n",
       "      <td>-4.38014991324039</td>\n",
       "      <td>19.1857132624598</td>\n",
       "    </tr>\n",
       "    <tr>\n",
       "      <th>U</th>\n",
       "      <td>0.100000</td>\n",
       "      <td>31.3478641765865</td>\n",
       "      <td>9.82688588433714</td>\n",
       "    </tr>\n",
       "    <tr>\n",
       "      <th>R_ambient</th>\n",
       "      <td>0.005000</td>\n",
       "      <td>559.232426093216</td>\n",
       "      <td>7.81852265985262</td>\n",
       "    </tr>\n",
       "    <tr>\n",
       "      <th>alpha</th>\n",
       "      <td>0.000005</td>\n",
       "      <td>239112.035616669</td>\n",
       "      <td>1.42936413941868</td>\n",
       "    </tr>\n",
       "    <tr>\n",
       "      <th>m</th>\n",
       "      <td>0.000100</td>\n",
       "      <td>-404.912873644132</td>\n",
       "      <td>0.00163954435242748</td>\n",
       "    </tr>\n",
       "  </tbody>\n",
       "</table>\n",
       "</div>"
      ],
      "text/plain": [
       "              Error         Derivative              (E*D)^2\n",
       "I          0.010000   3761.74370119038     1415.07156734455\n",
       "C_empty   23.240097  -1.13895216400911     700.626928294707\n",
       "a          0.002069  -4469.46077065631     85.5187261352289\n",
       "T_ambient  1.000000  -4.38014991324039     19.1857132624598\n",
       "U          0.100000   31.3478641765865     9.82688588433714\n",
       "R_ambient  0.005000   559.232426093216     7.81852265985262\n",
       "alpha      0.000005   239112.035616669     1.42936413941868\n",
       "m          0.000100  -404.912873644132  0.00163954435242748"
      ]
     },
     "metadata": {},
     "output_type": "display_data"
    },
    {
     "data": {
      "text/plain": [
       "'Specific C for brass:'"
      ]
     },
     "metadata": {},
     "output_type": "display_data"
    },
    {
     "data": {
      "text/html": [
       "<div>\n",
       "<table border=\"1\" class=\"dataframe\">\n",
       "  <thead>\n",
       "    <tr style=\"text-align: right;\">\n",
       "      <th></th>\n",
       "      <th>Value</th>\n",
       "      <th>Error</th>\n",
       "      <th>ErrorRel</th>\n",
       "    </tr>\n",
       "  </thead>\n",
       "  <tbody>\n",
       "    <tr>\n",
       "      <th>C_sp</th>\n",
       "      <td>355.513503</td>\n",
       "      <td>47.323138</td>\n",
       "      <td>0.133112</td>\n",
       "    </tr>\n",
       "  </tbody>\n",
       "</table>\n",
       "</div>"
      ],
      "text/plain": [
       "          Value     Error  ErrorRel\n",
       "C_sp 355.513503 47.323138  0.133112"
      ]
     },
     "metadata": {},
     "output_type": "display_data"
    },
    {
     "name": "stdout",
     "output_type": "stream",
     "text": [
      "Error influence estimations for C_sp:\n"
     ]
    },
    {
     "data": {
      "text/html": [
       "<div>\n",
       "<table border=\"1\" class=\"dataframe\">\n",
       "  <thead>\n",
       "    <tr style=\"text-align: right;\">\n",
       "      <th></th>\n",
       "      <th>Error</th>\n",
       "      <th>Derivative</th>\n",
       "      <th>(E*D)^2</th>\n",
       "    </tr>\n",
       "  </thead>\n",
       "  <tbody>\n",
       "    <tr>\n",
       "      <th>I</th>\n",
       "      <td>0.010000</td>\n",
       "      <td>4137.96222847345</td>\n",
       "      <td>1712.27314042730</td>\n",
       "    </tr>\n",
       "    <tr>\n",
       "      <th>C_empty</th>\n",
       "      <td>23.240097</td>\n",
       "      <td>-1.22473974280465</td>\n",
       "      <td>810.146348511637</td>\n",
       "    </tr>\n",
       "    <tr>\n",
       "      <th>a</th>\n",
       "      <td>0.001860</td>\n",
       "      <td>-4943.67349557557</td>\n",
       "      <td>84.5367299965387</td>\n",
       "    </tr>\n",
       "    <tr>\n",
       "      <th>T_ambient</th>\n",
       "      <td>1.000000</td>\n",
       "      <td>-4.79958762543804</td>\n",
       "      <td>23.0360413742580</td>\n",
       "    </tr>\n",
       "    <tr>\n",
       "      <th>U</th>\n",
       "      <td>0.100000</td>\n",
       "      <td>34.4830185706121</td>\n",
       "      <td>11.8907856974118</td>\n",
       "    </tr>\n",
       "    <tr>\n",
       "      <th>R_ambient</th>\n",
       "      <td>0.005000</td>\n",
       "      <td>616.744355156527</td>\n",
       "      <td>9.50933999043601</td>\n",
       "    </tr>\n",
       "    <tr>\n",
       "      <th>alpha</th>\n",
       "      <td>0.000005</td>\n",
       "      <td>262009.106987403</td>\n",
       "      <td>1.71621930360841</td>\n",
       "    </tr>\n",
       "    <tr>\n",
       "      <th>m</th>\n",
       "      <td>0.000100</td>\n",
       "      <td>-502.332911947827</td>\n",
       "      <td>0.00252338354425983</td>\n",
       "    </tr>\n",
       "  </tbody>\n",
       "</table>\n",
       "</div>"
      ],
      "text/plain": [
       "              Error         Derivative              (E*D)^2\n",
       "I          0.010000   4137.96222847345     1712.27314042730\n",
       "C_empty   23.240097  -1.22473974280465     810.146348511637\n",
       "a          0.001860  -4943.67349557557     84.5367299965387\n",
       "T_ambient  1.000000  -4.79958762543804     23.0360413742580\n",
       "U          0.100000   34.4830185706121     11.8907856974118\n",
       "R_ambient  0.005000   616.744355156527     9.50933999043601\n",
       "alpha      0.000005   262009.106987403     1.71621930360841\n",
       "m          0.000100  -502.332911947827  0.00252338354425983"
      ]
     },
     "metadata": {},
     "output_type": "display_data"
    },
    {
     "data": {
      "text/plain": [
       "'Specific C for iron:'"
      ]
     },
     "metadata": {},
     "output_type": "display_data"
    },
    {
     "data": {
      "text/html": [
       "<div>\n",
       "<table border=\"1\" class=\"dataframe\">\n",
       "  <thead>\n",
       "    <tr style=\"text-align: right;\">\n",
       "      <th></th>\n",
       "      <th>Value</th>\n",
       "      <th>Error</th>\n",
       "      <th>ErrorRel</th>\n",
       "    </tr>\n",
       "  </thead>\n",
       "  <tbody>\n",
       "    <tr>\n",
       "      <th>C_sp</th>\n",
       "      <td>410.154823</td>\n",
       "      <td>51.508360</td>\n",
       "      <td>0.125583</td>\n",
       "    </tr>\n",
       "  </tbody>\n",
       "</table>\n",
       "</div>"
      ],
      "text/plain": [
       "          Value     Error  ErrorRel\n",
       "C_sp 410.154823 51.508360  0.125583"
      ]
     },
     "metadata": {},
     "output_type": "display_data"
    }
   ],
   "source": [
    "sym_R = smp.symbols(\"R\")\n",
    "sym_t_R_args = smp.symbols(t_R_model_args)\n",
    "sym_t_R_model = t_R_model(sym_R, *sym_t_R_args)\n",
    "dt_dR = smp.diff(sym_t_R_model, sym_R)\n",
    "\n",
    "print(\"t(R): %s\" % sym_t_R_model)\n",
    "print(\"dt/dR: %s\" % dt_dR)\n",
    "\n",
    "#\n",
    "# Generate final symbolic expression for C.\n",
    "#\n",
    "\n",
    "sym_U, sym_I, sym_R_ambient, sym_alpha, sym_T_ambient, sym_m = smp.symbols(\"U I R_ambient alpha T_ambient m\")\n",
    "sym_C = C(U = sym_U,\n",
    "          I = sym_I,\n",
    "          R_ambient = sym_R_ambient,\n",
    "          alpha = sym_alpha,\n",
    "          T_ambient = sym_T_ambient,\n",
    "          dt_dR_at_ambient = dt_dR.subs(sym_R, sym_R_ambient))\n",
    "print(\"Symbolic formula for C: %s\" % sym_C)\n",
    "\n",
    "#\n",
    "# Now compute its error as square root of sum of squares of products of\n",
    "# partial differentials of C for each variable by absolute error of the corresponding variable.\n",
    "#\n",
    "\n",
    "ll.add_multi(work.values(), ll.sym_compute(\"C_empty\", sym_C, work[\"empty\"]))\n",
    "disp(\"C for empty:\", work[\"empty\"].loc[[\"C_empty\"]])\n",
    "\n",
    "for kind in set(kinds) - set([\"empty\"]):\n",
    "    ll.add(work[kind], ll.sym_compute(\"C\", sym_C, work[kind]))\n",
    "    disp(\"C for %s:\" % kind, work[kind].loc[[\"C\"]])\n",
    "\n",
    "sym_C_empty = smp.symbols(\"C_empty\")\n",
    "sym_C = (sym_C - sym_C_empty) / sym_m\n",
    "\n",
    "for kind in set(kinds) - set([\"empty\"]):\n",
    "    ll.add(work[kind], ll.sym_compute(\"C_sp\", sym_C, work[kind]))\n",
    "    disp(\"Specific C for %s:\" % kind, work[kind].loc[[\"C_sp\"]])\n",
    "    "
   ]
  },
  {
   "cell_type": "markdown",
   "metadata": {
    "collapsed": true
   },
   "source": [
    "В результате получаем теплоёмкости:\n",
    "- пустого калориметра $670 \\pm 20 \\frac{Дж}{К}$;\n",
    "- образца из латуни (вместе с калориметром) $990 \\pm 30 \\frac{Дж}{К}$;\n",
    "- образца из железа (вместе с калориметром) $1010 \\pm 30 \\frac{Дж}{К}$.\n",
    "\n",
    "Вычитая теплоёмкость пустого калориметра и приводя к удельной теплоёмкости:\n",
    "- образца из латуни $350 \\pm 40 \\frac{Дж}{кг * К}$ ($11\\%$);\n",
    "- образца из железа $410 \\pm 50 \\frac{Дж}{кг * К}$ ($12\\%$)."
   ]
  },
  {
   "cell_type": "code",
   "execution_count": 7,
   "metadata": {
    "collapsed": false
   },
   "outputs": [
    {
     "data": {
      "text/plain": [
       "'Final guesses for empty:'"
      ]
     },
     "metadata": {},
     "output_type": "display_data"
    },
    {
     "data": {
      "text/html": [
       "<div>\n",
       "<table border=\"1\" class=\"dataframe\">\n",
       "  <thead>\n",
       "    <tr style=\"text-align: right;\">\n",
       "      <th></th>\n",
       "      <th>Value</th>\n",
       "      <th>Error</th>\n",
       "      <th>ErrorRel</th>\n",
       "    </tr>\n",
       "  </thead>\n",
       "  <tbody>\n",
       "    <tr>\n",
       "      <th>a</th>\n",
       "      <td>-1.904621</td>\n",
       "      <td>0.046488</td>\n",
       "      <td>-2.44%</td>\n",
       "    </tr>\n",
       "    <tr>\n",
       "      <th>b</th>\n",
       "      <td>1609.771960</td>\n",
       "      <td>48.423881</td>\n",
       "      <td>3.01%</td>\n",
       "    </tr>\n",
       "    <tr>\n",
       "      <th>c</th>\n",
       "      <td>20.051089</td>\n",
       "      <td>0.047042</td>\n",
       "      <td>0.23%</td>\n",
       "    </tr>\n",
       "  </tbody>\n",
       "</table>\n",
       "</div>"
      ],
      "text/plain": [
       "        Value     Error  ErrorRel\n",
       "a   -1.904621  0.046488 -0.024408\n",
       "b 1609.771960 48.423881  0.030081\n",
       "c   20.051089  0.047042  0.002346"
      ]
     },
     "metadata": {},
     "output_type": "display_data"
    },
    {
     "data": {
      "text/plain": [
       "<matplotlib.legend.Legend at 0x7f4138353fd0>"
      ]
     },
     "execution_count": 7,
     "metadata": {},
     "output_type": "execute_result"
    },
    {
     "data": {
      "image/png": "[encoded data removed]",
      "text/plain": [
       "<matplotlib.figure.Figure at 0x7f4139d73400>"
      ]
     },
     "metadata": {},
     "output_type": "display_data"
    }
   ],
   "source": [
    "def R_t_model(x, a, b, c):\n",
    "    return a * ll.exp(-x/b) + c\n",
    "    \n",
    "R_t_model_args = [\"a\", \"b\", \"c\"]\n",
    "\n",
    "kind = \"empty\"\n",
    "\n",
    "R_t_fit =  ll.fit(name = kind,\n",
    "                  model = R_t_model,\n",
    "                  model_args = R_t_model_args,\n",
    "                  x = t(kind),\n",
    "                  y = R(kind), xerr = terr(kind), yerr = Rerr(kind), initial = [-2, 1600, 20])\n",
    "\n",
    "plt.title(\"Experimental data with fitting with saturation\")\n",
    "plt.ylabel(\"R, $\\Omega$\")\n",
    "plt.xlabel(\"t, sec\")\n",
    "\n",
    "t_linspace = ll.linspace([t for t in t(kind) for kind in data] + [10000])\n",
    "\n",
    "\n",
    "plt.errorbar(x = t(kind), y = R(kind), xerr = terr(kind), yerr = Rerr(kind),\n",
    "             label = kind, color = colors[kind])\n",
    "plt.errorbar(x = t_linspace, y = R_t_model(t_linspace, *R_t_fit.Value[R_t_model_args]),\n",
    "             label = \"fit for %s\" % kind, color = colors[kind])\n",
    "\n",
    "plt.axis([0, None, None, None])\n",
    "plt.legend(loc = \"best\")"
   ]
  },
  {
   "cell_type": "code",
   "execution_count": 8,
   "metadata": {
    "collapsed": false
   },
   "outputs": [
    {
     "data": {
      "text/plain": [
       "'R_sat'"
      ]
     },
     "metadata": {},
     "output_type": "display_data"
    },
    {
     "data": {
      "text/plain": [
       "20.051088708322563"
      ]
     },
     "metadata": {},
     "output_type": "display_data"
    },
    {
     "data": {
      "text/plain": [
       "'T_sat'"
      ]
     },
     "metadata": {},
     "output_type": "display_data"
    },
    {
     "data": {
      "text/plain": [
       "51.080665945044203"
      ]
     },
     "metadata": {},
     "output_type": "display_data"
    },
    {
     "data": {
      "text/plain": [
       "'coef'"
      ]
     },
     "metadata": {},
     "output_type": "display_data"
    },
    {
     "data": {
      "text/plain": [
       "0.39880850869461032"
      ]
     },
     "metadata": {},
     "output_type": "display_data"
    }
   ],
   "source": [
    "d = work[\"empty\"]\n",
    "R_0 = d.Value[\"R_ambient\"] / (1 + d.Value[\"alpha\"] * d.Value[\"T_ambient\"])\n",
    "\n",
    "R_sat = R_t_fit.Value[\"c\"]\n",
    "disp(\"R_sat\", R_sat)\n",
    "\n",
    "T_sat = (R_sat/ R_0 - 1) / d.Value[\"alpha\"]\n",
    "disp(\"T_sat\", T_sat)\n",
    "\n",
    "coef = d.Value[\"U\"]*d.Value[\"I\"] / (T_sat - d.Value[\"T_ambient\"])\n",
    "disp(\"coef\", coef)"
   ]
  }
 ],
 "metadata": {
  "kernelspec": {
   "display_name": "Python 3",
   "language": "python",
   "name": "python3"
  },
  "language_info": {
   "codemirror_mode": {
    "name": "ipython",
    "version": 3
   },
   "file_extension": ".py",
   "mimetype": "text/x-python",
   "name": "python",
   "nbconvert_exporter": "python",
   "pygments_lexer": "ipython3",
   "version": "3.5.2"
  }
 },
 "nbformat": 4,
 "nbformat_minor": 0
}
