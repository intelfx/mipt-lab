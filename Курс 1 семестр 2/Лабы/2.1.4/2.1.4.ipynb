{
 "cells": [
  {
   "cell_type": "code",
   "execution_count": 49,
   "metadata": {
    "collapsed": false
   },
   "outputs": [],
   "source": [
    "import pandas as pd\n",
    "import numpy as np\n",
    "import scipy as sp\n",
    "import matplotlib as mp\n",
    "import matplotlib.pyplot as plt\n",
    "import math as m\n",
    "import sympy as smp\n",
    "from IPython.display import display as disp\n",
    "import lablib as ll\n",
    "%matplotlib inline"
   ]
  },
  {
   "cell_type": "markdown",
   "metadata": {},
   "source": [
    "Имеющиеся экспериментальные данные:\n",
    "\n",
    "* $R ↦ t$\n",
    "* комнатная температура (исходная температура образцов), $R_{ambient}$ (измерение R при комнатной температуре)\n",
    "* приборные константы:\n",
    "    * масса образца $m$\n",
    "    * напряжение на нагревателе $U$\n",
    "    * ток через нагреватель $I$\n",
    "    * температурный коэффициент сопротивления материала нагревателя $\\alpha$"
   ]
  },
  {
   "cell_type": "code",
   "execution_count": 44,
   "metadata": {
    "collapsed": false
   },
   "outputs": [
    {
     "data": {
      "text/plain": [
       "'Data for kind empty:'"
      ]
     },
     "metadata": {},
     "output_type": "display_data"
    },
    {
     "data": {
      "text/html": [
       "<div>\n",
       "<table border=\"1\" class=\"dataframe\">\n",
       "  <thead>\n",
       "    <tr style=\"text-align: right;\">\n",
       "      <th></th>\n",
       "      <th>R</th>\n",
       "      <th>Error_R</th>\n",
       "      <th>t</th>\n",
       "      <th>Error_t</th>\n",
       "    </tr>\n",
       "  </thead>\n",
       "  <tbody>\n",
       "    <tr>\n",
       "      <th>0</th>\n",
       "      <td>18.144</td>\n",
       "      <td>0.005</td>\n",
       "      <td>0</td>\n",
       "      <td>0.5</td>\n",
       "    </tr>\n",
       "    <tr>\n",
       "      <th>1</th>\n",
       "      <td>18.194</td>\n",
       "      <td>0.005</td>\n",
       "      <td>40</td>\n",
       "      <td>0.5</td>\n",
       "    </tr>\n",
       "    <tr>\n",
       "      <th>2</th>\n",
       "      <td>18.244</td>\n",
       "      <td>0.005</td>\n",
       "      <td>84</td>\n",
       "      <td>0.5</td>\n",
       "    </tr>\n",
       "    <tr>\n",
       "      <th>3</th>\n",
       "      <td>18.294</td>\n",
       "      <td>0.005</td>\n",
       "      <td>129</td>\n",
       "      <td>0.5</td>\n",
       "    </tr>\n",
       "    <tr>\n",
       "      <th>4</th>\n",
       "      <td>18.344</td>\n",
       "      <td>0.005</td>\n",
       "      <td>175</td>\n",
       "      <td>0.5</td>\n",
       "    </tr>\n",
       "    <tr>\n",
       "      <th>5</th>\n",
       "      <td>18.394</td>\n",
       "      <td>0.005</td>\n",
       "      <td>223</td>\n",
       "      <td>0.5</td>\n",
       "    </tr>\n",
       "    <tr>\n",
       "      <th>6</th>\n",
       "      <td>18.444</td>\n",
       "      <td>0.005</td>\n",
       "      <td>273</td>\n",
       "      <td>0.5</td>\n",
       "    </tr>\n",
       "    <tr>\n",
       "      <th>7</th>\n",
       "      <td>18.494</td>\n",
       "      <td>0.005</td>\n",
       "      <td>325</td>\n",
       "      <td>0.5</td>\n",
       "    </tr>\n",
       "    <tr>\n",
       "      <th>8</th>\n",
       "      <td>18.544</td>\n",
       "      <td>0.005</td>\n",
       "      <td>378</td>\n",
       "      <td>0.5</td>\n",
       "    </tr>\n",
       "    <tr>\n",
       "      <th>9</th>\n",
       "      <td>18.594</td>\n",
       "      <td>0.005</td>\n",
       "      <td>433</td>\n",
       "      <td>0.5</td>\n",
       "    </tr>\n",
       "    <tr>\n",
       "      <th>10</th>\n",
       "      <td>18.644</td>\n",
       "      <td>0.005</td>\n",
       "      <td>488</td>\n",
       "      <td>0.5</td>\n",
       "    </tr>\n",
       "    <tr>\n",
       "      <th>11</th>\n",
       "      <td>18.694</td>\n",
       "      <td>0.005</td>\n",
       "      <td>546</td>\n",
       "      <td>0.5</td>\n",
       "    </tr>\n",
       "    <tr>\n",
       "      <th>12</th>\n",
       "      <td>18.744</td>\n",
       "      <td>0.005</td>\n",
       "      <td>606</td>\n",
       "      <td>0.5</td>\n",
       "    </tr>\n",
       "    <tr>\n",
       "      <th>13</th>\n",
       "      <td>18.794</td>\n",
       "      <td>0.005</td>\n",
       "      <td>667</td>\n",
       "      <td>0.5</td>\n",
       "    </tr>\n",
       "  </tbody>\n",
       "</table>\n",
       "</div>"
      ],
      "text/plain": [
       "         R  Error_R    t  Error_t\n",
       "0   18.144    0.005    0      0.5\n",
       "1   18.194    0.005   40      0.5\n",
       "2   18.244    0.005   84      0.5\n",
       "3   18.294    0.005  129      0.5\n",
       "4   18.344    0.005  175      0.5\n",
       "5   18.394    0.005  223      0.5\n",
       "6   18.444    0.005  273      0.5\n",
       "7   18.494    0.005  325      0.5\n",
       "8   18.544    0.005  378      0.5\n",
       "9   18.594    0.005  433      0.5\n",
       "10  18.644    0.005  488      0.5\n",
       "11  18.694    0.005  546      0.5\n",
       "12  18.744    0.005  606      0.5\n",
       "13  18.794    0.005  667      0.5"
      ]
     },
     "metadata": {},
     "output_type": "display_data"
    },
    {
     "data": {
      "text/plain": [
       "'Data for kind brass:'"
      ]
     },
     "metadata": {},
     "output_type": "display_data"
    },
    {
     "data": {
      "text/html": [
       "<div>\n",
       "<table border=\"1\" class=\"dataframe\">\n",
       "  <thead>\n",
       "    <tr style=\"text-align: right;\">\n",
       "      <th></th>\n",
       "      <th>R</th>\n",
       "      <th>Error_R</th>\n",
       "      <th>t</th>\n",
       "      <th>Error_t</th>\n",
       "    </tr>\n",
       "  </thead>\n",
       "  <tbody>\n",
       "    <tr>\n",
       "      <th>0</th>\n",
       "      <td>18.146</td>\n",
       "      <td>0.005</td>\n",
       "      <td>0</td>\n",
       "      <td>0.5</td>\n",
       "    </tr>\n",
       "    <tr>\n",
       "      <th>1</th>\n",
       "      <td>18.196</td>\n",
       "      <td>0.005</td>\n",
       "      <td>44</td>\n",
       "      <td>0.5</td>\n",
       "    </tr>\n",
       "    <tr>\n",
       "      <th>2</th>\n",
       "      <td>18.246</td>\n",
       "      <td>0.005</td>\n",
       "      <td>105</td>\n",
       "      <td>0.5</td>\n",
       "    </tr>\n",
       "    <tr>\n",
       "      <th>3</th>\n",
       "      <td>18.296</td>\n",
       "      <td>0.005</td>\n",
       "      <td>172</td>\n",
       "      <td>0.5</td>\n",
       "    </tr>\n",
       "    <tr>\n",
       "      <th>4</th>\n",
       "      <td>18.346</td>\n",
       "      <td>0.005</td>\n",
       "      <td>243</td>\n",
       "      <td>0.5</td>\n",
       "    </tr>\n",
       "    <tr>\n",
       "      <th>5</th>\n",
       "      <td>18.396</td>\n",
       "      <td>0.005</td>\n",
       "      <td>315</td>\n",
       "      <td>0.5</td>\n",
       "    </tr>\n",
       "    <tr>\n",
       "      <th>6</th>\n",
       "      <td>18.446</td>\n",
       "      <td>0.005</td>\n",
       "      <td>389</td>\n",
       "      <td>0.5</td>\n",
       "    </tr>\n",
       "    <tr>\n",
       "      <th>7</th>\n",
       "      <td>18.496</td>\n",
       "      <td>0.005</td>\n",
       "      <td>465</td>\n",
       "      <td>0.5</td>\n",
       "    </tr>\n",
       "    <tr>\n",
       "      <th>8</th>\n",
       "      <td>18.546</td>\n",
       "      <td>0.005</td>\n",
       "      <td>544</td>\n",
       "      <td>0.5</td>\n",
       "    </tr>\n",
       "    <tr>\n",
       "      <th>9</th>\n",
       "      <td>18.596</td>\n",
       "      <td>0.005</td>\n",
       "      <td>624</td>\n",
       "      <td>0.5</td>\n",
       "    </tr>\n",
       "    <tr>\n",
       "      <th>10</th>\n",
       "      <td>18.646</td>\n",
       "      <td>0.005</td>\n",
       "      <td>707</td>\n",
       "      <td>0.5</td>\n",
       "    </tr>\n",
       "    <tr>\n",
       "      <th>11</th>\n",
       "      <td>18.696</td>\n",
       "      <td>0.005</td>\n",
       "      <td>791</td>\n",
       "      <td>0.5</td>\n",
       "    </tr>\n",
       "    <tr>\n",
       "      <th>12</th>\n",
       "      <td>18.746</td>\n",
       "      <td>0.005</td>\n",
       "      <td>878</td>\n",
       "      <td>0.5</td>\n",
       "    </tr>\n",
       "    <tr>\n",
       "      <th>13</th>\n",
       "      <td>18.796</td>\n",
       "      <td>0.005</td>\n",
       "      <td>967</td>\n",
       "      <td>0.5</td>\n",
       "    </tr>\n",
       "  </tbody>\n",
       "</table>\n",
       "</div>"
      ],
      "text/plain": [
       "         R  Error_R    t  Error_t\n",
       "0   18.146    0.005    0      0.5\n",
       "1   18.196    0.005   44      0.5\n",
       "2   18.246    0.005  105      0.5\n",
       "3   18.296    0.005  172      0.5\n",
       "4   18.346    0.005  243      0.5\n",
       "5   18.396    0.005  315      0.5\n",
       "6   18.446    0.005  389      0.5\n",
       "7   18.496    0.005  465      0.5\n",
       "8   18.546    0.005  544      0.5\n",
       "9   18.596    0.005  624      0.5\n",
       "10  18.646    0.005  707      0.5\n",
       "11  18.696    0.005  791      0.5\n",
       "12  18.746    0.005  878      0.5\n",
       "13  18.796    0.005  967      0.5"
      ]
     },
     "metadata": {},
     "output_type": "display_data"
    },
    {
     "data": {
      "text/plain": [
       "'Data for kind iron:'"
      ]
     },
     "metadata": {},
     "output_type": "display_data"
    },
    {
     "data": {
      "text/html": [
       "<div>\n",
       "<table border=\"1\" class=\"dataframe\">\n",
       "  <thead>\n",
       "    <tr style=\"text-align: right;\">\n",
       "      <th></th>\n",
       "      <th>R</th>\n",
       "      <th>Error_R</th>\n",
       "      <th>t</th>\n",
       "      <th>Error_t</th>\n",
       "    </tr>\n",
       "  </thead>\n",
       "  <tbody>\n",
       "    <tr>\n",
       "      <th>0</th>\n",
       "      <td>18.147</td>\n",
       "      <td>0.005</td>\n",
       "      <td>0</td>\n",
       "      <td>0.5</td>\n",
       "    </tr>\n",
       "    <tr>\n",
       "      <th>1</th>\n",
       "      <td>18.197</td>\n",
       "      <td>0.005</td>\n",
       "      <td>46</td>\n",
       "      <td>0.5</td>\n",
       "    </tr>\n",
       "    <tr>\n",
       "      <th>2</th>\n",
       "      <td>18.247</td>\n",
       "      <td>0.005</td>\n",
       "      <td>110</td>\n",
       "      <td>0.5</td>\n",
       "    </tr>\n",
       "    <tr>\n",
       "      <th>3</th>\n",
       "      <td>18.297</td>\n",
       "      <td>0.005</td>\n",
       "      <td>180</td>\n",
       "      <td>0.5</td>\n",
       "    </tr>\n",
       "    <tr>\n",
       "      <th>4</th>\n",
       "      <td>18.347</td>\n",
       "      <td>0.005</td>\n",
       "      <td>252</td>\n",
       "      <td>0.5</td>\n",
       "    </tr>\n",
       "    <tr>\n",
       "      <th>5</th>\n",
       "      <td>18.397</td>\n",
       "      <td>0.005</td>\n",
       "      <td>327</td>\n",
       "      <td>0.5</td>\n",
       "    </tr>\n",
       "    <tr>\n",
       "      <th>6</th>\n",
       "      <td>18.497</td>\n",
       "      <td>0.005</td>\n",
       "      <td>482</td>\n",
       "      <td>0.5</td>\n",
       "    </tr>\n",
       "    <tr>\n",
       "      <th>7</th>\n",
       "      <td>18.547</td>\n",
       "      <td>0.005</td>\n",
       "      <td>562</td>\n",
       "      <td>0.5</td>\n",
       "    </tr>\n",
       "    <tr>\n",
       "      <th>8</th>\n",
       "      <td>18.597</td>\n",
       "      <td>0.005</td>\n",
       "      <td>644</td>\n",
       "      <td>0.5</td>\n",
       "    </tr>\n",
       "    <tr>\n",
       "      <th>9</th>\n",
       "      <td>18.647</td>\n",
       "      <td>0.005</td>\n",
       "      <td>728</td>\n",
       "      <td>0.5</td>\n",
       "    </tr>\n",
       "    <tr>\n",
       "      <th>10</th>\n",
       "      <td>18.697</td>\n",
       "      <td>0.005</td>\n",
       "      <td>815</td>\n",
       "      <td>0.5</td>\n",
       "    </tr>\n",
       "    <tr>\n",
       "      <th>11</th>\n",
       "      <td>18.747</td>\n",
       "      <td>0.005</td>\n",
       "      <td>903</td>\n",
       "      <td>0.5</td>\n",
       "    </tr>\n",
       "    <tr>\n",
       "      <th>12</th>\n",
       "      <td>18.797</td>\n",
       "      <td>0.005</td>\n",
       "      <td>993</td>\n",
       "      <td>0.5</td>\n",
       "    </tr>\n",
       "  </tbody>\n",
       "</table>\n",
       "</div>"
      ],
      "text/plain": [
       "         R  Error_R    t  Error_t\n",
       "0   18.147    0.005    0      0.5\n",
       "1   18.197    0.005   46      0.5\n",
       "2   18.247    0.005  110      0.5\n",
       "3   18.297    0.005  180      0.5\n",
       "4   18.347    0.005  252      0.5\n",
       "5   18.397    0.005  327      0.5\n",
       "6   18.497    0.005  482      0.5\n",
       "7   18.547    0.005  562      0.5\n",
       "8   18.597    0.005  644      0.5\n",
       "9   18.647    0.005  728      0.5\n",
       "10  18.697    0.005  815      0.5\n",
       "11  18.747    0.005  903      0.5\n",
       "12  18.797    0.005  993      0.5"
      ]
     },
     "metadata": {},
     "output_type": "display_data"
    },
    {
     "data": {
      "text/plain": [
       "'Work variables for kind empty:'"
      ]
     },
     "metadata": {},
     "output_type": "display_data"
    },
    {
     "data": {
      "text/html": [
       "<div>\n",
       "<table border=\"1\" class=\"dataframe\">\n",
       "  <thead>\n",
       "    <tr style=\"text-align: right;\">\n",
       "      <th></th>\n",
       "      <th>Value</th>\n",
       "      <th>Error</th>\n",
       "    </tr>\n",
       "  </thead>\n",
       "  <tbody>\n",
       "    <tr>\n",
       "      <th>alpha</th>\n",
       "      <td>0.00428</td>\n",
       "      <td>0.000005</td>\n",
       "    </tr>\n",
       "    <tr>\n",
       "      <th>U</th>\n",
       "      <td>36.00000</td>\n",
       "      <td>0.100000</td>\n",
       "    </tr>\n",
       "    <tr>\n",
       "      <th>I</th>\n",
       "      <td>0.30000</td>\n",
       "      <td>0.010000</td>\n",
       "    </tr>\n",
       "    <tr>\n",
       "      <th>T_ambient</th>\n",
       "      <td>24.00000</td>\n",
       "      <td>1.000000</td>\n",
       "    </tr>\n",
       "    <tr>\n",
       "      <th>m</th>\n",
       "      <td>1.00000</td>\n",
       "      <td>0.000000</td>\n",
       "    </tr>\n",
       "    <tr>\n",
       "      <th>R_ambient</th>\n",
       "      <td>18.14400</td>\n",
       "      <td>0.005000</td>\n",
       "    </tr>\n",
       "  </tbody>\n",
       "</table>\n",
       "</div>"
      ],
      "text/plain": [
       "              Value     Error\n",
       "alpha       0.00428  0.000005\n",
       "U          36.00000  0.100000\n",
       "I           0.30000  0.010000\n",
       "T_ambient  24.00000  1.000000\n",
       "m           1.00000  0.000000\n",
       "R_ambient  18.14400  0.005000"
      ]
     },
     "metadata": {},
     "output_type": "display_data"
    },
    {
     "data": {
      "text/plain": [
       "'Work variables for kind brass:'"
      ]
     },
     "metadata": {},
     "output_type": "display_data"
    },
    {
     "data": {
      "text/html": [
       "<div>\n",
       "<table border=\"1\" class=\"dataframe\">\n",
       "  <thead>\n",
       "    <tr style=\"text-align: right;\">\n",
       "      <th></th>\n",
       "      <th>Value</th>\n",
       "      <th>Error</th>\n",
       "    </tr>\n",
       "  </thead>\n",
       "  <tbody>\n",
       "    <tr>\n",
       "      <th>alpha</th>\n",
       "      <td>0.00428</td>\n",
       "      <td>0.000005</td>\n",
       "    </tr>\n",
       "    <tr>\n",
       "      <th>U</th>\n",
       "      <td>36.00000</td>\n",
       "      <td>0.100000</td>\n",
       "    </tr>\n",
       "    <tr>\n",
       "      <th>I</th>\n",
       "      <td>0.30000</td>\n",
       "      <td>0.010000</td>\n",
       "    </tr>\n",
       "    <tr>\n",
       "      <th>T_ambient</th>\n",
       "      <td>24.00000</td>\n",
       "      <td>1.000000</td>\n",
       "    </tr>\n",
       "    <tr>\n",
       "      <th>m</th>\n",
       "      <td>0.87800</td>\n",
       "      <td>0.000100</td>\n",
       "    </tr>\n",
       "    <tr>\n",
       "      <th>R_ambient</th>\n",
       "      <td>18.14600</td>\n",
       "      <td>0.005000</td>\n",
       "    </tr>\n",
       "  </tbody>\n",
       "</table>\n",
       "</div>"
      ],
      "text/plain": [
       "              Value     Error\n",
       "alpha       0.00428  0.000005\n",
       "U          36.00000  0.100000\n",
       "I           0.30000  0.010000\n",
       "T_ambient  24.00000  1.000000\n",
       "m           0.87800  0.000100\n",
       "R_ambient  18.14600  0.005000"
      ]
     },
     "metadata": {},
     "output_type": "display_data"
    },
    {
     "data": {
      "text/plain": [
       "'Work variables for kind iron:'"
      ]
     },
     "metadata": {},
     "output_type": "display_data"
    },
    {
     "data": {
      "text/html": [
       "<div>\n",
       "<table border=\"1\" class=\"dataframe\">\n",
       "  <thead>\n",
       "    <tr style=\"text-align: right;\">\n",
       "      <th></th>\n",
       "      <th>Value</th>\n",
       "      <th>Error</th>\n",
       "    </tr>\n",
       "  </thead>\n",
       "  <tbody>\n",
       "    <tr>\n",
       "      <th>alpha</th>\n",
       "      <td>0.00428</td>\n",
       "      <td>0.000005</td>\n",
       "    </tr>\n",
       "    <tr>\n",
       "      <th>U</th>\n",
       "      <td>36.00000</td>\n",
       "      <td>0.100000</td>\n",
       "    </tr>\n",
       "    <tr>\n",
       "      <th>I</th>\n",
       "      <td>0.30000</td>\n",
       "      <td>0.010000</td>\n",
       "    </tr>\n",
       "    <tr>\n",
       "      <th>T_ambient</th>\n",
       "      <td>25.00000</td>\n",
       "      <td>1.000000</td>\n",
       "    </tr>\n",
       "    <tr>\n",
       "      <th>m</th>\n",
       "      <td>0.81650</td>\n",
       "      <td>0.000100</td>\n",
       "    </tr>\n",
       "    <tr>\n",
       "      <th>R_ambient</th>\n",
       "      <td>18.14700</td>\n",
       "      <td>0.005000</td>\n",
       "    </tr>\n",
       "  </tbody>\n",
       "</table>\n",
       "</div>"
      ],
      "text/plain": [
       "              Value     Error\n",
       "alpha       0.00428  0.000005\n",
       "U          36.00000  0.100000\n",
       "I           0.30000  0.010000\n",
       "T_ambient  25.00000  1.000000\n",
       "m           0.81650  0.000100\n",
       "R_ambient  18.14700  0.005000"
      ]
     },
     "metadata": {},
     "output_type": "display_data"
    }
   ],
   "source": [
    "data = {}\n",
    "work = {}\n",
    "\n",
    "kinds = [\"empty\", \"brass\", \"iron\"]\n",
    "colors = {\n",
    "    \"empty\": \"black\",\n",
    "    \"brass\": \"#808000\",\n",
    "    \"iron\": \"#800080\"\n",
    "}\n",
    "\n",
    "constants = ll.read_csv(\"constants.csv\")\n",
    "\n",
    "for kind in kinds:\n",
    "    data[kind] = ll.read_csv(\"measurements/%s.csv\" % kind)\n",
    "    work[kind] = ll.varlist()\n",
    "    ll.add(work[kind],\n",
    "           constants,\n",
    "           ll.read_csv(\"constants/%s.csv\" % kind),\n",
    "           ll.var(\"R_ambient\", data[kind].R[0], data[kind].Error_R[0]))\n",
    "\n",
    "for kind in kinds:\n",
    "    disp(\"Data for kind %s:\" % kind, data[kind])\n",
    "\n",
    "for kind in kinds:\n",
    "    disp(\"Work variables for kind %s:\" % kind, work[kind])\n"
   ]
  },
  {
   "cell_type": "markdown",
   "metadata": {},
   "source": [
    "Будем считать, что зависимость $t(R)$ имеет вид $t(R) = e^{R/C} + B$.\n",
    "\n",
    "Выразим теплоёмкость образца в калориметре (вместе с теплоёмкостью калориметра) через значение $\\frac{\\partial t}{\\partial R}_{R = R_{ambient}}$:\n",
    "\n",
    "$$C = \\frac{P - \\lambda(T - T_{ambient})}{\\partial T / \\partial t}$$\n",
    "\n",
    "при $T = T_{ambient}$,\n",
    "\n",
    "$$C = \\frac{P}{(\\partial T / \\partial t)_{T = T_{ambient}}}$$\n",
    "\n",
    "Найдём $\\frac{\\partial T}{\\partial t}$:\n",
    "\n",
    "$$R(T) = R_0(1 + \\alpha \\Delta T)$$\n",
    "\n",
    "$$\\frac{\\partial R}{\\partial t} = R_0 \\alpha \\frac{\\partial T}{\\partial t}$$\n",
    "\n",
    "Итак,\n",
    "\n",
    "$$C = \\frac{P}{\\frac{\\partial T}{\\partial t}_{T = T_{ambient}}} = \\frac{P R_0 \\alpha}{\\frac{\\partial R}{\\partial t}_{R = R_{ambient}}} = P R_0 \\alpha \\frac{\\partial t}{\\partial R}_{R = R_{ambient}}$$\n",
    "\n",
    "В свою очередь,\n",
    "\n",
    "$$P R_0 \\alpha \\frac{\\partial t}{\\partial R}_{R = R_{ambient}} = \\frac{P R_{ambient} \\alpha \\frac{\\partial t}{\\partial R}_{R = R_{ambient}}}{1 + \\alpha \\Delta T_{ambient}}$$"
   ]
  },
  {
   "cell_type": "code",
   "execution_count": 45,
   "metadata": {
    "collapsed": true
   },
   "outputs": [],
   "source": [
    "def x(kind):\n",
    "    return data[kind].R\n",
    "def xerr(kind):\n",
    "    return data[kind].Error_R\n",
    "def y(kind):\n",
    "    return data[kind].t\n",
    "def yerr(kind):\n",
    "    return data[kind].Error_t\n",
    "def model(x, b, c):\n",
    "    return m.e**(x/c) + b\n",
    "def C(dy_dx_at_ambient, U, I, R_ambient, alpha, T_ambient):\n",
    "    return (U * I * R_ambient * alpha * dy_dx_at_ambient) / (1 + alpha * T_ambient)\n",
    "    \n",
    "model_args = [\"b\", \"c\"]\n",
    "model_str = \"e^(x/c) + b\""
   ]
  },
  {
   "cell_type": "markdown",
   "metadata": {},
   "source": [
    "Построим график $t(R)$."
   ]
  },
  {
   "cell_type": "code",
   "execution_count": 46,
   "metadata": {
    "collapsed": false
   },
   "outputs": [
    {
     "data": {
      "text/plain": [
       "<matplotlib.legend.Legend at 0x7f5f69b74a20>"
      ]
     },
     "execution_count": 46,
     "metadata": {},
     "output_type": "execute_result"
    },
    {
     "data": {
      "image/png": "[encoded data removed]",
      "text/plain": [
       "<matplotlib.figure.Figure at 0x7f5f69b817f0>"
      ]
     },
     "metadata": {},
     "output_type": "display_data"
    }
   ],
   "source": [
    "plt.title(\"Experimental data\")\n",
    "plt.xlabel(\"R, $\\Omega$\")\n",
    "plt.ylabel(\"t, sec\")\n",
    "\n",
    "for kind in kinds:\n",
    "    plt.errorbar(x = x(kind), y = y(kind), xerr = xerr(kind), yerr = yerr(kind),\n",
    "                 label = kind, color = colors[kind])\n",
    "\n",
    "plt.axis([None, None, 0, None])\n",
    "plt.legend(loc = \"best\")"
   ]
  },
  {
   "cell_type": "markdown",
   "metadata": {},
   "source": [
    "Выполним приближение модельной функции $t(R)$ к экспериментальным данным методом наименьших квадратов и затем Deming regression."
   ]
  },
  {
   "cell_type": "code",
   "execution_count": 47,
   "metadata": {
    "collapsed": false,
    "scrolled": false
   },
   "outputs": [
    {
     "name": "stdout",
     "output_type": "stream",
     "text": [
      "Initial guesses for empty:       Error        Value\n",
      "b  1.399899 -2127.700154\n",
      "c  0.000173     2.369040\n"
     ]
    },
    {
     "data": {
      "text/plain": [
       "'Final guesses for empty:'"
      ]
     },
     "metadata": {},
     "output_type": "display_data"
    },
    {
     "data": {
      "text/html": [
       "<div>\n",
       "<table border=\"1\" class=\"dataframe\">\n",
       "  <thead>\n",
       "    <tr style=\"text-align: right;\">\n",
       "      <th></th>\n",
       "      <th>Error</th>\n",
       "      <th>Value</th>\n",
       "    </tr>\n",
       "  </thead>\n",
       "  <tbody>\n",
       "    <tr>\n",
       "      <th>b</th>\n",
       "      <td>12.229929</td>\n",
       "      <td>-2122.372718</td>\n",
       "    </tr>\n",
       "    <tr>\n",
       "      <th>c</th>\n",
       "      <td>0.001544</td>\n",
       "      <td>2.369706</td>\n",
       "    </tr>\n",
       "  </tbody>\n",
       "</table>\n",
       "</div>"
      ],
      "text/plain": [
       "       Error        Value\n",
       "b  12.229929 -2122.372718\n",
       "c   0.001544     2.369706"
      ]
     },
     "metadata": {},
     "output_type": "display_data"
    },
    {
     "name": "stdout",
     "output_type": "stream",
     "text": [
      "Initial guesses for brass:       Error        Value\n",
      "b  1.348299 -2988.088187\n",
      "c  0.000109     2.269843\n"
     ]
    },
    {
     "data": {
      "text/plain": [
       "'Final guesses for brass:'"
      ]
     },
     "metadata": {},
     "output_type": "display_data"
    },
    {
     "data": {
      "text/html": [
       "<div>\n",
       "<table border=\"1\" class=\"dataframe\">\n",
       "  <thead>\n",
       "    <tr style=\"text-align: right;\">\n",
       "      <th></th>\n",
       "      <th>Error</th>\n",
       "      <th>Value</th>\n",
       "    </tr>\n",
       "  </thead>\n",
       "  <tbody>\n",
       "    <tr>\n",
       "      <th>b</th>\n",
       "      <td>25.106852</td>\n",
       "      <td>-2980.249899</td>\n",
       "    </tr>\n",
       "    <tr>\n",
       "      <th>c</th>\n",
       "      <td>0.002069</td>\n",
       "      <td>2.270482</td>\n",
       "    </tr>\n",
       "  </tbody>\n",
       "</table>\n",
       "</div>"
      ],
      "text/plain": [
       "       Error        Value\n",
       "b  25.106852 -2980.249899\n",
       "c   0.002069     2.270482"
      ]
     },
     "metadata": {},
     "output_type": "display_data"
    },
    {
     "name": "stdout",
     "output_type": "stream",
     "text": [
      "Initial guesses for iron:       Error        Value\n",
      "b  1.348748 -3054.980669\n",
      "c  0.000106     2.263437\n"
     ]
    },
    {
     "data": {
      "text/plain": [
       "'Final guesses for iron:'"
      ]
     },
     "metadata": {},
     "output_type": "display_data"
    },
    {
     "data": {
      "text/html": [
       "<div>\n",
       "<table border=\"1\" class=\"dataframe\">\n",
       "  <thead>\n",
       "    <tr style=\"text-align: right;\">\n",
       "      <th></th>\n",
       "      <th>Error</th>\n",
       "      <th>Value</th>\n",
       "    </tr>\n",
       "  </thead>\n",
       "  <tbody>\n",
       "    <tr>\n",
       "      <th>b</th>\n",
       "      <td>23.259529</td>\n",
       "      <td>-3048.935899</td>\n",
       "    </tr>\n",
       "    <tr>\n",
       "      <th>c</th>\n",
       "      <td>0.001860</td>\n",
       "      <td>2.263916</td>\n",
       "    </tr>\n",
       "  </tbody>\n",
       "</table>\n",
       "</div>"
      ],
      "text/plain": [
       "       Error        Value\n",
       "b  23.259529 -3048.935899\n",
       "c   0.001860     2.263916"
      ]
     },
     "metadata": {},
     "output_type": "display_data"
    },
    {
     "data": {
      "text/plain": [
       "<matplotlib.legend.Legend at 0x7f5f69a41710>"
      ]
     },
     "execution_count": 47,
     "metadata": {},
     "output_type": "execute_result"
    },
    {
     "data": {
      "image/png": "[encoded data removed]",
      "text/plain": [
       "<matplotlib.figure.Figure at 0x7f5f69a34d30>"
      ]
     },
     "metadata": {},
     "output_type": "display_data"
    }
   ],
   "source": [
    "from scipy import optimize as sp_opt\n",
    "from scipy import odr as sp_odr\n",
    "\n",
    "for kind in kinds:\n",
    "    ll.add(work[kind], ll.fit(name = kind,\n",
    "                              model = model,\n",
    "                              model_args = model_args,\n",
    "                              x = x(kind),\n",
    "                              y = y(kind),\n",
    "                              xerr = xerr(kind),\n",
    "                              yerr = yerr(kind)))\n",
    "\n",
    "\n",
    "plt.title(\"Experimental data with fitting\")\n",
    "plt.xlabel(\"R, $\\Omega$\")\n",
    "plt.ylabel(\"t, sec\")\n",
    "\n",
    "x_linspace = ll.linspace([x for x in x(kind) for kind in data])\n",
    "\n",
    "for kind in kinds:\n",
    "    plt.errorbar(x = x(kind), y = y(kind), xerr = xerr(kind), yerr = yerr(kind),\n",
    "                 label = kind, color = colors[kind])\n",
    "    plt.errorbar(x = x_linspace, y = model(x_linspace, *work[kind].Value[model_args]),\n",
    "                 label = \"fit for %s\" % kind, color = colors[kind])\n",
    "\n",
    "plt.axis([None, None, 0, None])\n",
    "plt.legend(loc = \"best\")\n"
   ]
  },
  {
   "cell_type": "markdown",
   "metadata": {},
   "source": [
    "Используя полученные коэффициенты, продифференцируем модельную функцию $t(R)$ по $R$ в точке $R_{ambient}$ и подставим значения в основную формулу.\n",
    "\n",
    "Таким образом найдём полную теплоёмкость пустого калориметра, после чего модифицируем основную формулу и для каждого из образцов будем находить удельную теплоёмкость образца: $c = \\frac{C - C_{empty}}{m}$."
   ]
  },
  {
   "cell_type": "code",
   "execution_count": 48,
   "metadata": {
    "collapsed": false
   },
   "outputs": [
    {
     "name": "stdout",
     "output_type": "stream",
     "text": [
      "Model: 2.71828182845905**(x/c) + b\n",
      "dy/dx: 1.0*2.71828182845905**(x/c)/c\n",
      "Symbolic formula for C: 1.0*2.71828182845905**(R_ambient/c)*I*R_ambient*U*alpha/(c*(T_ambient*alpha + 1))\n"
     ]
    },
    {
     "data": {
      "text/plain": [
       "'Error influence estimations for C_empty:'"
      ]
     },
     "metadata": {},
     "output_type": "display_data"
    },
    {
     "data": {
      "text/html": [
       "<div>\n",
       "<table border=\"1\" class=\"dataframe\">\n",
       "  <thead>\n",
       "    <tr style=\"text-align: right;\">\n",
       "      <th></th>\n",
       "      <th>Error</th>\n",
       "      <th>Derivative</th>\n",
       "      <th>(E*D)^2</th>\n",
       "    </tr>\n",
       "  </thead>\n",
       "  <tbody>\n",
       "    <tr>\n",
       "      <th>I</th>\n",
       "      <td>0.01</td>\n",
       "      <td>2262.34145075568</td>\n",
       "      <td>511.818883980733</td>\n",
       "    </tr>\n",
       "    <tr>\n",
       "      <th>R_ambient</th>\n",
       "      <td>0.005</td>\n",
       "      <td>323.814262157196</td>\n",
       "      <td>2.62139190941023</td>\n",
       "    </tr>\n",
       "    <tr>\n",
       "      <th>T_ambient</th>\n",
       "      <td>1</td>\n",
       "      <td>-2.63425567938398</td>\n",
       "      <td>6.93930298436673</td>\n",
       "    </tr>\n",
       "    <tr>\n",
       "      <th>U</th>\n",
       "      <td>0.1</td>\n",
       "      <td>18.8528454229640</td>\n",
       "      <td>3.55429780542176</td>\n",
       "    </tr>\n",
       "    <tr>\n",
       "      <th>alpha</th>\n",
       "      <td>5e-06</td>\n",
       "      <td>143803.808159227</td>\n",
       "      <td>0.516988381027391</td>\n",
       "    </tr>\n",
       "    <tr>\n",
       "      <th>c</th>\n",
       "      <td>0.00154384</td>\n",
       "      <td>-2479.33081796630</td>\n",
       "      <td>14.6512239377455</td>\n",
       "    </tr>\n",
       "  </tbody>\n",
       "</table>\n",
       "</div>"
      ],
      "text/plain": [
       "                Error         Derivative            (E*D)^2\n",
       "I                0.01   2262.34145075568   511.818883980733\n",
       "R_ambient       0.005   323.814262157196   2.62139190941023\n",
       "T_ambient           1  -2.63425567938398   6.93930298436673\n",
       "U                 0.1   18.8528454229640   3.55429780542176\n",
       "alpha           5e-06   143803.808159227  0.516988381027391\n",
       "c          0.00154384  -2479.33081796630   14.6512239377455"
      ]
     },
     "metadata": {},
     "output_type": "display_data"
    },
    {
     "data": {
      "text/plain": [
       "'C for empty:'"
      ]
     },
     "metadata": {},
     "output_type": "display_data"
    },
    {
     "data": {
      "text/html": [
       "<div>\n",
       "<table border=\"1\" class=\"dataframe\">\n",
       "  <thead>\n",
       "    <tr style=\"text-align: right;\">\n",
       "      <th></th>\n",
       "      <th>Value</th>\n",
       "      <th>Error</th>\n",
       "    </tr>\n",
       "  </thead>\n",
       "  <tbody>\n",
       "    <tr>\n",
       "      <th>C_empty</th>\n",
       "      <td>678.702435226705</td>\n",
       "      <td>23.2400965789453</td>\n",
       "    </tr>\n",
       "  </tbody>\n",
       "</table>\n",
       "</div>"
      ],
      "text/plain": [
       "                    Value             Error\n",
       "C_empty  678.702435226705  23.2400965789453"
      ]
     },
     "metadata": {},
     "output_type": "display_data"
    },
    {
     "data": {
      "text/plain": [
       "'Error influence estimations for C:'"
      ]
     },
     "metadata": {},
     "output_type": "display_data"
    },
    {
     "data": {
      "text/html": [
       "<div>\n",
       "<table border=\"1\" class=\"dataframe\">\n",
       "  <thead>\n",
       "    <tr style=\"text-align: right;\">\n",
       "      <th></th>\n",
       "      <th>Error</th>\n",
       "      <th>Derivative</th>\n",
       "      <th>(E*D)^2</th>\n",
       "    </tr>\n",
       "  </thead>\n",
       "  <tbody>\n",
       "    <tr>\n",
       "      <th>C_empty</th>\n",
       "      <td>23.2400965789453</td>\n",
       "      <td>-1.22473974280465</td>\n",
       "      <td>810.146348522389</td>\n",
       "    </tr>\n",
       "    <tr>\n",
       "      <th>I</th>\n",
       "      <td>0.01</td>\n",
       "      <td>4137.96222876486</td>\n",
       "      <td>1712.27314066847</td>\n",
       "    </tr>\n",
       "    <tr>\n",
       "      <th>R_ambient</th>\n",
       "      <td>0.005</td>\n",
       "      <td>616.744355204244</td>\n",
       "      <td>9.50933999190746</td>\n",
       "    </tr>\n",
       "    <tr>\n",
       "      <th>T_ambient</th>\n",
       "      <td>1</td>\n",
       "      <td>-4.79958762577605</td>\n",
       "      <td>23.0360413775026</td>\n",
       "    </tr>\n",
       "    <tr>\n",
       "      <th>U</th>\n",
       "      <td>0.1</td>\n",
       "      <td>34.4830185730405</td>\n",
       "      <td>11.8907856990866</td>\n",
       "    </tr>\n",
       "    <tr>\n",
       "      <th>alpha</th>\n",
       "      <td>5e-06</td>\n",
       "      <td>262009.107005855</td>\n",
       "      <td>1.71621930385014</td>\n",
       "    </tr>\n",
       "    <tr>\n",
       "      <th>c</th>\n",
       "      <td>0.00185983</td>\n",
       "      <td>-4943.67349599667</td>\n",
       "      <td>84.5367306624790</td>\n",
       "    </tr>\n",
       "    <tr>\n",
       "      <th>m</th>\n",
       "      <td>0.0001</td>\n",
       "      <td>-502.332912025735</td>\n",
       "      <td>0.00252338354504255</td>\n",
       "    </tr>\n",
       "  </tbody>\n",
       "</table>\n",
       "</div>"
      ],
      "text/plain": [
       "                      Error         Derivative              (E*D)^2\n",
       "C_empty    23.2400965789453  -1.22473974280465     810.146348522389\n",
       "I                      0.01   4137.96222876486     1712.27314066847\n",
       "R_ambient             0.005   616.744355204244     9.50933999190746\n",
       "T_ambient                 1  -4.79958762577605     23.0360413775026\n",
       "U                       0.1   34.4830185730405     11.8907856990866\n",
       "alpha                 5e-06   262009.107005855     1.71621930385014\n",
       "c                0.00185983  -4943.67349599667     84.5367306624790\n",
       "m                    0.0001  -502.332912025735  0.00252338354504255"
      ]
     },
     "metadata": {},
     "output_type": "display_data"
    },
    {
     "data": {
      "text/plain": [
       "'Specific C for iron:'"
      ]
     },
     "metadata": {},
     "output_type": "display_data"
    },
    {
     "data": {
      "text/html": [
       "<div>\n",
       "<table border=\"1\" class=\"dataframe\">\n",
       "  <thead>\n",
       "    <tr style=\"text-align: right;\">\n",
       "      <th></th>\n",
       "      <th>Value</th>\n",
       "      <th>Error</th>\n",
       "    </tr>\n",
       "  </thead>\n",
       "  <tbody>\n",
       "    <tr>\n",
       "      <th>C</th>\n",
       "      <td>410.154822669013</td>\n",
       "      <td>51.5083598031351</td>\n",
       "    </tr>\n",
       "  </tbody>\n",
       "</table>\n",
       "</div>"
      ],
      "text/plain": [
       "              Value             Error\n",
       "C  410.154822669013  51.5083598031351"
      ]
     },
     "metadata": {},
     "output_type": "display_data"
    },
    {
     "data": {
      "text/plain": [
       "'Error influence estimations for C:'"
      ]
     },
     "metadata": {},
     "output_type": "display_data"
    },
    {
     "data": {
      "text/html": [
       "<div>\n",
       "<table border=\"1\" class=\"dataframe\">\n",
       "  <thead>\n",
       "    <tr style=\"text-align: right;\">\n",
       "      <th></th>\n",
       "      <th>Error</th>\n",
       "      <th>Derivative</th>\n",
       "      <th>(E*D)^2</th>\n",
       "    </tr>\n",
       "  </thead>\n",
       "  <tbody>\n",
       "    <tr>\n",
       "      <th>C_empty</th>\n",
       "      <td>23.2400965789453</td>\n",
       "      <td>-1.13895216400911</td>\n",
       "      <td>700.626928304005</td>\n",
       "    </tr>\n",
       "    <tr>\n",
       "      <th>I</th>\n",
       "      <td>0.01</td>\n",
       "      <td>3761.74370132253</td>\n",
       "      <td>1415.07156744397</td>\n",
       "    </tr>\n",
       "    <tr>\n",
       "      <th>R_ambient</th>\n",
       "      <td>0.005</td>\n",
       "      <td>559.232426114804</td>\n",
       "      <td>7.81852266045625</td>\n",
       "    </tr>\n",
       "    <tr>\n",
       "      <th>T_ambient</th>\n",
       "      <td>1</td>\n",
       "      <td>-4.38014991339427</td>\n",
       "      <td>19.1857132638078</td>\n",
       "    </tr>\n",
       "    <tr>\n",
       "      <th>U</th>\n",
       "      <td>0.1</td>\n",
       "      <td>31.3478641776877</td>\n",
       "      <td>9.82688588502758</td>\n",
       "    </tr>\n",
       "    <tr>\n",
       "      <th>alpha</th>\n",
       "      <td>5e-06</td>\n",
       "      <td>239112.035625069</td>\n",
       "      <td>1.42936413951911</td>\n",
       "    </tr>\n",
       "    <tr>\n",
       "      <th>c</th>\n",
       "      <td>0.00206907</td>\n",
       "      <td>-4469.46077084630</td>\n",
       "      <td>85.5187265566156</td>\n",
       "    </tr>\n",
       "    <tr>\n",
       "      <th>m</th>\n",
       "      <td>0.0001</td>\n",
       "      <td>-404.912873664065</td>\n",
       "      <td>0.00163954435258891</td>\n",
       "    </tr>\n",
       "  </tbody>\n",
       "</table>\n",
       "</div>"
      ],
      "text/plain": [
       "                      Error         Derivative              (E*D)^2\n",
       "C_empty    23.2400965789453  -1.13895216400911     700.626928304005\n",
       "I                      0.01   3761.74370132253     1415.07156744397\n",
       "R_ambient             0.005   559.232426114804     7.81852266045625\n",
       "T_ambient                 1  -4.38014991339427     19.1857132638078\n",
       "U                       0.1   31.3478641776877     9.82688588502758\n",
       "alpha                 5e-06   239112.035625069     1.42936413951911\n",
       "c                0.00206907  -4469.46077084630     85.5187265566156\n",
       "m                    0.0001  -404.912873664065  0.00163954435258891"
      ]
     },
     "metadata": {},
     "output_type": "display_data"
    },
    {
     "data": {
      "text/plain": [
       "'Specific C for brass:'"
      ]
     },
     "metadata": {},
     "output_type": "display_data"
    },
    {
     "data": {
      "text/html": [
       "<div>\n",
       "<table border=\"1\" class=\"dataframe\">\n",
       "  <thead>\n",
       "    <tr style=\"text-align: right;\">\n",
       "      <th></th>\n",
       "      <th>Value</th>\n",
       "      <th>Error</th>\n",
       "    </tr>\n",
       "  </thead>\n",
       "  <tbody>\n",
       "    <tr>\n",
       "      <th>C</th>\n",
       "      <td>355.513503077049</td>\n",
       "      <td>47.3231375523407</td>\n",
       "    </tr>\n",
       "  </tbody>\n",
       "</table>\n",
       "</div>"
      ],
      "text/plain": [
       "              Value             Error\n",
       "C  355.513503077049  47.3231375523407"
      ]
     },
     "metadata": {},
     "output_type": "display_data"
    }
   ],
   "source": [
    "sym_x = smp.symbols(\"x\")\n",
    "sym_args = smp.symbols(model_args)\n",
    "sym_model = model(sym_x, *sym_args)\n",
    "dy_dx = smp.diff(sym_model, sym_x)\n",
    "\n",
    "print(\"Model: %s\" % sym_model)\n",
    "print(\"dy/dx: %s\" % dy_dx)\n",
    "\n",
    "#\n",
    "# Generate final symbolic expression for C.\n",
    "#\n",
    "\n",
    "sym_U, sym_I, sym_R_ambient, sym_alpha, sym_T_ambient, sym_m = smp.symbols(\"U I R_ambient alpha T_ambient m\")\n",
    "sym_C = C(U = sym_U,\n",
    "          I = sym_I,\n",
    "          R_ambient = sym_R_ambient,\n",
    "          alpha = sym_alpha,\n",
    "          T_ambient = sym_T_ambient,\n",
    "          dy_dx_at_ambient = dy_dx.subs(sym_x, sym_R_ambient))\n",
    "print(\"Symbolic formula for C: %s\" % sym_C)\n",
    "\n",
    "#\n",
    "# Now compute its error as square root of sum of squares of products of\n",
    "# partial differentials of C for each variable by absolute error of the corresponding variable.\n",
    "#\n",
    "\n",
    "ll.add_multi(work.values(), ll.sym_compute(\"C_empty\", sym_C, work[\"empty\"]))\n",
    "disp(\"C for empty:\", work[\"empty\"].loc[[\"C_empty\"]])\n",
    "\n",
    "sym_C_empty = smp.symbols(\"C_empty\")\n",
    "sym_C = (sym_C - sym_C_empty) / sym_m\n",
    "\n",
    "for kind in set(kinds) - set([\"empty\"]):\n",
    "    ll.add(work[kind], ll.sym_compute(\"C\", sym_C, work[kind]))\n",
    "    disp(\"Specific C for %s:\" % kind, work[kind].loc[[\"C\"]])\n",
    "    "
   ]
  },
  {
   "cell_type": "code",
   "execution_count": null,
   "metadata": {
    "collapsed": true
   },
   "outputs": [],
   "source": []
  }
 ],
 "metadata": {
  "kernelspec": {
   "display_name": "Python 3",
   "language": "python",
   "name": "python3"
  },
  "language_info": {
   "codemirror_mode": {
    "name": "ipython",
    "version": 3
   },
   "file_extension": ".py",
   "mimetype": "text/x-python",
   "name": "python",
   "nbconvert_exporter": "python",
   "pygments_lexer": "ipython3",
   "version": "3.5.1"
  }
 },
 "nbformat": 4,
 "nbformat_minor": 0
}
