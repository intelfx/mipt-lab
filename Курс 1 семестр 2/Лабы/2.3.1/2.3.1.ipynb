{
 "cells": [
  {
   "cell_type": "code",
   "execution_count": 1,
   "metadata": {
    "collapsed": true
   },
   "outputs": [],
   "source": [
    "import pandas as pd\n",
    "import numpy as np\n",
    "import scipy as sp\n",
    "import matplotlib as mp\n",
    "import matplotlib.pyplot as plt\n",
    "import math as m\n",
    "import sympy as smp\n",
    "from IPython.display import display as disp\n",
    "import lablib as ll\n",
    "%matplotlib inline"
   ]
  },
  {
   "cell_type": "markdown",
   "metadata": {},
   "source": [
    "Пересчитаем значения давлений с приборов из мм. рт. ст. в паскали. Вычислим показания масляного разностного манометра, полученные при измерении объёма установки."
   ]
  },
  {
   "cell_type": "code",
   "execution_count": 2,
   "metadata": {
    "collapsed": false,
    "scrolled": false
   },
   "outputs": [
    {
     "name": "stdout",
     "output_type": "stream",
     "text": [
      "Experiment leak:\n"
     ]
    },
    {
     "data": {
      "text/html": [
       "<div>\n",
       "<table border=\"1\" class=\"dataframe\">\n",
       "  <thead>\n",
       "    <tr style=\"text-align: right;\">\n",
       "      <th></th>\n",
       "      <th>Value</th>\n",
       "      <th>Error</th>\n",
       "      <th>ErrorRel</th>\n",
       "    </tr>\n",
       "  </thead>\n",
       "  <tbody>\n",
       "    <tr>\n",
       "      <th>V_locked</th>\n",
       "      <td>0.000050</td>\n",
       "      <td>0.000003</td>\n",
       "      <td>6.00%</td>\n",
       "    </tr>\n",
       "    <tr>\n",
       "      <th>P_atm</th>\n",
       "      <td>100000.000000</td>\n",
       "      <td>1000.000000</td>\n",
       "      <td>1.00%</td>\n",
       "    </tr>\n",
       "    <tr>\n",
       "      <th>de_oil</th>\n",
       "      <td>885.000000</td>\n",
       "      <td>0.500000</td>\n",
       "      <td>0.06%</td>\n",
       "    </tr>\n",
       "    <tr>\n",
       "      <th>g</th>\n",
       "      <td>9.806650</td>\n",
       "      <td>0.000005</td>\n",
       "      <td>0.00%</td>\n",
       "    </tr>\n",
       "    <tr>\n",
       "      <th>L_cap</th>\n",
       "      <td>0.063000</td>\n",
       "      <td>0.000500</td>\n",
       "      <td>0.79%</td>\n",
       "    </tr>\n",
       "    <tr>\n",
       "      <th>d_cap</th>\n",
       "      <td>0.000900</td>\n",
       "      <td>0.000050</td>\n",
       "      <td>5.56%</td>\n",
       "    </tr>\n",
       "    <tr>\n",
       "      <th>P_h_best</th>\n",
       "      <td>0.008933</td>\n",
       "      <td>0.000133</td>\n",
       "      <td>1.49%</td>\n",
       "    </tr>\n",
       "    <tr>\n",
       "      <th>P_h_leak</th>\n",
       "      <td>0.013332</td>\n",
       "      <td>0.001333</td>\n",
       "      <td>10.00%</td>\n",
       "    </tr>\n",
       "    <tr>\n",
       "      <th>P_f_leak</th>\n",
       "      <td>0.733273</td>\n",
       "      <td>0.033331</td>\n",
       "      <td>4.55%</td>\n",
       "    </tr>\n",
       "    <tr>\n",
       "      <th>T_ambient</th>\n",
       "      <td>300.000000</td>\n",
       "      <td>5.000000</td>\n",
       "      <td>1.67%</td>\n",
       "    </tr>\n",
       "    <tr>\n",
       "      <th>mu_ambient</th>\n",
       "      <td>0.002900</td>\n",
       "      <td>0.000050</td>\n",
       "      <td>1.72%</td>\n",
       "    </tr>\n",
       "  </tbody>\n",
       "</table>\n",
       "</div>"
      ],
      "text/plain": [
       "                   Value       Error  ErrorRel\n",
       "V_locked        0.000050    0.000003  0.060000\n",
       "P_atm      100000.000000 1000.000000  0.010000\n",
       "de_oil        885.000000    0.500000  0.000565\n",
       "g               9.806650    0.000005  0.000001\n",
       "L_cap           0.063000    0.000500  0.007937\n",
       "d_cap           0.000900    0.000050  0.055556\n",
       "P_h_best        0.008933    0.000133  0.014925\n",
       "P_h_leak        0.013332    0.001333  0.100000\n",
       "P_f_leak        0.733273    0.033331  0.045455\n",
       "T_ambient     300.000000    5.000000  0.016667\n",
       "mu_ambient      0.002900    0.000050  0.017241"
      ]
     },
     "metadata": {},
     "output_type": "display_data"
    },
    {
     "name": "stdout",
     "output_type": "stream",
     "text": [
      "Experiment performance-fall:\n"
     ]
    },
    {
     "data": {
      "text/html": [
       "<div>\n",
       "<table border=\"1\" class=\"dataframe\">\n",
       "  <thead>\n",
       "    <tr style=\"text-align: right;\">\n",
       "      <th></th>\n",
       "      <th>Value</th>\n",
       "      <th>Error</th>\n",
       "      <th>ErrorRel</th>\n",
       "    </tr>\n",
       "  </thead>\n",
       "  <tbody>\n",
       "    <tr>\n",
       "      <th>V_locked</th>\n",
       "      <td>0.000050</td>\n",
       "      <td>0.000003</td>\n",
       "      <td>6.00%</td>\n",
       "    </tr>\n",
       "    <tr>\n",
       "      <th>P_atm</th>\n",
       "      <td>100000.000000</td>\n",
       "      <td>1000.000000</td>\n",
       "      <td>1.00%</td>\n",
       "    </tr>\n",
       "    <tr>\n",
       "      <th>de_oil</th>\n",
       "      <td>885.000000</td>\n",
       "      <td>0.500000</td>\n",
       "      <td>0.06%</td>\n",
       "    </tr>\n",
       "    <tr>\n",
       "      <th>g</th>\n",
       "      <td>9.806650</td>\n",
       "      <td>0.000005</td>\n",
       "      <td>0.00%</td>\n",
       "    </tr>\n",
       "    <tr>\n",
       "      <th>P_h_best</th>\n",
       "      <td>0.013332</td>\n",
       "      <td>0.001333</td>\n",
       "      <td>10.00%</td>\n",
       "    </tr>\n",
       "  </tbody>\n",
       "</table>\n",
       "</div>"
      ],
      "text/plain": [
       "                 Value       Error  ErrorRel\n",
       "V_locked      0.000050    0.000003  0.060000\n",
       "P_atm    100000.000000 1000.000000  0.010000\n",
       "de_oil      885.000000    0.500000  0.000565\n",
       "g             9.806650    0.000005  0.000001\n",
       "P_h_best      0.013332    0.001333  0.100000"
      ]
     },
     "metadata": {},
     "output_type": "display_data"
    },
    {
     "name": "stdout",
     "output_type": "stream",
     "text": [
      "Experiment performance-improve:\n"
     ]
    },
    {
     "data": {
      "text/html": [
       "<div>\n",
       "<table border=\"1\" class=\"dataframe\">\n",
       "  <thead>\n",
       "    <tr style=\"text-align: right;\">\n",
       "      <th></th>\n",
       "      <th>Value</th>\n",
       "      <th>Error</th>\n",
       "      <th>ErrorRel</th>\n",
       "    </tr>\n",
       "  </thead>\n",
       "  <tbody>\n",
       "    <tr>\n",
       "      <th>V_locked</th>\n",
       "      <td>0.000050</td>\n",
       "      <td>0.000003</td>\n",
       "      <td>6.00%</td>\n",
       "    </tr>\n",
       "    <tr>\n",
       "      <th>P_atm</th>\n",
       "      <td>100000.000000</td>\n",
       "      <td>1000.000000</td>\n",
       "      <td>1.00%</td>\n",
       "    </tr>\n",
       "    <tr>\n",
       "      <th>de_oil</th>\n",
       "      <td>885.000000</td>\n",
       "      <td>0.500000</td>\n",
       "      <td>0.06%</td>\n",
       "    </tr>\n",
       "    <tr>\n",
       "      <th>g</th>\n",
       "      <td>9.806650</td>\n",
       "      <td>0.000005</td>\n",
       "      <td>0.00%</td>\n",
       "    </tr>\n",
       "    <tr>\n",
       "      <th>P_h_best</th>\n",
       "      <td>0.013332</td>\n",
       "      <td>0.001333</td>\n",
       "      <td>10.00%</td>\n",
       "    </tr>\n",
       "  </tbody>\n",
       "</table>\n",
       "</div>"
      ],
      "text/plain": [
       "                 Value       Error  ErrorRel\n",
       "V_locked      0.000050    0.000003  0.060000\n",
       "P_atm    100000.000000 1000.000000  0.010000\n",
       "de_oil      885.000000    0.500000  0.000565\n",
       "g             9.806650    0.000005  0.000001\n",
       "P_h_best      0.013332    0.001333  0.100000"
      ]
     },
     "metadata": {},
     "output_type": "display_data"
    },
    {
     "name": "stdout",
     "output_type": "stream",
     "text": [
      "Experiment volume:\n"
     ]
    },
    {
     "data": {
      "text/html": [
       "<div>\n",
       "<table border=\"1\" class=\"dataframe\">\n",
       "  <thead>\n",
       "    <tr style=\"text-align: right;\">\n",
       "      <th></th>\n",
       "      <th>Value</th>\n",
       "      <th>Error</th>\n",
       "      <th>ErrorRel</th>\n",
       "    </tr>\n",
       "  </thead>\n",
       "  <tbody>\n",
       "    <tr>\n",
       "      <th>V_locked</th>\n",
       "      <td>0.000050</td>\n",
       "      <td>0.000003</td>\n",
       "      <td>6.00%</td>\n",
       "    </tr>\n",
       "    <tr>\n",
       "      <th>P_atm</th>\n",
       "      <td>100000.000000</td>\n",
       "      <td>1000.000000</td>\n",
       "      <td>1.00%</td>\n",
       "    </tr>\n",
       "    <tr>\n",
       "      <th>de_oil</th>\n",
       "      <td>885.000000</td>\n",
       "      <td>0.500000</td>\n",
       "      <td>0.06%</td>\n",
       "    </tr>\n",
       "    <tr>\n",
       "      <th>g</th>\n",
       "      <td>9.806650</td>\n",
       "      <td>0.000005</td>\n",
       "      <td>0.00%</td>\n",
       "    </tr>\n",
       "    <tr>\n",
       "      <th>P_f_best</th>\n",
       "      <td>1.199902</td>\n",
       "      <td>0.033331</td>\n",
       "      <td>2.78%</td>\n",
       "    </tr>\n",
       "    <tr>\n",
       "      <th>dH_1</th>\n",
       "      <td>0.150000</td>\n",
       "      <td>0.005000</td>\n",
       "      <td>3.33%</td>\n",
       "    </tr>\n",
       "    <tr>\n",
       "      <th>dH_2</th>\n",
       "      <td>0.100000</td>\n",
       "      <td>0.005000</td>\n",
       "      <td>5.00%</td>\n",
       "    </tr>\n",
       "    <tr>\n",
       "      <th>dP_1</th>\n",
       "      <td>1301.832787</td>\n",
       "      <td>43.400659</td>\n",
       "      <td>3.33%</td>\n",
       "    </tr>\n",
       "    <tr>\n",
       "      <th>dP_2</th>\n",
       "      <td>867.888525</td>\n",
       "      <td>43.397196</td>\n",
       "      <td>5.00%</td>\n",
       "    </tr>\n",
       "  </tbody>\n",
       "</table>\n",
       "</div>"
      ],
      "text/plain": [
       "                 Value       Error  ErrorRel\n",
       "V_locked      0.000050    0.000003  0.060000\n",
       "P_atm    100000.000000 1000.000000  0.010000\n",
       "de_oil      885.000000    0.500000  0.000565\n",
       "g             9.806650    0.000005  0.000001\n",
       "P_f_best      1.199902    0.033331  0.027778\n",
       "dH_1          0.150000    0.005000  0.033333\n",
       "dH_2          0.100000    0.005000  0.050000\n",
       "dP_1       1301.832787   43.400659  0.033338\n",
       "dP_2        867.888525   43.397196  0.050003"
      ]
     },
     "metadata": {},
     "output_type": "display_data"
    }
   ],
   "source": [
    "data, columns, experiments = ll.read_standard_layout()\n",
    "\n",
    "# recalculate pressures in Torr (mmHg) to Pa\n",
    "for e in experiments:\n",
    "    for var in list(data[e].index) + list(columns[e].columns):\n",
    "        if var.startswith(\"P_\") and var != \"P_atm\":\n",
    "            ll.compute(name = var,\n",
    "                       expr = lambda _P: _P * ll.torr,\n",
    "                       expr_args = [var],\n",
    "                       data = data[e],\n",
    "                       columns = columns[e])\n",
    "\n",
    "# compute outputs from the oil column relative manometer\n",
    "for e in [\"volume\"]:\n",
    "    ll.compute(name = \"dP_1\",\n",
    "               expr = lambda dH_1, de_oil: dH_1 * de_oil * ll.g,\n",
    "               data = data[e])\n",
    "    ll.compute(name = \"dP_2\",\n",
    "               expr = lambda dH_2, de_oil: dH_2 * de_oil * ll.g,\n",
    "               data = data[e])\n",
    "\n",
    "for e in experiments:\n",
    "    print(\"Experiment %s:\" % e)\n",
    "    disp(data[e])"
   ]
  },
  {
   "cell_type": "markdown",
   "metadata": {},
   "source": [
    "Пользуясь известным атмосферным давлением, объёмом капилляра и изменением давления в установке после выпуска газа из капилляра, вычислим объёмы частей установки."
   ]
  },
  {
   "cell_type": "code",
   "execution_count": 3,
   "metadata": {
    "collapsed": false
   },
   "outputs": [
    {
     "name": "stdout",
     "output_type": "stream",
     "text": [
      "Computing variable V_fore\n",
      "Error influence estimations:\n"
     ]
    },
    {
     "data": {
      "text/html": [
       "<div>\n",
       "<table border=\"1\" class=\"dataframe\">\n",
       "  <thead>\n",
       "    <tr style=\"text-align: right;\">\n",
       "      <th></th>\n",
       "      <th>Error</th>\n",
       "      <th>Derivative</th>\n",
       "      <th>(E*D)^2</th>\n",
       "    </tr>\n",
       "  </thead>\n",
       "  <tbody>\n",
       "    <tr>\n",
       "      <th>V_locked</th>\n",
       "      <td>0.000003</td>\n",
       "      <td>75.8138589368567</td>\n",
       "      <td>5.17296708620785e-8</td>\n",
       "    </tr>\n",
       "    <tr>\n",
       "      <th>dP_1</th>\n",
       "      <td>43.400659</td>\n",
       "      <td>-2.95021986212099e-6</td>\n",
       "      <td>1.63946220722444e-8</td>\n",
       "    </tr>\n",
       "    <tr>\n",
       "      <th>P_atm</th>\n",
       "      <td>1000.000000</td>\n",
       "      <td>3.84073903193193e-8</td>\n",
       "      <td>1.47512763114054e-9</td>\n",
       "    </tr>\n",
       "    <tr>\n",
       "      <th>P_f_best</th>\n",
       "      <td>0.033331</td>\n",
       "      <td>-3.84073903193193e-8</td>\n",
       "      <td>1.63876191125311e-18</td>\n",
       "    </tr>\n",
       "  </tbody>\n",
       "</table>\n",
       "</div>"
      ],
      "text/plain": [
       "               Error            Derivative               (E*D)^2\n",
       "V_locked    0.000003      75.8138589368567   5.17296708620785e-8\n",
       "dP_1       43.400659  -2.95021986212099e-6   1.63946220722444e-8\n",
       "P_atm    1000.000000   3.84073903193193e-8   1.47512763114054e-9\n",
       "P_f_best    0.033331  -3.84073903193193e-8  1.63876191125311e-18"
      ]
     },
     "metadata": {},
     "output_type": "display_data"
    },
    {
     "name": "stdout",
     "output_type": "stream",
     "text": [
      "Result:\n"
     ]
    },
    {
     "data": {
      "text/html": [
       "<div>\n",
       "<table border=\"1\" class=\"dataframe\">\n",
       "  <thead>\n",
       "    <tr style=\"text-align: right;\">\n",
       "      <th></th>\n",
       "      <th>Value</th>\n",
       "      <th>Error</th>\n",
       "      <th>ErrorRel</th>\n",
       "    </tr>\n",
       "  </thead>\n",
       "  <tbody>\n",
       "    <tr>\n",
       "      <th>V_fore</th>\n",
       "      <td>0.003791</td>\n",
       "      <td>0.000264</td>\n",
       "      <td>6.96%</td>\n",
       "    </tr>\n",
       "  </tbody>\n",
       "</table>\n",
       "</div>"
      ],
      "text/plain": [
       "          Value    Error  ErrorRel\n",
       "V_fore 0.003791 0.000264  0.069596"
      ]
     },
     "metadata": {},
     "output_type": "display_data"
    },
    {
     "name": "stdout",
     "output_type": "stream",
     "text": [
      "Computing variable V_high\n",
      "Error influence estimations:\n"
     ]
    },
    {
     "data": {
      "text/html": [
       "<div>\n",
       "<table border=\"1\" class=\"dataframe\">\n",
       "  <thead>\n",
       "    <tr style=\"text-align: right;\">\n",
       "      <th></th>\n",
       "      <th>Error</th>\n",
       "      <th>Derivative</th>\n",
       "      <th>(E*D)^2</th>\n",
       "    </tr>\n",
       "  </thead>\n",
       "  <tbody>\n",
       "    <tr>\n",
       "      <th>dP_2</th>\n",
       "      <td>43.397196</td>\n",
       "      <td>-6.63799468977223e-6</td>\n",
       "      <td>8.29845318873258e-8</td>\n",
       "    </tr>\n",
       "    <tr>\n",
       "      <th>dP_1</th>\n",
       "      <td>43.400659</td>\n",
       "      <td>2.95021986212099e-6</td>\n",
       "      <td>1.63946220722444e-8</td>\n",
       "    </tr>\n",
       "    <tr>\n",
       "      <th>V_locked</th>\n",
       "      <td>0.000003</td>\n",
       "      <td>38.4069294684284</td>\n",
       "      <td>1.32758300807355e-8</td>\n",
       "    </tr>\n",
       "    <tr>\n",
       "      <th>P_atm</th>\n",
       "      <td>1000.000000</td>\n",
       "      <td>1.92036951596597e-8</td>\n",
       "      <td>3.68781907785136e-10</td>\n",
       "    </tr>\n",
       "    <tr>\n",
       "      <th>P_f_best</th>\n",
       "      <td>0.033331</td>\n",
       "      <td>-1.92036951596597e-8</td>\n",
       "      <td>4.09690477813277e-19</td>\n",
       "    </tr>\n",
       "  </tbody>\n",
       "</table>\n",
       "</div>"
      ],
      "text/plain": [
       "               Error            Derivative               (E*D)^2\n",
       "dP_2       43.397196  -6.63799468977223e-6   8.29845318873258e-8\n",
       "dP_1       43.400659   2.95021986212099e-6   1.63946220722444e-8\n",
       "V_locked    0.000003      38.4069294684284   1.32758300807355e-8\n",
       "P_atm    1000.000000   1.92036951596597e-8  3.68781907785136e-10\n",
       "P_f_best    0.033331  -1.92036951596597e-8  4.09690477813277e-19"
      ]
     },
     "metadata": {},
     "output_type": "display_data"
    },
    {
     "name": "stdout",
     "output_type": "stream",
     "text": [
      "Result:\n"
     ]
    },
    {
     "data": {
      "text/html": [
       "<div>\n",
       "<table border=\"1\" class=\"dataframe\">\n",
       "  <thead>\n",
       "    <tr style=\"text-align: right;\">\n",
       "      <th></th>\n",
       "      <th>Value</th>\n",
       "      <th>Error</th>\n",
       "      <th>ErrorRel</th>\n",
       "    </tr>\n",
       "  </thead>\n",
       "  <tbody>\n",
       "    <tr>\n",
       "      <th>V_high</th>\n",
       "      <td>0.001920</td>\n",
       "      <td>0.000336</td>\n",
       "      <td>17.51%</td>\n",
       "    </tr>\n",
       "  </tbody>\n",
       "</table>\n",
       "</div>"
      ],
      "text/plain": [
       "          Value    Error  ErrorRel\n",
       "V_high 0.001920 0.000336  0.175067"
      ]
     },
     "metadata": {},
     "output_type": "display_data"
    },
    {
     "name": "stdout",
     "output_type": "stream",
     "text": [
      "Computing variable V_full\n",
      "Error influence estimations:\n"
     ]
    },
    {
     "data": {
      "text/html": [
       "<div>\n",
       "<table border=\"1\" class=\"dataframe\">\n",
       "  <thead>\n",
       "    <tr style=\"text-align: right;\">\n",
       "      <th></th>\n",
       "      <th>Error</th>\n",
       "      <th>Derivative</th>\n",
       "      <th>(E*D)^2</th>\n",
       "    </tr>\n",
       "  </thead>\n",
       "  <tbody>\n",
       "    <tr>\n",
       "      <th>V_locked</th>\n",
       "      <td>0.000003</td>\n",
       "      <td>114.220788405285</td>\n",
       "      <td>1.17417496535324e-7</td>\n",
       "    </tr>\n",
       "    <tr>\n",
       "      <th>dP_2</th>\n",
       "      <td>43.397196</td>\n",
       "      <td>-6.63799468977223e-6</td>\n",
       "      <td>8.29845318873258e-8</td>\n",
       "    </tr>\n",
       "    <tr>\n",
       "      <th>P_atm</th>\n",
       "      <td>1000.000000</td>\n",
       "      <td>5.76110854789790e-8</td>\n",
       "      <td>3.31903717006623e-9</td>\n",
       "    </tr>\n",
       "    <tr>\n",
       "      <th>P_f_best</th>\n",
       "      <td>0.033331</td>\n",
       "      <td>-5.76110854789790e-8</td>\n",
       "      <td>3.68721430031949e-18</td>\n",
       "    </tr>\n",
       "  </tbody>\n",
       "</table>\n",
       "</div>"
      ],
      "text/plain": [
       "               Error            Derivative               (E*D)^2\n",
       "V_locked    0.000003      114.220788405285   1.17417496535324e-7\n",
       "dP_2       43.397196  -6.63799468977223e-6   8.29845318873258e-8\n",
       "P_atm    1000.000000   5.76110854789790e-8   3.31903717006623e-9\n",
       "P_f_best    0.033331  -5.76110854789790e-8  3.68721430031949e-18"
      ]
     },
     "metadata": {},
     "output_type": "display_data"
    },
    {
     "name": "stdout",
     "output_type": "stream",
     "text": [
      "Result:\n"
     ]
    },
    {
     "data": {
      "text/html": [
       "<div>\n",
       "<table border=\"1\" class=\"dataframe\">\n",
       "  <thead>\n",
       "    <tr style=\"text-align: right;\">\n",
       "      <th></th>\n",
       "      <th>Value</th>\n",
       "      <th>Error</th>\n",
       "      <th>ErrorRel</th>\n",
       "    </tr>\n",
       "  </thead>\n",
       "  <tbody>\n",
       "    <tr>\n",
       "      <th>V_full</th>\n",
       "      <td>0.005711</td>\n",
       "      <td>0.000451</td>\n",
       "      <td>7.90%</td>\n",
       "    </tr>\n",
       "  </tbody>\n",
       "</table>\n",
       "</div>"
      ],
      "text/plain": [
       "          Value    Error  ErrorRel\n",
       "V_full 0.005711 0.000451  0.079032"
      ]
     },
     "metadata": {},
     "output_type": "display_data"
    }
   ],
   "source": [
    "e = \"volume\"\n",
    "\n",
    "ll.compute(name = \"V_fore\",\n",
    "           expr = lambda V_locked, P_atm, P_f_best, dP_1: V_locked * (P_atm - (P_f_best + dP_1)) / dP_1,\n",
    "           data = data[e],\n",
    "           columns = columns[e],\n",
    "           debug = True)\n",
    "\n",
    "ll.compute(name = \"V_high\",\n",
    "           expr = lambda V_locked, P_atm, P_f_best, dP_1, dP_2: V_locked * (dP_1 - dP_2)*(P_atm - P_f_best) / (dP_1*dP_2),\n",
    "           data = data[e],\n",
    "           columns = columns[e],\n",
    "           debug = True)\n",
    "\n",
    "ll.compute(name = \"V_full\",\n",
    "           expr = lambda V_locked, P_atm, P_f_best, dP_2: V_locked * (P_atm - (P_f_best + dP_2)) / dP_2,\n",
    "           data = data[e],\n",
    "           columns = columns[e],\n",
    "           debug = True)\n",
    "\n",
    "for e2 in experiments:\n",
    "    ll.add(data[e2], data[e].loc[[\"V_fore\", \"V_high\", \"V_full\"]])"
   ]
  },
  {
   "cell_type": "markdown",
   "metadata": {},
   "source": [
    "Вычислим производительность диффузионного насоса, исходя из временных характеристик улучшения вакуума."
   ]
  },
  {
   "cell_type": "code",
   "execution_count": 4,
   "metadata": {
    "collapsed": false
   },
   "outputs": [
    {
     "name": "stdout",
     "output_type": "stream",
     "text": [
      "Initial guesses for P_h:\n",
      "            Value    Error  ErrorRel\n",
      "_P_0    0.062682 0.000836  0.013330\n",
      "_W_V    0.253384 0.008611  0.033982\n",
      "_P_best 0.016195 0.000727  0.044862\n"
     ]
    },
    {
     "data": {
      "text/plain": [
       "'Final guesses for P_h:'"
      ]
     },
     "metadata": {},
     "output_type": "display_data"
    },
    {
     "data": {
      "text/html": [
       "<div>\n",
       "<table border=\"1\" class=\"dataframe\">\n",
       "  <thead>\n",
       "    <tr style=\"text-align: right;\">\n",
       "      <th></th>\n",
       "      <th>Value</th>\n",
       "      <th>Error</th>\n",
       "      <th>ErrorRel</th>\n",
       "    </tr>\n",
       "  </thead>\n",
       "  <tbody>\n",
       "    <tr>\n",
       "      <th>_P_0</th>\n",
       "      <td>0.062648</td>\n",
       "      <td>0.000575</td>\n",
       "      <td>0.92%</td>\n",
       "    </tr>\n",
       "    <tr>\n",
       "      <th>_W_V</th>\n",
       "      <td>0.252423</td>\n",
       "      <td>0.005853</td>\n",
       "      <td>2.32%</td>\n",
       "    </tr>\n",
       "    <tr>\n",
       "      <th>_P_best</th>\n",
       "      <td>0.016155</td>\n",
       "      <td>0.000487</td>\n",
       "      <td>3.01%</td>\n",
       "    </tr>\n",
       "  </tbody>\n",
       "</table>\n",
       "</div>"
      ],
      "text/plain": [
       "           Value    Error  ErrorRel\n",
       "_P_0    0.062648 0.000575  0.009172\n",
       "_W_V    0.252423 0.005853  0.023186\n",
       "_P_best 0.016155 0.000487  0.030150"
      ]
     },
     "metadata": {},
     "output_type": "display_data"
    },
    {
     "data": {
      "text/plain": [
       "[]"
      ]
     },
     "execution_count": 4,
     "metadata": {},
     "output_type": "execute_result"
    },
    {
     "data": {
      "image/png": "[encoded data removed]",
      "text/plain": [
       "<matplotlib.figure.Figure at 0x7fbe5a11d160>"
      ]
     },
     "metadata": {},
     "output_type": "display_data"
    }
   ],
   "source": [
    "e = \"performance-improve\"\n",
    "\n",
    "plt.title(\"Vacuum improvement performance\")\n",
    "plt.xlabel(\"$t$, sec\")\n",
    "plt.ylabel(\"$P_{high}$, Pa\")\n",
    "\n",
    "plt.errorbar(x = columns[e].t,\n",
    "             xerr = columns[e].Error_t,\n",
    "             y = columns[e].P_h,\n",
    "             yerr = columns[e].Error_P_h,\n",
    "             linestyle = \"none\")\n",
    "\n",
    "model = ll.fit2(name = \"P_h\",\n",
    "                model = lambda t, _P_0, _W_V, _P_best: _P_0 * ll.exp(-t * _W_V) + _P_best,\n",
    "                data = data[e],\n",
    "                x = columns[e].t,\n",
    "                xerr = columns[e].Error_t,\n",
    "                y = columns[e].P_h,\n",
    "                yerr = columns[e].Error_P_h)\n",
    "\n",
    "t_linspace = ll.linspace(columns[e].t)\n",
    "\n",
    "plt.errorbar(x = t_linspace,\n",
    "             y = model(t_linspace))\n",
    "\n",
    "plt.axis([-10, None, 0, None])\n",
    "plt.plot()"
   ]
  },
  {
   "cell_type": "code",
   "execution_count": 5,
   "metadata": {
    "collapsed": false
   },
   "outputs": [
    {
     "name": "stdout",
     "output_type": "stream",
     "text": [
      "Computing variable W\n",
      "Error influence estimations:\n"
     ]
    },
    {
     "data": {
      "text/html": [
       "<div>\n",
       "<table border=\"1\" class=\"dataframe\">\n",
       "  <thead>\n",
       "    <tr style=\"text-align: right;\">\n",
       "      <th></th>\n",
       "      <th>Error</th>\n",
       "      <th>Derivative</th>\n",
       "      <th>(E*D)^2</th>\n",
       "    </tr>\n",
       "  </thead>\n",
       "  <tbody>\n",
       "    <tr>\n",
       "      <th>V_high</th>\n",
       "      <td>0.000336</td>\n",
       "      <td>0.252422701424140</td>\n",
       "      <td>7.20156018212519e-9</td>\n",
       "    </tr>\n",
       "    <tr>\n",
       "      <th>_W_V</th>\n",
       "      <td>0.005853</td>\n",
       "      <td>0.00192034647342142</td>\n",
       "      <td>1.26317299881345e-10</td>\n",
       "    </tr>\n",
       "  </tbody>\n",
       "</table>\n",
       "</div>"
      ],
      "text/plain": [
       "          Error           Derivative               (E*D)^2\n",
       "V_high 0.000336    0.252422701424140   7.20156018212519e-9\n",
       "_W_V   0.005853  0.00192034647342142  1.26317299881345e-10"
      ]
     },
     "metadata": {},
     "output_type": "display_data"
    },
    {
     "name": "stdout",
     "output_type": "stream",
     "text": [
      "Result:\n"
     ]
    },
    {
     "data": {
      "text/html": [
       "<div>\n",
       "<table border=\"1\" class=\"dataframe\">\n",
       "  <thead>\n",
       "    <tr style=\"text-align: right;\">\n",
       "      <th></th>\n",
       "      <th>Value</th>\n",
       "      <th>Error</th>\n",
       "      <th>ErrorRel</th>\n",
       "    </tr>\n",
       "  </thead>\n",
       "  <tbody>\n",
       "    <tr>\n",
       "      <th>W</th>\n",
       "      <td>0.000485</td>\n",
       "      <td>0.000086</td>\n",
       "      <td>17.66%</td>\n",
       "    </tr>\n",
       "  </tbody>\n",
       "</table>\n",
       "</div>"
      ],
      "text/plain": [
       "     Value    Error  ErrorRel\n",
       "W 0.000485 0.000086  0.176596"
      ]
     },
     "metadata": {},
     "output_type": "display_data"
    }
   ],
   "source": [
    "e = \"performance-improve\"\n",
    "\n",
    "ll.compute(name = \"W\",\n",
    "           expr = lambda _W_V, V_high: _W_V * V_high,\n",
    "           data = data[e],\n",
    "           debug = True)\n",
    "\n",
    "for e2 in experiments:\n",
    "    ll.add(data[e2], data[e].loc[[\"W\"]])"
   ]
  },
  {
   "cell_type": "markdown",
   "metadata": {},
   "source": [
    "Оценим обратный поток газа через диффузионный насос, исходя из временных характеристик ухудшения вакуума и уже вычисленной производительности насоса."
   ]
  },
  {
   "cell_type": "code",
   "execution_count": 6,
   "metadata": {
    "collapsed": false
   },
   "outputs": [
    {
     "name": "stdout",
     "output_type": "stream",
     "text": [
      "Initial guesses for P_h:\n",
      "            Value    Error  ErrorRel\n",
      "_dP_dT  0.000890 0.000012  0.013100\n",
      "_P_best 0.016543 0.000473  0.028613\n"
     ]
    },
    {
     "data": {
      "text/plain": [
       "'Final guesses for P_h:'"
      ]
     },
     "metadata": {},
     "output_type": "display_data"
    },
    {
     "data": {
      "text/html": [
       "<div>\n",
       "<table border=\"1\" class=\"dataframe\">\n",
       "  <thead>\n",
       "    <tr style=\"text-align: right;\">\n",
       "      <th></th>\n",
       "      <th>Value</th>\n",
       "      <th>Error</th>\n",
       "      <th>ErrorRel</th>\n",
       "    </tr>\n",
       "  </thead>\n",
       "  <tbody>\n",
       "    <tr>\n",
       "      <th>_dP_dT</th>\n",
       "      <td>0.000890</td>\n",
       "      <td>0.000011</td>\n",
       "      <td>1.28%</td>\n",
       "    </tr>\n",
       "    <tr>\n",
       "      <th>_P_best</th>\n",
       "      <td>0.016543</td>\n",
       "      <td>0.000461</td>\n",
       "      <td>2.79%</td>\n",
       "    </tr>\n",
       "  </tbody>\n",
       "</table>\n",
       "</div>"
      ],
      "text/plain": [
       "           Value    Error  ErrorRel\n",
       "_dP_dT  0.000890 0.000011  0.012766\n",
       "_P_best 0.016543 0.000461  0.027884"
      ]
     },
     "metadata": {},
     "output_type": "display_data"
    },
    {
     "data": {
      "text/plain": [
       "[]"
      ]
     },
     "execution_count": 6,
     "metadata": {},
     "output_type": "execute_result"
    },
    {
     "data": {
      "image/png": "[encoded data removed]",
      "text/plain": [
       "<matplotlib.figure.Figure at 0x7fbe57f9ef98>"
      ]
     },
     "metadata": {},
     "output_type": "display_data"
    }
   ],
   "source": [
    "e = \"performance-fall\"\n",
    "\n",
    "plt.title(\"Vacuum reduction performance\")\n",
    "plt.xlabel(\"$t$, sec\")\n",
    "plt.ylabel(\"$P_{high}$, Pa\")\n",
    "\n",
    "plt.errorbar(x = columns[e].t,\n",
    "             xerr = columns[e].Error_t,\n",
    "             y = columns[e].P_h,\n",
    "             yerr = columns[e].Error_P_h,\n",
    "             linestyle = \"none\")\n",
    "\n",
    "model = ll.fit2(name = \"P_h\",\n",
    "                model = lambda t, _dP_dT, _P_best: _P_best + t * _dP_dT, \n",
    "                data = data[e],\n",
    "                x = columns[e].t,\n",
    "                xerr = columns[e].Error_t,\n",
    "                y = columns[e].P_h,\n",
    "                yerr = columns[e].Error_P_h)\n",
    "\n",
    "t_linspace = ll.linspace(columns[e].t)\n",
    "\n",
    "plt.errorbar(x = t_linspace,\n",
    "             y = model(t_linspace))\n",
    "\n",
    "plt.axis([-10, None, 0, None])\n",
    "plt.plot()"
   ]
  },
  {
   "cell_type": "code",
   "execution_count": 7,
   "metadata": {
    "collapsed": false
   },
   "outputs": [
    {
     "name": "stdout",
     "output_type": "stream",
     "text": [
      "Computing variable Q_p\n",
      "Error influence estimations:\n"
     ]
    },
    {
     "data": {
      "text/html": [
       "<div>\n",
       "<table border=\"1\" class=\"dataframe\">\n",
       "  <thead>\n",
       "    <tr style=\"text-align: right;\">\n",
       "      <th></th>\n",
       "      <th>Error</th>\n",
       "      <th>Derivative</th>\n",
       "      <th>(E*D)^2</th>\n",
       "    </tr>\n",
       "  </thead>\n",
       "  <tbody>\n",
       "    <tr>\n",
       "      <th>W</th>\n",
       "      <td>0.000086</td>\n",
       "      <td>0.0165426724150055</td>\n",
       "      <td>2.00534702962259e-12</td>\n",
       "    </tr>\n",
       "    <tr>\n",
       "      <th>V_high</th>\n",
       "      <td>0.000336</td>\n",
       "      <td>-0.000890300514790528</td>\n",
       "      <td>8.95865934726469e-14</td>\n",
       "    </tr>\n",
       "    <tr>\n",
       "      <th>_P_best</th>\n",
       "      <td>0.000461</td>\n",
       "      <td>0.000484739044491355</td>\n",
       "      <td>4.99978639814476e-14</td>\n",
       "    </tr>\n",
       "    <tr>\n",
       "      <th>_dP_dT</th>\n",
       "      <td>0.000011</td>\n",
       "      <td>-0.00192034647342142</td>\n",
       "      <td>4.76383617028347e-16</td>\n",
       "    </tr>\n",
       "  </tbody>\n",
       "</table>\n",
       "</div>"
      ],
      "text/plain": [
       "           Error             Derivative               (E*D)^2\n",
       "W       0.000086     0.0165426724150055  2.00534702962259e-12\n",
       "V_high  0.000336  -0.000890300514790528  8.95865934726469e-14\n",
       "_P_best 0.000461   0.000484739044491355  4.99978639814476e-14\n",
       "_dP_dT  0.000011   -0.00192034647342142  4.76383617028347e-16"
      ]
     },
     "metadata": {},
     "output_type": "display_data"
    },
    {
     "name": "stdout",
     "output_type": "stream",
     "text": [
      "Result:\n"
     ]
    },
    {
     "data": {
      "text/html": [
       "<div>\n",
       "<table border=\"1\" class=\"dataframe\">\n",
       "  <thead>\n",
       "    <tr style=\"text-align: right;\">\n",
       "      <th></th>\n",
       "      <th>Value</th>\n",
       "      <th>Error</th>\n",
       "      <th>ErrorRel</th>\n",
       "    </tr>\n",
       "  </thead>\n",
       "  <tbody>\n",
       "    <tr>\n",
       "      <th>Q_p</th>\n",
       "      <td>0.000006</td>\n",
       "      <td>0.000001</td>\n",
       "      <td>23.22%</td>\n",
       "    </tr>\n",
       "  </tbody>\n",
       "</table>\n",
       "</div>"
      ],
      "text/plain": [
       "       Value    Error  ErrorRel\n",
       "Q_p 0.000006 0.000001  0.232157"
      ]
     },
     "metadata": {},
     "output_type": "display_data"
    },
    {
     "data": {
      "text/plain": [
       "[]"
      ]
     },
     "execution_count": 7,
     "metadata": {},
     "output_type": "execute_result"
    }
   ],
   "source": [
    "e = \"performance-fall\"\n",
    "\n",
    "ll.compute(name = \"Q_p\",\n",
    "           expr = lambda _P_best, W, V_high, _dP_dT: _P_best*W - V_high*_dP_dT,\n",
    "           data = data[e],\n",
    "           debug = True)\n",
    "[]"
   ]
  },
  {
   "cell_type": "markdown",
   "metadata": {},
   "source": [
    "Рассчитаем производительность диффузионного насоса во второй раз, теперь исходя из изменения давления при создании управляемой течи через капилляр."
   ]
  },
  {
   "cell_type": "code",
   "execution_count": 8,
   "metadata": {
    "collapsed": false
   },
   "outputs": [
    {
     "name": "stdout",
     "output_type": "stream",
     "text": [
      "Computing variable W_l\n",
      "Error influence estimations:\n"
     ]
    },
    {
     "data": {
      "text/html": [
       "<div>\n",
       "<table border=\"1\" class=\"dataframe\">\n",
       "  <thead>\n",
       "    <tr style=\"text-align: right;\">\n",
       "      <th></th>\n",
       "      <th>Error</th>\n",
       "      <th>Derivative</th>\n",
       "      <th>(E*D)^2</th>\n",
       "    </tr>\n",
       "  </thead>\n",
       "  <tbody>\n",
       "    <tr>\n",
       "      <th>P_h_leak</th>\n",
       "      <td>0.001333</td>\n",
       "      <td>-0.167769623883560</td>\n",
       "      <td>5.00302770439657e-8</td>\n",
       "    </tr>\n",
       "    <tr>\n",
       "      <th>d_cap</th>\n",
       "      <td>0.000050</td>\n",
       "      <td>2.44547481106803</td>\n",
       "      <td>1.49508676289205e-8</td>\n",
       "    </tr>\n",
       "    <tr>\n",
       "      <th>P_f_leak</th>\n",
       "      <td>0.033331</td>\n",
       "      <td>0.00101903139851969</td>\n",
       "      <td>1.15361632939202e-9</td>\n",
       "    </tr>\n",
       "    <tr>\n",
       "      <th>P_h_best</th>\n",
       "      <td>0.000133</td>\n",
       "      <td>0.166750592485040</td>\n",
       "      <td>4.94243557980843e-10</td>\n",
       "    </tr>\n",
       "    <tr>\n",
       "      <th>mu_ambient</th>\n",
       "      <td>0.000050</td>\n",
       "      <td>-0.126490076434553</td>\n",
       "      <td>3.99993485910478e-11</td>\n",
       "    </tr>\n",
       "    <tr>\n",
       "      <th>T_ambient</th>\n",
       "      <td>5.000000</td>\n",
       "      <td>1.22273740553401e-6</td>\n",
       "      <td>3.73771690723013e-11</td>\n",
       "    </tr>\n",
       "    <tr>\n",
       "      <th>L_cap</th>\n",
       "      <td>0.000500</td>\n",
       "      <td>-0.0116451181479430</td>\n",
       "      <td>3.39021941698878e-11</td>\n",
       "    </tr>\n",
       "  </tbody>\n",
       "</table>\n",
       "</div>"
      ],
      "text/plain": [
       "              Error           Derivative               (E*D)^2\n",
       "P_h_leak   0.001333   -0.167769623883560   5.00302770439657e-8\n",
       "d_cap      0.000050     2.44547481106803   1.49508676289205e-8\n",
       "P_f_leak   0.033331  0.00101903139851969   1.15361632939202e-9\n",
       "P_h_best   0.000133    0.166750592485040  4.94243557980843e-10\n",
       "mu_ambient 0.000050   -0.126490076434553  3.99993485910478e-11\n",
       "T_ambient  5.000000  1.22273740553401e-6  3.73771690723013e-11\n",
       "L_cap      0.000500  -0.0116451181479430  3.39021941698878e-11"
      ]
     },
     "metadata": {},
     "output_type": "display_data"
    },
    {
     "name": "stdout",
     "output_type": "stream",
     "text": [
      "Result:\n"
     ]
    },
    {
     "data": {
      "text/html": [
       "<div>\n",
       "<table border=\"1\" class=\"dataframe\">\n",
       "  <thead>\n",
       "    <tr style=\"text-align: right;\">\n",
       "      <th></th>\n",
       "      <th>Value</th>\n",
       "      <th>Error</th>\n",
       "      <th>ErrorRel</th>\n",
       "    </tr>\n",
       "  </thead>\n",
       "  <tbody>\n",
       "    <tr>\n",
       "      <th>W_l</th>\n",
       "      <td>0.000734</td>\n",
       "      <td>0.000258</td>\n",
       "      <td>35.21%</td>\n",
       "    </tr>\n",
       "  </tbody>\n",
       "</table>\n",
       "</div>"
      ],
      "text/plain": [
       "       Value    Error  ErrorRel\n",
       "W_l 0.000734 0.000258  0.352135"
      ]
     },
     "metadata": {},
     "output_type": "display_data"
    },
    {
     "data": {
      "text/plain": [
       "[]"
      ]
     },
     "execution_count": 8,
     "metadata": {},
     "output_type": "execute_result"
    }
   ],
   "source": [
    "e = \"leak\"\n",
    "\n",
    "ll.compute(name = \"W_l\",\n",
    "           expr = lambda d_cap, L_cap, T_ambient, mu_ambient, P_h_best, P_h_leak, P_f_leak:\n",
    "                         4/3 * (d_cap/2)**3 * (2*m.pi*ll.R*T_ambient/mu_ambient)**(1/2) * (P_f_leak - P_h_leak)/(L_cap*(P_h_leak - P_h_best)),\n",
    "           data = data[e],\n",
    "           debug = True)\n",
    "[]"
   ]
  },
  {
   "cell_type": "code",
   "execution_count": 9,
   "metadata": {
    "collapsed": false
   },
   "outputs": [
    {
     "data": {
      "text/plain": [
       "[]"
      ]
     },
     "execution_count": 9,
     "metadata": {},
     "output_type": "execute_result"
    },
    {
     "data": {
      "image/png": "[encoded data removed]",
      "text/plain": [
       "<matplotlib.figure.Figure at 0x7fbe56671710>"
      ]
     },
     "metadata": {},
     "output_type": "display_data"
    }
   ],
   "source": [
    "plt.title(\"Diffusion pump performance\")\n",
    "plt.ylabel(\"$W$, $m^3/sec$\")\n",
    "\n",
    "plt.bar(left = [0],\n",
    "        width = 1,\n",
    "        height = [data[\"performance-improve\"].Value[\"W\"]],\n",
    "        yerr = [data[\"performance-improve\"].Error[\"W\"]],\n",
    "        color = \"red\",\n",
    "        alpha = 0.4,\n",
    "        label = \"Vacuum improvement\")\n",
    "plt.bar(left = [1],\n",
    "        width = 1,\n",
    "        height = [data[\"leak\"].Value[\"W_l\"]],\n",
    "        yerr = [data[\"leak\"].Error[\"W_l\"]],\n",
    "        color = \"yellow\",\n",
    "        alpha = 0.4,\n",
    "        label = \"Leak\")\n",
    "\n",
    "plt.xticks([0.5, 1.5], [])\n",
    "plt.legend(loc = \"upper left\")\n",
    "plt.axis([-1, 3, None, None])\n",
    "plt.plot()"
   ]
  },
  {
   "cell_type": "markdown",
   "metadata": {
    "collapsed": true
   },
   "source": [
    "Оцененное таким образом значение получилось выше, чем рассчитанное исходя из предельного вакуума. Это может быть следствием того, что нельзя полностью исключить вязкостные (межмолекулярные) эффекты в протекающем через капилляр газе, за счёт чего поток газа через капилляр наверняка меньше теоретического."
   ]
  }
 ],
 "metadata": {
  "kernelspec": {
   "display_name": "Python 3",
   "language": "python",
   "name": "python3"
  },
  "language_info": {
   "codemirror_mode": {
    "name": "ipython",
    "version": 3
   },
   "file_extension": ".py",
   "mimetype": "text/x-python",
   "name": "python",
   "nbconvert_exporter": "python",
   "pygments_lexer": "ipython3",
   "version": "3.5.2"
  }
 },
 "nbformat": 4,
 "nbformat_minor": 0
}
