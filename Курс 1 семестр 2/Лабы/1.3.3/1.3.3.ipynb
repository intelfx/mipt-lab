{
 "cells": [
  {
   "cell_type": "code",
   "execution_count": 1,
   "metadata": {
    "collapsed": false
   },
   "outputs": [],
   "source": [
    "import pandas as pd\n",
    "import numpy as np\n",
    "import scipy as sp\n",
    "import matplotlib as mp\n",
    "import matplotlib.pyplot as plt\n",
    "import math as m\n",
    "import sympy as smp\n",
    "from IPython.display import display as disp\n",
    "import lablib as ll\n",
    "%matplotlib inline"
   ]
  },
  {
   "cell_type": "code",
   "execution_count": 2,
   "metadata": {
    "collapsed": false
   },
   "outputs": [],
   "source": [
    "data = {}\n",
    "columns = {}\n",
    "aux = {}\n",
    "experiments = [\"step_1\", \"step_2\", \"step_3_1\", \"step_3_2\"]\n",
    "\n",
    "constants = ll.read_csv(\"constants.csv\")\n",
    "\n",
    "for e in experiments:\n",
    "    columns[e] = ll.read_csv(\"measurements/%s.csv\" % e)\n",
    "    data[e] = ll.varlist()\n",
    "    ll.add(data[e],\n",
    "           constants,\n",
    "           ll.read_csv(\"constants/%s.csv\" % e))\n",
    "\n",
    "#for e in experiments:\n",
    "#    disp(\"Data for experiment %s:\" % e, data[e])\n",
    "#    \n",
    "#for e in experiments:\n",
    "#    disp(\"Constants for experiment %s:\" % e, work[e])"
   ]
  },
  {
   "cell_type": "code",
   "execution_count": 3,
   "metadata": {
    "collapsed": false
   },
   "outputs": [
    {
     "data": {
      "text/plain": [
       "'Data for step_1 (d = 0.003575 ± 0.000025):'"
      ]
     },
     "metadata": {},
     "output_type": "display_data"
    },
    {
     "data": {
      "text/html": [
       "<div>\n",
       "<table border=\"1\" class=\"dataframe\">\n",
       "  <thead>\n",
       "    <tr style=\"text-align: right;\">\n",
       "      <th></th>\n",
       "      <th>Value</th>\n",
       "      <th>Error</th>\n",
       "    </tr>\n",
       "  </thead>\n",
       "  <tbody>\n",
       "    <tr>\n",
       "      <th>P_coef</th>\n",
       "      <td>9.806650</td>\n",
       "      <td>0.000005</td>\n",
       "    </tr>\n",
       "    <tr>\n",
       "      <th>P_angle</th>\n",
       "      <td>0.200000</td>\n",
       "      <td>0.005000</td>\n",
       "    </tr>\n",
       "    <tr>\n",
       "      <th>d</th>\n",
       "      <td>0.003575</td>\n",
       "      <td>0.000025</td>\n",
       "    </tr>\n",
       "    <tr>\n",
       "      <th>L_1</th>\n",
       "      <td>0.409000</td>\n",
       "      <td>0.000500</td>\n",
       "    </tr>\n",
       "    <tr>\n",
       "      <th>L_2</th>\n",
       "      <td>0.809000</td>\n",
       "      <td>0.000500</td>\n",
       "    </tr>\n",
       "    <tr>\n",
       "      <th>L</th>\n",
       "      <td>0.400000</td>\n",
       "      <td>0.000707</td>\n",
       "    </tr>\n",
       "  </tbody>\n",
       "</table>\n",
       "</div>"
      ],
      "text/plain": [
       "            Value     Error\n",
       "P_coef   9.806650  0.000005\n",
       "P_angle  0.200000  0.005000\n",
       "d        0.003575  0.000025\n",
       "L_1      0.409000  0.000500\n",
       "L_2      0.809000  0.000500\n",
       "L        0.400000  0.000707"
      ]
     },
     "metadata": {},
     "output_type": "display_data"
    },
    {
     "data": {
      "text/html": [
       "<div>\n",
       "<table border=\"1\" class=\"dataframe\">\n",
       "  <thead>\n",
       "    <tr style=\"text-align: right;\">\n",
       "      <th></th>\n",
       "      <th>P_m</th>\n",
       "      <th>Error_P_m</th>\n",
       "      <th>V</th>\n",
       "      <th>Error_V</th>\n",
       "      <th>t</th>\n",
       "      <th>Error_t</th>\n",
       "      <th>P</th>\n",
       "      <th>Error_P</th>\n",
       "      <th>Q</th>\n",
       "      <th>Error_Q</th>\n",
       "    </tr>\n",
       "  </thead>\n",
       "  <tbody>\n",
       "    <tr>\n",
       "      <th>0</th>\n",
       "      <td>10</td>\n",
       "      <td>0.5</td>\n",
       "      <td>1</td>\n",
       "      <td>0.05</td>\n",
       "      <td>68</td>\n",
       "      <td>1</td>\n",
       "      <td>19.61330</td>\n",
       "      <td>1.096417</td>\n",
       "      <td>0.014706</td>\n",
       "      <td>0.000766</td>\n",
       "    </tr>\n",
       "    <tr>\n",
       "      <th>1</th>\n",
       "      <td>20</td>\n",
       "      <td>0.5</td>\n",
       "      <td>2</td>\n",
       "      <td>0.05</td>\n",
       "      <td>68</td>\n",
       "      <td>1</td>\n",
       "      <td>39.22660</td>\n",
       "      <td>1.386870</td>\n",
       "      <td>0.029412</td>\n",
       "      <td>0.000853</td>\n",
       "    </tr>\n",
       "    <tr>\n",
       "      <th>2</th>\n",
       "      <td>30</td>\n",
       "      <td>0.5</td>\n",
       "      <td>3</td>\n",
       "      <td>0.05</td>\n",
       "      <td>70</td>\n",
       "      <td>1</td>\n",
       "      <td>58.83990</td>\n",
       "      <td>1.767919</td>\n",
       "      <td>0.042857</td>\n",
       "      <td>0.000941</td>\n",
       "    </tr>\n",
       "    <tr>\n",
       "      <th>3</th>\n",
       "      <td>40</td>\n",
       "      <td>0.5</td>\n",
       "      <td>4</td>\n",
       "      <td>0.05</td>\n",
       "      <td>73</td>\n",
       "      <td>1</td>\n",
       "      <td>78.45320</td>\n",
       "      <td>2.192834</td>\n",
       "      <td>0.054795</td>\n",
       "      <td>0.001016</td>\n",
       "    </tr>\n",
       "    <tr>\n",
       "      <th>4</th>\n",
       "      <td>50</td>\n",
       "      <td>0.5</td>\n",
       "      <td>5</td>\n",
       "      <td>0.05</td>\n",
       "      <td>77</td>\n",
       "      <td>1</td>\n",
       "      <td>98.06650</td>\n",
       "      <td>2.640521</td>\n",
       "      <td>0.064935</td>\n",
       "      <td>0.001064</td>\n",
       "    </tr>\n",
       "    <tr>\n",
       "      <th>5</th>\n",
       "      <td>60</td>\n",
       "      <td>0.5</td>\n",
       "      <td>6</td>\n",
       "      <td>0.10</td>\n",
       "      <td>81</td>\n",
       "      <td>1</td>\n",
       "      <td>117.67980</td>\n",
       "      <td>3.101135</td>\n",
       "      <td>0.074074</td>\n",
       "      <td>0.001536</td>\n",
       "    </tr>\n",
       "    <tr>\n",
       "      <th>6</th>\n",
       "      <td>70</td>\n",
       "      <td>1.0</td>\n",
       "      <td>7</td>\n",
       "      <td>0.10</td>\n",
       "      <td>87</td>\n",
       "      <td>1</td>\n",
       "      <td>137.29310</td>\n",
       "      <td>3.953187</td>\n",
       "      <td>0.080460</td>\n",
       "      <td>0.001475</td>\n",
       "    </tr>\n",
       "    <tr>\n",
       "      <th>7</th>\n",
       "      <td>80</td>\n",
       "      <td>1.0</td>\n",
       "      <td>8</td>\n",
       "      <td>0.10</td>\n",
       "      <td>95</td>\n",
       "      <td>1</td>\n",
       "      <td>156.90640</td>\n",
       "      <td>4.385667</td>\n",
       "      <td>0.084211</td>\n",
       "      <td>0.001376</td>\n",
       "    </tr>\n",
       "    <tr>\n",
       "      <th>8</th>\n",
       "      <td>90</td>\n",
       "      <td>1.0</td>\n",
       "      <td>9</td>\n",
       "      <td>0.10</td>\n",
       "      <td>100</td>\n",
       "      <td>1</td>\n",
       "      <td>176.51970</td>\n",
       "      <td>4.829215</td>\n",
       "      <td>0.090000</td>\n",
       "      <td>0.001345</td>\n",
       "    </tr>\n",
       "    <tr>\n",
       "      <th>9</th>\n",
       "      <td>100</td>\n",
       "      <td>1.0</td>\n",
       "      <td>10</td>\n",
       "      <td>0.10</td>\n",
       "      <td>104</td>\n",
       "      <td>1</td>\n",
       "      <td>196.13300</td>\n",
       "      <td>5.281043</td>\n",
       "      <td>0.096154</td>\n",
       "      <td>0.001334</td>\n",
       "    </tr>\n",
       "    <tr>\n",
       "      <th>10</th>\n",
       "      <td>131</td>\n",
       "      <td>1.0</td>\n",
       "      <td>10</td>\n",
       "      <td>0.10</td>\n",
       "      <td>92</td>\n",
       "      <td>1</td>\n",
       "      <td>256.93423</td>\n",
       "      <td>6.716123</td>\n",
       "      <td>0.108696</td>\n",
       "      <td>0.001605</td>\n",
       "    </tr>\n",
       "    <tr>\n",
       "      <th>11</th>\n",
       "      <td>161</td>\n",
       "      <td>1.0</td>\n",
       "      <td>10</td>\n",
       "      <td>0.10</td>\n",
       "      <td>83</td>\n",
       "      <td>1</td>\n",
       "      <td>315.77413</td>\n",
       "      <td>8.134349</td>\n",
       "      <td>0.120482</td>\n",
       "      <td>0.001886</td>\n",
       "    </tr>\n",
       "    <tr>\n",
       "      <th>12</th>\n",
       "      <td>191</td>\n",
       "      <td>1.0</td>\n",
       "      <td>10</td>\n",
       "      <td>0.10</td>\n",
       "      <td>76</td>\n",
       "      <td>1</td>\n",
       "      <td>374.61403</td>\n",
       "      <td>9.568522</td>\n",
       "      <td>0.131579</td>\n",
       "      <td>0.002175</td>\n",
       "    </tr>\n",
       "    <tr>\n",
       "      <th>13</th>\n",
       "      <td>220</td>\n",
       "      <td>1.0</td>\n",
       "      <td>10</td>\n",
       "      <td>0.10</td>\n",
       "      <td>70</td>\n",
       "      <td>1</td>\n",
       "      <td>431.49260</td>\n",
       "      <td>10.964168</td>\n",
       "      <td>0.142857</td>\n",
       "      <td>0.002491</td>\n",
       "    </tr>\n",
       "    <tr>\n",
       "      <th>14</th>\n",
       "      <td>250</td>\n",
       "      <td>1.0</td>\n",
       "      <td>10</td>\n",
       "      <td>0.10</td>\n",
       "      <td>65</td>\n",
       "      <td>1</td>\n",
       "      <td>490.33250</td>\n",
       "      <td>12.414227</td>\n",
       "      <td>0.153846</td>\n",
       "      <td>0.002823</td>\n",
       "    </tr>\n",
       "  </tbody>\n",
       "</table>\n",
       "</div>"
      ],
      "text/plain": [
       "    P_m  Error_P_m   V  Error_V    t  Error_t          P    Error_P         Q  \\\n",
       "0    10        0.5   1     0.05   68        1   19.61330   1.096417  0.014706   \n",
       "1    20        0.5   2     0.05   68        1   39.22660   1.386870  0.029412   \n",
       "2    30        0.5   3     0.05   70        1   58.83990   1.767919  0.042857   \n",
       "3    40        0.5   4     0.05   73        1   78.45320   2.192834  0.054795   \n",
       "4    50        0.5   5     0.05   77        1   98.06650   2.640521  0.064935   \n",
       "5    60        0.5   6     0.10   81        1  117.67980   3.101135  0.074074   \n",
       "6    70        1.0   7     0.10   87        1  137.29310   3.953187  0.080460   \n",
       "7    80        1.0   8     0.10   95        1  156.90640   4.385667  0.084211   \n",
       "8    90        1.0   9     0.10  100        1  176.51970   4.829215  0.090000   \n",
       "9   100        1.0  10     0.10  104        1  196.13300   5.281043  0.096154   \n",
       "10  131        1.0  10     0.10   92        1  256.93423   6.716123  0.108696   \n",
       "11  161        1.0  10     0.10   83        1  315.77413   8.134349  0.120482   \n",
       "12  191        1.0  10     0.10   76        1  374.61403   9.568522  0.131579   \n",
       "13  220        1.0  10     0.10   70        1  431.49260  10.964168  0.142857   \n",
       "14  250        1.0  10     0.10   65        1  490.33250  12.414227  0.153846   \n",
       "\n",
       "     Error_Q  \n",
       "0   0.000766  \n",
       "1   0.000853  \n",
       "2   0.000941  \n",
       "3   0.001016  \n",
       "4   0.001064  \n",
       "5   0.001536  \n",
       "6   0.001475  \n",
       "7   0.001376  \n",
       "8   0.001345  \n",
       "9   0.001334  \n",
       "10  0.001605  \n",
       "11  0.001886  \n",
       "12  0.002175  \n",
       "13  0.002491  \n",
       "14  0.002823  "
      ]
     },
     "metadata": {},
     "output_type": "display_data"
    },
    {
     "data": {
      "text/plain": [
       "'Data for step_2 (d = 0.003575 ± 0.000025):'"
      ]
     },
     "metadata": {},
     "output_type": "display_data"
    },
    {
     "data": {
      "text/html": [
       "<div>\n",
       "<table border=\"1\" class=\"dataframe\">\n",
       "  <thead>\n",
       "    <tr style=\"text-align: right;\">\n",
       "      <th></th>\n",
       "      <th>Value</th>\n",
       "      <th>Error</th>\n",
       "    </tr>\n",
       "  </thead>\n",
       "  <tbody>\n",
       "    <tr>\n",
       "      <th>P_coef</th>\n",
       "      <td>9.806650</td>\n",
       "      <td>0.000005</td>\n",
       "    </tr>\n",
       "    <tr>\n",
       "      <th>P_angle</th>\n",
       "      <td>0.200000</td>\n",
       "      <td>0.005000</td>\n",
       "    </tr>\n",
       "    <tr>\n",
       "      <th>V</th>\n",
       "      <td>5.000000</td>\n",
       "      <td>0.050000</td>\n",
       "    </tr>\n",
       "    <tr>\n",
       "      <th>t</th>\n",
       "      <td>72.000000</td>\n",
       "      <td>1.000000</td>\n",
       "    </tr>\n",
       "    <tr>\n",
       "      <th>d</th>\n",
       "      <td>0.003575</td>\n",
       "      <td>0.000025</td>\n",
       "    </tr>\n",
       "    <tr>\n",
       "      <th>Q</th>\n",
       "      <td>0.069444</td>\n",
       "      <td>0.001188</td>\n",
       "    </tr>\n",
       "  </tbody>\n",
       "</table>\n",
       "</div>"
      ],
      "text/plain": [
       "             Value     Error\n",
       "P_coef    9.806650  0.000005\n",
       "P_angle   0.200000  0.005000\n",
       "V         5.000000  0.050000\n",
       "t        72.000000  1.000000\n",
       "d         0.003575  0.000025\n",
       "Q         0.069444  0.001188"
      ]
     },
     "metadata": {},
     "output_type": "display_data"
    },
    {
     "data": {
      "text/html": [
       "<div>\n",
       "<table border=\"1\" class=\"dataframe\">\n",
       "  <thead>\n",
       "    <tr style=\"text-align: right;\">\n",
       "      <th></th>\n",
       "      <th>L_1</th>\n",
       "      <th>L_2</th>\n",
       "      <th>Error_L_1_2</th>\n",
       "      <th>P_m</th>\n",
       "      <th>Error_P_m</th>\n",
       "      <th>P</th>\n",
       "      <th>Error_P</th>\n",
       "      <th>L</th>\n",
       "      <th>Error_L</th>\n",
       "    </tr>\n",
       "  </thead>\n",
       "  <tbody>\n",
       "    <tr>\n",
       "      <th>0</th>\n",
       "      <td>0</td>\n",
       "      <td>0.109</td>\n",
       "      <td>0.0005</td>\n",
       "      <td>37</td>\n",
       "      <td>0.05</td>\n",
       "      <td>72.56921</td>\n",
       "      <td>1.816879</td>\n",
       "      <td>0.109</td>\n",
       "      <td>0.000707</td>\n",
       "    </tr>\n",
       "    <tr>\n",
       "      <th>1</th>\n",
       "      <td>0</td>\n",
       "      <td>0.409</td>\n",
       "      <td>0.0005</td>\n",
       "      <td>78</td>\n",
       "      <td>0.05</td>\n",
       "      <td>152.98374</td>\n",
       "      <td>3.825851</td>\n",
       "      <td>0.409</td>\n",
       "      <td>0.000707</td>\n",
       "    </tr>\n",
       "    <tr>\n",
       "      <th>2</th>\n",
       "      <td>0</td>\n",
       "      <td>0.709</td>\n",
       "      <td>0.0005</td>\n",
       "      <td>135</td>\n",
       "      <td>0.05</td>\n",
       "      <td>264.77955</td>\n",
       "      <td>6.620215</td>\n",
       "      <td>0.709</td>\n",
       "      <td>0.000707</td>\n",
       "    </tr>\n",
       "    <tr>\n",
       "      <th>3</th>\n",
       "      <td>0</td>\n",
       "      <td>1.209</td>\n",
       "      <td>0.0005</td>\n",
       "      <td>197</td>\n",
       "      <td>0.05</td>\n",
       "      <td>386.38201</td>\n",
       "      <td>9.660048</td>\n",
       "      <td>1.209</td>\n",
       "      <td>0.000707</td>\n",
       "    </tr>\n",
       "  </tbody>\n",
       "</table>\n",
       "</div>"
      ],
      "text/plain": [
       "   L_1    L_2  Error_L_1_2  P_m  Error_P_m          P   Error_P      L  \\\n",
       "0    0  0.109       0.0005   37       0.05   72.56921  1.816879  0.109   \n",
       "1    0  0.409       0.0005   78       0.05  152.98374  3.825851  0.409   \n",
       "2    0  0.709       0.0005  135       0.05  264.77955  6.620215  0.709   \n",
       "3    0  1.209       0.0005  197       0.05  386.38201  9.660048  1.209   \n",
       "\n",
       "    Error_L  \n",
       "0  0.000707  \n",
       "1  0.000707  \n",
       "2  0.000707  \n",
       "3  0.000707  "
      ]
     },
     "metadata": {},
     "output_type": "display_data"
    },
    {
     "data": {
      "text/plain": [
       "'Data for step_3_1 (d = 0.005250 ± 0.000250):'"
      ]
     },
     "metadata": {},
     "output_type": "display_data"
    },
    {
     "data": {
      "text/html": [
       "<div>\n",
       "<table border=\"1\" class=\"dataframe\">\n",
       "  <thead>\n",
       "    <tr style=\"text-align: right;\">\n",
       "      <th></th>\n",
       "      <th>Value</th>\n",
       "      <th>Error</th>\n",
       "    </tr>\n",
       "  </thead>\n",
       "  <tbody>\n",
       "    <tr>\n",
       "      <th>P_coef</th>\n",
       "      <td>9.80665</td>\n",
       "      <td>0.000005</td>\n",
       "    </tr>\n",
       "    <tr>\n",
       "      <th>P_angle</th>\n",
       "      <td>0.20000</td>\n",
       "      <td>0.005000</td>\n",
       "    </tr>\n",
       "    <tr>\n",
       "      <th>L_1</th>\n",
       "      <td>0.70700</td>\n",
       "      <td>0.000500</td>\n",
       "    </tr>\n",
       "    <tr>\n",
       "      <th>L_2</th>\n",
       "      <td>1.20700</td>\n",
       "      <td>0.000500</td>\n",
       "    </tr>\n",
       "    <tr>\n",
       "      <th>d</th>\n",
       "      <td>0.00525</td>\n",
       "      <td>0.000250</td>\n",
       "    </tr>\n",
       "    <tr>\n",
       "      <th>L</th>\n",
       "      <td>0.50000</td>\n",
       "      <td>0.000707</td>\n",
       "    </tr>\n",
       "  </tbody>\n",
       "</table>\n",
       "</div>"
      ],
      "text/plain": [
       "           Value     Error\n",
       "P_coef   9.80665  0.000005\n",
       "P_angle  0.20000  0.005000\n",
       "L_1      0.70700  0.000500\n",
       "L_2      1.20700  0.000500\n",
       "d        0.00525  0.000250\n",
       "L        0.50000  0.000707"
      ]
     },
     "metadata": {},
     "output_type": "display_data"
    },
    {
     "data": {
      "text/html": [
       "<div>\n",
       "<table border=\"1\" class=\"dataframe\">\n",
       "  <thead>\n",
       "    <tr style=\"text-align: right;\">\n",
       "      <th></th>\n",
       "      <th>P_m</th>\n",
       "      <th>Error_P_m</th>\n",
       "      <th>V</th>\n",
       "      <th>Error_V</th>\n",
       "      <th>t</th>\n",
       "      <th>Error_t</th>\n",
       "      <th>P</th>\n",
       "      <th>Error_P</th>\n",
       "      <th>Q</th>\n",
       "      <th>Error_Q</th>\n",
       "    </tr>\n",
       "  </thead>\n",
       "  <tbody>\n",
       "    <tr>\n",
       "      <th>0</th>\n",
       "      <td>20</td>\n",
       "      <td>0.5</td>\n",
       "      <td>5</td>\n",
       "      <td>0.1</td>\n",
       "      <td>60</td>\n",
       "      <td>1</td>\n",
       "      <td>39.2266</td>\n",
       "      <td>1.386870</td>\n",
       "      <td>0.083333</td>\n",
       "      <td>0.002170</td>\n",
       "    </tr>\n",
       "    <tr>\n",
       "      <th>1</th>\n",
       "      <td>40</td>\n",
       "      <td>0.5</td>\n",
       "      <td>10</td>\n",
       "      <td>0.1</td>\n",
       "      <td>70</td>\n",
       "      <td>1</td>\n",
       "      <td>78.4532</td>\n",
       "      <td>2.192834</td>\n",
       "      <td>0.142857</td>\n",
       "      <td>0.002491</td>\n",
       "    </tr>\n",
       "    <tr>\n",
       "      <th>2</th>\n",
       "      <td>60</td>\n",
       "      <td>0.5</td>\n",
       "      <td>10</td>\n",
       "      <td>0.1</td>\n",
       "      <td>60</td>\n",
       "      <td>1</td>\n",
       "      <td>117.6798</td>\n",
       "      <td>3.101135</td>\n",
       "      <td>0.166667</td>\n",
       "      <td>0.003239</td>\n",
       "    </tr>\n",
       "    <tr>\n",
       "      <th>3</th>\n",
       "      <td>80</td>\n",
       "      <td>0.5</td>\n",
       "      <td>10</td>\n",
       "      <td>0.1</td>\n",
       "      <td>54</td>\n",
       "      <td>1</td>\n",
       "      <td>156.9064</td>\n",
       "      <td>4.043385</td>\n",
       "      <td>0.185185</td>\n",
       "      <td>0.003897</td>\n",
       "    </tr>\n",
       "  </tbody>\n",
       "</table>\n",
       "</div>"
      ],
      "text/plain": [
       "   P_m  Error_P_m   V  Error_V   t  Error_t         P   Error_P         Q  \\\n",
       "0   20        0.5   5      0.1  60        1   39.2266  1.386870  0.083333   \n",
       "1   40        0.5  10      0.1  70        1   78.4532  2.192834  0.142857   \n",
       "2   60        0.5  10      0.1  60        1  117.6798  3.101135  0.166667   \n",
       "3   80        0.5  10      0.1  54        1  156.9064  4.043385  0.185185   \n",
       "\n",
       "    Error_Q  \n",
       "0  0.002170  \n",
       "1  0.002491  \n",
       "2  0.003239  \n",
       "3  0.003897  "
      ]
     },
     "metadata": {},
     "output_type": "display_data"
    },
    {
     "data": {
      "text/plain": [
       "'Data for step_3_2 (d = 0.003000 ± 0.000100):'"
      ]
     },
     "metadata": {},
     "output_type": "display_data"
    },
    {
     "data": {
      "text/html": [
       "<div>\n",
       "<table border=\"1\" class=\"dataframe\">\n",
       "  <thead>\n",
       "    <tr style=\"text-align: right;\">\n",
       "      <th></th>\n",
       "      <th>Value</th>\n",
       "      <th>Error</th>\n",
       "    </tr>\n",
       "  </thead>\n",
       "  <tbody>\n",
       "    <tr>\n",
       "      <th>P_coef</th>\n",
       "      <td>9.80665</td>\n",
       "      <td>0.000005</td>\n",
       "    </tr>\n",
       "    <tr>\n",
       "      <th>P_angle</th>\n",
       "      <td>0.20000</td>\n",
       "      <td>0.005000</td>\n",
       "    </tr>\n",
       "    <tr>\n",
       "      <th>L_1</th>\n",
       "      <td>0.31000</td>\n",
       "      <td>0.005000</td>\n",
       "    </tr>\n",
       "    <tr>\n",
       "      <th>L_2</th>\n",
       "      <td>0.61000</td>\n",
       "      <td>0.005000</td>\n",
       "    </tr>\n",
       "    <tr>\n",
       "      <th>d</th>\n",
       "      <td>0.00300</td>\n",
       "      <td>0.000100</td>\n",
       "    </tr>\n",
       "    <tr>\n",
       "      <th>L</th>\n",
       "      <td>0.30000</td>\n",
       "      <td>0.007071</td>\n",
       "    </tr>\n",
       "  </tbody>\n",
       "</table>\n",
       "</div>"
      ],
      "text/plain": [
       "           Value     Error\n",
       "P_coef   9.80665  0.000005\n",
       "P_angle  0.20000  0.005000\n",
       "L_1      0.31000  0.005000\n",
       "L_2      0.61000  0.005000\n",
       "d        0.00300  0.000100\n",
       "L        0.30000  0.007071"
      ]
     },
     "metadata": {},
     "output_type": "display_data"
    },
    {
     "data": {
      "text/html": [
       "<div>\n",
       "<table border=\"1\" class=\"dataframe\">\n",
       "  <thead>\n",
       "    <tr style=\"text-align: right;\">\n",
       "      <th></th>\n",
       "      <th>P_m</th>\n",
       "      <th>Error_P_m</th>\n",
       "      <th>V</th>\n",
       "      <th>Error_V</th>\n",
       "      <th>t</th>\n",
       "      <th>Error_t</th>\n",
       "      <th>P</th>\n",
       "      <th>Error_P</th>\n",
       "      <th>Q</th>\n",
       "      <th>Error_Q</th>\n",
       "    </tr>\n",
       "  </thead>\n",
       "  <tbody>\n",
       "    <tr>\n",
       "      <th>0</th>\n",
       "      <td>20</td>\n",
       "      <td>0.5</td>\n",
       "      <td>1</td>\n",
       "      <td>0.05</td>\n",
       "      <td>70</td>\n",
       "      <td>1</td>\n",
       "      <td>39.2266</td>\n",
       "      <td>1.386870</td>\n",
       "      <td>0.014286</td>\n",
       "      <td>0.000743</td>\n",
       "    </tr>\n",
       "    <tr>\n",
       "      <th>1</th>\n",
       "      <td>40</td>\n",
       "      <td>0.5</td>\n",
       "      <td>2</td>\n",
       "      <td>0.05</td>\n",
       "      <td>72</td>\n",
       "      <td>1</td>\n",
       "      <td>78.4532</td>\n",
       "      <td>2.192834</td>\n",
       "      <td>0.027778</td>\n",
       "      <td>0.000794</td>\n",
       "    </tr>\n",
       "    <tr>\n",
       "      <th>2</th>\n",
       "      <td>60</td>\n",
       "      <td>0.5</td>\n",
       "      <td>3</td>\n",
       "      <td>0.05</td>\n",
       "      <td>75</td>\n",
       "      <td>1</td>\n",
       "      <td>117.6798</td>\n",
       "      <td>3.101135</td>\n",
       "      <td>0.040000</td>\n",
       "      <td>0.000854</td>\n",
       "    </tr>\n",
       "    <tr>\n",
       "      <th>3</th>\n",
       "      <td>80</td>\n",
       "      <td>0.5</td>\n",
       "      <td>4</td>\n",
       "      <td>0.05</td>\n",
       "      <td>83</td>\n",
       "      <td>1</td>\n",
       "      <td>156.9064</td>\n",
       "      <td>4.043385</td>\n",
       "      <td>0.048193</td>\n",
       "      <td>0.000837</td>\n",
       "    </tr>\n",
       "  </tbody>\n",
       "</table>\n",
       "</div>"
      ],
      "text/plain": [
       "   P_m  Error_P_m  V  Error_V   t  Error_t         P   Error_P         Q  \\\n",
       "0   20        0.5  1     0.05  70        1   39.2266  1.386870  0.014286   \n",
       "1   40        0.5  2     0.05  72        1   78.4532  2.192834  0.027778   \n",
       "2   60        0.5  3     0.05  75        1  117.6798  3.101135  0.040000   \n",
       "3   80        0.5  4     0.05  83        1  156.9064  4.043385  0.048193   \n",
       "\n",
       "    Error_Q  \n",
       "0  0.000743  \n",
       "1  0.000794  \n",
       "2  0.000854  \n",
       "3  0.000837  "
      ]
     },
     "metadata": {},
     "output_type": "display_data"
    }
   ],
   "source": [
    "for e in experiments:\n",
    "    disp(\"Data for %s (d = %f ± %f):\" % (e, data[e].Value[\"d\"], data[e].Error[\"d\"]))\n",
    "    \n",
    "    ll.compute(name = \"P\",\n",
    "               expr = lambda P_m, P_angle, P_coef: P_m * P_angle * P_coef,\n",
    "               data = data[e],\n",
    "               columns = columns[e])\n",
    "    \n",
    "    ll.compute(name = \"Q\",\n",
    "               expr = lambda V, t: V / t,\n",
    "               data = data[e],\n",
    "               columns = columns[e])\n",
    "    \n",
    "    ll.compute(name = \"L\",\n",
    "               expr = lambda L_1, L_2: L_2 - L_1,\n",
    "               data = data[e],\n",
    "               columns = columns[e],\n",
    "               aux = { \"L_1\": { \"Error\": \"Error_L_1_2\" },\n",
    "                       \"L_2\": { \"Error\": \"Error_L_1_2\" } })\n",
    "\n",
    "    disp(data[e], columns[e])"
   ]
  },
  {
   "cell_type": "code",
   "execution_count": 4,
   "metadata": {
    "collapsed": false
   },
   "outputs": [
    {
     "data": {
      "text/plain": [
       "<matplotlib.legend.Legend at 0x7fd8af01d2b0>"
      ]
     },
     "execution_count": 4,
     "metadata": {},
     "output_type": "execute_result"
    },
    {
     "data": {
      "image/png": "[encoded data removed]",
      "text/plain": [
       "<matplotlib.figure.Figure at 0x7fd8af01d470>"
      ]
     },
     "metadata": {},
     "output_type": "display_data"
    }
   ],
   "source": [
    "plt.title(\"First experiment\")\n",
    "plt.xlabel(\"Gas flow, liters/sec\")\n",
    "plt.ylabel(\"Pressure, Pa\")\n",
    "\n",
    "experiments = [\"step_1\", \"step_3_1\", \"step_3_2\"]\n",
    "colors = [\"black\", \"#800000\", \"#008000\"]\n",
    "\n",
    "for e, c in zip(experiments, colors):\n",
    "    plt.errorbar(x = columns[e].Q,\n",
    "                 y = columns[e].P,\n",
    "                 xerr = columns[e].Error_Q,\n",
    "                 yerr = columns[e].Error_P,\n",
    "                 label = \"%s: $d = %f \\pm %f$\" % (e, data[e].Value[\"d\"], data[e].Error[\"d\"]),\n",
    "                 color = c)\n",
    "\n",
    "plt.legend(loc = \"best\")"
   ]
  },
  {
   "cell_type": "code",
   "execution_count": 5,
   "metadata": {
    "collapsed": true
   },
   "outputs": [],
   "source": [
    "usable = {}\n",
    "usable[\"step_1\"] = 6\n",
    "usable[\"step_3_1\"] = 2\n",
    "usable[\"step_3_2\"] = 3"
   ]
  },
  {
   "cell_type": "code",
   "execution_count": 6,
   "metadata": {
    "collapsed": false
   },
   "outputs": [
    {
     "name": "stdout",
     "output_type": "stream",
     "text": [
      "Initial guesses for P:\n",
      "                 Error        Value\n",
      "poiseuille  18.205894  1445.241983\n"
     ]
    },
    {
     "data": {
      "text/plain": [
       "'Final guesses for P:'"
      ]
     },
     "metadata": {},
     "output_type": "display_data"
    },
    {
     "data": {
      "text/html": [
       "<div>\n",
       "<table border=\"1\" class=\"dataframe\">\n",
       "  <thead>\n",
       "    <tr style=\"text-align: right;\">\n",
       "      <th></th>\n",
       "      <th>Error</th>\n",
       "      <th>Value</th>\n",
       "    </tr>\n",
       "  </thead>\n",
       "  <tbody>\n",
       "    <tr>\n",
       "      <th>poiseuille</th>\n",
       "      <td>40.208177</td>\n",
       "      <td>1453.958085</td>\n",
       "    </tr>\n",
       "  </tbody>\n",
       "</table>\n",
       "</div>"
      ],
      "text/plain": [
       "                Error        Value\n",
       "poiseuille  40.208177  1453.958085"
      ]
     },
     "metadata": {},
     "output_type": "display_data"
    },
    {
     "name": "stdout",
     "output_type": "stream",
     "text": [
      "Initial guesses for P:\n",
      "                 Error       Value\n",
      "poiseuille  11.283306  513.110422\n"
     ]
    },
    {
     "data": {
      "text/plain": [
       "'Final guesses for P:'"
      ]
     },
     "metadata": {},
     "output_type": "display_data"
    },
    {
     "data": {
      "text/html": [
       "<div>\n",
       "<table border=\"1\" class=\"dataframe\">\n",
       "  <thead>\n",
       "    <tr style=\"text-align: right;\">\n",
       "      <th></th>\n",
       "      <th>Error</th>\n",
       "      <th>Value</th>\n",
       "    </tr>\n",
       "  </thead>\n",
       "  <tbody>\n",
       "    <tr>\n",
       "      <th>poiseuille</th>\n",
       "      <td>38.788392</td>\n",
       "      <td>518.090921</td>\n",
       "    </tr>\n",
       "  </tbody>\n",
       "</table>\n",
       "</div>"
      ],
      "text/plain": [
       "                Error       Value\n",
       "poiseuille  38.788392  518.090921"
      ]
     },
     "metadata": {},
     "output_type": "display_data"
    },
    {
     "name": "stdout",
     "output_type": "stream",
     "text": [
      "Initial guesses for P:\n",
      "                 Error        Value\n",
      "poiseuille  48.060162  2850.310235\n"
     ]
    },
    {
     "data": {
      "text/plain": [
       "'Final guesses for P:'"
      ]
     },
     "metadata": {},
     "output_type": "display_data"
    },
    {
     "data": {
      "text/html": [
       "<div>\n",
       "<table border=\"1\" class=\"dataframe\">\n",
       "  <thead>\n",
       "    <tr style=\"text-align: right;\">\n",
       "      <th></th>\n",
       "      <th>Error</th>\n",
       "      <th>Value</th>\n",
       "    </tr>\n",
       "  </thead>\n",
       "  <tbody>\n",
       "    <tr>\n",
       "      <th>poiseuille</th>\n",
       "      <td>52.981959</td>\n",
       "      <td>2870.740732</td>\n",
       "    </tr>\n",
       "  </tbody>\n",
       "</table>\n",
       "</div>"
      ],
      "text/plain": [
       "                Error        Value\n",
       "poiseuille  52.981959  2870.740732"
      ]
     },
     "metadata": {},
     "output_type": "display_data"
    },
    {
     "data": {
      "text/plain": [
       "<matplotlib.legend.Legend at 0x7fd8aecf4588>"
      ]
     },
     "execution_count": 6,
     "metadata": {},
     "output_type": "execute_result"
    },
    {
     "data": {
      "image/png": "[encoded data removed]",
      "text/plain": [
       "<matplotlib.figure.Figure at 0x7fd8aecf4080>"
      ]
     },
     "metadata": {},
     "output_type": "display_data"
    }
   ],
   "source": [
    "plt.title(\"First experiment, with fitting\")\n",
    "plt.xlabel(\"Gas flow, liters/sec\")\n",
    "plt.ylabel(\"Pressure, Pa\")\n",
    "\n",
    "Q_linspace = np.linspace(0, 0.15, 100)\n",
    "\n",
    "for e, c in zip(experiments, colors):\n",
    "    plt.errorbar(x = columns[e].Q[:usable[e]],\n",
    "                 y = columns[e].P[:usable[e]],\n",
    "                 xerr = columns[e].Error_Q[:usable[e]],\n",
    "                 yerr = columns[e].Error_P[:usable[e]],\n",
    "                 label = \"%s: $d = %f \\pm %f$\" % (e, data[e].Value[\"d\"], data[e].Error[\"d\"]),\n",
    "                 ls = \"none\",\n",
    "                 color = c)\n",
    "\n",
    "    plt.errorbar(x = columns[e].Q,\n",
    "                 y = columns[e].P,\n",
    "                 xerr = columns[e].Error_Q,\n",
    "                 yerr = columns[e].Error_P,\n",
    "                 ls = \"none\",\n",
    "                 color = c,\n",
    "                 alpha = 0.5)\n",
    "\n",
    "    model = ll.fit2(name = \"P\",\n",
    "                    model = lambda Q, poiseuille: Q * poiseuille,\n",
    "                    x = columns[e].Q[:usable[e]],\n",
    "                    y = columns[e].P[:usable[e]],\n",
    "                    xerr = columns[e].Error_Q[:usable[e]],\n",
    "                    yerr = columns[e].Error_P[:usable[e]],\n",
    "                    data = data[e])\n",
    "    \n",
    "    plt.errorbar(x = Q_linspace,\n",
    "                 y = model(Q_linspace),\n",
    "                 color = c)\n",
    "\n",
    "plt.legend(loc = \"best\")"
   ]
  },
  {
   "cell_type": "code",
   "execution_count": 7,
   "metadata": {
    "collapsed": false
   },
   "outputs": [
    {
     "data": {
      "text/plain": [
       "<Container object of 3 artists>"
      ]
     },
     "execution_count": 7,
     "metadata": {},
     "output_type": "execute_result"
    },
    {
     "data": {
      "image/png": "[encoded data removed]",
      "text/plain": [
       "<matplotlib.figure.Figure at 0x7fd8aef63128>"
      ]
     },
     "metadata": {},
     "output_type": "display_data"
    }
   ],
   "source": [
    "for e in experiments:\n",
    "    ll.compute(name = \"v\",\n",
    "               expr = lambda poiseuille, d, L: poiseuille * m.pi * (d/2)**4 / (8 * L),\n",
    "               data = data[e],\n",
    "               columns = columns[e])\n",
    "    \n",
    "plt.title(\"Viscosity\")\n",
    "plt.xlabel(\"Tube diameter, m\")\n",
    "plt.ylabel(\"Air viscosity\")\n",
    "\n",
    "plt.errorbar(x = [data[e].Value[\"d\"] for e in experiments],\n",
    "             y = [data[e].Value[\"v\"] for e in experiments],\n",
    "             xerr = [data[e].Error[\"d\"] for e in experiments],\n",
    "             yerr = [data[e].Error[\"v\"] for e in experiments],\n",
    "             linestyle = \"none\",\n",
    "             color = \"black\")"
   ]
  },
  {
   "cell_type": "code",
   "execution_count": 8,
   "metadata": {
    "collapsed": false
   },
   "outputs": [
    {
     "data": {
      "text/plain": [
       "<matplotlib.legend.Legend at 0x7fd8aecfe4e0>"
      ]
     },
     "execution_count": 8,
     "metadata": {},
     "output_type": "execute_result"
    },
    {
     "data": {
      "image/png": "[encoded data removed]",
      "text/plain": [
       "<matplotlib.figure.Figure at 0x7fd8af01d8d0>"
      ]
     },
     "metadata": {},
     "output_type": "display_data"
    }
   ],
   "source": [
    "plt.title(\"Second experiment\")\n",
    "plt.xlabel(\"Position along the tube, m\")\n",
    "plt.ylabel(\"Pressure fall, Pa\")\n",
    "\n",
    "e = \"step_2\"\n",
    "plt.errorbar(x = columns[e].L,\n",
    "             y = columns[e].P,\n",
    "             xerr = columns[e].Error_L,\n",
    "             yerr = columns[e].Error_P,\n",
    "             label = \"$P$: $d = %f \\pm %f$\" % (data[e].Value[\"d\"], data[e].Error[\"d\"]))\n",
    "\n",
    "plt.axis([0, None, 0, None])\n",
    "plt.legend(loc = \"best\")"
   ]
  },
  {
   "cell_type": "code",
   "execution_count": null,
   "metadata": {
    "collapsed": true
   },
   "outputs": [],
   "source": []
  }
 ],
 "metadata": {
  "kernelspec": {
   "display_name": "Python 3",
   "language": "python",
   "name": "python3"
  },
  "language_info": {
   "codemirror_mode": {
    "name": "ipython",
    "version": 3
   },
   "file_extension": ".py",
   "mimetype": "text/x-python",
   "name": "python",
   "nbconvert_exporter": "python",
   "pygments_lexer": "ipython3",
   "version": "3.5.1"
  }
 },
 "nbformat": 4,
 "nbformat_minor": 0
}
