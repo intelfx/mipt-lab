{
 "cells": [
  {
   "cell_type": "code",
   "execution_count": 1,
   "metadata": {
    "collapsed": true
   },
   "outputs": [],
   "source": [
    "import pandas as pd\n",
    "import numpy as np\n",
    "import scipy as sp\n",
    "import matplotlib as mp\n",
    "import matplotlib.pyplot as plt\n",
    "import math as m\n",
    "import sympy as smp\n",
    "from IPython.display import display as disp\n",
    "import lablib as ll\n",
    "%matplotlib inline"
   ]
  },
  {
   "cell_type": "code",
   "execution_count": 2,
   "metadata": {
    "collapsed": false
   },
   "outputs": [],
   "source": [
    "data = {}\n",
    "columns = {}\n",
    "aux = {}\n",
    "experiments = [\"step_1\", \"step_2\", \"step_3_1\", \"step_3_2\"]\n",
    "\n",
    "constants = ll.read_csv(\"constants.csv\")\n",
    "\n",
    "for e in experiments:\n",
    "    columns[e] = ll.read_csv(\"measurements/%s.csv\" % e)\n",
    "    data[e] = ll.varlist()\n",
    "    ll.add(data[e],\n",
    "           constants,\n",
    "           ll.read_csv(\"constants/%s.csv\" % e))\n",
    "\n",
    "#for e in experiments:\n",
    "#    disp(\"Data for experiment %s:\" % e, columns[e])\n",
    "#    \n",
    "#for e in experiments:\n",
    "#    disp(\"Constants for experiment %s:\" % e, data[e])"
   ]
  },
  {
   "cell_type": "markdown",
   "metadata": {},
   "source": [
    "Выполняем предварительные расчёты: $P = P_{изм} * cos(\\alpha) * P_{коэф}$, $Q = \\frac{V}{t}$, $L = L_2 - L_1$."
   ]
  },
  {
   "cell_type": "code",
   "execution_count": 3,
   "metadata": {
    "collapsed": false
   },
   "outputs": [
    {
     "data": {
      "text/plain": [
       "'Data for step_1 (d = 0.003575 ± 0.000025):'"
      ]
     },
     "metadata": {},
     "output_type": "display_data"
    },
    {
     "data": {
      "text/html": [
       "<div>\n",
       "<table border=\"1\" class=\"dataframe\">\n",
       "  <thead>\n",
       "    <tr style=\"text-align: right;\">\n",
       "      <th></th>\n",
       "      <th>Value</th>\n",
       "      <th>Error</th>\n",
       "      <th>ErrorRel</th>\n",
       "    </tr>\n",
       "  </thead>\n",
       "  <tbody>\n",
       "    <tr>\n",
       "      <th>P_coef</th>\n",
       "      <td>9.806650</td>\n",
       "      <td>0.000005</td>\n",
       "      <td>0.00%</td>\n",
       "    </tr>\n",
       "    <tr>\n",
       "      <th>P_angle</th>\n",
       "      <td>0.200000</td>\n",
       "      <td>0.005000</td>\n",
       "      <td>2.50%</td>\n",
       "    </tr>\n",
       "    <tr>\n",
       "      <th>d</th>\n",
       "      <td>0.003575</td>\n",
       "      <td>0.000025</td>\n",
       "      <td>0.70%</td>\n",
       "    </tr>\n",
       "    <tr>\n",
       "      <th>L_1</th>\n",
       "      <td>0.409000</td>\n",
       "      <td>0.000500</td>\n",
       "      <td>0.12%</td>\n",
       "    </tr>\n",
       "    <tr>\n",
       "      <th>L_2</th>\n",
       "      <td>0.809000</td>\n",
       "      <td>0.000500</td>\n",
       "      <td>0.06%</td>\n",
       "    </tr>\n",
       "    <tr>\n",
       "      <th>L</th>\n",
       "      <td>0.400000</td>\n",
       "      <td>0.000707</td>\n",
       "      <td>0.18%</td>\n",
       "    </tr>\n",
       "  </tbody>\n",
       "</table>\n",
       "</div>"
      ],
      "text/plain": [
       "           Value    Error  ErrorRel\n",
       "P_coef  9.806650 0.000005  0.000001\n",
       "P_angle 0.200000 0.005000  0.025000\n",
       "d       0.003575 0.000025  0.006993\n",
       "L_1     0.409000 0.000500  0.001222\n",
       "L_2     0.809000 0.000500  0.000618\n",
       "L       0.400000 0.000707  0.001768"
      ]
     },
     "metadata": {},
     "output_type": "display_data"
    },
    {
     "data": {
      "text/html": [
       "<div>\n",
       "<table border=\"1\" class=\"dataframe\">\n",
       "  <thead>\n",
       "    <tr style=\"text-align: right;\">\n",
       "      <th></th>\n",
       "      <th>P_m</th>\n",
       "      <th>Error_P_m</th>\n",
       "      <th>ErrorRel_P_m</th>\n",
       "      <th>V</th>\n",
       "      <th>Error_V</th>\n",
       "      <th>ErrorRel_V</th>\n",
       "      <th>t</th>\n",
       "      <th>Error_t</th>\n",
       "      <th>ErrorRel_t</th>\n",
       "      <th>P</th>\n",
       "      <th>Error_P</th>\n",
       "      <th>ErrorRel_P</th>\n",
       "      <th>Q</th>\n",
       "      <th>Error_Q</th>\n",
       "      <th>ErrorRel_Q</th>\n",
       "    </tr>\n",
       "  </thead>\n",
       "  <tbody>\n",
       "    <tr>\n",
       "      <th>0</th>\n",
       "      <td>10</td>\n",
       "      <td>0.500000</td>\n",
       "      <td>5.00%</td>\n",
       "      <td>0.001000</td>\n",
       "      <td>0.000050</td>\n",
       "      <td>5.00%</td>\n",
       "      <td>68</td>\n",
       "      <td>1</td>\n",
       "      <td>1.47%</td>\n",
       "      <td>19.613300</td>\n",
       "      <td>1.096417</td>\n",
       "      <td>5.59%</td>\n",
       "      <td>0.000015</td>\n",
       "      <td>0.000001</td>\n",
       "      <td>5.21%</td>\n",
       "    </tr>\n",
       "    <tr>\n",
       "      <th>1</th>\n",
       "      <td>20</td>\n",
       "      <td>0.500000</td>\n",
       "      <td>2.50%</td>\n",
       "      <td>0.002000</td>\n",
       "      <td>0.000050</td>\n",
       "      <td>2.50%</td>\n",
       "      <td>68</td>\n",
       "      <td>1</td>\n",
       "      <td>1.47%</td>\n",
       "      <td>39.226600</td>\n",
       "      <td>1.386870</td>\n",
       "      <td>3.54%</td>\n",
       "      <td>0.000029</td>\n",
       "      <td>0.000001</td>\n",
       "      <td>2.90%</td>\n",
       "    </tr>\n",
       "    <tr>\n",
       "      <th>2</th>\n",
       "      <td>30</td>\n",
       "      <td>0.500000</td>\n",
       "      <td>1.67%</td>\n",
       "      <td>0.003000</td>\n",
       "      <td>0.000050</td>\n",
       "      <td>1.67%</td>\n",
       "      <td>70</td>\n",
       "      <td>1</td>\n",
       "      <td>1.43%</td>\n",
       "      <td>58.839900</td>\n",
       "      <td>1.767919</td>\n",
       "      <td>3.00%</td>\n",
       "      <td>0.000043</td>\n",
       "      <td>0.000001</td>\n",
       "      <td>2.20%</td>\n",
       "    </tr>\n",
       "    <tr>\n",
       "      <th>3</th>\n",
       "      <td>40</td>\n",
       "      <td>0.500000</td>\n",
       "      <td>1.25%</td>\n",
       "      <td>0.004000</td>\n",
       "      <td>0.000050</td>\n",
       "      <td>1.25%</td>\n",
       "      <td>73</td>\n",
       "      <td>1</td>\n",
       "      <td>1.37%</td>\n",
       "      <td>78.453200</td>\n",
       "      <td>2.192834</td>\n",
       "      <td>2.80%</td>\n",
       "      <td>0.000055</td>\n",
       "      <td>0.000001</td>\n",
       "      <td>1.85%</td>\n",
       "    </tr>\n",
       "    <tr>\n",
       "      <th>4</th>\n",
       "      <td>50</td>\n",
       "      <td>0.500000</td>\n",
       "      <td>1.00%</td>\n",
       "      <td>0.005000</td>\n",
       "      <td>0.000050</td>\n",
       "      <td>1.00%</td>\n",
       "      <td>77</td>\n",
       "      <td>1</td>\n",
       "      <td>1.30%</td>\n",
       "      <td>98.066500</td>\n",
       "      <td>2.640521</td>\n",
       "      <td>2.69%</td>\n",
       "      <td>0.000065</td>\n",
       "      <td>0.000001</td>\n",
       "      <td>1.64%</td>\n",
       "    </tr>\n",
       "    <tr>\n",
       "      <th>5</th>\n",
       "      <td>60</td>\n",
       "      <td>0.500000</td>\n",
       "      <td>0.83%</td>\n",
       "      <td>0.006000</td>\n",
       "      <td>0.000100</td>\n",
       "      <td>1.67%</td>\n",
       "      <td>81</td>\n",
       "      <td>1</td>\n",
       "      <td>1.23%</td>\n",
       "      <td>117.679800</td>\n",
       "      <td>3.101135</td>\n",
       "      <td>2.64%</td>\n",
       "      <td>0.000074</td>\n",
       "      <td>0.000002</td>\n",
       "      <td>2.07%</td>\n",
       "    </tr>\n",
       "    <tr>\n",
       "      <th>6</th>\n",
       "      <td>70</td>\n",
       "      <td>1.000000</td>\n",
       "      <td>1.43%</td>\n",
       "      <td>0.007000</td>\n",
       "      <td>0.000100</td>\n",
       "      <td>1.43%</td>\n",
       "      <td>87</td>\n",
       "      <td>1</td>\n",
       "      <td>1.15%</td>\n",
       "      <td>137.293100</td>\n",
       "      <td>3.953187</td>\n",
       "      <td>2.88%</td>\n",
       "      <td>0.000080</td>\n",
       "      <td>0.000001</td>\n",
       "      <td>1.83%</td>\n",
       "    </tr>\n",
       "    <tr>\n",
       "      <th>7</th>\n",
       "      <td>80</td>\n",
       "      <td>1.000000</td>\n",
       "      <td>1.25%</td>\n",
       "      <td>0.008000</td>\n",
       "      <td>0.000100</td>\n",
       "      <td>1.25%</td>\n",
       "      <td>95</td>\n",
       "      <td>1</td>\n",
       "      <td>1.05%</td>\n",
       "      <td>156.906400</td>\n",
       "      <td>4.385667</td>\n",
       "      <td>2.80%</td>\n",
       "      <td>0.000084</td>\n",
       "      <td>0.000001</td>\n",
       "      <td>1.63%</td>\n",
       "    </tr>\n",
       "    <tr>\n",
       "      <th>8</th>\n",
       "      <td>90</td>\n",
       "      <td>1.000000</td>\n",
       "      <td>1.11%</td>\n",
       "      <td>0.009000</td>\n",
       "      <td>0.000100</td>\n",
       "      <td>1.11%</td>\n",
       "      <td>100</td>\n",
       "      <td>1</td>\n",
       "      <td>1.00%</td>\n",
       "      <td>176.519700</td>\n",
       "      <td>4.829215</td>\n",
       "      <td>2.74%</td>\n",
       "      <td>0.000090</td>\n",
       "      <td>0.000001</td>\n",
       "      <td>1.49%</td>\n",
       "    </tr>\n",
       "    <tr>\n",
       "      <th>9</th>\n",
       "      <td>100</td>\n",
       "      <td>1.000000</td>\n",
       "      <td>1.00%</td>\n",
       "      <td>0.010000</td>\n",
       "      <td>0.000100</td>\n",
       "      <td>1.00%</td>\n",
       "      <td>104</td>\n",
       "      <td>1</td>\n",
       "      <td>0.96%</td>\n",
       "      <td>196.133000</td>\n",
       "      <td>5.281043</td>\n",
       "      <td>2.69%</td>\n",
       "      <td>0.000096</td>\n",
       "      <td>0.000001</td>\n",
       "      <td>1.39%</td>\n",
       "    </tr>\n",
       "    <tr>\n",
       "      <th>10</th>\n",
       "      <td>131</td>\n",
       "      <td>1.000000</td>\n",
       "      <td>0.76%</td>\n",
       "      <td>0.010000</td>\n",
       "      <td>0.000100</td>\n",
       "      <td>1.00%</td>\n",
       "      <td>92</td>\n",
       "      <td>1</td>\n",
       "      <td>1.09%</td>\n",
       "      <td>256.934230</td>\n",
       "      <td>6.716123</td>\n",
       "      <td>2.61%</td>\n",
       "      <td>0.000109</td>\n",
       "      <td>0.000002</td>\n",
       "      <td>1.48%</td>\n",
       "    </tr>\n",
       "    <tr>\n",
       "      <th>11</th>\n",
       "      <td>161</td>\n",
       "      <td>1.000000</td>\n",
       "      <td>0.62%</td>\n",
       "      <td>0.010000</td>\n",
       "      <td>0.000100</td>\n",
       "      <td>1.00%</td>\n",
       "      <td>83</td>\n",
       "      <td>1</td>\n",
       "      <td>1.20%</td>\n",
       "      <td>315.774130</td>\n",
       "      <td>8.134349</td>\n",
       "      <td>2.58%</td>\n",
       "      <td>0.000120</td>\n",
       "      <td>0.000002</td>\n",
       "      <td>1.57%</td>\n",
       "    </tr>\n",
       "    <tr>\n",
       "      <th>12</th>\n",
       "      <td>191</td>\n",
       "      <td>1.000000</td>\n",
       "      <td>0.52%</td>\n",
       "      <td>0.010000</td>\n",
       "      <td>0.000100</td>\n",
       "      <td>1.00%</td>\n",
       "      <td>76</td>\n",
       "      <td>1</td>\n",
       "      <td>1.32%</td>\n",
       "      <td>374.614030</td>\n",
       "      <td>9.568522</td>\n",
       "      <td>2.55%</td>\n",
       "      <td>0.000132</td>\n",
       "      <td>0.000002</td>\n",
       "      <td>1.65%</td>\n",
       "    </tr>\n",
       "    <tr>\n",
       "      <th>13</th>\n",
       "      <td>220</td>\n",
       "      <td>1.000000</td>\n",
       "      <td>0.45%</td>\n",
       "      <td>0.010000</td>\n",
       "      <td>0.000100</td>\n",
       "      <td>1.00%</td>\n",
       "      <td>70</td>\n",
       "      <td>1</td>\n",
       "      <td>1.43%</td>\n",
       "      <td>431.492600</td>\n",
       "      <td>10.964168</td>\n",
       "      <td>2.54%</td>\n",
       "      <td>0.000143</td>\n",
       "      <td>0.000002</td>\n",
       "      <td>1.74%</td>\n",
       "    </tr>\n",
       "    <tr>\n",
       "      <th>14</th>\n",
       "      <td>250</td>\n",
       "      <td>1.000000</td>\n",
       "      <td>0.40%</td>\n",
       "      <td>0.010000</td>\n",
       "      <td>0.000100</td>\n",
       "      <td>1.00%</td>\n",
       "      <td>65</td>\n",
       "      <td>1</td>\n",
       "      <td>1.54%</td>\n",
       "      <td>490.332500</td>\n",
       "      <td>12.414227</td>\n",
       "      <td>2.53%</td>\n",
       "      <td>0.000154</td>\n",
       "      <td>0.000003</td>\n",
       "      <td>1.83%</td>\n",
       "    </tr>\n",
       "  </tbody>\n",
       "</table>\n",
       "</div>"
      ],
      "text/plain": [
       "    P_m  Error_P_m  ErrorRel_P_m        V  Error_V  ErrorRel_V    t  Error_t  \\\n",
       "0    10   0.500000      0.050000 0.001000 0.000050    0.050000   68        1   \n",
       "1    20   0.500000      0.025000 0.002000 0.000050    0.025000   68        1   \n",
       "2    30   0.500000      0.016667 0.003000 0.000050    0.016667   70        1   \n",
       "3    40   0.500000      0.012500 0.004000 0.000050    0.012500   73        1   \n",
       "4    50   0.500000      0.010000 0.005000 0.000050    0.010000   77        1   \n",
       "5    60   0.500000      0.008333 0.006000 0.000100    0.016667   81        1   \n",
       "6    70   1.000000      0.014286 0.007000 0.000100    0.014286   87        1   \n",
       "7    80   1.000000      0.012500 0.008000 0.000100    0.012500   95        1   \n",
       "8    90   1.000000      0.011111 0.009000 0.000100    0.011111  100        1   \n",
       "9   100   1.000000      0.010000 0.010000 0.000100    0.010000  104        1   \n",
       "10  131   1.000000      0.007634 0.010000 0.000100    0.010000   92        1   \n",
       "11  161   1.000000      0.006211 0.010000 0.000100    0.010000   83        1   \n",
       "12  191   1.000000      0.005236 0.010000 0.000100    0.010000   76        1   \n",
       "13  220   1.000000      0.004545 0.010000 0.000100    0.010000   70        1   \n",
       "14  250   1.000000      0.004000 0.010000 0.000100    0.010000   65        1   \n",
       "\n",
       "    ErrorRel_t          P   Error_P  ErrorRel_P        Q  Error_Q  ErrorRel_Q  \n",
       "0     0.014706  19.613300  1.096417    0.055902 0.000015 0.000001    0.052118  \n",
       "1     0.014706  39.226600  1.386870    0.035355 0.000029 0.000001    0.029005  \n",
       "2     0.014286  58.839900  1.767919    0.030046 0.000043 0.000001    0.021951  \n",
       "3     0.013699  78.453200  2.192834    0.027951 0.000055 0.000001    0.018545  \n",
       "4     0.012987  98.066500  2.640521    0.026926 0.000065 0.000001    0.016391  \n",
       "5     0.012346 117.679800  3.101135    0.026352 0.000074 0.000002    0.020741  \n",
       "6     0.011494 137.293100  3.953187    0.028794 0.000080 0.000001    0.018336  \n",
       "7     0.010526 156.906400  4.385667    0.027951 0.000084 0.000001    0.016342  \n",
       "8     0.010000 176.519700  4.829215    0.027358 0.000090 0.000001    0.014948  \n",
       "9     0.009615 196.133000  5.281043    0.026926 0.000096 0.000001    0.013873  \n",
       "10    0.010870 256.934230  6.716123    0.026139 0.000109 0.000002    0.014770  \n",
       "11    0.012048 315.774130  8.134349    0.025760 0.000120 0.000002    0.015658  \n",
       "12    0.013158 374.614030  9.568522    0.025542 0.000132 0.000002    0.016527  \n",
       "13    0.014286 431.492600 10.964168    0.025410 0.000143 0.000002    0.017438  \n",
       "14    0.015385 490.332500 12.414227    0.025318 0.000154 0.000003    0.018349  "
      ]
     },
     "metadata": {},
     "output_type": "display_data"
    },
    {
     "data": {
      "text/plain": [
       "'Data for step_2 (d = 0.003575 ± 0.000025):'"
      ]
     },
     "metadata": {},
     "output_type": "display_data"
    },
    {
     "data": {
      "text/html": [
       "<div>\n",
       "<table border=\"1\" class=\"dataframe\">\n",
       "  <thead>\n",
       "    <tr style=\"text-align: right;\">\n",
       "      <th></th>\n",
       "      <th>Value</th>\n",
       "      <th>Error</th>\n",
       "      <th>ErrorRel</th>\n",
       "    </tr>\n",
       "  </thead>\n",
       "  <tbody>\n",
       "    <tr>\n",
       "      <th>P_coef</th>\n",
       "      <td>9.806650</td>\n",
       "      <td>0.000005</td>\n",
       "      <td>0.00%</td>\n",
       "    </tr>\n",
       "    <tr>\n",
       "      <th>P_angle</th>\n",
       "      <td>0.200000</td>\n",
       "      <td>0.005000</td>\n",
       "      <td>2.50%</td>\n",
       "    </tr>\n",
       "    <tr>\n",
       "      <th>V</th>\n",
       "      <td>0.005000</td>\n",
       "      <td>0.000050</td>\n",
       "      <td>1.00%</td>\n",
       "    </tr>\n",
       "    <tr>\n",
       "      <th>t</th>\n",
       "      <td>72.000000</td>\n",
       "      <td>1.000000</td>\n",
       "      <td>1.39%</td>\n",
       "    </tr>\n",
       "    <tr>\n",
       "      <th>d</th>\n",
       "      <td>0.003575</td>\n",
       "      <td>0.000025</td>\n",
       "      <td>0.70%</td>\n",
       "    </tr>\n",
       "    <tr>\n",
       "      <th>Q</th>\n",
       "      <td>0.000069</td>\n",
       "      <td>0.000001</td>\n",
       "      <td>1.71%</td>\n",
       "    </tr>\n",
       "  </tbody>\n",
       "</table>\n",
       "</div>"
      ],
      "text/plain": [
       "            Value    Error  ErrorRel\n",
       "P_coef   9.806650 0.000005  0.000001\n",
       "P_angle  0.200000 0.005000  0.025000\n",
       "V        0.005000 0.000050  0.010000\n",
       "t       72.000000 1.000000  0.013889\n",
       "d        0.003575 0.000025  0.006993\n",
       "Q        0.000069 0.000001  0.017114"
      ]
     },
     "metadata": {},
     "output_type": "display_data"
    },
    {
     "data": {
      "text/html": [
       "<div>\n",
       "<table border=\"1\" class=\"dataframe\">\n",
       "  <thead>\n",
       "    <tr style=\"text-align: right;\">\n",
       "      <th></th>\n",
       "      <th>L_1</th>\n",
       "      <th>L_2</th>\n",
       "      <th>Error_L_1_2</th>\n",
       "      <th>P_m</th>\n",
       "      <th>Error_P_m</th>\n",
       "      <th>ErrorRel_P_m</th>\n",
       "      <th>P</th>\n",
       "      <th>Error_P</th>\n",
       "      <th>ErrorRel_P</th>\n",
       "      <th>L</th>\n",
       "      <th>Error_L</th>\n",
       "      <th>ErrorRel_L</th>\n",
       "    </tr>\n",
       "  </thead>\n",
       "  <tbody>\n",
       "    <tr>\n",
       "      <th>0</th>\n",
       "      <td>0</td>\n",
       "      <td>0.109000</td>\n",
       "      <td>0.000500</td>\n",
       "      <td>37</td>\n",
       "      <td>0.050000</td>\n",
       "      <td>0.14%</td>\n",
       "      <td>72.569210</td>\n",
       "      <td>1.816879</td>\n",
       "      <td>2.50%</td>\n",
       "      <td>0.109000</td>\n",
       "      <td>0.000707</td>\n",
       "      <td>0.65%</td>\n",
       "    </tr>\n",
       "    <tr>\n",
       "      <th>1</th>\n",
       "      <td>0</td>\n",
       "      <td>0.409000</td>\n",
       "      <td>0.000500</td>\n",
       "      <td>78</td>\n",
       "      <td>0.050000</td>\n",
       "      <td>0.06%</td>\n",
       "      <td>152.983740</td>\n",
       "      <td>3.825851</td>\n",
       "      <td>2.50%</td>\n",
       "      <td>0.409000</td>\n",
       "      <td>0.000707</td>\n",
       "      <td>0.17%</td>\n",
       "    </tr>\n",
       "    <tr>\n",
       "      <th>2</th>\n",
       "      <td>0</td>\n",
       "      <td>0.709000</td>\n",
       "      <td>0.000500</td>\n",
       "      <td>135</td>\n",
       "      <td>0.050000</td>\n",
       "      <td>0.04%</td>\n",
       "      <td>264.779550</td>\n",
       "      <td>6.620215</td>\n",
       "      <td>2.50%</td>\n",
       "      <td>0.709000</td>\n",
       "      <td>0.000707</td>\n",
       "      <td>0.10%</td>\n",
       "    </tr>\n",
       "    <tr>\n",
       "      <th>3</th>\n",
       "      <td>0</td>\n",
       "      <td>1.209000</td>\n",
       "      <td>0.000500</td>\n",
       "      <td>197</td>\n",
       "      <td>0.050000</td>\n",
       "      <td>0.03%</td>\n",
       "      <td>386.382010</td>\n",
       "      <td>9.660048</td>\n",
       "      <td>2.50%</td>\n",
       "      <td>1.209000</td>\n",
       "      <td>0.000707</td>\n",
       "      <td>0.06%</td>\n",
       "    </tr>\n",
       "  </tbody>\n",
       "</table>\n",
       "</div>"
      ],
      "text/plain": [
       "   L_1      L_2  Error_L_1_2  P_m  Error_P_m  ErrorRel_P_m          P  \\\n",
       "0    0 0.109000     0.000500   37   0.050000      0.001351  72.569210   \n",
       "1    0 0.409000     0.000500   78   0.050000      0.000641 152.983740   \n",
       "2    0 0.709000     0.000500  135   0.050000      0.000370 264.779550   \n",
       "3    0 1.209000     0.000500  197   0.050000      0.000254 386.382010   \n",
       "\n",
       "   Error_P  ErrorRel_P        L  Error_L  ErrorRel_L  \n",
       "0 1.816879    0.025036 0.109000 0.000707    0.006487  \n",
       "1 3.825851    0.025008 0.409000 0.000707    0.001729  \n",
       "2 6.620215    0.025003 0.709000 0.000707    0.000997  \n",
       "3 9.660048    0.025001 1.209000 0.000707    0.000585  "
      ]
     },
     "metadata": {},
     "output_type": "display_data"
    },
    {
     "data": {
      "text/plain": [
       "'Data for step_3_1 (d = 0.005250 ± 0.000250):'"
      ]
     },
     "metadata": {},
     "output_type": "display_data"
    },
    {
     "data": {
      "text/html": [
       "<div>\n",
       "<table border=\"1\" class=\"dataframe\">\n",
       "  <thead>\n",
       "    <tr style=\"text-align: right;\">\n",
       "      <th></th>\n",
       "      <th>Value</th>\n",
       "      <th>Error</th>\n",
       "      <th>ErrorRel</th>\n",
       "    </tr>\n",
       "  </thead>\n",
       "  <tbody>\n",
       "    <tr>\n",
       "      <th>P_coef</th>\n",
       "      <td>9.806650</td>\n",
       "      <td>0.000005</td>\n",
       "      <td>0.00%</td>\n",
       "    </tr>\n",
       "    <tr>\n",
       "      <th>P_angle</th>\n",
       "      <td>0.200000</td>\n",
       "      <td>0.005000</td>\n",
       "      <td>2.50%</td>\n",
       "    </tr>\n",
       "    <tr>\n",
       "      <th>L_1</th>\n",
       "      <td>0.707000</td>\n",
       "      <td>0.000500</td>\n",
       "      <td>0.07%</td>\n",
       "    </tr>\n",
       "    <tr>\n",
       "      <th>L_2</th>\n",
       "      <td>1.207000</td>\n",
       "      <td>0.000500</td>\n",
       "      <td>0.04%</td>\n",
       "    </tr>\n",
       "    <tr>\n",
       "      <th>d</th>\n",
       "      <td>0.005250</td>\n",
       "      <td>0.000250</td>\n",
       "      <td>4.76%</td>\n",
       "    </tr>\n",
       "    <tr>\n",
       "      <th>L</th>\n",
       "      <td>0.500000</td>\n",
       "      <td>0.000707</td>\n",
       "      <td>0.14%</td>\n",
       "    </tr>\n",
       "  </tbody>\n",
       "</table>\n",
       "</div>"
      ],
      "text/plain": [
       "           Value    Error  ErrorRel\n",
       "P_coef  9.806650 0.000005  0.000001\n",
       "P_angle 0.200000 0.005000  0.025000\n",
       "L_1     0.707000 0.000500  0.000707\n",
       "L_2     1.207000 0.000500  0.000414\n",
       "d       0.005250 0.000250  0.047619\n",
       "L       0.500000 0.000707  0.001414"
      ]
     },
     "metadata": {},
     "output_type": "display_data"
    },
    {
     "data": {
      "text/html": [
       "<div>\n",
       "<table border=\"1\" class=\"dataframe\">\n",
       "  <thead>\n",
       "    <tr style=\"text-align: right;\">\n",
       "      <th></th>\n",
       "      <th>P_m</th>\n",
       "      <th>Error_P_m</th>\n",
       "      <th>ErrorRel_P_m</th>\n",
       "      <th>V</th>\n",
       "      <th>Error_V</th>\n",
       "      <th>ErrorRel_V</th>\n",
       "      <th>t</th>\n",
       "      <th>Error_t</th>\n",
       "      <th>ErrorRel_t</th>\n",
       "      <th>P</th>\n",
       "      <th>Error_P</th>\n",
       "      <th>ErrorRel_P</th>\n",
       "      <th>Q</th>\n",
       "      <th>Error_Q</th>\n",
       "      <th>ErrorRel_Q</th>\n",
       "    </tr>\n",
       "  </thead>\n",
       "  <tbody>\n",
       "    <tr>\n",
       "      <th>0</th>\n",
       "      <td>20</td>\n",
       "      <td>0.500000</td>\n",
       "      <td>2.50%</td>\n",
       "      <td>0.005000</td>\n",
       "      <td>0.000100</td>\n",
       "      <td>2.00%</td>\n",
       "      <td>60</td>\n",
       "      <td>1</td>\n",
       "      <td>1.67%</td>\n",
       "      <td>39.226600</td>\n",
       "      <td>1.386870</td>\n",
       "      <td>3.54%</td>\n",
       "      <td>0.000083</td>\n",
       "      <td>0.000002</td>\n",
       "      <td>2.60%</td>\n",
       "    </tr>\n",
       "    <tr>\n",
       "      <th>1</th>\n",
       "      <td>40</td>\n",
       "      <td>0.500000</td>\n",
       "      <td>1.25%</td>\n",
       "      <td>0.010000</td>\n",
       "      <td>0.000100</td>\n",
       "      <td>1.00%</td>\n",
       "      <td>70</td>\n",
       "      <td>1</td>\n",
       "      <td>1.43%</td>\n",
       "      <td>78.453200</td>\n",
       "      <td>2.192834</td>\n",
       "      <td>2.80%</td>\n",
       "      <td>0.000143</td>\n",
       "      <td>0.000002</td>\n",
       "      <td>1.74%</td>\n",
       "    </tr>\n",
       "    <tr>\n",
       "      <th>2</th>\n",
       "      <td>60</td>\n",
       "      <td>0.500000</td>\n",
       "      <td>0.83%</td>\n",
       "      <td>0.010000</td>\n",
       "      <td>0.000100</td>\n",
       "      <td>1.00%</td>\n",
       "      <td>60</td>\n",
       "      <td>1</td>\n",
       "      <td>1.67%</td>\n",
       "      <td>117.679800</td>\n",
       "      <td>3.101135</td>\n",
       "      <td>2.64%</td>\n",
       "      <td>0.000167</td>\n",
       "      <td>0.000003</td>\n",
       "      <td>1.94%</td>\n",
       "    </tr>\n",
       "    <tr>\n",
       "      <th>3</th>\n",
       "      <td>80</td>\n",
       "      <td>0.500000</td>\n",
       "      <td>0.62%</td>\n",
       "      <td>0.010000</td>\n",
       "      <td>0.000100</td>\n",
       "      <td>1.00%</td>\n",
       "      <td>54</td>\n",
       "      <td>1</td>\n",
       "      <td>1.85%</td>\n",
       "      <td>156.906400</td>\n",
       "      <td>4.043385</td>\n",
       "      <td>2.58%</td>\n",
       "      <td>0.000185</td>\n",
       "      <td>0.000004</td>\n",
       "      <td>2.10%</td>\n",
       "    </tr>\n",
       "  </tbody>\n",
       "</table>\n",
       "</div>"
      ],
      "text/plain": [
       "   P_m  Error_P_m  ErrorRel_P_m        V  Error_V  ErrorRel_V   t  Error_t  \\\n",
       "0   20   0.500000      0.025000 0.005000 0.000100    0.020000  60        1   \n",
       "1   40   0.500000      0.012500 0.010000 0.000100    0.010000  70        1   \n",
       "2   60   0.500000      0.008333 0.010000 0.000100    0.010000  60        1   \n",
       "3   80   0.500000      0.006250 0.010000 0.000100    0.010000  54        1   \n",
       "\n",
       "   ErrorRel_t          P  Error_P  ErrorRel_P        Q  Error_Q  ErrorRel_Q  \n",
       "0    0.016667  39.226600 1.386870    0.035355 0.000083 0.000002    0.026034  \n",
       "1    0.014286  78.453200 2.192834    0.027951 0.000143 0.000002    0.017438  \n",
       "2    0.016667 117.679800 3.101135    0.026352 0.000167 0.000003    0.019437  \n",
       "3    0.018519 156.906400 4.043385    0.025769 0.000185 0.000004    0.021046  "
      ]
     },
     "metadata": {},
     "output_type": "display_data"
    },
    {
     "data": {
      "text/plain": [
       "'Data for step_3_2 (d = 0.003000 ± 0.000100):'"
      ]
     },
     "metadata": {},
     "output_type": "display_data"
    },
    {
     "data": {
      "text/html": [
       "<div>\n",
       "<table border=\"1\" class=\"dataframe\">\n",
       "  <thead>\n",
       "    <tr style=\"text-align: right;\">\n",
       "      <th></th>\n",
       "      <th>Value</th>\n",
       "      <th>Error</th>\n",
       "      <th>ErrorRel</th>\n",
       "    </tr>\n",
       "  </thead>\n",
       "  <tbody>\n",
       "    <tr>\n",
       "      <th>P_coef</th>\n",
       "      <td>9.806650</td>\n",
       "      <td>0.000005</td>\n",
       "      <td>0.00%</td>\n",
       "    </tr>\n",
       "    <tr>\n",
       "      <th>P_angle</th>\n",
       "      <td>0.200000</td>\n",
       "      <td>0.005000</td>\n",
       "      <td>2.50%</td>\n",
       "    </tr>\n",
       "    <tr>\n",
       "      <th>L_1</th>\n",
       "      <td>0.310000</td>\n",
       "      <td>0.005000</td>\n",
       "      <td>1.61%</td>\n",
       "    </tr>\n",
       "    <tr>\n",
       "      <th>L_2</th>\n",
       "      <td>0.610000</td>\n",
       "      <td>0.005000</td>\n",
       "      <td>0.82%</td>\n",
       "    </tr>\n",
       "    <tr>\n",
       "      <th>d</th>\n",
       "      <td>0.003000</td>\n",
       "      <td>0.000100</td>\n",
       "      <td>3.33%</td>\n",
       "    </tr>\n",
       "    <tr>\n",
       "      <th>L</th>\n",
       "      <td>0.300000</td>\n",
       "      <td>0.007071</td>\n",
       "      <td>2.36%</td>\n",
       "    </tr>\n",
       "  </tbody>\n",
       "</table>\n",
       "</div>"
      ],
      "text/plain": [
       "           Value    Error  ErrorRel\n",
       "P_coef  9.806650 0.000005  0.000001\n",
       "P_angle 0.200000 0.005000  0.025000\n",
       "L_1     0.310000 0.005000  0.016129\n",
       "L_2     0.610000 0.005000  0.008197\n",
       "d       0.003000 0.000100  0.033333\n",
       "L       0.300000 0.007071  0.023570"
      ]
     },
     "metadata": {},
     "output_type": "display_data"
    },
    {
     "data": {
      "text/html": [
       "<div>\n",
       "<table border=\"1\" class=\"dataframe\">\n",
       "  <thead>\n",
       "    <tr style=\"text-align: right;\">\n",
       "      <th></th>\n",
       "      <th>P_m</th>\n",
       "      <th>Error_P_m</th>\n",
       "      <th>ErrorRel_P_m</th>\n",
       "      <th>V</th>\n",
       "      <th>Error_V</th>\n",
       "      <th>ErrorRel_V</th>\n",
       "      <th>t</th>\n",
       "      <th>Error_t</th>\n",
       "      <th>ErrorRel_t</th>\n",
       "      <th>P</th>\n",
       "      <th>Error_P</th>\n",
       "      <th>ErrorRel_P</th>\n",
       "      <th>Q</th>\n",
       "      <th>Error_Q</th>\n",
       "      <th>ErrorRel_Q</th>\n",
       "    </tr>\n",
       "  </thead>\n",
       "  <tbody>\n",
       "    <tr>\n",
       "      <th>0</th>\n",
       "      <td>20</td>\n",
       "      <td>0.500000</td>\n",
       "      <td>2.50%</td>\n",
       "      <td>0.001000</td>\n",
       "      <td>0.000050</td>\n",
       "      <td>5.00%</td>\n",
       "      <td>70</td>\n",
       "      <td>1</td>\n",
       "      <td>1.43%</td>\n",
       "      <td>39.226600</td>\n",
       "      <td>1.386870</td>\n",
       "      <td>3.54%</td>\n",
       "      <td>0.000014</td>\n",
       "      <td>0.000001</td>\n",
       "      <td>5.20%</td>\n",
       "    </tr>\n",
       "    <tr>\n",
       "      <th>1</th>\n",
       "      <td>40</td>\n",
       "      <td>0.500000</td>\n",
       "      <td>1.25%</td>\n",
       "      <td>0.002000</td>\n",
       "      <td>0.000050</td>\n",
       "      <td>2.50%</td>\n",
       "      <td>72</td>\n",
       "      <td>1</td>\n",
       "      <td>1.39%</td>\n",
       "      <td>78.453200</td>\n",
       "      <td>2.192834</td>\n",
       "      <td>2.80%</td>\n",
       "      <td>0.000028</td>\n",
       "      <td>0.000001</td>\n",
       "      <td>2.86%</td>\n",
       "    </tr>\n",
       "    <tr>\n",
       "      <th>2</th>\n",
       "      <td>60</td>\n",
       "      <td>0.500000</td>\n",
       "      <td>0.83%</td>\n",
       "      <td>0.003000</td>\n",
       "      <td>0.000050</td>\n",
       "      <td>1.67%</td>\n",
       "      <td>75</td>\n",
       "      <td>1</td>\n",
       "      <td>1.33%</td>\n",
       "      <td>117.679800</td>\n",
       "      <td>3.101135</td>\n",
       "      <td>2.64%</td>\n",
       "      <td>0.000040</td>\n",
       "      <td>0.000001</td>\n",
       "      <td>2.13%</td>\n",
       "    </tr>\n",
       "    <tr>\n",
       "      <th>3</th>\n",
       "      <td>80</td>\n",
       "      <td>0.500000</td>\n",
       "      <td>0.62%</td>\n",
       "      <td>0.004000</td>\n",
       "      <td>0.000050</td>\n",
       "      <td>1.25%</td>\n",
       "      <td>83</td>\n",
       "      <td>1</td>\n",
       "      <td>1.20%</td>\n",
       "      <td>156.906400</td>\n",
       "      <td>4.043385</td>\n",
       "      <td>2.58%</td>\n",
       "      <td>0.000048</td>\n",
       "      <td>0.000001</td>\n",
       "      <td>1.74%</td>\n",
       "    </tr>\n",
       "  </tbody>\n",
       "</table>\n",
       "</div>"
      ],
      "text/plain": [
       "   P_m  Error_P_m  ErrorRel_P_m        V  Error_V  ErrorRel_V   t  Error_t  \\\n",
       "0   20   0.500000      0.025000 0.001000 0.000050    0.050000  70        1   \n",
       "1   40   0.500000      0.012500 0.002000 0.000050    0.025000  72        1   \n",
       "2   60   0.500000      0.008333 0.003000 0.000050    0.016667  75        1   \n",
       "3   80   0.500000      0.006250 0.004000 0.000050    0.012500  83        1   \n",
       "\n",
       "   ErrorRel_t          P  Error_P  ErrorRel_P        Q  Error_Q  ErrorRel_Q  \n",
       "0    0.014286  39.226600 1.386870    0.035355 0.000014 0.000001    0.052001  \n",
       "1    0.013889  78.453200 2.192834    0.027951 0.000028 0.000001    0.028599  \n",
       "2    0.013333 117.679800 3.101135    0.026352 0.000040 0.000001    0.021344  \n",
       "3    0.012048 156.906400 4.043385    0.025769 0.000048 0.000001    0.017361  "
      ]
     },
     "metadata": {},
     "output_type": "display_data"
    }
   ],
   "source": [
    "for e in experiments:\n",
    "    disp(\"Data for %s (d = %f ± %f):\" % (e, data[e].Value[\"d\"], data[e].Error[\"d\"]))\n",
    "    \n",
    "    ll.compute(name = \"P\",\n",
    "               expr = lambda P_m, P_angle, P_coef: P_m * P_angle * P_coef,\n",
    "               data = data[e],\n",
    "               columns = columns[e])\n",
    "    \n",
    "    ll.compute(name = \"Q\",\n",
    "               expr = lambda V, t: V / t,\n",
    "               data = data[e],\n",
    "               columns = columns[e])\n",
    "    \n",
    "    ll.compute(name = \"L\",\n",
    "               expr = lambda L_1, L_2: L_2 - L_1,\n",
    "               data = data[e],\n",
    "               columns = columns[e],\n",
    "               aux = { \"L_1\": { \"Error\": \"Error_L_1_2\" },\n",
    "                       \"L_2\": { \"Error\": \"Error_L_1_2\" } })\n",
    "\n",
    "    disp(data[e], columns[e])"
   ]
  },
  {
   "cell_type": "markdown",
   "metadata": {},
   "source": [
    "Строим зависимость $P = P(Q)$ и определяем линейные участки, соответствующие ламинарному течению газа."
   ]
  },
  {
   "cell_type": "code",
   "execution_count": 4,
   "metadata": {
    "collapsed": false
   },
   "outputs": [
    {
     "data": {
      "text/plain": [
       "<matplotlib.legend.Legend at 0x7f82848fea58>"
      ]
     },
     "execution_count": 4,
     "metadata": {},
     "output_type": "execute_result"
    },
    {
     "data": {
      "image/png": "[encoded data removed]",
      "text/plain": [
       "<matplotlib.figure.Figure at 0x7f8286a3e240>"
      ]
     },
     "metadata": {},
     "output_type": "display_data"
    }
   ],
   "source": [
    "plt.title(\"First experiment\")\n",
    "plt.xlabel(\"Gas flow, m^3/sec\")\n",
    "plt.ylabel(\"Pressure, Pa\")\n",
    "\n",
    "experiments_1 = [\"step_1\", \"step_3_1\", \"step_3_2\"]\n",
    "colors_1 = [\"black\", \"#800000\", \"#008000\"]\n",
    "\n",
    "for e, c in zip(experiments_1, colors_1):\n",
    "    plt.errorbar(x = columns[e].Q,\n",
    "                 y = columns[e].P,\n",
    "                 xerr = columns[e].Error_Q,\n",
    "                 yerr = columns[e].Error_P,\n",
    "                 label = \"%s: $d = %f \\pm %f$\" % (e, data[e].Value[\"d\"], data[e].Error[\"d\"]),\n",
    "                 color = c)\n",
    "\n",
    "plt.legend(loc = \"best\")"
   ]
  },
  {
   "cell_type": "code",
   "execution_count": 5,
   "metadata": {
    "collapsed": true
   },
   "outputs": [],
   "source": [
    "usable = {}\n",
    "usable[\"step_1\"] = 5\n",
    "usable[\"step_3_1\"] = 2\n",
    "usable[\"step_3_2\"] = 3"
   ]
  },
  {
   "cell_type": "markdown",
   "metadata": {},
   "source": [
    "Выполняем приближение линейной функцией и определяем значение коэффициента $\\frac{\\pi r^4}{8 L \\eta}$ для каждой трубки."
   ]
  },
  {
   "cell_type": "code",
   "execution_count": 6,
   "metadata": {
    "collapsed": false
   },
   "outputs": [
    {
     "name": "stdout",
     "output_type": "stream",
     "text": [
      "Initial guesses for P:\n",
      "                     Value        Error  ErrorRel\n",
      "poiseuille 1411790.958775 20217.669908  0.014321\n"
     ]
    },
    {
     "data": {
      "text/plain": [
       "'Final guesses for P:'"
      ]
     },
     "metadata": {},
     "output_type": "display_data"
    },
    {
     "data": {
      "text/html": [
       "<div>\n",
       "<table border=\"1\" class=\"dataframe\">\n",
       "  <thead>\n",
       "    <tr style=\"text-align: right;\">\n",
       "      <th></th>\n",
       "      <th>Value</th>\n",
       "      <th>Error</th>\n",
       "      <th>ErrorRel</th>\n",
       "    </tr>\n",
       "  </thead>\n",
       "  <tbody>\n",
       "    <tr>\n",
       "      <th>poiseuille</th>\n",
       "      <td>1420295.838291</td>\n",
       "      <td>33479.178349</td>\n",
       "      <td>2.36%</td>\n",
       "    </tr>\n",
       "  </tbody>\n",
       "</table>\n",
       "</div>"
      ],
      "text/plain": [
       "                    Value        Error  ErrorRel\n",
       "poiseuille 1420295.838291 33479.178349  0.023572"
      ]
     },
     "metadata": {},
     "output_type": "display_data"
    },
    {
     "name": "stdout",
     "output_type": "stream",
     "text": [
      "Initial guesses for P:\n",
      "                    Value        Error  ErrorRel\n",
      "poiseuille 513110.422660 11283.305814  0.021990\n"
     ]
    },
    {
     "data": {
      "text/plain": [
       "'Final guesses for P:'"
      ]
     },
     "metadata": {},
     "output_type": "display_data"
    },
    {
     "data": {
      "text/html": [
       "<div>\n",
       "<table border=\"1\" class=\"dataframe\">\n",
       "  <thead>\n",
       "    <tr style=\"text-align: right;\">\n",
       "      <th></th>\n",
       "      <th>Value</th>\n",
       "      <th>Error</th>\n",
       "      <th>ErrorRel</th>\n",
       "    </tr>\n",
       "  </thead>\n",
       "  <tbody>\n",
       "    <tr>\n",
       "      <th>poiseuille</th>\n",
       "      <td>518090.920191</td>\n",
       "      <td>38788.396301</td>\n",
       "      <td>7.49%</td>\n",
       "    </tr>\n",
       "  </tbody>\n",
       "</table>\n",
       "</div>"
      ],
      "text/plain": [
       "                   Value        Error  ErrorRel\n",
       "poiseuille 518090.920191 38788.396301  0.074868"
      ]
     },
     "metadata": {},
     "output_type": "display_data"
    },
    {
     "name": "stdout",
     "output_type": "stream",
     "text": [
      "Initial guesses for P:\n",
      "                     Value        Error  ErrorRel\n",
      "poiseuille 2850310.234675 48060.162414  0.016861\n"
     ]
    },
    {
     "data": {
      "text/plain": [
       "'Final guesses for P:'"
      ]
     },
     "metadata": {},
     "output_type": "display_data"
    },
    {
     "data": {
      "text/html": [
       "<div>\n",
       "<table border=\"1\" class=\"dataframe\">\n",
       "  <thead>\n",
       "    <tr style=\"text-align: right;\">\n",
       "      <th></th>\n",
       "      <th>Value</th>\n",
       "      <th>Error</th>\n",
       "      <th>ErrorRel</th>\n",
       "    </tr>\n",
       "  </thead>\n",
       "  <tbody>\n",
       "    <tr>\n",
       "      <th>poiseuille</th>\n",
       "      <td>2870740.733350</td>\n",
       "      <td>52981.960043</td>\n",
       "      <td>1.85%</td>\n",
       "    </tr>\n",
       "  </tbody>\n",
       "</table>\n",
       "</div>"
      ],
      "text/plain": [
       "                    Value        Error  ErrorRel\n",
       "poiseuille 2870740.733350 52981.960043  0.018456"
      ]
     },
     "metadata": {},
     "output_type": "display_data"
    },
    {
     "data": {
      "text/plain": [
       "<matplotlib.legend.Legend at 0x7f82847b35f8>"
      ]
     },
     "execution_count": 6,
     "metadata": {},
     "output_type": "execute_result"
    },
    {
     "data": {
      "image/png": "[encoded data removed]",
      "text/plain": [
       "<matplotlib.figure.Figure at 0x7f82847b34e0>"
      ]
     },
     "metadata": {},
     "output_type": "display_data"
    }
   ],
   "source": [
    "plt.title(\"First experiment, with fitting\")\n",
    "plt.xlabel(\"Gas flow, m^3/sec\")\n",
    "plt.ylabel(\"Pressure, Pa\")\n",
    "\n",
    "Q_linspace = np.linspace(0, 0.00015, 100)\n",
    "\n",
    "for e, c in zip(experiments_1, colors_1):\n",
    "    plt.errorbar(x = columns[e].Q[:usable[e]],\n",
    "                 y = columns[e].P[:usable[e]],\n",
    "                 xerr = columns[e].Error_Q[:usable[e]],\n",
    "                 yerr = columns[e].Error_P[:usable[e]],\n",
    "                 label = \"%s: $d = %f \\pm %f$\" % (e, data[e].Value[\"d\"], data[e].Error[\"d\"]),\n",
    "                 ls = \"none\",\n",
    "                 color = c)\n",
    "\n",
    "    plt.errorbar(x = columns[e].Q,\n",
    "                 y = columns[e].P,\n",
    "                 xerr = columns[e].Error_Q,\n",
    "                 yerr = columns[e].Error_P,\n",
    "                 ls = \"none\",\n",
    "                 color = c,\n",
    "                 alpha = 0.5)\n",
    "\n",
    "    model = ll.fit2(name = \"P\",\n",
    "                    model = lambda Q, poiseuille: Q * poiseuille,\n",
    "                    x = columns[e].Q[:usable[e]],\n",
    "                    y = columns[e].P[:usable[e]],\n",
    "                    xerr = columns[e].Error_Q[:usable[e]],\n",
    "                    yerr = columns[e].Error_P[:usable[e]],\n",
    "                    data = data[e])\n",
    "    \n",
    "    plt.errorbar(x = Q_linspace,\n",
    "                 y = model(Q_linspace),\n",
    "                 color = c)\n",
    "\n",
    "plt.legend(loc = \"best\")"
   ]
  },
  {
   "cell_type": "markdown",
   "metadata": {},
   "source": [
    "Из полученного коэффициента в формуле Пуазейля и характеристик трубки вычисляем вязкость воздуха для каждой трубки."
   ]
  },
  {
   "cell_type": "code",
   "execution_count": 7,
   "metadata": {
    "collapsed": false
   },
   "outputs": [
    {
     "data": {
      "text/plain": [
       "<Container object of 3 artists>"
      ]
     },
     "execution_count": 7,
     "metadata": {},
     "output_type": "execute_result"
    },
    {
     "data": {
      "image/png": "[encoded data removed]",
      "text/plain": [
       "<matplotlib.figure.Figure at 0x7f82846e55f8>"
      ]
     },
     "metadata": {},
     "output_type": "display_data"
    }
   ],
   "source": [
    "for e in experiments_1:\n",
    "    ll.compute(name = \"v\",\n",
    "               expr = lambda poiseuille, d, L: poiseuille * m.pi * (d/2)**4 / (8 * L),\n",
    "               data = data[e],\n",
    "               columns = columns[e])\n",
    "    \n",
    "plt.title(\"Viscosity\")\n",
    "plt.xlabel(\"Tube diameter, m\")\n",
    "plt.ylabel(\"Air viscosity\")\n",
    "\n",
    "plt.errorbar(x = [data[e].Value[\"d\"] for e in experiments_1],\n",
    "             y = [data[e].Value[\"v\"] for e in experiments_1],\n",
    "             xerr = [data[e].Error[\"d\"] for e in experiments_1],\n",
    "             yerr = [data[e].Error[\"v\"] for e in experiments_1],\n",
    "             linestyle = \"none\",\n",
    "             color = \"black\")"
   ]
  },
  {
   "cell_type": "code",
   "execution_count": 8,
   "metadata": {
    "collapsed": false
   },
   "outputs": [
    {
     "data": {
      "text/plain": [
       "'Results for 0.003575:'"
      ]
     },
     "metadata": {},
     "output_type": "display_data"
    },
    {
     "data": {
      "text/html": [
       "<div>\n",
       "<table border=\"1\" class=\"dataframe\">\n",
       "  <thead>\n",
       "    <tr style=\"text-align: right;\">\n",
       "      <th></th>\n",
       "      <th>Value</th>\n",
       "      <th>Error</th>\n",
       "      <th>ErrorRel</th>\n",
       "    </tr>\n",
       "  </thead>\n",
       "  <tbody>\n",
       "    <tr>\n",
       "      <th>d</th>\n",
       "      <td>0.003575</td>\n",
       "      <td>0.000025</td>\n",
       "      <td>0.006993</td>\n",
       "    </tr>\n",
       "    <tr>\n",
       "      <th>v</th>\n",
       "      <td>0.000014</td>\n",
       "      <td>0.000001</td>\n",
       "      <td>0.036622</td>\n",
       "    </tr>\n",
       "    <tr>\n",
       "      <th>L_1</th>\n",
       "      <td>0.409000</td>\n",
       "      <td>0.000500</td>\n",
       "      <td>0.001222</td>\n",
       "    </tr>\n",
       "    <tr>\n",
       "      <th>L</th>\n",
       "      <td>0.400000</td>\n",
       "      <td>0.000707</td>\n",
       "      <td>0.001768</td>\n",
       "    </tr>\n",
       "  </tbody>\n",
       "</table>\n",
       "</div>"
      ],
      "text/plain": [
       "       Value    Error  ErrorRel\n",
       "d   0.003575 0.000025  0.006993\n",
       "v   0.000014 0.000001  0.036622\n",
       "L_1 0.409000 0.000500  0.001222\n",
       "L   0.400000 0.000707  0.001768"
      ]
     },
     "metadata": {},
     "output_type": "display_data"
    },
    {
     "data": {
      "text/plain": [
       "'Results for 0.005250:'"
      ]
     },
     "metadata": {},
     "output_type": "display_data"
    },
    {
     "data": {
      "text/html": [
       "<div>\n",
       "<table border=\"1\" class=\"dataframe\">\n",
       "  <thead>\n",
       "    <tr style=\"text-align: right;\">\n",
       "      <th></th>\n",
       "      <th>Value</th>\n",
       "      <th>Error</th>\n",
       "      <th>ErrorRel</th>\n",
       "    </tr>\n",
       "  </thead>\n",
       "  <tbody>\n",
       "    <tr>\n",
       "      <th>d</th>\n",
       "      <td>0.005250</td>\n",
       "      <td>0.000250</td>\n",
       "      <td>0.047619</td>\n",
       "    </tr>\n",
       "    <tr>\n",
       "      <th>v</th>\n",
       "      <td>0.000019</td>\n",
       "      <td>0.000004</td>\n",
       "      <td>0.204667</td>\n",
       "    </tr>\n",
       "    <tr>\n",
       "      <th>L_1</th>\n",
       "      <td>0.707000</td>\n",
       "      <td>0.000500</td>\n",
       "      <td>0.000707</td>\n",
       "    </tr>\n",
       "    <tr>\n",
       "      <th>L</th>\n",
       "      <td>0.500000</td>\n",
       "      <td>0.000707</td>\n",
       "      <td>0.001414</td>\n",
       "    </tr>\n",
       "  </tbody>\n",
       "</table>\n",
       "</div>"
      ],
      "text/plain": [
       "       Value    Error  ErrorRel\n",
       "d   0.005250 0.000250  0.047619\n",
       "v   0.000019 0.000004  0.204667\n",
       "L_1 0.707000 0.000500  0.000707\n",
       "L   0.500000 0.000707  0.001414"
      ]
     },
     "metadata": {},
     "output_type": "display_data"
    },
    {
     "data": {
      "text/plain": [
       "'Results for 0.003000:'"
      ]
     },
     "metadata": {},
     "output_type": "display_data"
    },
    {
     "data": {
      "text/html": [
       "<div>\n",
       "<table border=\"1\" class=\"dataframe\">\n",
       "  <thead>\n",
       "    <tr style=\"text-align: right;\">\n",
       "      <th></th>\n",
       "      <th>Value</th>\n",
       "      <th>Error</th>\n",
       "      <th>ErrorRel</th>\n",
       "    </tr>\n",
       "  </thead>\n",
       "  <tbody>\n",
       "    <tr>\n",
       "      <th>d</th>\n",
       "      <td>0.003000</td>\n",
       "      <td>0.000100</td>\n",
       "      <td>0.033333</td>\n",
       "    </tr>\n",
       "    <tr>\n",
       "      <th>v</th>\n",
       "      <td>0.000019</td>\n",
       "      <td>0.000003</td>\n",
       "      <td>0.136653</td>\n",
       "    </tr>\n",
       "    <tr>\n",
       "      <th>L_1</th>\n",
       "      <td>0.310000</td>\n",
       "      <td>0.005000</td>\n",
       "      <td>0.016129</td>\n",
       "    </tr>\n",
       "    <tr>\n",
       "      <th>L</th>\n",
       "      <td>0.300000</td>\n",
       "      <td>0.007071</td>\n",
       "      <td>0.023570</td>\n",
       "    </tr>\n",
       "  </tbody>\n",
       "</table>\n",
       "</div>"
      ],
      "text/plain": [
       "       Value    Error  ErrorRel\n",
       "d   0.003000 0.000100  0.033333\n",
       "v   0.000019 0.000003  0.136653\n",
       "L_1 0.310000 0.005000  0.016129\n",
       "L   0.300000 0.007071  0.023570"
      ]
     },
     "metadata": {},
     "output_type": "display_data"
    }
   ],
   "source": [
    "for e in experiments_1:\n",
    "    disp(\"Results for %f:\" % data[e].Value[\"d\"],\n",
    "         data[e].loc[[\"d\", \"v\", \"L_1\", \"L\"]])"
   ]
  },
  {
   "cell_type": "markdown",
   "metadata": {},
   "source": [
    "Полученные значения вязкости:\n",
    "\n",
    "- $d = 0.003575 м$: $\\eta = (14 \\pm 0.5) * 10^{-6} \\frac{м^2}{сек}$\n",
    "- $d = 0.005250 м$: $\\eta = (19 \\pm 4) * 10^{-6} \\frac{м^2}{сек}$\n",
    "- $d = 0.003000 м$: $\\eta = (19 \\pm 3) * 10^{-6} \\frac{м^2}{сек}$"
   ]
  },
  {
   "cell_type": "markdown",
   "metadata": {},
   "source": [
    "Теперь построим тот же график, но вычислим число Рейнольдса для каждой точки, чтобы проверить правильность выбора точки перехода в турбулентное течение."
   ]
  },
  {
   "cell_type": "code",
   "execution_count": 9,
   "metadata": {
    "collapsed": false
   },
   "outputs": [
    {
     "data": {
      "text/plain": [
       "<matplotlib.legend.Legend at 0x7f82845656d8>"
      ]
     },
     "execution_count": 9,
     "metadata": {},
     "output_type": "execute_result"
    },
    {
     "data": {
      "image/png": "[encoded data removed]",
      "text/plain": [
       "<matplotlib.figure.Figure at 0x7f82849356a0>"
      ]
     },
     "metadata": {},
     "output_type": "display_data"
    }
   ],
   "source": [
    "for e in experiments_1:\n",
    "    ll.compute(name = \"Re\",\n",
    "               expr = lambda Q, v, d: (d/2) * Q / (m.pi * (d/2)**2 * v),\n",
    "               data = data[e],\n",
    "               columns = columns[e])\n",
    "\n",
    "plt.title(\"First experiment, with Reynolds number\")\n",
    "plt.xlabel(\"Gas flow, m^3/sec\")\n",
    "\n",
    "ax1 = plt.gca()\n",
    "ax1.set_ylabel(\"Pressure, Pa\")\n",
    "ax2 = ax1.twinx()\n",
    "ax2.set_ylabel(\"Reynolds number\")\n",
    "\n",
    "for e, c in zip(experiments_1, colors_1):\n",
    "    ax2.errorbar(x = columns[e].Q,\n",
    "                 y = columns[e].Re,\n",
    "                 xerr = columns[e].Error_Q,\n",
    "                 yerr = columns[e].Error_Re,\n",
    "                 label = \"%s: Reynolds number\" % e,\n",
    "                 color = c,\n",
    "                 alpha = 0.5,\n",
    "                 linestyle = \"None\")\n",
    "    ax1.errorbar(x = columns[e].Q,\n",
    "                 y = columns[e].P,\n",
    "                 xerr = columns[e].Error_Q,\n",
    "                 yerr = columns[e].Error_P,\n",
    "                 label = \"%s: $d = %f \\pm %f$\" % (e, data[e].Value[\"d\"], data[e].Error[\"d\"]),\n",
    "                 color = c)\n",
    "\n",
    "ax1.legend(loc = \"best\")"
   ]
  },
  {
   "cell_type": "markdown",
   "metadata": {},
   "source": [
    "Ну или по-другому — вычислим число Рейнольдса для выбранной нами точки перехода."
   ]
  },
  {
   "cell_type": "code",
   "execution_count": 10,
   "metadata": {
    "collapsed": false
   },
   "outputs": [
    {
     "data": {
      "text/plain": [
       "<matplotlib.legend.Legend at 0x7f82846b8128>"
      ]
     },
     "execution_count": 10,
     "metadata": {},
     "output_type": "execute_result"
    },
    {
     "data": {
      "image/png": "[encoded data removed]",
      "text/plain": [
       "<matplotlib.figure.Figure at 0x7f82846b8278>"
      ]
     },
     "metadata": {},
     "output_type": "display_data"
    }
   ],
   "source": [
    "plt.title(\"Critical Reynolds number\")\n",
    "plt.xlabel(\"Tube diameter, m\")\n",
    "plt.ylabel(\"Critical Reynolds number\")\n",
    "\n",
    "for e, c in zip(experiments_1, colors_1):\n",
    "    plt.errorbar(x = [data[e].Value[\"d\"]],\n",
    "                 y = [columns[e].Re[usable[e]]],\n",
    "                 xerr = [data[e].Error[\"d\"]],\n",
    "                 yerr = [columns[e].Error_Re[usable[e]]],\n",
    "                 label = e,\n",
    "                 linestyle = \"none\",\n",
    "                 color = c)\n",
    "\n",
    "plt.legend(loc = \"best\")"
   ]
  },
  {
   "cell_type": "markdown",
   "metadata": {},
   "source": [
    "Теперь построим график зависимости падения давления в трубке от координаты вдоль трубки."
   ]
  },
  {
   "cell_type": "code",
   "execution_count": 11,
   "metadata": {
    "collapsed": false
   },
   "outputs": [
    {
     "data": {
      "text/plain": [
       "<matplotlib.legend.Legend at 0x7f8284385b00>"
      ]
     },
     "execution_count": 11,
     "metadata": {},
     "output_type": "execute_result"
    },
    {
     "data": {
      "image/png": "[encoded data removed]",
      "text/plain": [
       "<matplotlib.figure.Figure at 0x7f828478a7f0>"
      ]
     },
     "metadata": {},
     "output_type": "display_data"
    }
   ],
   "source": [
    "plt.title(\"Second experiment\")\n",
    "plt.xlabel(\"Position along the tube, m\")\n",
    "plt.ylabel(\"Pressure fall, Pa\")\n",
    "\n",
    "e = \"step_2\"\n",
    "plt.errorbar(x = [0] + list(columns[e].L),\n",
    "             y = [0] + list(columns[e].P),\n",
    "             xerr = [0] + list(columns[e].Error_L),\n",
    "             yerr = [0] + list(columns[e].Error_P),\n",
    "             label = \"$P$: $d = %f \\pm %f$\" % (data[e].Value[\"d\"], data[e].Error[\"d\"]))\n",
    "\n",
    "plt.axis([0, None, 0, None])\n",
    "plt.legend(loc = \"best\")"
   ]
  },
  {
   "cell_type": "markdown",
   "metadata": {},
   "source": [
    "Также приведём результаты оценки расстояния установления ламинарного течения (по указанной оценочной формуле) и сравним с вышеприведённым графиком."
   ]
  },
  {
   "cell_type": "code",
   "execution_count": 12,
   "metadata": {
    "collapsed": false
   },
   "outputs": [
    {
     "data": {
      "text/plain": [
       "<matplotlib.legend.Legend at 0x7f828439b898>"
      ]
     },
     "execution_count": 12,
     "metadata": {},
     "output_type": "execute_result"
    },
    {
     "data": {
      "image/png": "[encoded data removed]",
      "text/plain": [
       "<matplotlib.figure.Figure at 0x7f82843204e0>"
      ]
     },
     "metadata": {},
     "output_type": "display_data"
    }
   ],
   "source": [
    "for e in experiments_1:\n",
    "    ll.compute(name = \"L_threshold\",\n",
    "               expr = lambda d, Re: 0.2 * (d/2) * Re,\n",
    "               data = data[e],\n",
    "               columns = columns[e])\n",
    "\n",
    "plt.title(\"Laminar flow establishment distance\")\n",
    "plt.xlabel(\"Tube diameter, m\")\n",
    "plt.ylabel(\"Laminar flow establishment distance, m\")\n",
    "\n",
    "for e, c in zip(experiments_1, colors_1):\n",
    "    plt.errorbar(x = [data[e].Value[\"d\"]],\n",
    "                 y = [columns[e].L_threshold[usable[e]]],\n",
    "                 xerr = [data[e].Error[\"d\"]],\n",
    "                 yerr = [columns[e].Error_L_threshold[usable[e]]],\n",
    "                 linestyle = \"none\",\n",
    "                 label = e,\n",
    "                 color = c)\n",
    "                 \n",
    "\n",
    "plt.legend(loc = \"best\")"
   ]
  },
  {
   "cell_type": "markdown",
   "metadata": {},
   "source": [
    "Наконец, построим график в логарифмических масштабах, чтобы убедиться в выполнении закона Пуазейля."
   ]
  },
  {
   "cell_type": "code",
   "execution_count": 13,
   "metadata": {
    "collapsed": false
   },
   "outputs": [
    {
     "name": "stdout",
     "output_type": "stream",
     "text": [
      "Initial guesses for ln_k:\n",
      "             Value    Error  ErrorRel\n",
      "r_index  3.668542 0.449044  0.122404\n",
      "offset  -2.220028 2.841195 -1.279801\n"
     ]
    },
    {
     "data": {
      "text/plain": [
       "'Final guesses for ln_k:'"
      ]
     },
     "metadata": {},
     "output_type": "display_data"
    },
    {
     "data": {
      "text/html": [
       "<div>\n",
       "<table border=\"1\" class=\"dataframe\">\n",
       "  <thead>\n",
       "    <tr style=\"text-align: right;\">\n",
       "      <th></th>\n",
       "      <th>Value</th>\n",
       "      <th>Error</th>\n",
       "      <th>ErrorRel</th>\n",
       "    </tr>\n",
       "  </thead>\n",
       "  <tbody>\n",
       "    <tr>\n",
       "      <th>r_index</th>\n",
       "      <td>3.673585</td>\n",
       "      <td>0.256388</td>\n",
       "      <td>6.98%</td>\n",
       "    </tr>\n",
       "    <tr>\n",
       "      <th>offset</th>\n",
       "      <td>-2.185539</td>\n",
       "      <td>1.622252</td>\n",
       "      <td>-74.23%</td>\n",
       "    </tr>\n",
       "  </tbody>\n",
       "</table>\n",
       "</div>"
      ],
      "text/plain": [
       "            Value    Error  ErrorRel\n",
       "r_index  3.673585 0.256388  0.069792\n",
       "offset  -2.185539 1.622252 -0.742266"
      ]
     },
     "metadata": {},
     "output_type": "display_data"
    },
    {
     "data": {
      "text/plain": [
       "<Container object of 3 artists>"
      ]
     },
     "execution_count": 13,
     "metadata": {},
     "output_type": "execute_result"
    },
    {
     "data": {
      "image/png": "[encoded data removed]",
      "text/plain": [
       "<matplotlib.figure.Figure at 0x7f82842a1b00>"
      ]
     },
     "metadata": {},
     "output_type": "display_data"
    }
   ],
   "source": [
    "for e in experiments_1:\n",
    "    ll.compute(name = \"ln_r\",\n",
    "               expr = lambda d: ll.log(d/2),\n",
    "               data = data[e],\n",
    "               columns = columns[e])\n",
    "    \n",
    "    ll.compute(name = \"ln_k\",\n",
    "               expr = lambda Q, v, L, P: ll.log(8 * L * v * Q / (m.pi * P)),\n",
    "               data = data[e],\n",
    "               columns = columns[e])\n",
    "\n",
    "plt.title(\"Poiseuille law verification\")\n",
    "plt.xlabel(\"$ln(r)$\")\n",
    "plt.ylabel(\"$ln({8*L*\\eta*Q} / {\\pi*P})$\")\n",
    "\n",
    "model = ll.fit2(name = \"ln_k\",\n",
    "                model = lambda ln_r, r_index, offset: ln_r * r_index + offset,\n",
    "                x = [data[e].Value[\"ln_r\"] for e in experiments_1],\n",
    "                y = [columns[e].ln_k[usable[e]] for e in experiments_1],\n",
    "                xerr = [data[e].Error[\"ln_r\"] for e in experiments_1],\n",
    "                yerr = [columns[e].Error_ln_k[usable[e]] for e in experiments_1],\n",
    "                data = data[e])\n",
    "\n",
    "ln_r_linspace = ll.linspace([data[e].Value[\"ln_r\"] for e in experiments_1])\n",
    "\n",
    "plt.errorbar(x = [data[e].Value[\"ln_r\"] for e in experiments_1],\n",
    "             y = [columns[e].ln_k[usable[e]] for e in experiments_1],\n",
    "             xerr = [data[e].Error[\"ln_r\"] for e in experiments_1],\n",
    "             yerr = [columns[e].Error_ln_k[usable[e]] for e in experiments_1],\n",
    "             linestyle = \"none\",\n",
    "             color = \"black\")\n",
    "\n",
    "plt.errorbar(x = ln_r_linspace, y = model(ln_r_linspace), color = \"black\")"
   ]
  },
  {
   "cell_type": "markdown",
   "metadata": {},
   "source": [
    "Величина показателя степени у радиуса трубки — $3.67 \\pm 0.26$."
   ]
  }
 ],
 "metadata": {
  "kernelspec": {
   "display_name": "Python 3",
   "language": "python",
   "name": "python3"
  },
  "language_info": {
   "codemirror_mode": {
    "name": "ipython",
    "version": 3
   },
   "file_extension": ".py",
   "mimetype": "text/x-python",
   "name": "python",
   "nbconvert_exporter": "python",
   "pygments_lexer": "ipython3",
   "version": "3.5.2"
  }
 },
 "nbformat": 4,
 "nbformat_minor": 0
}
