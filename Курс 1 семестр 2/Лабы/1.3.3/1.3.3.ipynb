{
 "cells": [
  {
   "cell_type": "markdown",
   "metadata": {
    "collapsed": false
   },
   "source": [
    "import pandas as pd\n",
    "import numpy as np\n",
    "import scipy as sp\n",
    "import matplotlib as mp\n",
    "import matplotlib.pyplot as plt\n",
    "import math as m\n",
    "import sympy as smp\n",
    "from IPython.display import display as disp\n",
    "import lablib as ll\n",
    "%matplotlib inline"
   ]
  },
  {
   "cell_type": "code",
   "execution_count": 2,
   "metadata": {
    "collapsed": false
   },
   "outputs": [],
   "source": [
    "data = {}\n",
    "columns = {}\n",
    "aux = {}\n",
    "experiments = [\"step_1\", \"step_2\", \"step_3_1\", \"step_3_2\"]\n",
    "\n",
    "constants = ll.read_csv(\"constants.csv\")\n",
    "\n",
    "for e in experiments:\n",
    "    columns[e] = ll.read_csv(\"measurements/%s.csv\" % e)\n",
    "    data[e] = ll.varlist()\n",
    "    ll.add(data[e],\n",
    "           constants,\n",
    "           ll.read_csv(\"constants/%s.csv\" % e))\n",
    "\n",
    "#for e in experiments:\n",
    "#    disp(\"Data for experiment %s:\" % e, columns[e])\n",
    "#    \n",
    "#for e in experiments:\n",
    "#    disp(\"Constants for experiment %s:\" % e, data[e])"
   ]
  },
  {
   "cell_type": "markdown",
   "metadata": {},
   "source": [
    "Выполняем предварительные расчёты: $P = P_{изм} * cos(\\alpha) * P_{коэф}$, $Q = \\frac{V}{t}$, $L = L_2 - L_1$."
   ]
  },
  {
   "cell_type": "code",
   "execution_count": 3,
   "metadata": {
    "collapsed": false
   },
   "outputs": [
    {
     "data": {
      "text/plain": [
       "'Data for step_1 (d = 0.003575 ± 0.000025):'"
      ]
     },
     "metadata": {},
     "output_type": "display_data"
    },
    {
     "data": {
      "text/html": [
       "<div>\n",
       "<table border=\"1\" class=\"dataframe\">\n",
       "  <thead>\n",
       "    <tr style=\"text-align: right;\">\n",
       "      <th></th>\n",
       "      <th>Value</th>\n",
       "      <th>Error</th>\n",
       "    </tr>\n",
       "  </thead>\n",
       "  <tbody>\n",
       "    <tr>\n",
       "      <th>P_coef</th>\n",
       "      <td>9.806650</td>\n",
       "      <td>0.000005</td>\n",
       "    </tr>\n",
       "    <tr>\n",
       "      <th>P_angle</th>\n",
       "      <td>0.200000</td>\n",
       "      <td>0.005000</td>\n",
       "    </tr>\n",
       "    <tr>\n",
       "      <th>d</th>\n",
       "      <td>0.003575</td>\n",
       "      <td>0.000025</td>\n",
       "    </tr>\n",
       "    <tr>\n",
       "      <th>L_1</th>\n",
       "      <td>0.409000</td>\n",
       "      <td>0.000500</td>\n",
       "    </tr>\n",
       "    <tr>\n",
       "      <th>L_2</th>\n",
       "      <td>0.809000</td>\n",
       "      <td>0.000500</td>\n",
       "    </tr>\n",
       "    <tr>\n",
       "      <th>L</th>\n",
       "      <td>0.400000</td>\n",
       "      <td>0.000707</td>\n",
       "    </tr>\n",
       "  </tbody>\n",
       "</table>\n",
       "</div>"
      ],
      "text/plain": [
       "            Value     Error\n",
       "P_coef   9.806650  0.000005\n",
       "P_angle  0.200000  0.005000\n",
       "d        0.003575  0.000025\n",
       "L_1      0.409000  0.000500\n",
       "L_2      0.809000  0.000500\n",
       "L        0.400000  0.000707"
      ]
     },
     "metadata": {},
     "output_type": "display_data"
    },
    {
     "data": {
      "text/html": [
       "<div>\n",
       "<table border=\"1\" class=\"dataframe\">\n",
       "  <thead>\n",
       "    <tr style=\"text-align: right;\">\n",
       "      <th></th>\n",
       "      <th>P_m</th>\n",
       "      <th>Error_P_m</th>\n",
       "      <th>V</th>\n",
       "      <th>Error_V</th>\n",
       "      <th>t</th>\n",
       "      <th>Error_t</th>\n",
       "      <th>P</th>\n",
       "      <th>Error_P</th>\n",
       "      <th>Q</th>\n",
       "      <th>Error_Q</th>\n",
       "    </tr>\n",
       "  </thead>\n",
       "  <tbody>\n",
       "    <tr>\n",
       "      <th>0</th>\n",
       "      <td>10</td>\n",
       "      <td>0.5</td>\n",
       "      <td>0.001</td>\n",
       "      <td>0.00005</td>\n",
       "      <td>68</td>\n",
       "      <td>1</td>\n",
       "      <td>19.61330</td>\n",
       "      <td>1.096417</td>\n",
       "      <td>0.000015</td>\n",
       "      <td>7.664379e-07</td>\n",
       "    </tr>\n",
       "    <tr>\n",
       "      <th>1</th>\n",
       "      <td>20</td>\n",
       "      <td>0.5</td>\n",
       "      <td>0.002</td>\n",
       "      <td>0.00005</td>\n",
       "      <td>68</td>\n",
       "      <td>1</td>\n",
       "      <td>39.22660</td>\n",
       "      <td>1.386870</td>\n",
       "      <td>0.000029</td>\n",
       "      <td>8.530745e-07</td>\n",
       "    </tr>\n",
       "    <tr>\n",
       "      <th>2</th>\n",
       "      <td>30</td>\n",
       "      <td>0.5</td>\n",
       "      <td>0.003</td>\n",
       "      <td>0.00005</td>\n",
       "      <td>70</td>\n",
       "      <td>1</td>\n",
       "      <td>58.83990</td>\n",
       "      <td>1.767919</td>\n",
       "      <td>0.000043</td>\n",
       "      <td>9.407698e-07</td>\n",
       "    </tr>\n",
       "    <tr>\n",
       "      <th>3</th>\n",
       "      <td>40</td>\n",
       "      <td>0.5</td>\n",
       "      <td>0.004</td>\n",
       "      <td>0.00005</td>\n",
       "      <td>73</td>\n",
       "      <td>1</td>\n",
       "      <td>78.45320</td>\n",
       "      <td>2.192834</td>\n",
       "      <td>0.000055</td>\n",
       "      <td>1.016143e-06</td>\n",
       "    </tr>\n",
       "    <tr>\n",
       "      <th>4</th>\n",
       "      <td>50</td>\n",
       "      <td>0.5</td>\n",
       "      <td>0.005</td>\n",
       "      <td>0.00005</td>\n",
       "      <td>77</td>\n",
       "      <td>1</td>\n",
       "      <td>98.06650</td>\n",
       "      <td>2.640521</td>\n",
       "      <td>0.000065</td>\n",
       "      <td>1.064346e-06</td>\n",
       "    </tr>\n",
       "    <tr>\n",
       "      <th>5</th>\n",
       "      <td>60</td>\n",
       "      <td>0.5</td>\n",
       "      <td>0.006</td>\n",
       "      <td>0.00010</td>\n",
       "      <td>81</td>\n",
       "      <td>1</td>\n",
       "      <td>117.67980</td>\n",
       "      <td>3.101135</td>\n",
       "      <td>0.000074</td>\n",
       "      <td>1.536378e-06</td>\n",
       "    </tr>\n",
       "    <tr>\n",
       "      <th>6</th>\n",
       "      <td>70</td>\n",
       "      <td>1.0</td>\n",
       "      <td>0.007</td>\n",
       "      <td>0.00010</td>\n",
       "      <td>87</td>\n",
       "      <td>1</td>\n",
       "      <td>137.29310</td>\n",
       "      <td>3.953187</td>\n",
       "      <td>0.000080</td>\n",
       "      <td>1.475290e-06</td>\n",
       "    </tr>\n",
       "    <tr>\n",
       "      <th>7</th>\n",
       "      <td>80</td>\n",
       "      <td>1.0</td>\n",
       "      <td>0.008</td>\n",
       "      <td>0.00010</td>\n",
       "      <td>95</td>\n",
       "      <td>1</td>\n",
       "      <td>156.90640</td>\n",
       "      <td>4.385667</td>\n",
       "      <td>0.000084</td>\n",
       "      <td>1.376149e-06</td>\n",
       "    </tr>\n",
       "    <tr>\n",
       "      <th>8</th>\n",
       "      <td>90</td>\n",
       "      <td>1.0</td>\n",
       "      <td>0.009</td>\n",
       "      <td>0.00010</td>\n",
       "      <td>100</td>\n",
       "      <td>1</td>\n",
       "      <td>176.51970</td>\n",
       "      <td>4.829215</td>\n",
       "      <td>0.000090</td>\n",
       "      <td>1.345362e-06</td>\n",
       "    </tr>\n",
       "    <tr>\n",
       "      <th>9</th>\n",
       "      <td>100</td>\n",
       "      <td>1.0</td>\n",
       "      <td>0.010</td>\n",
       "      <td>0.00010</td>\n",
       "      <td>104</td>\n",
       "      <td>1</td>\n",
       "      <td>196.13300</td>\n",
       "      <td>5.281043</td>\n",
       "      <td>0.000096</td>\n",
       "      <td>1.333927e-06</td>\n",
       "    </tr>\n",
       "    <tr>\n",
       "      <th>10</th>\n",
       "      <td>131</td>\n",
       "      <td>1.0</td>\n",
       "      <td>0.010</td>\n",
       "      <td>0.00010</td>\n",
       "      <td>92</td>\n",
       "      <td>1</td>\n",
       "      <td>256.93423</td>\n",
       "      <td>6.716123</td>\n",
       "      <td>0.000109</td>\n",
       "      <td>1.605415e-06</td>\n",
       "    </tr>\n",
       "    <tr>\n",
       "      <th>11</th>\n",
       "      <td>161</td>\n",
       "      <td>1.0</td>\n",
       "      <td>0.010</td>\n",
       "      <td>0.00010</td>\n",
       "      <td>83</td>\n",
       "      <td>1</td>\n",
       "      <td>315.77413</td>\n",
       "      <td>8.134349</td>\n",
       "      <td>0.000120</td>\n",
       "      <td>1.886452e-06</td>\n",
       "    </tr>\n",
       "    <tr>\n",
       "      <th>12</th>\n",
       "      <td>191</td>\n",
       "      <td>1.0</td>\n",
       "      <td>0.010</td>\n",
       "      <td>0.00010</td>\n",
       "      <td>76</td>\n",
       "      <td>1</td>\n",
       "      <td>374.61403</td>\n",
       "      <td>9.568522</td>\n",
       "      <td>0.000132</td>\n",
       "      <td>2.174559e-06</td>\n",
       "    </tr>\n",
       "    <tr>\n",
       "      <th>13</th>\n",
       "      <td>220</td>\n",
       "      <td>1.0</td>\n",
       "      <td>0.010</td>\n",
       "      <td>0.00010</td>\n",
       "      <td>70</td>\n",
       "      <td>1</td>\n",
       "      <td>431.49260</td>\n",
       "      <td>10.964168</td>\n",
       "      <td>0.000143</td>\n",
       "      <td>2.491134e-06</td>\n",
       "    </tr>\n",
       "    <tr>\n",
       "      <th>14</th>\n",
       "      <td>250</td>\n",
       "      <td>1.0</td>\n",
       "      <td>0.010</td>\n",
       "      <td>0.00010</td>\n",
       "      <td>65</td>\n",
       "      <td>1</td>\n",
       "      <td>490.33250</td>\n",
       "      <td>12.414227</td>\n",
       "      <td>0.000154</td>\n",
       "      <td>2.822926e-06</td>\n",
       "    </tr>\n",
       "  </tbody>\n",
       "</table>\n",
       "</div>"
      ],
      "text/plain": [
       "    P_m  Error_P_m      V  Error_V    t  Error_t          P    Error_P  \\\n",
       "0    10        0.5  0.001  0.00005   68        1   19.61330   1.096417   \n",
       "1    20        0.5  0.002  0.00005   68        1   39.22660   1.386870   \n",
       "2    30        0.5  0.003  0.00005   70        1   58.83990   1.767919   \n",
       "3    40        0.5  0.004  0.00005   73        1   78.45320   2.192834   \n",
       "4    50        0.5  0.005  0.00005   77        1   98.06650   2.640521   \n",
       "5    60        0.5  0.006  0.00010   81        1  117.67980   3.101135   \n",
       "6    70        1.0  0.007  0.00010   87        1  137.29310   3.953187   \n",
       "7    80        1.0  0.008  0.00010   95        1  156.90640   4.385667   \n",
       "8    90        1.0  0.009  0.00010  100        1  176.51970   4.829215   \n",
       "9   100        1.0  0.010  0.00010  104        1  196.13300   5.281043   \n",
       "10  131        1.0  0.010  0.00010   92        1  256.93423   6.716123   \n",
       "11  161        1.0  0.010  0.00010   83        1  315.77413   8.134349   \n",
       "12  191        1.0  0.010  0.00010   76        1  374.61403   9.568522   \n",
       "13  220        1.0  0.010  0.00010   70        1  431.49260  10.964168   \n",
       "14  250        1.0  0.010  0.00010   65        1  490.33250  12.414227   \n",
       "\n",
       "           Q       Error_Q  \n",
       "0   0.000015  7.664379e-07  \n",
       "1   0.000029  8.530745e-07  \n",
       "2   0.000043  9.407698e-07  \n",
       "3   0.000055  1.016143e-06  \n",
       "4   0.000065  1.064346e-06  \n",
       "5   0.000074  1.536378e-06  \n",
       "6   0.000080  1.475290e-06  \n",
       "7   0.000084  1.376149e-06  \n",
       "8   0.000090  1.345362e-06  \n",
       "9   0.000096  1.333927e-06  \n",
       "10  0.000109  1.605415e-06  \n",
       "11  0.000120  1.886452e-06  \n",
       "12  0.000132  2.174559e-06  \n",
       "13  0.000143  2.491134e-06  \n",
       "14  0.000154  2.822926e-06  "
      ]
     },
     "metadata": {},
     "output_type": "display_data"
    },
    {
     "data": {
      "text/plain": [
       "'Data for step_2 (d = 0.003575 ± 0.000025):'"
      ]
     },
     "metadata": {},
     "output_type": "display_data"
    },
    {
     "data": {
      "text/html": [
       "<div>\n",
       "<table border=\"1\" class=\"dataframe\">\n",
       "  <thead>\n",
       "    <tr style=\"text-align: right;\">\n",
       "      <th></th>\n",
       "      <th>Value</th>\n",
       "      <th>Error</th>\n",
       "    </tr>\n",
       "  </thead>\n",
       "  <tbody>\n",
       "    <tr>\n",
       "      <th>P_coef</th>\n",
       "      <td>9.806650</td>\n",
       "      <td>0.000005</td>\n",
       "    </tr>\n",
       "    <tr>\n",
       "      <th>P_angle</th>\n",
       "      <td>0.200000</td>\n",
       "      <td>0.005000</td>\n",
       "    </tr>\n",
       "    <tr>\n",
       "      <th>V</th>\n",
       "      <td>0.005000</td>\n",
       "      <td>0.000050</td>\n",
       "    </tr>\n",
       "    <tr>\n",
       "      <th>t</th>\n",
       "      <td>72.000000</td>\n",
       "      <td>1.000000</td>\n",
       "    </tr>\n",
       "    <tr>\n",
       "      <th>d</th>\n",
       "      <td>0.003575</td>\n",
       "      <td>0.000025</td>\n",
       "    </tr>\n",
       "    <tr>\n",
       "      <th>Q</th>\n",
       "      <td>0.000069</td>\n",
       "      <td>0.000001</td>\n",
       "    </tr>\n",
       "  </tbody>\n",
       "</table>\n",
       "</div>"
      ],
      "text/plain": [
       "             Value     Error\n",
       "P_coef    9.806650  0.000005\n",
       "P_angle   0.200000  0.005000\n",
       "V         0.005000  0.000050\n",
       "t        72.000000  1.000000\n",
       "d         0.003575  0.000025\n",
       "Q         0.000069  0.000001"
      ]
     },
     "metadata": {},
     "output_type": "display_data"
    },
    {
     "data": {
      "text/html": [
       "<div>\n",
       "<table border=\"1\" class=\"dataframe\">\n",
       "  <thead>\n",
       "    <tr style=\"text-align: right;\">\n",
       "      <th></th>\n",
       "      <th>L_1</th>\n",
       "      <th>L_2</th>\n",
       "      <th>Error_L_1_2</th>\n",
       "      <th>P_m</th>\n",
       "      <th>Error_P_m</th>\n",
       "      <th>P</th>\n",
       "      <th>Error_P</th>\n",
       "      <th>L</th>\n",
       "      <th>Error_L</th>\n",
       "    </tr>\n",
       "  </thead>\n",
       "  <tbody>\n",
       "    <tr>\n",
       "      <th>0</th>\n",
       "      <td>0</td>\n",
       "      <td>0.109</td>\n",
       "      <td>0.0005</td>\n",
       "      <td>37</td>\n",
       "      <td>0.05</td>\n",
       "      <td>72.56921</td>\n",
       "      <td>1.816879</td>\n",
       "      <td>0.109</td>\n",
       "      <td>0.000707</td>\n",
       "    </tr>\n",
       "    <tr>\n",
       "      <th>1</th>\n",
       "      <td>0</td>\n",
       "      <td>0.409</td>\n",
       "      <td>0.0005</td>\n",
       "      <td>78</td>\n",
       "      <td>0.05</td>\n",
       "      <td>152.98374</td>\n",
       "      <td>3.825851</td>\n",
       "      <td>0.409</td>\n",
       "      <td>0.000707</td>\n",
       "    </tr>\n",
       "    <tr>\n",
       "      <th>2</th>\n",
       "      <td>0</td>\n",
       "      <td>0.709</td>\n",
       "      <td>0.0005</td>\n",
       "      <td>135</td>\n",
       "      <td>0.05</td>\n",
       "      <td>264.77955</td>\n",
       "      <td>6.620215</td>\n",
       "      <td>0.709</td>\n",
       "      <td>0.000707</td>\n",
       "    </tr>\n",
       "    <tr>\n",
       "      <th>3</th>\n",
       "      <td>0</td>\n",
       "      <td>1.209</td>\n",
       "      <td>0.0005</td>\n",
       "      <td>197</td>\n",
       "      <td>0.05</td>\n",
       "      <td>386.38201</td>\n",
       "      <td>9.660048</td>\n",
       "      <td>1.209</td>\n",
       "      <td>0.000707</td>\n",
       "    </tr>\n",
       "  </tbody>\n",
       "</table>\n",
       "</div>"
      ],
      "text/plain": [
       "   L_1    L_2  Error_L_1_2  P_m  Error_P_m          P   Error_P      L  \\\n",
       "0    0  0.109       0.0005   37       0.05   72.56921  1.816879  0.109   \n",
       "1    0  0.409       0.0005   78       0.05  152.98374  3.825851  0.409   \n",
       "2    0  0.709       0.0005  135       0.05  264.77955  6.620215  0.709   \n",
       "3    0  1.209       0.0005  197       0.05  386.38201  9.660048  1.209   \n",
       "\n",
       "    Error_L  \n",
       "0  0.000707  \n",
       "1  0.000707  \n",
       "2  0.000707  \n",
       "3  0.000707  "
      ]
     },
     "metadata": {},
     "output_type": "display_data"
    },
    {
     "data": {
      "text/plain": [
       "'Data for step_3_1 (d = 0.005250 ± 0.000250):'"
      ]
     },
     "metadata": {},
     "output_type": "display_data"
    },
    {
     "data": {
      "text/html": [
       "<div>\n",
       "<table border=\"1\" class=\"dataframe\">\n",
       "  <thead>\n",
       "    <tr style=\"text-align: right;\">\n",
       "      <th></th>\n",
       "      <th>Value</th>\n",
       "      <th>Error</th>\n",
       "    </tr>\n",
       "  </thead>\n",
       "  <tbody>\n",
       "    <tr>\n",
       "      <th>P_coef</th>\n",
       "      <td>9.80665</td>\n",
       "      <td>0.000005</td>\n",
       "    </tr>\n",
       "    <tr>\n",
       "      <th>P_angle</th>\n",
       "      <td>0.20000</td>\n",
       "      <td>0.005000</td>\n",
       "    </tr>\n",
       "    <tr>\n",
       "      <th>L_1</th>\n",
       "      <td>0.70700</td>\n",
       "      <td>0.000500</td>\n",
       "    </tr>\n",
       "    <tr>\n",
       "      <th>L_2</th>\n",
       "      <td>1.20700</td>\n",
       "      <td>0.000500</td>\n",
       "    </tr>\n",
       "    <tr>\n",
       "      <th>d</th>\n",
       "      <td>0.00525</td>\n",
       "      <td>0.000250</td>\n",
       "    </tr>\n",
       "    <tr>\n",
       "      <th>L</th>\n",
       "      <td>0.50000</td>\n",
       "      <td>0.000707</td>\n",
       "    </tr>\n",
       "  </tbody>\n",
       "</table>\n",
       "</div>"
      ],
      "text/plain": [
       "           Value     Error\n",
       "P_coef   9.80665  0.000005\n",
       "P_angle  0.20000  0.005000\n",
       "L_1      0.70700  0.000500\n",
       "L_2      1.20700  0.000500\n",
       "d        0.00525  0.000250\n",
       "L        0.50000  0.000707"
      ]
     },
     "metadata": {},
     "output_type": "display_data"
    },
    {
     "data": {
      "text/html": [
       "<div>\n",
       "<table border=\"1\" class=\"dataframe\">\n",
       "  <thead>\n",
       "    <tr style=\"text-align: right;\">\n",
       "      <th></th>\n",
       "      <th>P_m</th>\n",
       "      <th>Error_P_m</th>\n",
       "      <th>V</th>\n",
       "      <th>Error_V</th>\n",
       "      <th>t</th>\n",
       "      <th>Error_t</th>\n",
       "      <th>P</th>\n",
       "      <th>Error_P</th>\n",
       "      <th>Q</th>\n",
       "      <th>Error_Q</th>\n",
       "    </tr>\n",
       "  </thead>\n",
       "  <tbody>\n",
       "    <tr>\n",
       "      <th>0</th>\n",
       "      <td>20</td>\n",
       "      <td>0.5</td>\n",
       "      <td>0.005</td>\n",
       "      <td>0.0001</td>\n",
       "      <td>60</td>\n",
       "      <td>1</td>\n",
       "      <td>39.2266</td>\n",
       "      <td>1.386870</td>\n",
       "      <td>0.000083</td>\n",
       "      <td>0.000002</td>\n",
       "    </tr>\n",
       "    <tr>\n",
       "      <th>1</th>\n",
       "      <td>40</td>\n",
       "      <td>0.5</td>\n",
       "      <td>0.010</td>\n",
       "      <td>0.0001</td>\n",
       "      <td>70</td>\n",
       "      <td>1</td>\n",
       "      <td>78.4532</td>\n",
       "      <td>2.192834</td>\n",
       "      <td>0.000143</td>\n",
       "      <td>0.000002</td>\n",
       "    </tr>\n",
       "    <tr>\n",
       "      <th>2</th>\n",
       "      <td>60</td>\n",
       "      <td>0.5</td>\n",
       "      <td>0.010</td>\n",
       "      <td>0.0001</td>\n",
       "      <td>60</td>\n",
       "      <td>1</td>\n",
       "      <td>117.6798</td>\n",
       "      <td>3.101135</td>\n",
       "      <td>0.000167</td>\n",
       "      <td>0.000003</td>\n",
       "    </tr>\n",
       "    <tr>\n",
       "      <th>3</th>\n",
       "      <td>80</td>\n",
       "      <td>0.5</td>\n",
       "      <td>0.010</td>\n",
       "      <td>0.0001</td>\n",
       "      <td>54</td>\n",
       "      <td>1</td>\n",
       "      <td>156.9064</td>\n",
       "      <td>4.043385</td>\n",
       "      <td>0.000185</td>\n",
       "      <td>0.000004</td>\n",
       "    </tr>\n",
       "  </tbody>\n",
       "</table>\n",
       "</div>"
      ],
      "text/plain": [
       "   P_m  Error_P_m      V  Error_V   t  Error_t         P   Error_P         Q  \\\n",
       "0   20        0.5  0.005   0.0001  60        1   39.2266  1.386870  0.000083   \n",
       "1   40        0.5  0.010   0.0001  70        1   78.4532  2.192834  0.000143   \n",
       "2   60        0.5  0.010   0.0001  60        1  117.6798  3.101135  0.000167   \n",
       "3   80        0.5  0.010   0.0001  54        1  156.9064  4.043385  0.000185   \n",
       "\n",
       "    Error_Q  \n",
       "0  0.000002  \n",
       "1  0.000002  \n",
       "2  0.000003  \n",
       "3  0.000004  "
      ]
     },
     "metadata": {},
     "output_type": "display_data"
    },
    {
     "data": {
      "text/plain": [
       "'Data for step_3_2 (d = 0.003000 ± 0.000100):'"
      ]
     },
     "metadata": {},
     "output_type": "display_data"
    },
    {
     "data": {
      "text/html": [
       "<div>\n",
       "<table border=\"1\" class=\"dataframe\">\n",
       "  <thead>\n",
       "    <tr style=\"text-align: right;\">\n",
       "      <th></th>\n",
       "      <th>Value</th>\n",
       "      <th>Error</th>\n",
       "    </tr>\n",
       "  </thead>\n",
       "  <tbody>\n",
       "    <tr>\n",
       "      <th>P_coef</th>\n",
       "      <td>9.80665</td>\n",
       "      <td>0.000005</td>\n",
       "    </tr>\n",
       "    <tr>\n",
       "      <th>P_angle</th>\n",
       "      <td>0.20000</td>\n",
       "      <td>0.005000</td>\n",
       "    </tr>\n",
       "    <tr>\n",
       "      <th>L_1</th>\n",
       "      <td>0.31000</td>\n",
       "      <td>0.005000</td>\n",
       "    </tr>\n",
       "    <tr>\n",
       "      <th>L_2</th>\n",
       "      <td>0.61000</td>\n",
       "      <td>0.005000</td>\n",
       "    </tr>\n",
       "    <tr>\n",
       "      <th>d</th>\n",
       "      <td>0.00300</td>\n",
       "      <td>0.000100</td>\n",
       "    </tr>\n",
       "    <tr>\n",
       "      <th>L</th>\n",
       "      <td>0.30000</td>\n",
       "      <td>0.007071</td>\n",
       "    </tr>\n",
       "  </tbody>\n",
       "</table>\n",
       "</div>"
      ],
      "text/plain": [
       "           Value     Error\n",
       "P_coef   9.80665  0.000005\n",
       "P_angle  0.20000  0.005000\n",
       "L_1      0.31000  0.005000\n",
       "L_2      0.61000  0.005000\n",
       "d        0.00300  0.000100\n",
       "L        0.30000  0.007071"
      ]
     },
     "metadata": {},
     "output_type": "display_data"
    },
    {
     "data": {
      "text/html": [
       "<div>\n",
       "<table border=\"1\" class=\"dataframe\">\n",
       "  <thead>\n",
       "    <tr style=\"text-align: right;\">\n",
       "      <th></th>\n",
       "      <th>P_m</th>\n",
       "      <th>Error_P_m</th>\n",
       "      <th>V</th>\n",
       "      <th>Error_V</th>\n",
       "      <th>t</th>\n",
       "      <th>Error_t</th>\n",
       "      <th>P</th>\n",
       "      <th>Error_P</th>\n",
       "      <th>Q</th>\n",
       "      <th>Error_Q</th>\n",
       "    </tr>\n",
       "  </thead>\n",
       "  <tbody>\n",
       "    <tr>\n",
       "      <th>0</th>\n",
       "      <td>20</td>\n",
       "      <td>0.5</td>\n",
       "      <td>0.001</td>\n",
       "      <td>0.00005</td>\n",
       "      <td>70</td>\n",
       "      <td>1</td>\n",
       "      <td>39.2266</td>\n",
       "      <td>1.386870</td>\n",
       "      <td>0.000014</td>\n",
       "      <td>7.428684e-07</td>\n",
       "    </tr>\n",
       "    <tr>\n",
       "      <th>1</th>\n",
       "      <td>40</td>\n",
       "      <td>0.5</td>\n",
       "      <td>0.002</td>\n",
       "      <td>0.00005</td>\n",
       "      <td>72</td>\n",
       "      <td>1</td>\n",
       "      <td>78.4532</td>\n",
       "      <td>2.192834</td>\n",
       "      <td>0.000028</td>\n",
       "      <td>7.944159e-07</td>\n",
       "    </tr>\n",
       "    <tr>\n",
       "      <th>2</th>\n",
       "      <td>60</td>\n",
       "      <td>0.5</td>\n",
       "      <td>0.003</td>\n",
       "      <td>0.00005</td>\n",
       "      <td>75</td>\n",
       "      <td>1</td>\n",
       "      <td>117.6798</td>\n",
       "      <td>3.101135</td>\n",
       "      <td>0.000040</td>\n",
       "      <td>8.537499e-07</td>\n",
       "    </tr>\n",
       "    <tr>\n",
       "      <th>3</th>\n",
       "      <td>80</td>\n",
       "      <td>0.5</td>\n",
       "      <td>0.004</td>\n",
       "      <td>0.00005</td>\n",
       "      <td>83</td>\n",
       "      <td>1</td>\n",
       "      <td>156.9064</td>\n",
       "      <td>4.043385</td>\n",
       "      <td>0.000048</td>\n",
       "      <td>8.366811e-07</td>\n",
       "    </tr>\n",
       "  </tbody>\n",
       "</table>\n",
       "</div>"
      ],
      "text/plain": [
       "   P_m  Error_P_m      V  Error_V   t  Error_t         P   Error_P         Q  \\\n",
       "0   20        0.5  0.001  0.00005  70        1   39.2266  1.386870  0.000014   \n",
       "1   40        0.5  0.002  0.00005  72        1   78.4532  2.192834  0.000028   \n",
       "2   60        0.5  0.003  0.00005  75        1  117.6798  3.101135  0.000040   \n",
       "3   80        0.5  0.004  0.00005  83        1  156.9064  4.043385  0.000048   \n",
       "\n",
       "        Error_Q  \n",
       "0  7.428684e-07  \n",
       "1  7.944159e-07  \n",
       "2  8.537499e-07  \n",
       "3  8.366811e-07  "
      ]
     },
     "metadata": {},
     "output_type": "display_data"
    }
   ],
   "source": [
    "for e in experiments:\n",
    "    disp(\"Data for %s (d = %f ± %f):\" % (e, data[e].Value[\"d\"], data[e].Error[\"d\"]))\n",
    "    \n",
    "    ll.compute(name = \"P\",\n",
    "               expr = lambda P_m, P_angle, P_coef: P_m * P_angle * P_coef,\n",
    "               data = data[e],\n",
    "               columns = columns[e])\n",
    "    \n",
    "    ll.compute(name = \"Q\",\n",
    "               expr = lambda V, t: V / t,\n",
    "               data = data[e],\n",
    "               columns = columns[e])\n",
    "    \n",
    "    ll.compute(name = \"L\",\n",
    "               expr = lambda L_1, L_2: L_2 - L_1,\n",
    "               data = data[e],\n",
    "               columns = columns[e],\n",
    "               aux = { \"L_1\": { \"Error\": \"Error_L_1_2\" },\n",
    "                       \"L_2\": { \"Error\": \"Error_L_1_2\" } })\n",
    "\n",
    "    disp(data[e], columns[e])"
   ]
  },
  {
   "cell_type": "markdown",
   "metadata": {},
   "source": [
    "Строим зависимость $P = P(Q)$ и определяем линейные участки, соответствующие ламинарному течению газа."
   ]
  },
  {
   "cell_type": "code",
   "execution_count": 4,
   "metadata": {
    "collapsed": false
   },
   "outputs": [
    {
     "data": {
      "text/plain": [
       "<matplotlib.legend.Legend at 0x7f0ecc314048>"
      ]
     },
     "execution_count": 4,
     "metadata": {},
     "output_type": "execute_result"
    },
    {
     "data": {
      "image/png": "[encoded data removed]",
      "text/plain": [
       "<matplotlib.figure.Figure at 0x7f0ecc314668>"
      ]
     },
     "metadata": {},
     "output_type": "display_data"
    }
   ],
   "source": [
    "plt.title(\"First experiment\")\n",
    "plt.xlabel(\"Gas flow, m^3/sec\")\n",
    "plt.ylabel(\"Pressure, Pa\")\n",
    "\n",
    "experiments_1 = [\"step_1\", \"step_3_1\", \"step_3_2\"]\n",
    "colors_1 = [\"black\", \"#800000\", \"#008000\"]\n",
    "\n",
    "for e, c in zip(experiments_1, colors_1):\n",
    "    plt.errorbar(x = columns[e].Q,\n",
    "                 y = columns[e].P,\n",
    "                 xerr = columns[e].Error_Q,\n",
    "                 yerr = columns[e].Error_P,\n",
    "                 label = \"%s: $d = %f \\pm %f$\" % (e, data[e].Value[\"d\"], data[e].Error[\"d\"]),\n",
    "                 color = c)\n",
    "\n",
    "plt.legend(loc = \"best\")"
   ]
  },
  {
   "cell_type": "code",
   "execution_count": 5,
   "metadata": {
    "collapsed": true
   },
   "outputs": [],
   "source": [
    "usable = {}\n",
    "usable[\"step_1\"] = 5\n",
    "usable[\"step_3_1\"] = 2\n",
    "usable[\"step_3_2\"] = 3"
   ]
  },
  {
   "cell_type": "markdown",
   "metadata": {},
   "source": [
    "Выполняем приближение линейной функцией и определяем значение коэффициента $\\frac{\\pi r^4}{8 L \\eta}$ для каждой трубки."
   ]
  },
  {
   "cell_type": "code",
   "execution_count": 6,
   "metadata": {
    "collapsed": false
   },
   "outputs": [
    {
     "name": "stdout",
     "output_type": "stream",
     "text": [
      "Initial guesses for P:\n",
      "                    Error         Value\n",
      "poiseuille  20217.669908  1.411791e+06\n"
     ]
    },
    {
     "data": {
      "text/plain": [
       "'Final guesses for P:'"
      ]
     },
     "metadata": {},
     "output_type": "display_data"
    },
    {
     "data": {
      "text/html": [
       "<div>\n",
       "<table border=\"1\" class=\"dataframe\">\n",
       "  <thead>\n",
       "    <tr style=\"text-align: right;\">\n",
       "      <th></th>\n",
       "      <th>Error</th>\n",
       "      <th>Value</th>\n",
       "    </tr>\n",
       "  </thead>\n",
       "  <tbody>\n",
       "    <tr>\n",
       "      <th>poiseuille</th>\n",
       "      <td>33479.178349</td>\n",
       "      <td>1.420296e+06</td>\n",
       "    </tr>\n",
       "  </tbody>\n",
       "</table>\n",
       "</div>"
      ],
      "text/plain": [
       "                   Error         Value\n",
       "poiseuille  33479.178349  1.420296e+06"
      ]
     },
     "metadata": {},
     "output_type": "display_data"
    },
    {
     "name": "stdout",
     "output_type": "stream",
     "text": [
      "Initial guesses for P:\n",
      "                    Error         Value\n",
      "poiseuille  11283.305814  513110.42266\n"
     ]
    },
    {
     "data": {
      "text/plain": [
       "'Final guesses for P:'"
      ]
     },
     "metadata": {},
     "output_type": "display_data"
    },
    {
     "data": {
      "text/html": [
       "<div>\n",
       "<table border=\"1\" class=\"dataframe\">\n",
       "  <thead>\n",
       "    <tr style=\"text-align: right;\">\n",
       "      <th></th>\n",
       "      <th>Error</th>\n",
       "      <th>Value</th>\n",
       "    </tr>\n",
       "  </thead>\n",
       "  <tbody>\n",
       "    <tr>\n",
       "      <th>poiseuille</th>\n",
       "      <td>38788.396301</td>\n",
       "      <td>518090.920191</td>\n",
       "    </tr>\n",
       "  </tbody>\n",
       "</table>\n",
       "</div>"
      ],
      "text/plain": [
       "                   Error          Value\n",
       "poiseuille  38788.396301  518090.920191"
      ]
     },
     "metadata": {},
     "output_type": "display_data"
    },
    {
     "name": "stdout",
     "output_type": "stream",
     "text": [
      "Initial guesses for P:\n",
      "                    Error         Value\n",
      "poiseuille  48060.162414  2.850310e+06\n"
     ]
    },
    {
     "data": {
      "text/plain": [
       "'Final guesses for P:'"
      ]
     },
     "metadata": {},
     "output_type": "display_data"
    },
    {
     "data": {
      "text/html": [
       "<div>\n",
       "<table border=\"1\" class=\"dataframe\">\n",
       "  <thead>\n",
       "    <tr style=\"text-align: right;\">\n",
       "      <th></th>\n",
       "      <th>Error</th>\n",
       "      <th>Value</th>\n",
       "    </tr>\n",
       "  </thead>\n",
       "  <tbody>\n",
       "    <tr>\n",
       "      <th>poiseuille</th>\n",
       "      <td>52981.960043</td>\n",
       "      <td>2.870741e+06</td>\n",
       "    </tr>\n",
       "  </tbody>\n",
       "</table>\n",
       "</div>"
      ],
      "text/plain": [
       "                   Error         Value\n",
       "poiseuille  52981.960043  2.870741e+06"
      ]
     },
     "metadata": {},
     "output_type": "display_data"
    },
    {
     "data": {
      "text/plain": [
       "<matplotlib.legend.Legend at 0x7f0ecbfc7d30>"
      ]
     },
     "execution_count": 6,
     "metadata": {},
     "output_type": "execute_result"
    },
    {
     "data": {
      "image/png": "[encoded data removed]",
      "text/plain": [
       "<matplotlib.figure.Figure at 0x7f0ecbfc7128>"
      ]
     },
     "metadata": {},
     "output_type": "display_data"
    }
   ],
   "source": [
    "plt.title(\"First experiment, with fitting\")\n",
    "plt.xlabel(\"Gas flow, m^3/sec\")\n",
    "plt.ylabel(\"Pressure, Pa\")\n",
    "\n",
    "Q_linspace = np.linspace(0, 0.00015, 100)\n",
    "\n",
    "for e, c in zip(experiments_1, colors_1):\n",
    "    plt.errorbar(x = columns[e].Q[:usable[e]],\n",
    "                 y = columns[e].P[:usable[e]],\n",
    "                 xerr = columns[e].Error_Q[:usable[e]],\n",
    "                 yerr = columns[e].Error_P[:usable[e]],\n",
    "                 label = \"%s: $d = %f \\pm %f$\" % (e, data[e].Value[\"d\"], data[e].Error[\"d\"]),\n",
    "                 ls = \"none\",\n",
    "                 color = c)\n",
    "\n",
    "    plt.errorbar(x = columns[e].Q,\n",
    "                 y = columns[e].P,\n",
    "                 xerr = columns[e].Error_Q,\n",
    "                 yerr = columns[e].Error_P,\n",
    "                 ls = \"none\",\n",
    "                 color = c,\n",
    "                 alpha = 0.5)\n",
    "\n",
    "    model = ll.fit2(name = \"P\",\n",
    "                    model = lambda Q, poiseuille: Q * poiseuille,\n",
    "                    x = columns[e].Q[:usable[e]],\n",
    "                    y = columns[e].P[:usable[e]],\n",
    "                    xerr = columns[e].Error_Q[:usable[e]],\n",
    "                    yerr = columns[e].Error_P[:usable[e]],\n",
    "                    data = data[e])\n",
    "    \n",
    "    plt.errorbar(x = Q_linspace,\n",
    "                 y = model(Q_linspace),\n",
    "                 color = c)\n",
    "\n",
    "plt.legend(loc = \"best\")"
   ]
  },
  {
   "cell_type": "markdown",
   "metadata": {},
   "source": [
    "Из полученного коэффициента в формуле Пуазейля и характеристик трубки вычисляем вязкость воздуха для каждой трубки."
   ]
  },
  {
   "cell_type": "code",
   "execution_count": 19,
   "metadata": {
    "collapsed": false
   },
   "outputs": [
    {
     "data": {
      "text/plain": [
       "<Container object of 3 artists>"
      ]
     },
     "execution_count": 19,
     "metadata": {},
     "output_type": "execute_result"
    },
    {
     "data": {
      "image/png": "[encoded data removed]",
      "text/plain": [
       "<matplotlib.figure.Figure at 0x7f0ecba392e8>"
      ]
     },
     "metadata": {},
     "output_type": "display_data"
    }
   ],
   "source": [
    "for e in experiments_1:\n",
    "    ll.compute(name = \"v\",\n",
    "               expr = lambda poiseuille, d, L: poiseuille * m.pi * (d/2)**4 / (8 * L),\n",
    "               data = data[e],\n",
    "               columns = columns[e])\n",
    "    \n",
    "plt.title(\"Viscosity\")\n",
    "plt.xlabel(\"Tube diameter, m\")\n",
    "plt.ylabel(\"Air viscosity\")\n",
    "\n",
    "plt.errorbar(x = [data[e].Value[\"d\"] for e in experiments_1],\n",
    "             y = [data[e].Value[\"v\"] for e in experiments_1],\n",
    "             xerr = [data[e].Error[\"d\"] for e in experiments_1],\n",
    "             yerr = [data[e].Error[\"v\"] for e in experiments_1],\n",
    "             linestyle = \"none\",\n",
    "             color = \"black\")"
   ]
  },
  {
   "cell_type": "code",
   "execution_count": 24,
   "metadata": {
    "collapsed": false
   },
   "outputs": [
    {
     "data": {
      "text/plain": [
       "'Results for 0.003575:'"
      ]
     },
     "metadata": {},
     "output_type": "display_data"
    },
    {
     "data": {
      "text/html": [
       "<div>\n",
       "<table border=\"1\" class=\"dataframe\">\n",
       "  <thead>\n",
       "    <tr style=\"text-align: right;\">\n",
       "      <th></th>\n",
       "      <th>Value</th>\n",
       "      <th>Error</th>\n",
       "    </tr>\n",
       "  </thead>\n",
       "  <tbody>\n",
       "    <tr>\n",
       "      <th>d</th>\n",
       "      <td>0.003575</td>\n",
       "      <td>2.500000e-05</td>\n",
       "    </tr>\n",
       "    <tr>\n",
       "      <th>v</th>\n",
       "      <td>0.000014</td>\n",
       "      <td>5.213258e-07</td>\n",
       "    </tr>\n",
       "    <tr>\n",
       "      <th>L_1</th>\n",
       "      <td>0.409000</td>\n",
       "      <td>5.000000e-04</td>\n",
       "    </tr>\n",
       "    <tr>\n",
       "      <th>L</th>\n",
       "      <td>0.400000</td>\n",
       "      <td>7.071068e-04</td>\n",
       "    </tr>\n",
       "  </tbody>\n",
       "</table>\n",
       "</div>"
      ],
      "text/plain": [
       "        Value         Error\n",
       "d    0.003575  2.500000e-05\n",
       "v    0.000014  5.213258e-07\n",
       "L_1  0.409000  5.000000e-04\n",
       "L    0.400000  7.071068e-04"
      ]
     },
     "metadata": {},
     "output_type": "display_data"
    },
    {
     "data": {
      "text/plain": [
       "'Results for 0.005250:'"
      ]
     },
     "metadata": {},
     "output_type": "display_data"
    },
    {
     "data": {
      "text/html": [
       "<div>\n",
       "<table border=\"1\" class=\"dataframe\">\n",
       "  <thead>\n",
       "    <tr style=\"text-align: right;\">\n",
       "      <th></th>\n",
       "      <th>Value</th>\n",
       "      <th>Error</th>\n",
       "    </tr>\n",
       "  </thead>\n",
       "  <tbody>\n",
       "    <tr>\n",
       "      <th>d</th>\n",
       "      <td>0.005250</td>\n",
       "      <td>0.000250</td>\n",
       "    </tr>\n",
       "    <tr>\n",
       "      <th>v</th>\n",
       "      <td>0.000019</td>\n",
       "      <td>0.000004</td>\n",
       "    </tr>\n",
       "    <tr>\n",
       "      <th>L_1</th>\n",
       "      <td>0.707000</td>\n",
       "      <td>0.000500</td>\n",
       "    </tr>\n",
       "    <tr>\n",
       "      <th>L</th>\n",
       "      <td>0.500000</td>\n",
       "      <td>0.000707</td>\n",
       "    </tr>\n",
       "  </tbody>\n",
       "</table>\n",
       "</div>"
      ],
      "text/plain": [
       "        Value     Error\n",
       "d    0.005250  0.000250\n",
       "v    0.000019  0.000004\n",
       "L_1  0.707000  0.000500\n",
       "L    0.500000  0.000707"
      ]
     },
     "metadata": {},
     "output_type": "display_data"
    },
    {
     "data": {
      "text/plain": [
       "'Results for 0.003000:'"
      ]
     },
     "metadata": {},
     "output_type": "display_data"
    },
    {
     "data": {
      "text/html": [
       "<div>\n",
       "<table border=\"1\" class=\"dataframe\">\n",
       "  <thead>\n",
       "    <tr style=\"text-align: right;\">\n",
       "      <th></th>\n",
       "      <th>Value</th>\n",
       "      <th>Error</th>\n",
       "    </tr>\n",
       "  </thead>\n",
       "  <tbody>\n",
       "    <tr>\n",
       "      <th>d</th>\n",
       "      <td>0.003000</td>\n",
       "      <td>0.000100</td>\n",
       "    </tr>\n",
       "    <tr>\n",
       "      <th>v</th>\n",
       "      <td>0.000019</td>\n",
       "      <td>0.000003</td>\n",
       "    </tr>\n",
       "    <tr>\n",
       "      <th>L_1</th>\n",
       "      <td>0.310000</td>\n",
       "      <td>0.005000</td>\n",
       "    </tr>\n",
       "    <tr>\n",
       "      <th>L</th>\n",
       "      <td>0.300000</td>\n",
       "      <td>0.007071</td>\n",
       "    </tr>\n",
       "  </tbody>\n",
       "</table>\n",
       "</div>"
      ],
      "text/plain": [
       "        Value     Error\n",
       "d    0.003000  0.000100\n",
       "v    0.000019  0.000003\n",
       "L_1  0.310000  0.005000\n",
       "L    0.300000  0.007071"
      ]
     },
     "metadata": {},
     "output_type": "display_data"
    }
   ],
   "source": [
    "for e in experiments_1:\n",
    "    disp(\"Results for %f:\" % data[e].Value[\"d\"],\n",
    "         data[e].loc[[\"d\", \"v\", \"L_1\", \"L\"]])"
   ]
  },
  {
   "cell_type": "markdown",
   "metadata": {},
   "source": [
    "Полученные значения вязкости:\n",
    "\n",
    "- $d = 0.003575 м$: $\\eta = (14 \\pm 0.5) * 10^{-6} \\frac{м^2}{сек}$\n",
    "- $d = 0.005250 м$: $\\eta = (19 \\pm 4) * 10^{-6} \\frac{м^2}{сек}$\n",
    "- $d = 0.003000 м$: $\\eta = (19 \\pm 3) * 10^{-6} \\frac{м^2}{сек}$"
   ]
  },
  {
   "cell_type": "markdown",
   "metadata": {},
   "source": [
    "Теперь построим тот же график, но вычислим число Рейнольдса для каждой точки, чтобы проверить правильность выбора точки перехода в турбулентное течение."
   ]
  },
  {
   "cell_type": "code",
   "execution_count": 8,
   "metadata": {
    "collapsed": false
   },
   "outputs": [
    {
     "data": {
      "text/plain": [
       "<matplotlib.legend.Legend at 0x7f0ecbe8a7b8>"
      ]
     },
     "execution_count": 8,
     "metadata": {},
     "output_type": "execute_result"
    },
    {
     "data": {
      "image/png": "[encoded data removed]",
      "text/plain": [
       "<matplotlib.figure.Figure at 0x7f0ecc1cf438>"
      ]
     },
     "metadata": {},
     "output_type": "display_data"
    }
   ],
   "source": [
    "for e in experiments_1:\n",
    "    ll.compute(name = \"Re\",\n",
    "               expr = lambda Q, v, d: (d/2) * Q / (m.pi * (d/2)**2 * v),\n",
    "               data = data[e],\n",
    "               columns = columns[e])\n",
    "\n",
    "plt.title(\"First experiment, with Reynolds number\")\n",
    "plt.xlabel(\"Gas flow, m^3/sec\")\n",
    "\n",
    "ax1 = plt.gca()\n",
    "ax1.set_ylabel(\"Pressure, Pa\")\n",
    "ax2 = ax1.twinx()\n",
    "ax2.set_ylabel(\"Reynolds number\")\n",
    "\n",
    "for e, c in zip(experiments_1, colors_1):\n",
    "    ax2.errorbar(x = columns[e].Q,\n",
    "                 y = columns[e].Re,\n",
    "                 xerr = columns[e].Error_Q,\n",
    "                 yerr = columns[e].Error_Re,\n",
    "                 label = \"%s: Reynolds number\" % e,\n",
    "                 color = c,\n",
    "                 alpha = 0.5,\n",
    "                 linestyle = \"None\")\n",
    "    ax1.errorbar(x = columns[e].Q,\n",
    "                 y = columns[e].P,\n",
    "                 xerr = columns[e].Error_Q,\n",
    "                 yerr = columns[e].Error_P,\n",
    "                 label = \"%s: $d = %f \\pm %f$\" % (e, data[e].Value[\"d\"], data[e].Error[\"d\"]),\n",
    "                 color = c)\n",
    "\n",
    "ax1.legend(loc = \"best\")"
   ]
  },
  {
   "cell_type": "markdown",
   "metadata": {},
   "source": [
    "Ну или по-другому — вычислим число Рейнольдса для выбранной нами точки перехода."
   ]
  },
  {
   "cell_type": "code",
   "execution_count": 9,
   "metadata": {
    "collapsed": false
   },
   "outputs": [
    {
     "data": {
      "text/plain": [
       "<matplotlib.legend.Legend at 0x7f0ecbd82278>"
      ]
     },
     "execution_count": 9,
     "metadata": {},
     "output_type": "execute_result"
    },
    {
     "data": {
      "image/png": "[encoded data removed]",
      "text/plain": [
       "<matplotlib.figure.Figure at 0x7f0ecbd82048>"
      ]
     },
     "metadata": {},
     "output_type": "display_data"
    }
   ],
   "source": [
    "plt.title(\"Critical Reynolds number\")\n",
    "plt.xlabel(\"Tube diameter, m\")\n",
    "plt.ylabel(\"Critical Reynolds number\")\n",
    "\n",
    "for e, c in zip(experiments_1, colors_1):\n",
    "    plt.errorbar(x = [data[e].Value[\"d\"]],\n",
    "                 y = [columns[e].Re[usable[e]]],\n",
    "                 xerr = [data[e].Error[\"d\"]],\n",
    "                 yerr = [columns[e].Error_Re[usable[e]]],\n",
    "                 label = e,\n",
    "                 linestyle = \"none\",\n",
    "                 color = c)\n",
    "\n",
    "plt.legend(loc = \"best\")"
   ]
  },
  {
   "cell_type": "markdown",
   "metadata": {},
   "source": [
    "Теперь построим график зависимости падения давления в трубке от координаты вдоль трубки."
   ]
  },
  {
   "cell_type": "code",
   "execution_count": 10,
   "metadata": {
    "collapsed": false
   },
   "outputs": [
    {
     "data": {
      "text/plain": [
       "<matplotlib.legend.Legend at 0x7f0ecbfae780>"
      ]
     },
     "execution_count": 10,
     "metadata": {},
     "output_type": "execute_result"
    },
    {
     "data": {
      "image/png": "[encoded data removed]",
      "text/plain": [
       "<matplotlib.figure.Figure at 0x7f0ecbedff98>"
      ]
     },
     "metadata": {},
     "output_type": "display_data"
    }
   ],
   "source": [
    "plt.title(\"Second experiment\")\n",
    "plt.xlabel(\"Position along the tube, m\")\n",
    "plt.ylabel(\"Pressure fall, Pa\")\n",
    "\n",
    "e = \"step_2\"\n",
    "plt.errorbar(x = [0] + list(columns[e].L),\n",
    "             y = [0] + list(columns[e].P),\n",
    "             xerr = [0] + list(columns[e].Error_L),\n",
    "             yerr = [0] + list(columns[e].Error_P),\n",
    "             label = \"$P$: $d = %f \\pm %f$\" % (data[e].Value[\"d\"], data[e].Error[\"d\"]))\n",
    "\n",
    "plt.axis([0, None, 0, None])\n",
    "plt.legend(loc = \"best\")"
   ]
  },
  {
   "cell_type": "markdown",
   "metadata": {},
   "source": [
    "Также приведём результаты оценки расстояния установления ламинарного течения (по указанной оценочной формуле) и сравним с вышеприведённым графиком."
   ]
  },
  {
   "cell_type": "code",
   "execution_count": 11,
   "metadata": {
    "collapsed": false
   },
   "outputs": [
    {
     "data": {
      "text/plain": [
       "<matplotlib.legend.Legend at 0x7f0ecbd07518>"
      ]
     },
     "execution_count": 11,
     "metadata": {},
     "output_type": "execute_result"
    },
    {
     "data": {
      "image/png": "[encoded data removed]",
      "text/plain": [
       "<matplotlib.figure.Figure at 0x7f0ecbd2f3c8>"
      ]
     },
     "metadata": {},
     "output_type": "display_data"
    }
   ],
   "source": [
    "for e in experiments_1:\n",
    "    ll.compute(name = \"L_threshold\",\n",
    "               expr = lambda d, Re: 0.2 * (d/2) * Re,\n",
    "               data = data[e],\n",
    "               columns = columns[e])\n",
    "\n",
    "plt.title(\"Laminar flow establishment distance\")\n",
    "plt.xlabel(\"Tube diameter, m\")\n",
    "plt.ylabel(\"Laminar flow establishment distance, m\")\n",
    "\n",
    "for e, c in zip(experiments_1, colors_1):\n",
    "    plt.errorbar(x = [data[e].Value[\"d\"]],\n",
    "                 y = [columns[e].L_threshold[usable[e]]],\n",
    "                 xerr = [data[e].Error[\"d\"]],\n",
    "                 yerr = [columns[e].Error_L_threshold[usable[e]]],\n",
    "                 linestyle = \"none\",\n",
    "                 label = e,\n",
    "                 color = c)\n",
    "                 \n",
    "\n",
    "plt.legend(loc = \"best\")"
   ]
  },
  {
   "cell_type": "markdown",
   "metadata": {},
   "source": [
    "Наконец, построим график в логарифмических масштабах, чтобы убедиться в выполнении закона Пуазейля."
   ]
  },
  {
   "cell_type": "code",
   "execution_count": 12,
   "metadata": {
    "collapsed": false
   },
   "outputs": [
    {
     "name": "stdout",
     "output_type": "stream",
     "text": [
      "Initial guesses for ln_k:\n",
      "             Error     Value\n",
      "r_index  0.449044  3.668542\n",
      "offset   2.841195 -2.220028\n"
     ]
    },
    {
     "data": {
      "text/plain": [
       "'Final guesses for ln_k:'"
      ]
     },
     "metadata": {},
     "output_type": "display_data"
    },
    {
     "data": {
      "text/html": [
       "<div>\n",
       "<table border=\"1\" class=\"dataframe\">\n",
       "  <thead>\n",
       "    <tr style=\"text-align: right;\">\n",
       "      <th></th>\n",
       "      <th>Error</th>\n",
       "      <th>Value</th>\n",
       "    </tr>\n",
       "  </thead>\n",
       "  <tbody>\n",
       "    <tr>\n",
       "      <th>r_index</th>\n",
       "      <td>0.256388</td>\n",
       "      <td>3.673585</td>\n",
       "    </tr>\n",
       "    <tr>\n",
       "      <th>offset</th>\n",
       "      <td>1.622252</td>\n",
       "      <td>-2.185539</td>\n",
       "    </tr>\n",
       "  </tbody>\n",
       "</table>\n",
       "</div>"
      ],
      "text/plain": [
       "            Error     Value\n",
       "r_index  0.256388  3.673585\n",
       "offset   1.622252 -2.185539"
      ]
     },
     "metadata": {},
     "output_type": "display_data"
    },
    {
     "data": {
      "text/plain": [
       "<Container object of 3 artists>"
      ]
     },
     "execution_count": 12,
     "metadata": {},
     "output_type": "execute_result"
    },
    {
     "data": {
      "image/png": "[encoded data removed]",
      "text/plain": [
       "<matplotlib.figure.Figure at 0x7f0ecbc19ba8>"
      ]
     },
     "metadata": {},
     "output_type": "display_data"
    }
   ],
   "source": [
    "for e in experiments_1:\n",
    "    ll.compute(name = \"ln_r\",\n",
    "               expr = lambda d: ll.log(d/2),\n",
    "               data = data[e],\n",
    "               columns = columns[e])\n",
    "    \n",
    "    ll.compute(name = \"ln_k\",\n",
    "               expr = lambda Q, v, L, P: ll.log(8 * L * v * Q / (m.pi * P)),\n",
    "               data = data[e],\n",
    "               columns = columns[e])\n",
    "\n",
    "plt.title(\"Poiseuille law verification\")\n",
    "plt.xlabel(\"$ln(r)$\")\n",
    "plt.ylabel(\"$ln({8*L*\\eta*Q} / {\\pi*P})$\")\n",
    "\n",
    "model = ll.fit2(name = \"ln_k\",\n",
    "                model = lambda ln_r, r_index, offset: ln_r * r_index + offset,\n",
    "                x = [data[e].Value[\"ln_r\"] for e in experiments_1],\n",
    "                y = [columns[e].ln_k[usable[e]] for e in experiments_1],\n",
    "                xerr = [data[e].Error[\"ln_r\"] for e in experiments_1],\n",
    "                yerr = [columns[e].Error_ln_k[usable[e]] for e in experiments_1],\n",
    "                data = data[e])\n",
    "\n",
    "ln_r_linspace = ll.linspace([data[e].Value[\"ln_r\"] for e in experiments_1])\n",
    "\n",
    "plt.errorbar(x = [data[e].Value[\"ln_r\"] for e in experiments_1],\n",
    "             y = [columns[e].ln_k[usable[e]] for e in experiments_1],\n",
    "             xerr = [data[e].Error[\"ln_r\"] for e in experiments_1],\n",
    "             yerr = [columns[e].Error_ln_k[usable[e]] for e in experiments_1],\n",
    "             linestyle = \"none\",\n",
    "             color = \"black\")\n",
    "\n",
    "plt.errorbar(x = ln_r_linspace, y = model(ln_r_linspace), color = \"black\")"
   ]
  },
  {
   "cell_type": "markdown",
   "metadata": {},
   "source": [
    "Величина показателя степени у радиуса трубки — $3.7 \\pm 2.2$."
   ]
  }
 ],
 "metadata": {
  "kernelspec": {
   "display_name": "Python 3",
   "language": "python",
   "name": "python3"
  },
  "language_info": {
   "codemirror_mode": {
    "name": "ipython",
    "version": 3
   },
   "file_extension": ".py",
   "mimetype": "text/x-python",
   "name": "python",
   "nbconvert_exporter": "python",
   "pygments_lexer": "ipython3",
   "version": "3.5.1"
  }
 },
 "nbformat": 4,
 "nbformat_minor": 0
}
